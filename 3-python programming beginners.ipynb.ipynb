{
 "cells": [
  {
   "cell_type": "markdown",
   "metadata": {},
   "source": [
    "Python is an interpreted, high-level, and general-purpose programming language. Created by Guido van Rossum and first released in 1991. Python has a simple syntax similar to the English language. Python has a syntax that allows developers to write programs with fewer lines than some other programming languages. Python runs on an interpreter system, meaning that code can be executed as soon as it is written."
   ]
  },
  {
   "cell_type": "markdown",
   "metadata": {},
   "source": [
    "# Introduction to Python Variables || Variable Explained"
   ]
  },
  {
   "cell_type": "markdown",
   "metadata": {},
   "source": [
    "Q: পাইথন প্রোগ্রামিং (Python Programming) দিয়ে কি কাজ করা যায় ?? Ans: পাইথন (Python) একটি বস্তু-সংশ্লিষ্ট (Object Oriented) উচ্চস্তরের (High Level) প্রোগ্রামিং ভাষা (Programming Language)। ১৯৯১ সালে গুইডো ভ্যান রস্যিউম এটি প্রথম প্রকাশ করেন। পাইথন নির্মাণ করার সময় প্রোগ্রামের পঠনযোগ্যতার উপর বেশি গুরুত্ব দেয়া হয়েছে। এখানে প্রোগ্রামারের পরিশ্রমকে কম্পিউটারের চেয়ে বেশি গুরুত্ব দেয়া হয়েছে। ভবিষ্যৎ প্রযুক্তির ভিত্তি ডাটা সায়েন্স (Data Science) ও মেশিন লার্নিং (Machine Learning), সর্বোপরি আর্টিফিশিয়াল ইন্টেলিজেন্স (AI) নিয়ে কাজ করতে চাইলে পাইথন প্রোগ্রামিং হতে পারে নির্দ্বিধায় আপনার প্রথম পছন্দ। কারণ- scikit-learn এর মতো মেশিন লার্নিং (Machine Learning) লাইব্রেরী, Pandas এর মতো ডাটা ফ্রেম লাইব্রেরী এবং Numpy এর মতো ক্যালকুলেশন লাইব্রেরী এসবই আছে পাইথনের (Python) জন্য। আরো নির্দিষ্ট করে বলতে গেলে পাইথন (Python) এর উপর ভিত্তি করে- Django, Tornado, Flask ইত্যাদি ফ্রেমওয়ার্ক এর মাধ্যমে আপনি খুব সহজেই ওয়েব অ্যাপ্লিকেশন ডেভেলপমেন্ট করতে পারবেন। আর গেমস ডেভেলপমেন্ট করতে চাইলে আপনার জন্য রয়েছে PyGame. আপনি যদি Internet of Things (IoT) নিয়ে কাজ করতে চান, তাহলে আপনার জন্য রয়েছে RPi.GPIO বা Raspberrypi এর মত হার্ডওয়্যার প্ল্যাটফর্ম। আবার গ্রাফিক্যাল ইউজার ইন্টারফেইস (GUI) সমৃদ্ধ সফটওয়্যার ডেভেলপমেন্টের জন্য এই ল্যাঙ্গুয়েজ এর উপর ভিত্তি করে আপনার জন্য রয়েছে Tkinter এর মত প্যাকেজ বা PyQT এর মত টুলকিট। আরো রয়েছে Kivy এর মতো লাইব্রেরী। Tk, PyQt, PyGTK ইত্যাদি দিয়ে ডেস্কটপ অ্যাপ ডেভেলপমেন্ট বেশ ভালোই চলছে। Kivy দিয়ে কিছু কাজ হলেও মোবাইল অ্যাপের বিশাল বাজারে পাইথনের (Python) দখল প্রায় নেই বললেই চলে। এটি পাইথনের (Python) একটি বড় সীমাবদ্ধতা। বর্তমানে পাইথনের সবচেয়ে বড় বাজার হচ্ছে ওয়েব প্রোগ্রামিং (Web Programming)। তুলনামূলকভাবে অনেক সহজ হওয়ায় শিশুদের প্রোগ্রামিংয়ের সাথে পরিচয় করাতে বেশিরভাগ ক্ষেত্রেই পাইথন (Python) ব্যবহার করা হয়। দৈনন্দিন বিভিন্ন বিরক্তিকর কাজ, যেগুলো বারবার করতে হয়, সেগুলো অটোমেট করতে পাইথন (Python) ব্যবহার করা হচ্ছে।"
   ]
  },
  {
   "cell_type": "code",
   "execution_count": 1,
   "metadata": {},
   "outputs": [
    {
     "name": "stdout",
     "output_type": "stream",
     "text": [
      "2\n"
     ]
    }
   ],
   "source": [
    "print(2)"
   ]
  },
  {
   "cell_type": "code",
   "execution_count": 2,
   "metadata": {},
   "outputs": [
    {
     "name": "stdout",
     "output_type": "stream",
     "text": [
      "Hamid Hosen\n"
     ]
    }
   ],
   "source": [
    "print('Hamid Hosen')"
   ]
  },
  {
   "cell_type": "code",
   "execution_count": 3,
   "metadata": {},
   "outputs": [
    {
     "name": "stdout",
     "output_type": "stream",
     "text": [
      "2\n",
      "Hamid Hosen\n"
     ]
    }
   ],
   "source": [
    "x=2\n",
    "y='Hamid Hosen'\n",
    "\n",
    "print(x)\n",
    "print(y)"
   ]
  },
  {
   "cell_type": "code",
   "execution_count": 4,
   "metadata": {},
   "outputs": [
    {
     "name": "stdout",
     "output_type": "stream",
     "text": [
      "5\n",
      "Hamid Hosen\n"
     ]
    }
   ],
   "source": [
    "x=2\n",
    "y='Hamid Hosen'\n",
    "x=5\n",
    "\n",
    "print(x)\n",
    "print(y)"
   ]
  },
  {
   "cell_type": "code",
   "execution_count": 5,
   "metadata": {},
   "outputs": [
    {
     "name": "stdout",
     "output_type": "stream",
     "text": [
      "1\n",
      "1 2\n",
      "1 2 3\n"
     ]
    }
   ],
   "source": [
    "x,y,z=1,2,3\n",
    "print(x)\n",
    "print(x,y)\n",
    "print(x,y,z)"
   ]
  },
  {
   "cell_type": "markdown",
   "metadata": {},
   "source": [
    "# Memory Management for Python Variables ||Study Mart"
   ]
  },
  {
   "cell_type": "code",
   "execution_count": 6,
   "metadata": {},
   "outputs": [
    {
     "name": "stdout",
     "output_type": "stream",
     "text": [
      "100\n"
     ]
    }
   ],
   "source": [
    "x=100\n",
    "print(x)"
   ]
  },
  {
   "cell_type": "code",
   "execution_count": 7,
   "metadata": {},
   "outputs": [
    {
     "name": "stdout",
     "output_type": "stream",
     "text": [
      "140726335320960\n"
     ]
    }
   ],
   "source": [
    "print(id(x))"
   ]
  },
  {
   "cell_type": "code",
   "execution_count": 8,
   "metadata": {},
   "outputs": [
    {
     "name": "stdout",
     "output_type": "stream",
     "text": [
      "140726335320960\n",
      "140726335320960\n",
      "140726335320960\n"
     ]
    }
   ],
   "source": [
    "y=x;\n",
    "print(id(y))\n",
    "print(id(x))\n",
    "print(id(100))"
   ]
  },
  {
   "cell_type": "code",
   "execution_count": 9,
   "metadata": {},
   "outputs": [
    {
     "name": "stdout",
     "output_type": "stream",
     "text": [
      "140726335318080\n",
      "140726335320640\n",
      "140726335320960\n"
     ]
    }
   ],
   "source": [
    "x=10\n",
    "y=90\n",
    "z=10+90\n",
    "\n",
    "print(id(x))\n",
    "print(id(y))\n",
    "print(id(z))"
   ]
  },
  {
   "cell_type": "code",
   "execution_count": 10,
   "metadata": {},
   "outputs": [
    {
     "name": "stdout",
     "output_type": "stream",
     "text": [
      "2295746918576\n"
     ]
    }
   ],
   "source": [
    "print(id('Hamid'))"
   ]
  },
  {
   "cell_type": "markdown",
   "metadata": {},
   "source": [
    "# Escape Sequence & Comments in Python"
   ]
  },
  {
   "cell_type": "code",
   "execution_count": 11,
   "metadata": {},
   "outputs": [
    {
     "name": "stdout",
     "output_type": "stream",
     "text": [
      "Hamid Hosen\n"
     ]
    }
   ],
   "source": [
    "x='Hamid Hosen'\n",
    "y=\"EDU\"\n",
    "z=191002012\n",
    "\n",
    "print(x)"
   ]
  },
  {
   "cell_type": "code",
   "execution_count": 12,
   "metadata": {},
   "outputs": [
    {
     "ename": "NameError",
     "evalue": "name 'r' is not defined",
     "output_type": "error",
     "traceback": [
      "\u001b[1;31m---------------------------------------------------------------------------\u001b[0m",
      "\u001b[1;31mNameError\u001b[0m                                 Traceback (most recent call last)",
      "\u001b[1;32m<ipython-input-12-ac493b977275>\u001b[0m in \u001b[0;36m<module>\u001b[1;34m\u001b[0m\n\u001b[0;32m      4\u001b[0m \u001b[1;31m#r=3903\u001b[0m\u001b[1;33m\u001b[0m\u001b[1;33m\u001b[0m\u001b[1;33m\u001b[0m\u001b[0m\n\u001b[0;32m      5\u001b[0m \u001b[1;33m\u001b[0m\u001b[0m\n\u001b[1;32m----> 6\u001b[1;33m \u001b[0mprint\u001b[0m\u001b[1;33m(\u001b[0m\u001b[0mr\u001b[0m\u001b[1;33m)\u001b[0m\u001b[1;33m\u001b[0m\u001b[1;33m\u001b[0m\u001b[0m\n\u001b[0m",
      "\u001b[1;31mNameError\u001b[0m: name 'r' is not defined"
     ]
    }
   ],
   "source": [
    "x='Hamid Hosen'\n",
    "y=\"EDU\"\n",
    "z=191002012\n",
    "#r=3903\n",
    "\n",
    "print(r)"
   ]
  },
  {
   "cell_type": "markdown",
   "metadata": {},
   "source": [
    "# Multiline comment"
   ]
  },
  {
   "cell_type": "code",
   "execution_count": 13,
   "metadata": {},
   "outputs": [
    {
     "data": {
      "text/plain": [
       "'\\nx=Md.Hamid Hosen\\nEast Delta University\\nCSE\\n\\nprint(x)\\n\\n'"
      ]
     },
     "execution_count": 13,
     "metadata": {},
     "output_type": "execute_result"
    }
   ],
   "source": [
    "'''\n",
    "x=Md.Hamid Hosen\n",
    "East Delta University\n",
    "CSE\n",
    "\n",
    "print(x)\n",
    "\n",
    "'''"
   ]
  },
  {
   "cell_type": "markdown",
   "metadata": {},
   "source": [
    "# Escape Sequence"
   ]
  },
  {
   "cell_type": "code",
   "execution_count": 14,
   "metadata": {},
   "outputs": [
    {
     "name": "stdout",
     "output_type": "stream",
     "text": [
      "Hamid \n",
      "Hosen\n"
     ]
    }
   ],
   "source": [
    "print(\"Hamid \\nHosen\")"
   ]
  },
  {
   "cell_type": "code",
   "execution_count": 15,
   "metadata": {},
   "outputs": [
    {
     "name": "stdout",
     "output_type": "stream",
     "text": [
      "Hamid's Hosen\n"
     ]
    }
   ],
   "source": [
    "print('Hamid\\'s Hosen')"
   ]
  },
  {
   "cell_type": "code",
   "execution_count": 16,
   "metadata": {},
   "outputs": [
    {
     "name": "stdout",
     "output_type": "stream",
     "text": [
      "Hamid's \"Hosen\"\n"
     ]
    }
   ],
   "source": [
    "print('Hamid\\'s \"Hosen\"')"
   ]
  },
  {
   "cell_type": "code",
   "execution_count": 17,
   "metadata": {},
   "outputs": [
    {
     "name": "stdout",
     "output_type": "stream",
     "text": [
      "Hamid's \\n Hosen\n"
     ]
    }
   ],
   "source": [
    "print('Hamid\\'s \\\\n Hosen')"
   ]
  },
  {
   "cell_type": "markdown",
   "metadata": {},
   "source": [
    "# Data Types in Python "
   ]
  },
  {
   "cell_type": "code",
   "execution_count": 18,
   "metadata": {},
   "outputs": [
    {
     "data": {
      "text/plain": [
       "int"
      ]
     },
     "execution_count": 18,
     "metadata": {},
     "output_type": "execute_result"
    }
   ],
   "source": [
    "x=10\n",
    "type(x)"
   ]
  },
  {
   "cell_type": "code",
   "execution_count": 19,
   "metadata": {},
   "outputs": [
    {
     "name": "stdout",
     "output_type": "stream",
     "text": [
      "<class 'float'>\n"
     ]
    }
   ],
   "source": [
    "x=5.5\n",
    "print(type(x))"
   ]
  },
  {
   "cell_type": "code",
   "execution_count": 20,
   "metadata": {},
   "outputs": [
    {
     "name": "stdout",
     "output_type": "stream",
     "text": [
      "<class 'complex'>\n"
     ]
    }
   ],
   "source": [
    "x=4+4j\n",
    "print(type(x))"
   ]
  },
  {
   "cell_type": "code",
   "execution_count": 21,
   "metadata": {},
   "outputs": [
    {
     "name": "stdout",
     "output_type": "stream",
     "text": [
      "<class 'bool'>\n"
     ]
    }
   ],
   "source": [
    "x=5\n",
    "y=8\n",
    "\n",
    "print(type(x==y))"
   ]
  },
  {
   "cell_type": "code",
   "execution_count": 22,
   "metadata": {},
   "outputs": [
    {
     "name": "stdout",
     "output_type": "stream",
     "text": [
      "<class 'str'>\n"
     ]
    }
   ],
   "source": [
    "x='Hamid Hosen'\n",
    "print(type(x))"
   ]
  },
  {
   "cell_type": "code",
   "execution_count": 23,
   "metadata": {},
   "outputs": [
    {
     "name": "stdout",
     "output_type": "stream",
     "text": [
      "<class 'list'>\n"
     ]
    }
   ],
   "source": [
    "x=[1,2,3,4,5]\n",
    "print(type(x))"
   ]
  },
  {
   "cell_type": "code",
   "execution_count": 24,
   "metadata": {},
   "outputs": [
    {
     "name": "stdout",
     "output_type": "stream",
     "text": [
      "<class 'tuple'>\n"
     ]
    }
   ],
   "source": [
    "x=(1,2,3,4,5)\n",
    "print(type(x))"
   ]
  },
  {
   "cell_type": "code",
   "execution_count": 25,
   "metadata": {},
   "outputs": [
    {
     "name": "stdout",
     "output_type": "stream",
     "text": [
      "<class 'set'>\n"
     ]
    }
   ],
   "source": [
    "x={1,2,3,4,5}\n",
    "print(type(x))"
   ]
  },
  {
   "cell_type": "markdown",
   "metadata": {},
   "source": [
    "# User input in Python"
   ]
  },
  {
   "cell_type": "code",
   "execution_count": 26,
   "metadata": {},
   "outputs": [
    {
     "name": "stdout",
     "output_type": "stream",
     "text": [
      "30\n"
     ]
    }
   ],
   "source": [
    "x=10\n",
    "y=3\n",
    "z=x*y\n",
    "\n",
    "print(z)"
   ]
  },
  {
   "cell_type": "code",
   "execution_count": 27,
   "metadata": {},
   "outputs": [
    {
     "name": "stdout",
     "output_type": "stream",
     "text": [
      "34\n"
     ]
    }
   ],
   "source": [
    "x=input()"
   ]
  },
  {
   "cell_type": "code",
   "execution_count": 28,
   "metadata": {},
   "outputs": [
    {
     "name": "stdout",
     "output_type": "stream",
     "text": [
      "Enter any number:34\n"
     ]
    }
   ],
   "source": [
    "x=input('Enter any number:')"
   ]
  },
  {
   "cell_type": "code",
   "execution_count": 29,
   "metadata": {},
   "outputs": [
    {
     "name": "stdout",
     "output_type": "stream",
     "text": [
      "Enter any number:4\n",
      "Enter any number:5\n",
      "45\n"
     ]
    }
   ],
   "source": [
    "x=input('Enter any number:')\n",
    "y=input('Enter any number:')\n",
    "\n",
    "z=x+y\n",
    "\n",
    "print(z)"
   ]
  },
  {
   "cell_type": "code",
   "execution_count": 30,
   "metadata": {},
   "outputs": [
    {
     "name": "stdout",
     "output_type": "stream",
     "text": [
      "<class 'str'>\n"
     ]
    }
   ],
   "source": [
    "print(type(z))"
   ]
  },
  {
   "cell_type": "code",
   "execution_count": 31,
   "metadata": {},
   "outputs": [
    {
     "name": "stdout",
     "output_type": "stream",
     "text": [
      "Enter any number:3\n",
      "Enter any number:4\n",
      "7\n"
     ]
    }
   ],
   "source": [
    "a=int(input(\"Enter any number:\"))\n",
    "b=int(input('Enter any number:'))\n",
    "\n",
    "z=a+b\n",
    "\n",
    "print(z)"
   ]
  },
  {
   "cell_type": "code",
   "execution_count": 32,
   "metadata": {},
   "outputs": [
    {
     "name": "stdout",
     "output_type": "stream",
     "text": [
      "Enter any number:3.5\n",
      "Enter any number:3.5\n",
      "7.0\n"
     ]
    }
   ],
   "source": [
    "a=float(input(\"Enter any number:\"))\n",
    "b=float(input('Enter any number:'))\n",
    "\n",
    "z=a+b\n",
    "\n",
    "print(z)"
   ]
  },
  {
   "cell_type": "markdown",
   "metadata": {},
   "source": [
    "# Operators in Python"
   ]
  },
  {
   "cell_type": "markdown",
   "metadata": {},
   "source": [
    "# Arithmetic Operator"
   ]
  },
  {
   "cell_type": "code",
   "execution_count": 33,
   "metadata": {},
   "outputs": [
    {
     "name": "stdout",
     "output_type": "stream",
     "text": [
      "13\n"
     ]
    }
   ],
   "source": [
    "a=10\n",
    "b=3\n",
    "\n",
    "print(a+b)"
   ]
  },
  {
   "cell_type": "code",
   "execution_count": 34,
   "metadata": {},
   "outputs": [
    {
     "name": "stdout",
     "output_type": "stream",
     "text": [
      "7\n"
     ]
    }
   ],
   "source": [
    "print(a-b)"
   ]
  },
  {
   "cell_type": "code",
   "execution_count": 35,
   "metadata": {},
   "outputs": [
    {
     "name": "stdout",
     "output_type": "stream",
     "text": [
      "30\n"
     ]
    }
   ],
   "source": [
    "print(a*b)"
   ]
  },
  {
   "cell_type": "code",
   "execution_count": 36,
   "metadata": {},
   "outputs": [
    {
     "name": "stdout",
     "output_type": "stream",
     "text": [
      "3.3333333333333335\n"
     ]
    }
   ],
   "source": [
    "print(a/b)"
   ]
  },
  {
   "cell_type": "code",
   "execution_count": 37,
   "metadata": {},
   "outputs": [
    {
     "name": "stdout",
     "output_type": "stream",
     "text": [
      "1\n"
     ]
    }
   ],
   "source": [
    "print(a%b)"
   ]
  },
  {
   "cell_type": "code",
   "execution_count": 38,
   "metadata": {},
   "outputs": [
    {
     "name": "stdout",
     "output_type": "stream",
     "text": [
      "1000\n"
     ]
    }
   ],
   "source": [
    "print(a**b)"
   ]
  },
  {
   "cell_type": "code",
   "execution_count": 39,
   "metadata": {},
   "outputs": [
    {
     "name": "stdout",
     "output_type": "stream",
     "text": [
      "3\n"
     ]
    }
   ],
   "source": [
    "print(a//b)"
   ]
  },
  {
   "cell_type": "markdown",
   "metadata": {},
   "source": [
    "# Assignment Operator"
   ]
  },
  {
   "cell_type": "code",
   "execution_count": 41,
   "metadata": {},
   "outputs": [
    {
     "name": "stdout",
     "output_type": "stream",
     "text": [
      "13\n"
     ]
    }
   ],
   "source": [
    "a=10\n",
    "b=3\n",
    "c=a+b#Assignment Operator\n",
    "print(c)"
   ]
  },
  {
   "cell_type": "code",
   "execution_count": 42,
   "metadata": {},
   "outputs": [
    {
     "name": "stdout",
     "output_type": "stream",
     "text": [
      "23\n"
     ]
    }
   ],
   "source": [
    "a=10\n",
    "b=3\n",
    "c=a+b#Assignment Operator\n",
    "c+=a#c=c+a\n",
    "print(c)"
   ]
  },
  {
   "cell_type": "markdown",
   "metadata": {},
   "source": [
    "# Relational Operator"
   ]
  },
  {
   "cell_type": "code",
   "execution_count": 43,
   "metadata": {},
   "outputs": [
    {
     "name": "stdout",
     "output_type": "stream",
     "text": [
      "False\n"
     ]
    }
   ],
   "source": [
    "x=5\n",
    "y=3\n",
    "\n",
    "print(a<b)"
   ]
  },
  {
   "cell_type": "code",
   "execution_count": 44,
   "metadata": {},
   "outputs": [
    {
     "name": "stdout",
     "output_type": "stream",
     "text": [
      "False\n"
     ]
    }
   ],
   "source": [
    "print(a<=b)"
   ]
  },
  {
   "cell_type": "code",
   "execution_count": 45,
   "metadata": {},
   "outputs": [
    {
     "name": "stdout",
     "output_type": "stream",
     "text": [
      "True\n"
     ]
    }
   ],
   "source": [
    "print(a>b)"
   ]
  },
  {
   "cell_type": "code",
   "execution_count": 46,
   "metadata": {},
   "outputs": [
    {
     "name": "stdout",
     "output_type": "stream",
     "text": [
      "True\n"
     ]
    }
   ],
   "source": [
    "print(a>=b)"
   ]
  },
  {
   "cell_type": "code",
   "execution_count": 47,
   "metadata": {},
   "outputs": [
    {
     "name": "stdout",
     "output_type": "stream",
     "text": [
      "False\n"
     ]
    }
   ],
   "source": [
    "print(a==b)"
   ]
  },
  {
   "cell_type": "code",
   "execution_count": 48,
   "metadata": {},
   "outputs": [
    {
     "name": "stdout",
     "output_type": "stream",
     "text": [
      "True\n"
     ]
    }
   ],
   "source": [
    "print(a!=b)"
   ]
  },
  {
   "cell_type": "markdown",
   "metadata": {},
   "source": [
    "# Logical Operator"
   ]
  },
  {
   "cell_type": "code",
   "execution_count": 49,
   "metadata": {},
   "outputs": [
    {
     "name": "stdout",
     "output_type": "stream",
     "text": [
      "True\n"
     ]
    }
   ],
   "source": [
    "a=5\n",
    "b=3\n",
    "\n",
    "c=a>b or a<b\n",
    "\n",
    "print(c)"
   ]
  },
  {
   "cell_type": "code",
   "execution_count": 50,
   "metadata": {},
   "outputs": [
    {
     "name": "stdout",
     "output_type": "stream",
     "text": [
      "False\n"
     ]
    }
   ],
   "source": [
    "a=5\n",
    "b=3\n",
    "\n",
    "c=a>b and a<b\n",
    "\n",
    "print(c)"
   ]
  },
  {
   "cell_type": "markdown",
   "metadata": {},
   "source": [
    "# Unary Operator"
   ]
  },
  {
   "cell_type": "code",
   "execution_count": 51,
   "metadata": {},
   "outputs": [
    {
     "name": "stdout",
     "output_type": "stream",
     "text": [
      "-5\n"
     ]
    }
   ],
   "source": [
    "a=10\n",
    "b=1\n",
    "c=5\n",
    "c=-c\n",
    "\n",
    "print(c)"
   ]
  },
  {
   "cell_type": "code",
   "execution_count": 52,
   "metadata": {},
   "outputs": [
    {
     "name": "stdout",
     "output_type": "stream",
     "text": [
      "5\n"
     ]
    }
   ],
   "source": [
    "a=10\n",
    "b=1\n",
    "c=5\n",
    "c=-c\n",
    "c=-c\n",
    "\n",
    "print(c)"
   ]
  },
  {
   "cell_type": "markdown",
   "metadata": {},
   "source": [
    "# Strings in Python"
   ]
  },
  {
   "cell_type": "code",
   "execution_count": 53,
   "metadata": {},
   "outputs": [
    {
     "name": "stdout",
     "output_type": "stream",
     "text": [
      "Hamid Hosen\n"
     ]
    }
   ],
   "source": [
    "a=\"Hamid Hosen\"\n",
    "print(a)"
   ]
  },
  {
   "cell_type": "code",
   "execution_count": 54,
   "metadata": {},
   "outputs": [
    {
     "name": "stdout",
     "output_type": "stream",
     "text": [
      "H\n"
     ]
    }
   ],
   "source": [
    "print(a[0])"
   ]
  },
  {
   "cell_type": "code",
   "execution_count": 55,
   "metadata": {},
   "outputs": [
    {
     "name": "stdout",
     "output_type": "stream",
     "text": [
      "mid\n"
     ]
    }
   ],
   "source": [
    "print(a[2:5])"
   ]
  },
  {
   "cell_type": "code",
   "execution_count": 56,
   "metadata": {},
   "outputs": [
    {
     "name": "stdout",
     "output_type": "stream",
     "text": [
      "d Ho\n"
     ]
    }
   ],
   "source": [
    "print(a[-7:-3])"
   ]
  },
  {
   "cell_type": "code",
   "execution_count": 57,
   "metadata": {},
   "outputs": [
    {
     "name": "stdout",
     "output_type": "stream",
     "text": [
      "11\n"
     ]
    }
   ],
   "source": [
    "print(len(a))"
   ]
  },
  {
   "cell_type": "code",
   "execution_count": 58,
   "metadata": {},
   "outputs": [
    {
     "name": "stdout",
     "output_type": "stream",
     "text": [
      "  Hamid Hosen\n"
     ]
    }
   ],
   "source": [
    "a=\"  Hamid Hosen\"\n",
    "print(a)"
   ]
  },
  {
   "cell_type": "code",
   "execution_count": 59,
   "metadata": {},
   "outputs": [
    {
     "name": "stdout",
     "output_type": "stream",
     "text": [
      "Hamid Hosen\n"
     ]
    }
   ],
   "source": [
    "print(a.strip())"
   ]
  },
  {
   "cell_type": "code",
   "execution_count": 60,
   "metadata": {},
   "outputs": [
    {
     "name": "stdout",
     "output_type": "stream",
     "text": [
      "HAMID HOSEN\n"
     ]
    }
   ],
   "source": [
    "a=\"Hamid Hosen\"\n",
    "print(a.upper())"
   ]
  },
  {
   "cell_type": "code",
   "execution_count": 61,
   "metadata": {},
   "outputs": [
    {
     "name": "stdout",
     "output_type": "stream",
     "text": [
      "hamid hosen\n"
     ]
    }
   ],
   "source": [
    "a=\"Hamid Hosen\"\n",
    "print(a.lower())"
   ]
  },
  {
   "cell_type": "code",
   "execution_count": 62,
   "metadata": {},
   "outputs": [
    {
     "name": "stdout",
     "output_type": "stream",
     "text": [
      "['Hamid', 'Hosen', 'Azad']\n"
     ]
    }
   ],
   "source": [
    "name=\"Hamid Hosen Azad\"\n",
    "print(name.split())"
   ]
  },
  {
   "cell_type": "code",
   "execution_count": 64,
   "metadata": {},
   "outputs": [
    {
     "name": "stdout",
     "output_type": "stream",
     "text": [
      "Hamid Hosen\n"
     ]
    }
   ],
   "source": [
    "a=\"Hamid Azad\"\n",
    "print(a.replace(\"Azad\",\"Hosen\"))"
   ]
  },
  {
   "cell_type": "markdown",
   "metadata": {},
   "source": [
    "# Arrays in Python"
   ]
  },
  {
   "cell_type": "code",
   "execution_count": 65,
   "metadata": {},
   "outputs": [
    {
     "name": "stdout",
     "output_type": "stream",
     "text": [
      "array('i', [100, 200, 300, 400])\n"
     ]
    }
   ],
   "source": [
    "from array import *\n",
    "salary=array('i',[100,200,300,400])\n",
    "print(salary)"
   ]
  },
  {
   "cell_type": "code",
   "execution_count": 66,
   "metadata": {},
   "outputs": [
    {
     "name": "stdout",
     "output_type": "stream",
     "text": [
      "100\n"
     ]
    }
   ],
   "source": [
    "print(salary[0])"
   ]
  },
  {
   "cell_type": "code",
   "execution_count": 67,
   "metadata": {},
   "outputs": [
    {
     "name": "stdout",
     "output_type": "stream",
     "text": [
      "100\n",
      "200\n",
      "300\n",
      "400\n"
     ]
    }
   ],
   "source": [
    "for i in salary:\n",
    "    print(i)"
   ]
  },
  {
   "cell_type": "code",
   "execution_count": 68,
   "metadata": {},
   "outputs": [
    {
     "name": "stdout",
     "output_type": "stream",
     "text": [
      "100\n",
      "200\n",
      "300\n",
      "400\n"
     ]
    }
   ],
   "source": [
    "for i in range(4):\n",
    "    print(salary[i])"
   ]
  },
  {
   "cell_type": "code",
   "execution_count": 69,
   "metadata": {},
   "outputs": [
    {
     "name": "stdout",
     "output_type": "stream",
     "text": [
      "(2295744472144, 4)\n"
     ]
    }
   ],
   "source": [
    "print(salary.buffer_info())"
   ]
  },
  {
   "cell_type": "code",
   "execution_count": 70,
   "metadata": {},
   "outputs": [
    {
     "name": "stdout",
     "output_type": "stream",
     "text": [
      "None\n"
     ]
    }
   ],
   "source": [
    "print(salary.append(500))"
   ]
  },
  {
   "cell_type": "code",
   "execution_count": 71,
   "metadata": {},
   "outputs": [
    {
     "name": "stdout",
     "output_type": "stream",
     "text": [
      "array('i', [100, 200, 300, 400, 500])\n"
     ]
    }
   ],
   "source": [
    "print(salary)"
   ]
  },
  {
   "cell_type": "code",
   "execution_count": 72,
   "metadata": {},
   "outputs": [
    {
     "name": "stdout",
     "output_type": "stream",
     "text": [
      "None\n"
     ]
    }
   ],
   "source": [
    "print(salary.remove(300))"
   ]
  },
  {
   "cell_type": "code",
   "execution_count": 73,
   "metadata": {},
   "outputs": [
    {
     "name": "stdout",
     "output_type": "stream",
     "text": [
      "array('i', [100, 200, 400, 500])\n"
     ]
    }
   ],
   "source": [
    "print(salary)"
   ]
  },
  {
   "cell_type": "code",
   "execution_count": 74,
   "metadata": {},
   "outputs": [
    {
     "name": "stdout",
     "output_type": "stream",
     "text": [
      "array('i', [500, 400, 200, 100])\n"
     ]
    }
   ],
   "source": [
    "salary.reverse()\n",
    "print(salary)"
   ]
  },
  {
   "cell_type": "code",
   "execution_count": 75,
   "metadata": {},
   "outputs": [
    {
     "ename": "TypeError",
     "evalue": "integer argument expected, got float",
     "output_type": "error",
     "traceback": [
      "\u001b[1;31m---------------------------------------------------------------------------\u001b[0m",
      "\u001b[1;31mTypeError\u001b[0m                                 Traceback (most recent call last)",
      "\u001b[1;32m<ipython-input-75-acf4d5f8a030>\u001b[0m in \u001b[0;36m<module>\u001b[1;34m\u001b[0m\n\u001b[1;32m----> 1\u001b[1;33m \u001b[0msalary\u001b[0m\u001b[1;33m=\u001b[0m\u001b[0marray\u001b[0m\u001b[1;33m(\u001b[0m\u001b[1;34m'i'\u001b[0m\u001b[1;33m,\u001b[0m\u001b[1;33m[\u001b[0m\u001b[1;36m100\u001b[0m\u001b[1;33m,\u001b[0m\u001b[1;36m200.5\u001b[0m\u001b[1;33m,\u001b[0m\u001b[1;36m300\u001b[0m\u001b[1;33m,\u001b[0m\u001b[1;36m400\u001b[0m\u001b[1;33m]\u001b[0m\u001b[1;33m)\u001b[0m\u001b[1;33m\u001b[0m\u001b[1;33m\u001b[0m\u001b[0m\n\u001b[0m\u001b[0;32m      2\u001b[0m \u001b[0mprint\u001b[0m\u001b[1;33m(\u001b[0m\u001b[0msalary\u001b[0m\u001b[1;33m)\u001b[0m \u001b[1;31m# int and float are same time not use\u001b[0m\u001b[1;33m\u001b[0m\u001b[1;33m\u001b[0m\u001b[0m\n",
      "\u001b[1;31mTypeError\u001b[0m: integer argument expected, got float"
     ]
    }
   ],
   "source": [
    "salary=array('i',[100,200.5,300,400])\n",
    "print(salary) # int and float are same time not use"
   ]
  },
  {
   "cell_type": "code",
   "execution_count": 76,
   "metadata": {},
   "outputs": [
    {
     "name": "stdout",
     "output_type": "stream",
     "text": [
      "array('f', [100.0, 200.5, 300.0, 400.0])\n"
     ]
    }
   ],
   "source": [
    "salary=array('f',[100,200.5,300,400])\n",
    "print(salary) "
   ]
  },
  {
   "cell_type": "markdown",
   "metadata": {},
   "source": [
    "# Python Bangla Tutorial for Beginners"
   ]
  },
  {
   "cell_type": "markdown",
   "metadata": {},
   "source": [
    "# List"
   ]
  },
  {
   "cell_type": "code",
   "execution_count": 77,
   "metadata": {},
   "outputs": [
    {
     "name": "stdout",
     "output_type": "stream",
     "text": [
      "[1, 4, 2, 3.5, 7, 6, 4]\n"
     ]
    }
   ],
   "source": [
    "list=[1,4,2,3.5,7,6,4]\n",
    "print(list)"
   ]
  },
  {
   "cell_type": "code",
   "execution_count": 78,
   "metadata": {},
   "outputs": [
    {
     "name": "stdout",
     "output_type": "stream",
     "text": [
      "[1, 25, 4, ['Hamid', 34, 5], 40, 60]\n"
     ]
    }
   ],
   "source": [
    "list=[1,25,4,['Hamid',34,5],40,60]\n",
    "print(list)"
   ]
  },
  {
   "cell_type": "code",
   "execution_count": 79,
   "metadata": {},
   "outputs": [
    {
     "name": "stdout",
     "output_type": "stream",
     "text": [
      "['Hamid', 34, 5]\n"
     ]
    }
   ],
   "source": [
    "print(list[3])"
   ]
  },
  {
   "cell_type": "code",
   "execution_count": 80,
   "metadata": {},
   "outputs": [
    {
     "name": "stdout",
     "output_type": "stream",
     "text": [
      "Hamid\n"
     ]
    }
   ],
   "source": [
    "print(list[3][0])"
   ]
  },
  {
   "cell_type": "code",
   "execution_count": 81,
   "metadata": {},
   "outputs": [
    {
     "name": "stdout",
     "output_type": "stream",
     "text": [
      "[1, 25, 4, ['Hamid', 34, 5], 40, 60, 1, 2, 3, 4]\n"
     ]
    }
   ],
   "source": [
    "list=list+[1,2,3,4]\n",
    "print(list)"
   ]
  },
  {
   "cell_type": "code",
   "execution_count": 82,
   "metadata": {},
   "outputs": [
    {
     "name": "stdout",
     "output_type": "stream",
     "text": [
      "[1, 25, 4, ['Hamid', 34, 5], 40, 60, 1, 2, 3, 4, 6, 7, 8, 9, 10]\n"
     ]
    }
   ],
   "source": [
    "list.extend([6,7,8,9,10])\n",
    "print(list)"
   ]
  },
  {
   "cell_type": "code",
   "execution_count": 83,
   "metadata": {},
   "outputs": [
    {
     "name": "stdout",
     "output_type": "stream",
     "text": [
      "[25, 4, ['Hamid', 34, 5], 40, 60, 1, 2, 3, 4, 6, 7, 8, 9, 10]\n"
     ]
    }
   ],
   "source": [
    "list.remove(1)\n",
    "print(list)"
   ]
  },
  {
   "cell_type": "code",
   "execution_count": 84,
   "metadata": {},
   "outputs": [
    {
     "name": "stdout",
     "output_type": "stream",
     "text": [
      "[25, 4, 40, 60, 1, 2, 3, 4, 6, 7, 8, 9, 10]\n"
     ]
    }
   ],
   "source": [
    "list.remove(list[2])\n",
    "print(list)"
   ]
  },
  {
   "cell_type": "code",
   "execution_count": 85,
   "metadata": {},
   "outputs": [
    {
     "name": "stdout",
     "output_type": "stream",
     "text": [
      "3\n"
     ]
    }
   ],
   "source": [
    "list=[1,1,1,2,3,4,5]\n",
    "print(list.count(1))"
   ]
  },
  {
   "cell_type": "markdown",
   "metadata": {},
   "source": [
    "# Tuple in Python"
   ]
  },
  {
   "cell_type": "code",
   "execution_count": 86,
   "metadata": {},
   "outputs": [
    {
     "name": "stdout",
     "output_type": "stream",
     "text": [
      "(1, 24, 56, 7, 89)\n"
     ]
    }
   ],
   "source": [
    "tuple=(1,24,56,7,89)\n",
    "print(tuple)"
   ]
  },
  {
   "cell_type": "code",
   "execution_count": 87,
   "metadata": {},
   "outputs": [
    {
     "name": "stdout",
     "output_type": "stream",
     "text": [
      "tuple 80\n",
      "list 96\n"
     ]
    }
   ],
   "source": [
    "import sys\n",
    "\n",
    "tuple=(1,2,3,4,5)\n",
    "list=[1,2,3,4,5]\n",
    "\n",
    "print('tuple',sys.getsizeof(tuple))\n",
    "print('list',sys.getsizeof(list))"
   ]
  },
  {
   "cell_type": "code",
   "execution_count": 88,
   "metadata": {},
   "outputs": [
    {
     "name": "stdout",
     "output_type": "stream",
     "text": [
      "<class 'tuple'>\n"
     ]
    }
   ],
   "source": [
    "del tuple\n",
    "print(tuple)"
   ]
  },
  {
   "cell_type": "markdown",
   "metadata": {},
   "source": [
    "# Sets in Python"
   ]
  },
  {
   "cell_type": "code",
   "execution_count": 89,
   "metadata": {},
   "outputs": [
    {
     "name": "stdout",
     "output_type": "stream",
     "text": [
      "{1, 2, 3, 4, 5}\n"
     ]
    }
   ],
   "source": [
    "s1=set([1,2,3,4,5])\n",
    "print(s1)"
   ]
  },
  {
   "cell_type": "code",
   "execution_count": 90,
   "metadata": {},
   "outputs": [
    {
     "name": "stdout",
     "output_type": "stream",
     "text": [
      "<class 'set'>\n"
     ]
    }
   ],
   "source": [
    "print(type(s1))"
   ]
  },
  {
   "cell_type": "code",
   "execution_count": 91,
   "metadata": {},
   "outputs": [
    {
     "name": "stdout",
     "output_type": "stream",
     "text": [
      "{1, 2, 3, 4, 5}\n"
     ]
    }
   ],
   "source": [
    "s1={1,2,3,3,4,5}\n",
    "print(s1)"
   ]
  },
  {
   "cell_type": "code",
   "execution_count": 92,
   "metadata": {},
   "outputs": [
    {
     "name": "stdout",
     "output_type": "stream",
     "text": [
      "{1, 2, 3, 4, 5, 6}\n"
     ]
    }
   ],
   "source": [
    "s1.add(6)\n",
    "print(s1)"
   ]
  },
  {
   "cell_type": "code",
   "execution_count": 93,
   "metadata": {},
   "outputs": [
    {
     "name": "stdout",
     "output_type": "stream",
     "text": [
      "{1, 2, 3, 4, 5, 6, 7, 8, 9, 10}\n"
     ]
    }
   ],
   "source": [
    "s1.update((7,8,9,10))\n",
    "print(s1)"
   ]
  },
  {
   "cell_type": "code",
   "execution_count": 94,
   "metadata": {},
   "outputs": [
    {
     "name": "stdout",
     "output_type": "stream",
     "text": [
      "{1, 2, 3, 4, 5, 6, 7, 8, 9, 10, 11, 12, 13, 14, 15}\n"
     ]
    }
   ],
   "source": [
    "s1.update([11,12,13,14,15])\n",
    "print(s1)"
   ]
  },
  {
   "cell_type": "code",
   "execution_count": 95,
   "metadata": {},
   "outputs": [
    {
     "name": "stdout",
     "output_type": "stream",
     "text": [
      "{1, 2, 3, 4, 5, 6, 7, 8, 9, 10}\n"
     ]
    }
   ],
   "source": [
    "s1={1,2,3,4,5}\n",
    "s2={6,7,8,9,10}\n",
    "s1.update(s2)\n",
    "print(s1)"
   ]
  },
  {
   "cell_type": "code",
   "execution_count": 97,
   "metadata": {},
   "outputs": [
    {
     "name": "stdout",
     "output_type": "stream",
     "text": [
      "{2, 3, 4, 5, 6, 7, 8, 9, 10}\n"
     ]
    }
   ],
   "source": [
    "s1.remove(1)\n",
    "print(s1)"
   ]
  },
  {
   "cell_type": "code",
   "execution_count": 98,
   "metadata": {},
   "outputs": [
    {
     "name": "stdout",
     "output_type": "stream",
     "text": [
      "{2, 3, 4, 5, 6, 7, 8, 9, 10}\n"
     ]
    }
   ],
   "source": [
    "s1.discard(15)\n",
    "print(s1)"
   ]
  },
  {
   "cell_type": "code",
   "execution_count": 99,
   "metadata": {},
   "outputs": [
    {
     "name": "stdout",
     "output_type": "stream",
     "text": [
      "{2, 3, 4, 5, 6, 7, 8, 9}\n"
     ]
    }
   ],
   "source": [
    "s1.discard(10)\n",
    "print(s1)"
   ]
  },
  {
   "cell_type": "markdown",
   "metadata": {},
   "source": [
    "# Sets in Python || Intersection Operation in Python"
   ]
  },
  {
   "cell_type": "code",
   "execution_count": 100,
   "metadata": {},
   "outputs": [
    {
     "name": "stdout",
     "output_type": "stream",
     "text": [
      "{2, 3}\n"
     ]
    }
   ],
   "source": [
    "s1={1,2,3}\n",
    "s2={2,3,4}\n",
    "s3={3,4,5}\n",
    "\n",
    "s4=s1.intersection(s2)\n",
    "print(s4)"
   ]
  },
  {
   "cell_type": "code",
   "execution_count": 101,
   "metadata": {},
   "outputs": [
    {
     "name": "stdout",
     "output_type": "stream",
     "text": [
      "{3}\n"
     ]
    }
   ],
   "source": [
    "s5=s1.intersection(s2,s3)\n",
    "print(s5)"
   ]
  },
  {
   "cell_type": "code",
   "execution_count": 102,
   "metadata": {},
   "outputs": [
    {
     "name": "stdout",
     "output_type": "stream",
     "text": [
      "{1}\n"
     ]
    }
   ],
   "source": [
    "print(s1.difference(s2))"
   ]
  },
  {
   "cell_type": "code",
   "execution_count": 103,
   "metadata": {},
   "outputs": [
    {
     "name": "stdout",
     "output_type": "stream",
     "text": [
      "{4}\n"
     ]
    }
   ],
   "source": [
    "print(s2.difference(s1))"
   ]
  },
  {
   "cell_type": "code",
   "execution_count": 104,
   "metadata": {},
   "outputs": [
    {
     "name": "stdout",
     "output_type": "stream",
     "text": [
      "{1, 4}\n"
     ]
    }
   ],
   "source": [
    "print(s1.symmetric_difference(s2))"
   ]
  },
  {
   "cell_type": "code",
   "execution_count": 105,
   "metadata": {},
   "outputs": [
    {
     "name": "stdout",
     "output_type": "stream",
     "text": [
      "{1, 4}\n"
     ]
    }
   ],
   "source": [
    "print(s2.symmetric_difference(s1))"
   ]
  },
  {
   "cell_type": "code",
   "execution_count": 106,
   "metadata": {},
   "outputs": [
    {
     "name": "stdout",
     "output_type": "stream",
     "text": [
      "{1, 2, 3, 4, 5}\n"
     ]
    }
   ],
   "source": [
    "s1=[1,1,2,2,3,3,3,3,4,5]\n",
    "r=set(s1)\n",
    "print(r)"
   ]
  },
  {
   "cell_type": "code",
   "execution_count": 107,
   "metadata": {},
   "outputs": [
    {
     "name": "stdout",
     "output_type": "stream",
     "text": [
      "{1}\n"
     ]
    }
   ],
   "source": [
    "s1=[1,2,3]\n",
    "s2=[2,3,4]\n",
    "\n",
    "print(set(s1).difference(set(s2)))"
   ]
  },
  {
   "cell_type": "markdown",
   "metadata": {},
   "source": [
    "# Sets in Python || Union Operation in Python"
   ]
  },
  {
   "cell_type": "code",
   "execution_count": 108,
   "metadata": {},
   "outputs": [
    {
     "name": "stdout",
     "output_type": "stream",
     "text": [
      "{1, 2, 3, 4, 5, 6, 8, 9}\n"
     ]
    }
   ],
   "source": [
    "a={1,2,3,4,5}\n",
    "b={2,3,6,8,9}\n",
    "c={5,6,9,1,10}\n",
    "\n",
    "r=a.union(b)\n",
    "print(r)"
   ]
  },
  {
   "cell_type": "code",
   "execution_count": 109,
   "metadata": {},
   "outputs": [
    {
     "name": "stdout",
     "output_type": "stream",
     "text": [
      "{1, 2, 3, 4, 5, 6, 8, 9, 10}\n"
     ]
    }
   ],
   "source": [
    "r=a.union(b,c)\n",
    "print(r)"
   ]
  },
  {
   "cell_type": "code",
   "execution_count": 110,
   "metadata": {},
   "outputs": [
    {
     "name": "stdout",
     "output_type": "stream",
     "text": [
      "{1, 2, 3, 4, 5, 6, 8, 9}\n"
     ]
    }
   ],
   "source": [
    "r=a|b\n",
    "print(r)"
   ]
  },
  {
   "cell_type": "code",
   "execution_count": 111,
   "metadata": {},
   "outputs": [
    {
     "name": "stdout",
     "output_type": "stream",
     "text": [
      "{1, 2, 3, 4, 5, 6, 8, 9, 10}\n"
     ]
    }
   ],
   "source": [
    "r=a|b|c\n",
    "print(r)"
   ]
  },
  {
   "cell_type": "markdown",
   "metadata": {},
   "source": [
    "# Python Dictionaries || Dictionary in Python"
   ]
  },
  {
   "cell_type": "code",
   "execution_count": 112,
   "metadata": {},
   "outputs": [
    {
     "name": "stdout",
     "output_type": "stream",
     "text": [
      "{'name': 'Hamid Hosen', 'age': 22, 'Bdate': 1999}\n"
     ]
    }
   ],
   "source": [
    "d={'name':\"Hamid Hosen\",'age':22,'Bdate':1999}\n",
    "print(d)"
   ]
  },
  {
   "cell_type": "code",
   "execution_count": 113,
   "metadata": {},
   "outputs": [
    {
     "name": "stdout",
     "output_type": "stream",
     "text": [
      "Hamid Hosen\n"
     ]
    }
   ],
   "source": [
    "print(d['name'])"
   ]
  },
  {
   "cell_type": "code",
   "execution_count": 114,
   "metadata": {},
   "outputs": [
    {
     "name": "stdout",
     "output_type": "stream",
     "text": [
      "{'name': 'Hamid Hosen', 10: 10, 10.5: 10.5, True: True, (2, 3): 5}\n"
     ]
    }
   ],
   "source": [
    "d1={'name':\"Hamid Hosen\",10:10,10.5:10.5,True:True,(2,3):5}\n",
    "print(d1)"
   ]
  },
  {
   "cell_type": "code",
   "execution_count": 115,
   "metadata": {},
   "outputs": [
    {
     "name": "stdout",
     "output_type": "stream",
     "text": [
      "5\n"
     ]
    }
   ],
   "source": [
    "print(d1[(2,3)])"
   ]
  },
  {
   "cell_type": "code",
   "execution_count": 116,
   "metadata": {},
   "outputs": [
    {
     "name": "stdout",
     "output_type": "stream",
     "text": [
      "{'name': 'Hamid Hosen', 10: 10, 10.5: 10.5, True: True, (2, 3): 5}\n"
     ]
    }
   ],
   "source": [
    "d2=d1;\n",
    "print(d2)"
   ]
  },
  {
   "cell_type": "code",
   "execution_count": 117,
   "metadata": {},
   "outputs": [
    {
     "name": "stdout",
     "output_type": "stream",
     "text": [
      "{'name': 'Hamid Hosen', 10: 10, 10.5: 10.5, True: True, (2, 3): 5}\n"
     ]
    }
   ],
   "source": [
    "d2=d1.copy()\n",
    "print(d2)"
   ]
  },
  {
   "cell_type": "code",
   "execution_count": 118,
   "metadata": {},
   "outputs": [
    {
     "name": "stdout",
     "output_type": "stream",
     "text": [
      "5\n"
     ]
    }
   ],
   "source": [
    "x=len(d1)\n",
    "print(x)"
   ]
  },
  {
   "cell_type": "code",
   "execution_count": 119,
   "metadata": {},
   "outputs": [
    {
     "name": "stdout",
     "output_type": "stream",
     "text": [
      "3\n"
     ]
    }
   ],
   "source": [
    "y=len(d)\n",
    "print(y)"
   ]
  },
  {
   "cell_type": "code",
   "execution_count": 120,
   "metadata": {},
   "outputs": [
    {
     "name": "stdout",
     "output_type": "stream",
     "text": [
      "{'name': 'Hamid Hosen', 10: 10, 10.5: 10.5, True: True, (2, 3): 5, 'versity': 'Daffodil University'}\n"
     ]
    }
   ],
   "source": [
    "d1['versity']='Daffodil University'\n",
    "print(d1)"
   ]
  },
  {
   "cell_type": "code",
   "execution_count": 121,
   "metadata": {},
   "outputs": [
    {
     "name": "stdout",
     "output_type": "stream",
     "text": [
      "{'name': 'Hamid Hosen', 10: 10, 10.5: 10.5, True: True, (2, 3): 5}\n"
     ]
    }
   ],
   "source": [
    "d1.pop('versity')\n",
    "print(d1)"
   ]
  },
  {
   "cell_type": "code",
   "execution_count": 122,
   "metadata": {},
   "outputs": [
    {
     "name": "stdout",
     "output_type": "stream",
     "text": [
      "{}\n"
     ]
    }
   ],
   "source": [
    "d1.clear()\n",
    "print(d1)"
   ]
  },
  {
   "cell_type": "markdown",
   "metadata": {},
   "source": [
    "# Python Dictionaries || Dictionary in Python"
   ]
  },
  {
   "cell_type": "code",
   "execution_count": 123,
   "metadata": {},
   "outputs": [
    {
     "name": "stdout",
     "output_type": "stream",
     "text": [
      "study Mart\n"
     ]
    }
   ],
   "source": [
    "d={1:'study Mart',2:'Data Science',3:'Python'}\n",
    "print(d[1])"
   ]
  },
  {
   "cell_type": "code",
   "execution_count": 124,
   "metadata": {},
   "outputs": [
    {
     "name": "stdout",
     "output_type": "stream",
     "text": [
      "Data Science\n"
     ]
    }
   ],
   "source": [
    "print(d.get(2))"
   ]
  },
  {
   "cell_type": "code",
   "execution_count": 125,
   "metadata": {},
   "outputs": [
    {
     "name": "stdout",
     "output_type": "stream",
     "text": [
      "dict_items([(1, 'study Mart'), (2, 'Data Science'), (3, 'Python')])\n"
     ]
    }
   ],
   "source": [
    "print(d.items())"
   ]
  },
  {
   "cell_type": "code",
   "execution_count": 126,
   "metadata": {},
   "outputs": [
    {
     "name": "stdout",
     "output_type": "stream",
     "text": [
      "dict_keys([1, 'Data Science', 3])\n"
     ]
    }
   ],
   "source": [
    "d={1:'study Mart','Data Science':2,3:'Python'}\n",
    "print(d.keys())"
   ]
  },
  {
   "cell_type": "code",
   "execution_count": 127,
   "metadata": {},
   "outputs": [
    {
     "name": "stdout",
     "output_type": "stream",
     "text": [
      "dict_values(['study Mart', 2, 'Python'])\n"
     ]
    }
   ],
   "source": [
    "print(d.values())"
   ]
  },
  {
   "cell_type": "markdown",
   "metadata": {},
   "source": [
    "# Python Nested Dictionary"
   ]
  },
  {
   "cell_type": "code",
   "execution_count": 128,
   "metadata": {},
   "outputs": [
    {
     "name": "stdout",
     "output_type": "stream",
     "text": [
      "{1: {'name': 'Hamid', 'age': 21, 'sex': 'male'}, 2: {'name': 'Hamid Hosen', 'age': 22, 'sex': 'male'}, 3: {'name': 'Hamid Hosen Azad', 'age': 24, 'sex': 'male'}}\n"
     ]
    }
   ],
   "source": [
    "student={1:{'name':'Hamid','age':21,'sex':'male'},\n",
    "        2:{'name':'Hamid Hosen','age':22,'sex':'male'},\n",
    "        3:{'name':'Hamid Hosen Azad','age':24,'sex':'male'}\n",
    "        }\n",
    "print(student)"
   ]
  },
  {
   "cell_type": "code",
   "execution_count": 129,
   "metadata": {},
   "outputs": [
    {
     "name": "stdout",
     "output_type": "stream",
     "text": [
      "{'name': 'Hamid', 'age': 21, 'sex': 'male'}\n"
     ]
    }
   ],
   "source": [
    "print(student[1])"
   ]
  },
  {
   "cell_type": "code",
   "execution_count": 130,
   "metadata": {},
   "outputs": [
    {
     "name": "stdout",
     "output_type": "stream",
     "text": [
      "male\n",
      "Hamid Hosen\n",
      "24\n"
     ]
    }
   ],
   "source": [
    "print(student[1]['sex'])\n",
    "print(student[2]['name'])\n",
    "print(student[3]['age'])"
   ]
  },
  {
   "cell_type": "code",
   "execution_count": 131,
   "metadata": {},
   "outputs": [
    {
     "name": "stdout",
     "output_type": "stream",
     "text": [
      "male\n",
      "Hamid Hosen\n",
      "24\n",
      "{'name': 'Hamid Hosen Azad', 'age': 24, 'sex': 'male'}\n"
     ]
    }
   ],
   "source": [
    "student={1:{'name':'Hamid','age':21,'sex':'male'},\n",
    "        2:{'name':'Hamid Hosen','age':22,'sex':'male'},\n",
    "        3:{'name':'Hamid Hosen Azad','age':24,'sex':'male'}\n",
    "        }\n",
    "\n",
    "print(student[1]['sex'])\n",
    "print(student[2]['name'])\n",
    "print(student[3]['age'])\n",
    "\n",
    "student[4]={}\n",
    "student[4]['name']='Md.Hamid Hosen'\n",
    "student[4]['age']=24\n",
    "student[4]['sex']='male'\n",
    "\n",
    "print(student[3])"
   ]
  },
  {
   "cell_type": "code",
   "execution_count": 132,
   "metadata": {},
   "outputs": [
    {
     "name": "stdout",
     "output_type": "stream",
     "text": [
      "{1: {'name': 'Hamid', 'age': 21, 'sex': 'male'}, 2: {'name': 'Hamid Hosen', 'age': 22, 'sex': 'male'}, 3: {'name': 'Hamid Hosen Azad', 'age': 24, 'sex': 'male'}, 4: {'name': 'Md.Hamid Hosen', 'age': 24, 'sex': 'male'}}\n"
     ]
    }
   ],
   "source": [
    "print(student)"
   ]
  },
  {
   "cell_type": "code",
   "execution_count": 133,
   "metadata": {},
   "outputs": [
    {
     "name": "stdout",
     "output_type": "stream",
     "text": [
      "{2: {'name': 'Hamid Hosen', 'age': 22, 'sex': 'male'}, 3: {'name': 'Hamid Hosen Azad', 'age': 24, 'sex': 'male'}, 4: {'name': 'Md.Hamid Hosen', 'age': 24, 'sex': 'male'}}\n"
     ]
    }
   ],
   "source": [
    "student.pop(1)\n",
    "print(student)"
   ]
  },
  {
   "cell_type": "code",
   "execution_count": 134,
   "metadata": {},
   "outputs": [
    {
     "name": "stdout",
     "output_type": "stream",
     "text": [
      "{2: {'name': 'Hamid Hosen', 'age': 22, 'sex': 'male'}, 3: {'name': 'Hamid Hosen Azad', 'age': 24, 'sex': 'male'}, 4: {'name': 'Md.Hamid Hosen', 'age': 24}}\n"
     ]
    }
   ],
   "source": [
    "del student[4]['sex']\n",
    "print(student)"
   ]
  },
  {
   "cell_type": "code",
   "execution_count": 135,
   "metadata": {},
   "outputs": [
    {
     "name": "stdout",
     "output_type": "stream",
     "text": [
      "{2: {'name': 'Hamid Hosen', 'age': 22}, 3: {'name': 'Hamid Hosen Azad', 'age': 24, 'sex': 'male'}, 4: {'name': 'Md.Hamid Hosen', 'age': 24}}\n"
     ]
    }
   ],
   "source": [
    "student[2].pop('sex')\n",
    "print(student)"
   ]
  },
  {
   "cell_type": "code",
   "execution_count": 136,
   "metadata": {},
   "outputs": [
    {
     "name": "stdout",
     "output_type": "stream",
     "text": [
      "{2: {'name': 'Hamid Hosen', 'age': 22}, 3: {'name': 'Hamid Hosen Azad', 'age': 24, 'sex': 'male'}}\n"
     ]
    }
   ],
   "source": [
    "del student[4]\n",
    "print(student)"
   ]
  },
  {
   "cell_type": "markdown",
   "metadata": {},
   "source": [
    "# If, elif and else Statements in Python "
   ]
  },
  {
   "cell_type": "code",
   "execution_count": 137,
   "metadata": {},
   "outputs": [
    {
     "name": "stdout",
     "output_type": "stream",
     "text": [
      "10\n",
      "20\n",
      "30\n",
      "x is less then y\n"
     ]
    }
   ],
   "source": [
    "x=int(input())\n",
    "y=int(input())\n",
    "z=int(input())\n",
    "\n",
    "if(x<y):\n",
    "    print('x is less then y' )"
   ]
  },
  {
   "cell_type": "code",
   "execution_count": 138,
   "metadata": {},
   "outputs": [
    {
     "name": "stdout",
     "output_type": "stream",
     "text": [
      "20\n",
      "10\n",
      "10\n",
      "x is less then y\n"
     ]
    }
   ],
   "source": [
    "x=int(input())\n",
    "y=int(input())\n",
    "z=int(input())\n",
    "\n",
    "if(x>y):\n",
    "    print('x is less then y' )"
   ]
  },
  {
   "cell_type": "markdown",
   "metadata": {},
   "source": [
    "# Find Odd & Even Number in Python"
   ]
  },
  {
   "cell_type": "code",
   "execution_count": 139,
   "metadata": {},
   "outputs": [
    {
     "name": "stdout",
     "output_type": "stream",
     "text": [
      "Enter any number:5\n",
      "Odd number.\n"
     ]
    }
   ],
   "source": [
    "num=int(input(\"Enter any number:\"))\n",
    "\n",
    "if num%2==0:\n",
    "    print(\"Ever number.\")\n",
    "else:\n",
    "    print(\"Odd number.\")"
   ]
  },
  {
   "cell_type": "markdown",
   "metadata": {},
   "source": [
    "# Find Negative & Positive Number in Python"
   ]
  },
  {
   "cell_type": "code",
   "execution_count": 140,
   "metadata": {},
   "outputs": [
    {
     "name": "stdout",
     "output_type": "stream",
     "text": [
      "Enter any number:5\n",
      "The number is positive.\n"
     ]
    }
   ],
   "source": [
    "num=int(input(\"Enter any number:\"))\n",
    "\n",
    "if num==0:\n",
    "    print('The number is zero.')\n",
    "elif num>0:\n",
    "    print('The number is positive.')\n",
    "else:\n",
    "    print('The number is Negative.')"
   ]
  },
  {
   "cell_type": "markdown",
   "metadata": {},
   "source": [
    "# Nested if statement in Python"
   ]
  },
  {
   "cell_type": "code",
   "execution_count": 141,
   "metadata": {},
   "outputs": [
    {
     "name": "stdout",
     "output_type": "stream",
     "text": [
      "Enter any number:100\n",
      "The number is positive.\n",
      "The number is even.\n"
     ]
    }
   ],
   "source": [
    "num=int(input(\"Enter any number:\"))\n",
    "\n",
    "if num==0:\n",
    "    print('The number is zero.')\n",
    "elif num>0:\n",
    "    print('The number is positive.')\n",
    "    \n",
    "    if(num%2==0):\n",
    "        print(\"The number is even.\")\n",
    "    else:\n",
    "        print(\"The number is odd.\")\n",
    "else:\n",
    "    print('The number is Negative.')"
   ]
  },
  {
   "cell_type": "markdown",
   "metadata": {},
   "source": [
    "# Find Max Number out of three Numbers using Python"
   ]
  },
  {
   "cell_type": "code",
   "execution_count": 142,
   "metadata": {},
   "outputs": [
    {
     "name": "stdout",
     "output_type": "stream",
     "text": [
      "Enter the first number:10\n",
      "Enter the second number:30\n",
      "Enter the second number:20\n",
      "Number2 is bigger then number1,number3\n"
     ]
    }
   ],
   "source": [
    "num1=int(input(\"Enter the first number:\"))\n",
    "num2=int(input(\"Enter the second number:\"))\n",
    "num3=int(input(\"Enter the second number:\"))\n",
    "\n",
    "if num1>num2:\n",
    "    if num1>num3:\n",
    "        print('Number1 is bigger then number2,number3')\n",
    "    else:\n",
    "        print('Number3 is bigger then number1,number2')\n",
    "elif num1<num2:\n",
    "    if num2>num3:\n",
    "        print('Number2 is bigger then number1,number3')\n",
    "    else:\n",
    "         print('Number3 is bigger then number1,number2')"
   ]
  },
  {
   "cell_type": "code",
   "execution_count": 143,
   "metadata": {},
   "outputs": [
    {
     "name": "stdout",
     "output_type": "stream",
     "text": [
      "Enter the first number:20\n",
      "Enter the second number:30\n",
      "Enter the second number:50\n",
      "Number3 is bigger then number1,number2\n"
     ]
    }
   ],
   "source": [
    "num1=int(input(\"Enter the first number:\"))\n",
    "num2=int(input(\"Enter the second number:\"))\n",
    "num3=int(input(\"Enter the second number:\"))\n",
    "\n",
    "if num1>num2:\n",
    "    if num1>num3:\n",
    "        print('Number1 is bigger then number2,number3')\n",
    "    else:\n",
    "        print('Number3 is bigger then number1,number2')\n",
    "elif num1<num2:\n",
    "    if num2>num3:\n",
    "        print('Number2 is bigger then number1,number3')\n",
    "    else:\n",
    "         print('Number3 is bigger then number1,number2')"
   ]
  },
  {
   "cell_type": "markdown",
   "metadata": {},
   "source": [
    "# Ternary Operator in Python"
   ]
  },
  {
   "cell_type": "code",
   "execution_count": 144,
   "metadata": {},
   "outputs": [
    {
     "name": "stdout",
     "output_type": "stream",
     "text": [
      "yes!\n"
     ]
    }
   ],
   "source": [
    "#r=A if condition else B\n",
    "\n",
    "print('yes!' if True else 'No!')"
   ]
  },
  {
   "cell_type": "code",
   "execution_count": 145,
   "metadata": {},
   "outputs": [
    {
     "name": "stdout",
     "output_type": "stream",
     "text": [
      "No!\n"
     ]
    }
   ],
   "source": [
    "print('yes!' if False else 'No!')"
   ]
  },
  {
   "cell_type": "code",
   "execution_count": 146,
   "metadata": {},
   "outputs": [
    {
     "name": "stdout",
     "output_type": "stream",
     "text": [
      "10\n"
     ]
    }
   ],
   "source": [
    "a,b=10,20\n",
    "print(a if a<b else b)"
   ]
  },
  {
   "cell_type": "code",
   "execution_count": 147,
   "metadata": {},
   "outputs": [
    {
     "name": "stdout",
     "output_type": "stream",
     "text": [
      "Enter any number:5\n",
      "The number is odd.\n"
     ]
    }
   ],
   "source": [
    "num=int(input(\"Enter any number:\"))\n",
    "\n",
    "print('The number is even.' if num%2==0 else \"The number is odd.\")"
   ]
  },
  {
   "cell_type": "markdown",
   "metadata": {},
   "source": [
    "# Swap two Numbers in Python"
   ]
  },
  {
   "cell_type": "code",
   "execution_count": 148,
   "metadata": {},
   "outputs": [
    {
     "name": "stdout",
     "output_type": "stream",
     "text": [
      "10 5\n"
     ]
    }
   ],
   "source": [
    "a=5\n",
    "b=10\n",
    "\n",
    "c=a\n",
    "a=b\n",
    "b=c\n",
    "\n",
    "print(a,b)"
   ]
  },
  {
   "cell_type": "code",
   "execution_count": 149,
   "metadata": {},
   "outputs": [
    {
     "name": "stdout",
     "output_type": "stream",
     "text": [
      "5 10\n"
     ]
    }
   ],
   "source": [
    "a=10\n",
    "b=5\n",
    "\n",
    "a=a+b\n",
    "b=a-b\n",
    "a=a-b\n",
    "\n",
    "print(a,b)"
   ]
  },
  {
   "cell_type": "code",
   "execution_count": 150,
   "metadata": {},
   "outputs": [
    {
     "name": "stdout",
     "output_type": "stream",
     "text": [
      "20 10\n"
     ]
    }
   ],
   "source": [
    "a=10\n",
    "b=20\n",
    "\n",
    "a,b=b,a\n",
    "print(a,b)"
   ]
  },
  {
   "cell_type": "markdown",
   "metadata": {},
   "source": [
    "# Exceptions Handling in Python"
   ]
  },
  {
   "cell_type": "code",
   "execution_count": 151,
   "metadata": {},
   "outputs": [
    {
     "name": "stdout",
     "output_type": "stream",
     "text": [
      "2.5\n"
     ]
    }
   ],
   "source": [
    "a=5\n",
    "b=2\n",
    "\n",
    "print(a/b)"
   ]
  },
  {
   "cell_type": "code",
   "execution_count": 152,
   "metadata": {},
   "outputs": [
    {
     "ename": "ZeroDivisionError",
     "evalue": "division by zero",
     "output_type": "error",
     "traceback": [
      "\u001b[1;31m---------------------------------------------------------------------------\u001b[0m",
      "\u001b[1;31mZeroDivisionError\u001b[0m                         Traceback (most recent call last)",
      "\u001b[1;32m<ipython-input-152-af58a0ac003d>\u001b[0m in \u001b[0;36m<module>\u001b[1;34m\u001b[0m\n\u001b[0;32m      2\u001b[0m \u001b[0mb\u001b[0m\u001b[1;33m=\u001b[0m\u001b[1;36m0\u001b[0m\u001b[1;33m\u001b[0m\u001b[1;33m\u001b[0m\u001b[0m\n\u001b[0;32m      3\u001b[0m \u001b[1;33m\u001b[0m\u001b[0m\n\u001b[1;32m----> 4\u001b[1;33m \u001b[0mprint\u001b[0m\u001b[1;33m(\u001b[0m\u001b[0ma\u001b[0m\u001b[1;33m/\u001b[0m\u001b[0mb\u001b[0m\u001b[1;33m)\u001b[0m\u001b[1;33m\u001b[0m\u001b[1;33m\u001b[0m\u001b[0m\n\u001b[0m\u001b[0;32m      5\u001b[0m \u001b[0mprint\u001b[0m\u001b[1;33m(\u001b[0m\u001b[1;34m'ok,Bey'\u001b[0m\u001b[1;33m)\u001b[0m\u001b[1;33m\u001b[0m\u001b[1;33m\u001b[0m\u001b[0m\n",
      "\u001b[1;31mZeroDivisionError\u001b[0m: division by zero"
     ]
    }
   ],
   "source": [
    "a=5\n",
    "b=0\n",
    "\n",
    "print(a/b)\n",
    "print('ok,Bey')"
   ]
  },
  {
   "cell_type": "code",
   "execution_count": 153,
   "metadata": {},
   "outputs": [
    {
     "name": "stdout",
     "output_type": "stream",
     "text": [
      "You can not divide a number by zero!\n",
      "ok,Bey\n"
     ]
    }
   ],
   "source": [
    "a=5\n",
    "b=0\n",
    "\n",
    "try:\n",
    "    print(a/b)\n",
    "except Exception:\n",
    "    print('You can not divide a number by zero!')\n",
    "print('ok,Bey')"
   ]
  },
  {
   "cell_type": "code",
   "execution_count": 155,
   "metadata": {},
   "outputs": [
    {
     "name": "stdout",
     "output_type": "stream",
     "text": [
      "2.5\n",
      "ok,Bey\n"
     ]
    }
   ],
   "source": [
    "a=5\n",
    "b=2\n",
    "\n",
    "try:\n",
    "    print(a/b)\n",
    "except Exception:\n",
    "    print('You can not divide a number by zero!')\n",
    "print('ok,Bey')"
   ]
  },
  {
   "cell_type": "code",
   "execution_count": 157,
   "metadata": {},
   "outputs": [
    {
     "name": "stdout",
     "output_type": "stream",
     "text": [
      "You can not divide a number by zero! division by zero\n",
      "ok,Bey\n"
     ]
    }
   ],
   "source": [
    "a=5\n",
    "b=0\n",
    "\n",
    "try:\n",
    "    print(a/b)\n",
    "except Exception as e:\n",
    "    print('You can not divide a number by zero!',e)\n",
    "print('ok,Bey')"
   ]
  },
  {
   "cell_type": "code",
   "execution_count": 158,
   "metadata": {},
   "outputs": [
    {
     "name": "stdout",
     "output_type": "stream",
     "text": [
      "Resourse open.\n",
      "You can not divide a number by zero! division by zero\n",
      "ok,Bey\n"
     ]
    }
   ],
   "source": [
    "a=5\n",
    "b=0\n",
    "\n",
    "try:\n",
    "    print(\"Resourse open.\")\n",
    "    print(a/b)\n",
    "    print(\"Resourse close.\")\n",
    "except Exception as e:\n",
    "    print('You can not divide a number by zero!',e)\n",
    "print('ok,Bey')"
   ]
  },
  {
   "cell_type": "code",
   "execution_count": 159,
   "metadata": {},
   "outputs": [
    {
     "name": "stdout",
     "output_type": "stream",
     "text": [
      "Resourse open.\n",
      "2.5\n",
      "Resourse close.\n",
      "ok,Bey\n"
     ]
    }
   ],
   "source": [
    "a=5\n",
    "b=2\n",
    "\n",
    "try:\n",
    "    print(\"Resourse open.\")\n",
    "    print(a/b)\n",
    "    print(\"Resourse close.\")\n",
    "except Exception as e:\n",
    "    print('You can not divide a number by zero!',e)\n",
    "print('ok,Bey')"
   ]
  },
  {
   "cell_type": "code",
   "execution_count": 160,
   "metadata": {},
   "outputs": [
    {
     "name": "stdout",
     "output_type": "stream",
     "text": [
      "Resourse open.\n",
      "You can not divide a number by zero! division by zero\n",
      "Resourse close.\n",
      "ok,Bey\n"
     ]
    }
   ],
   "source": [
    "a=5\n",
    "b=0\n",
    "\n",
    "try:\n",
    "    print(\"Resourse open.\")\n",
    "    print(a/b)\n",
    "    \n",
    "except Exception as e:\n",
    "    print('You can not divide a number by zero!',e)\n",
    "\n",
    "finally:\n",
    "    print(\"Resourse close.\")\n",
    "    \n",
    "print('ok,Bey')"
   ]
  },
  {
   "cell_type": "code",
   "execution_count": 161,
   "metadata": {},
   "outputs": [
    {
     "name": "stdout",
     "output_type": "stream",
     "text": [
      "Resourse open.\n",
      "2.5\n",
      "Resourse close.\n",
      "ok,Bey\n"
     ]
    }
   ],
   "source": [
    "a=5\n",
    "b=2\n",
    "\n",
    "try:\n",
    "    print(\"Resourse open.\")\n",
    "    print(a/b)\n",
    "    \n",
    "except Exception as e:\n",
    "    print('You can not divide a number by zero!',e)\n",
    "\n",
    "finally:\n",
    "    print(\"Resourse close.\")\n",
    "    \n",
    "print('ok,Bey')"
   ]
  },
  {
   "cell_type": "code",
   "execution_count": 162,
   "metadata": {},
   "outputs": [
    {
     "name": "stdout",
     "output_type": "stream",
     "text": [
      "Resourse open.\n",
      "2.5\n",
      "Enter any number:2.5\n",
      "You can not divide a number by zero! invalid literal for int() with base 10: '2.5'\n",
      "Resourse close.\n",
      "ok,Bey\n"
     ]
    }
   ],
   "source": [
    "a=5\n",
    "b=2\n",
    "\n",
    "try:\n",
    "    print(\"Resourse open.\")\n",
    "    print(a/b)\n",
    "    \n",
    "    n=int(input(\"Enter any number:\"))\n",
    "    \n",
    "except Exception as e:\n",
    "    print('You can not divide a number by zero!',e)\n",
    "\n",
    "finally:\n",
    "    print(\"Resourse close.\")\n",
    "    \n",
    "print('ok,Bey')"
   ]
  },
  {
   "cell_type": "code",
   "execution_count": 163,
   "metadata": {},
   "outputs": [
    {
     "name": "stdout",
     "output_type": "stream",
     "text": [
      "Resourse open.\n",
      "2.5\n",
      "Enter any number:xyz\n",
      "You can not divide a number by zero! invalid literal for int() with base 10: 'xyz'\n",
      "Resourse close.\n",
      "ok,Bey\n"
     ]
    }
   ],
   "source": [
    "a=5\n",
    "b=2\n",
    "\n",
    "try:\n",
    "    print(\"Resourse open.\")\n",
    "    print(a/b)\n",
    "    \n",
    "    n=int(input(\"Enter any number:\"))\n",
    "    \n",
    "except Exception as e:\n",
    "    print('You can not divide a number by zero!',e)\n",
    "\n",
    "finally:\n",
    "    print(\"Resourse close.\")\n",
    "    \n",
    "print('ok,Bey')"
   ]
  },
  {
   "cell_type": "code",
   "execution_count": 164,
   "metadata": {},
   "outputs": [
    {
     "name": "stdout",
     "output_type": "stream",
     "text": [
      "Resourse open.\n",
      "2.5\n",
      "Enter any number:xyz\n",
      "Sometimes\n",
      "Resourse close.\n",
      "ok,Bey\n"
     ]
    }
   ],
   "source": [
    "a = 5\n",
    "b = 2\n",
    "\n",
    "try:\n",
    "    print(\"Resourse open.\")\n",
    "    print(a / b)\n",
    "\n",
    "    n = int(input(\"Enter any number:\"))\n",
    "\n",
    "except ZeroDivisionError:\n",
    "    print('You can not divide a number by zero!')\n",
    "\n",
    "except ValueError:\n",
    "    print(\"Sometimes\")\n",
    "\n",
    "finally:\n",
    "    print(\"Resourse close.\")\n",
    "\n",
    "print('ok,Bey')"
   ]
  },
  {
   "cell_type": "code",
   "execution_count": 165,
   "metadata": {},
   "outputs": [
    {
     "name": "stdout",
     "output_type": "stream",
     "text": [
      "Resourse open.\n",
      "You can not divide a number by zero!\n",
      "Resourse close.\n",
      "ok,Bey\n"
     ]
    }
   ],
   "source": [
    "a = 5\n",
    "b = 0\n",
    "\n",
    "try:\n",
    "    print(\"Resourse open.\")\n",
    "    print(a / b)\n",
    "\n",
    "    n = int(input(\"Enter any number:\"))\n",
    "\n",
    "except ZeroDivisionError:\n",
    "    print('You can not divide a number by zero!')\n",
    "\n",
    "except ValueError:\n",
    "    print(\"Sometimes\")\n",
    "\n",
    "finally:\n",
    "    print(\"Resourse close.\")\n",
    "\n",
    "print('ok,Bey')"
   ]
  },
  {
   "cell_type": "code",
   "execution_count": 166,
   "metadata": {},
   "outputs": [
    {
     "name": "stdout",
     "output_type": "stream",
     "text": [
      "Resourse open.\n",
      "2.5\n",
      "Enter any number:xyz\n",
      "You can not divide a number by zero!\n",
      "Sometimes\n",
      "Resourse close.\n",
      "ok,Bey\n"
     ]
    }
   ],
   "source": [
    "a = 5\n",
    "b = 2\n",
    "\n",
    "try:\n",
    "    print(\"Resourse open.\")\n",
    "    print(a / b)\n",
    "\n",
    "    n = int(input(\"Enter any number:\"))\n",
    "\n",
    "except (ZeroDivisionError,ValueError):\n",
    "    print('You can not divide a number by zero!')\n",
    "    print(\"Sometimes\")\n",
    "\n",
    "finally:\n",
    "    print(\"Resourse close.\")\n",
    "\n",
    "print('ok,Bey')"
   ]
  },
  {
   "cell_type": "markdown",
   "metadata": {},
   "source": [
    "# Assertions in Python | Python Assert Statement | Python Assert Keyword"
   ]
  },
  {
   "cell_type": "code",
   "execution_count": 167,
   "metadata": {},
   "outputs": [
    {
     "name": "stdout",
     "output_type": "stream",
     "text": [
      "My salary is  500\n"
     ]
    }
   ],
   "source": [
    "def salary(n):\n",
    "    print(\"My salary is \",n)\n",
    "salary(500)"
   ]
  },
  {
   "cell_type": "code",
   "execution_count": 168,
   "metadata": {},
   "outputs": [
    {
     "ename": "AssertionError",
     "evalue": "Salary cannot less then zero",
     "output_type": "error",
     "traceback": [
      "\u001b[1;31m---------------------------------------------------------------------------\u001b[0m",
      "\u001b[1;31mAssertionError\u001b[0m                            Traceback (most recent call last)",
      "\u001b[1;32m<ipython-input-168-c9185c733655>\u001b[0m in \u001b[0;36m<module>\u001b[1;34m\u001b[0m\n\u001b[0;32m      3\u001b[0m     \u001b[1;32massert\u001b[0m \u001b[0mn\u001b[0m\u001b[1;33m>\u001b[0m\u001b[1;36m0\u001b[0m\u001b[1;33m,\u001b[0m \u001b[1;34m'Salary cannot less then zero'\u001b[0m\u001b[1;33m\u001b[0m\u001b[1;33m\u001b[0m\u001b[0m\n\u001b[0;32m      4\u001b[0m     \u001b[0mprint\u001b[0m\u001b[1;33m(\u001b[0m\u001b[1;34m\"My salary is \"\u001b[0m\u001b[1;33m,\u001b[0m\u001b[0mn\u001b[0m\u001b[1;33m)\u001b[0m\u001b[1;33m\u001b[0m\u001b[1;33m\u001b[0m\u001b[0m\n\u001b[1;32m----> 5\u001b[1;33m \u001b[0msalary\u001b[0m\u001b[1;33m(\u001b[0m\u001b[1;33m-\u001b[0m\u001b[1;36m500\u001b[0m\u001b[1;33m)\u001b[0m\u001b[1;33m\u001b[0m\u001b[1;33m\u001b[0m\u001b[0m\n\u001b[0m",
      "\u001b[1;32m<ipython-input-168-c9185c733655>\u001b[0m in \u001b[0;36msalary\u001b[1;34m(n)\u001b[0m\n\u001b[0;32m      1\u001b[0m \u001b[1;32mdef\u001b[0m \u001b[0msalary\u001b[0m\u001b[1;33m(\u001b[0m\u001b[0mn\u001b[0m\u001b[1;33m)\u001b[0m\u001b[1;33m:\u001b[0m\u001b[1;33m\u001b[0m\u001b[1;33m\u001b[0m\u001b[0m\n\u001b[0;32m      2\u001b[0m     \u001b[1;31m#assert  <condition>,'message'\u001b[0m\u001b[1;33m\u001b[0m\u001b[1;33m\u001b[0m\u001b[1;33m\u001b[0m\u001b[0m\n\u001b[1;32m----> 3\u001b[1;33m     \u001b[1;32massert\u001b[0m \u001b[0mn\u001b[0m\u001b[1;33m>\u001b[0m\u001b[1;36m0\u001b[0m\u001b[1;33m,\u001b[0m \u001b[1;34m'Salary cannot less then zero'\u001b[0m\u001b[1;33m\u001b[0m\u001b[1;33m\u001b[0m\u001b[0m\n\u001b[0m\u001b[0;32m      4\u001b[0m     \u001b[0mprint\u001b[0m\u001b[1;33m(\u001b[0m\u001b[1;34m\"My salary is \"\u001b[0m\u001b[1;33m,\u001b[0m\u001b[0mn\u001b[0m\u001b[1;33m)\u001b[0m\u001b[1;33m\u001b[0m\u001b[1;33m\u001b[0m\u001b[0m\n\u001b[0;32m      5\u001b[0m \u001b[0msalary\u001b[0m\u001b[1;33m(\u001b[0m\u001b[1;33m-\u001b[0m\u001b[1;36m500\u001b[0m\u001b[1;33m)\u001b[0m\u001b[1;33m\u001b[0m\u001b[1;33m\u001b[0m\u001b[0m\n",
      "\u001b[1;31mAssertionError\u001b[0m: Salary cannot less then zero"
     ]
    }
   ],
   "source": [
    "def salary(n):\n",
    "    #assert  <condition>,'message'\n",
    "    assert n>0, 'Salary cannot less then zero'\n",
    "    print(\"My salary is \",n)\n",
    "salary(-500)"
   ]
  },
  {
   "cell_type": "code",
   "execution_count": 169,
   "metadata": {},
   "outputs": [
    {
     "name": "stdout",
     "output_type": "stream",
     "text": [
      "My salary is  500\n"
     ]
    }
   ],
   "source": [
    "def salary(n):\n",
    "    #assert  <condition>,'message'\n",
    "    assert n>0, 'Salary cannot less then zero'\n",
    "    print(\"My salary is \",n)\n",
    "salary(500)"
   ]
  },
  {
   "cell_type": "markdown",
   "metadata": {},
   "source": [
    "# How to Use Mathematical Functions in Python"
   ]
  },
  {
   "cell_type": "code",
   "execution_count": 170,
   "metadata": {},
   "outputs": [
    {
     "name": "stdout",
     "output_type": "stream",
     "text": [
      "422825.0625\n"
     ]
    }
   ],
   "source": [
    "x=25.5\n",
    "print(x**4)"
   ]
  },
  {
   "cell_type": "code",
   "execution_count": 171,
   "metadata": {},
   "outputs": [
    {
     "name": "stdout",
     "output_type": "stream",
     "text": [
      "422825.0625\n"
     ]
    }
   ],
   "source": [
    "import math\n",
    "print(math.pow(x,4))"
   ]
  },
  {
   "cell_type": "code",
   "execution_count": 172,
   "metadata": {},
   "outputs": [
    {
     "name": "stdout",
     "output_type": "stream",
     "text": [
      "5.049752469181039\n"
     ]
    }
   ],
   "source": [
    "print(math.sqrt(x))"
   ]
  },
  {
   "cell_type": "code",
   "execution_count": 173,
   "metadata": {},
   "outputs": [
    {
     "name": "stdout",
     "output_type": "stream",
     "text": [
      "3.141592653589793\n"
     ]
    }
   ],
   "source": [
    "print(math.pi)"
   ]
  },
  {
   "cell_type": "code",
   "execution_count": 174,
   "metadata": {},
   "outputs": [
    {
     "name": "stdout",
     "output_type": "stream",
     "text": [
      "2.718281828459045\n"
     ]
    }
   ],
   "source": [
    "print(math.e)"
   ]
  },
  {
   "cell_type": "code",
   "execution_count": 175,
   "metadata": {},
   "outputs": [
    {
     "name": "stdout",
     "output_type": "stream",
     "text": [
      "15511210043330985984000000\n"
     ]
    }
   ],
   "source": [
    "x=25\n",
    "print(math.factorial(x))"
   ]
  },
  {
   "cell_type": "code",
   "execution_count": 176,
   "metadata": {},
   "outputs": [
    {
     "name": "stdout",
     "output_type": "stream",
     "text": [
      "1.0\n"
     ]
    }
   ],
   "source": [
    "print(math.remainder(x,2))"
   ]
  },
  {
   "cell_type": "code",
   "execution_count": 177,
   "metadata": {},
   "outputs": [
    {
     "name": "stdout",
     "output_type": "stream",
     "text": [
      "6.283185307179586\n"
     ]
    }
   ],
   "source": [
    "print(math.tau)"
   ]
  },
  {
   "cell_type": "code",
   "execution_count": 178,
   "metadata": {},
   "outputs": [
    {
     "name": "stdout",
     "output_type": "stream",
     "text": [
      "inf\n"
     ]
    }
   ],
   "source": [
    "print(math.inf)"
   ]
  },
  {
   "cell_type": "code",
   "execution_count": 179,
   "metadata": {},
   "outputs": [
    {
     "name": "stdout",
     "output_type": "stream",
     "text": [
      "nan\n"
     ]
    }
   ],
   "source": [
    "print(math.nan)"
   ]
  },
  {
   "cell_type": "code",
   "execution_count": 180,
   "metadata": {},
   "outputs": [
    {
     "name": "stdout",
     "output_type": "stream",
     "text": [
      "26\n"
     ]
    }
   ],
   "source": [
    "x=25.5\n",
    "print(math.ceil(x))"
   ]
  },
  {
   "cell_type": "code",
   "execution_count": 181,
   "metadata": {},
   "outputs": [
    {
     "name": "stdout",
     "output_type": "stream",
     "text": [
      "25\n"
     ]
    }
   ],
   "source": [
    "print(math.floor(x))"
   ]
  },
  {
   "cell_type": "code",
   "execution_count": 182,
   "metadata": {},
   "outputs": [
    {
     "name": "stdout",
     "output_type": "stream",
     "text": [
      "1466.7719555349076\n"
     ]
    }
   ],
   "source": [
    "import math as m\n",
    "\n",
    "x=25.6\n",
    "\n",
    "print(m.degrees(x))"
   ]
  },
  {
   "cell_type": "code",
   "execution_count": 183,
   "metadata": {},
   "outputs": [
    {
     "name": "stdout",
     "output_type": "stream",
     "text": [
      "1466.7719555349076\n"
     ]
    }
   ],
   "source": [
    "print(math.degrees(x))#radious to degree"
   ]
  },
  {
   "cell_type": "code",
   "execution_count": 184,
   "metadata": {},
   "outputs": [
    {
     "name": "stdout",
     "output_type": "stream",
     "text": [
      "0.4468042885105484\n"
     ]
    }
   ],
   "source": [
    "print(math.radians(x))#degree to radians"
   ]
  },
  {
   "cell_type": "code",
   "execution_count": 185,
   "metadata": {},
   "outputs": [
    {
     "name": "stdout",
     "output_type": "stream",
     "text": [
      "3.9361207836781484\n"
     ]
    }
   ],
   "source": [
    "#heyperbolic function\n",
    "print(m.asinh(x))"
   ]
  },
  {
   "cell_type": "code",
   "execution_count": 186,
   "metadata": {},
   "outputs": [
    {
     "name": "stdout",
     "output_type": "stream",
     "text": [
      "3.9353578438549484\n"
     ]
    }
   ],
   "source": [
    "print(m.acosh(x))"
   ]
  },
  {
   "cell_type": "code",
   "execution_count": 187,
   "metadata": {},
   "outputs": [
    {
     "name": "stdout",
     "output_type": "stream",
     "text": [
      "3.9361207836781484\n"
     ]
    }
   ],
   "source": [
    "print(m.asinh(x))"
   ]
  },
  {
   "cell_type": "code",
   "execution_count": 188,
   "metadata": {},
   "outputs": [
    {
     "name": "stdout",
     "output_type": "stream",
     "text": [
      "0.4504405942753893\n"
     ]
    }
   ],
   "source": [
    "print(m.sin(x))"
   ]
  },
  {
   "cell_type": "code",
   "execution_count": 189,
   "metadata": {},
   "outputs": [
    {
     "name": "stdout",
     "output_type": "stream",
     "text": [
      "0.8928064017629097\n"
     ]
    }
   ],
   "source": [
    "print(m.cos(x))"
   ]
  },
  {
   "cell_type": "code",
   "execution_count": 190,
   "metadata": {},
   "outputs": [
    {
     "name": "stdout",
     "output_type": "stream",
     "text": [
      "Help on built-in module math:\n",
      "\n",
      "NAME\n",
      "    math\n",
      "\n",
      "DESCRIPTION\n",
      "    This module provides access to the mathematical functions\n",
      "    defined by the C standard.\n",
      "\n",
      "FUNCTIONS\n",
      "    acos(x, /)\n",
      "        Return the arc cosine (measured in radians) of x.\n",
      "    \n",
      "    acosh(x, /)\n",
      "        Return the inverse hyperbolic cosine of x.\n",
      "    \n",
      "    asin(x, /)\n",
      "        Return the arc sine (measured in radians) of x.\n",
      "    \n",
      "    asinh(x, /)\n",
      "        Return the inverse hyperbolic sine of x.\n",
      "    \n",
      "    atan(x, /)\n",
      "        Return the arc tangent (measured in radians) of x.\n",
      "    \n",
      "    atan2(y, x, /)\n",
      "        Return the arc tangent (measured in radians) of y/x.\n",
      "        \n",
      "        Unlike atan(y/x), the signs of both x and y are considered.\n",
      "    \n",
      "    atanh(x, /)\n",
      "        Return the inverse hyperbolic tangent of x.\n",
      "    \n",
      "    ceil(x, /)\n",
      "        Return the ceiling of x as an Integral.\n",
      "        \n",
      "        This is the smallest integer >= x.\n",
      "    \n",
      "    comb(n, k, /)\n",
      "        Number of ways to choose k items from n items without repetition and without order.\n",
      "        \n",
      "        Evaluates to n! / (k! * (n - k)!) when k <= n and evaluates\n",
      "        to zero when k > n.\n",
      "        \n",
      "        Also called the binomial coefficient because it is equivalent\n",
      "        to the coefficient of k-th term in polynomial expansion of the\n",
      "        expression (1 + x)**n.\n",
      "        \n",
      "        Raises TypeError if either of the arguments are not integers.\n",
      "        Raises ValueError if either of the arguments are negative.\n",
      "    \n",
      "    copysign(x, y, /)\n",
      "        Return a float with the magnitude (absolute value) of x but the sign of y.\n",
      "        \n",
      "        On platforms that support signed zeros, copysign(1.0, -0.0)\n",
      "        returns -1.0.\n",
      "    \n",
      "    cos(x, /)\n",
      "        Return the cosine of x (measured in radians).\n",
      "    \n",
      "    cosh(x, /)\n",
      "        Return the hyperbolic cosine of x.\n",
      "    \n",
      "    degrees(x, /)\n",
      "        Convert angle x from radians to degrees.\n",
      "    \n",
      "    dist(p, q, /)\n",
      "        Return the Euclidean distance between two points p and q.\n",
      "        \n",
      "        The points should be specified as sequences (or iterables) of\n",
      "        coordinates.  Both inputs must have the same dimension.\n",
      "        \n",
      "        Roughly equivalent to:\n",
      "            sqrt(sum((px - qx) ** 2.0 for px, qx in zip(p, q)))\n",
      "    \n",
      "    erf(x, /)\n",
      "        Error function at x.\n",
      "    \n",
      "    erfc(x, /)\n",
      "        Complementary error function at x.\n",
      "    \n",
      "    exp(x, /)\n",
      "        Return e raised to the power of x.\n",
      "    \n",
      "    expm1(x, /)\n",
      "        Return exp(x)-1.\n",
      "        \n",
      "        This function avoids the loss of precision involved in the direct evaluation of exp(x)-1 for small x.\n",
      "    \n",
      "    fabs(x, /)\n",
      "        Return the absolute value of the float x.\n",
      "    \n",
      "    factorial(x, /)\n",
      "        Find x!.\n",
      "        \n",
      "        Raise a ValueError if x is negative or non-integral.\n",
      "    \n",
      "    floor(x, /)\n",
      "        Return the floor of x as an Integral.\n",
      "        \n",
      "        This is the largest integer <= x.\n",
      "    \n",
      "    fmod(x, y, /)\n",
      "        Return fmod(x, y), according to platform C.\n",
      "        \n",
      "        x % y may differ.\n",
      "    \n",
      "    frexp(x, /)\n",
      "        Return the mantissa and exponent of x, as pair (m, e).\n",
      "        \n",
      "        m is a float and e is an int, such that x = m * 2.**e.\n",
      "        If x is 0, m and e are both 0.  Else 0.5 <= abs(m) < 1.0.\n",
      "    \n",
      "    fsum(seq, /)\n",
      "        Return an accurate floating point sum of values in the iterable seq.\n",
      "        \n",
      "        Assumes IEEE-754 floating point arithmetic.\n",
      "    \n",
      "    gamma(x, /)\n",
      "        Gamma function at x.\n",
      "    \n",
      "    gcd(x, y, /)\n",
      "        greatest common divisor of x and y\n",
      "    \n",
      "    hypot(...)\n",
      "        hypot(*coordinates) -> value\n",
      "        \n",
      "        Multidimensional Euclidean distance from the origin to a point.\n",
      "        \n",
      "        Roughly equivalent to:\n",
      "            sqrt(sum(x**2 for x in coordinates))\n",
      "        \n",
      "        For a two dimensional point (x, y), gives the hypotenuse\n",
      "        using the Pythagorean theorem:  sqrt(x*x + y*y).\n",
      "        \n",
      "        For example, the hypotenuse of a 3/4/5 right triangle is:\n",
      "        \n",
      "            >>> hypot(3.0, 4.0)\n",
      "            5.0\n",
      "    \n",
      "    isclose(a, b, *, rel_tol=1e-09, abs_tol=0.0)\n",
      "        Determine whether two floating point numbers are close in value.\n",
      "        \n",
      "          rel_tol\n",
      "            maximum difference for being considered \"close\", relative to the\n",
      "            magnitude of the input values\n",
      "          abs_tol\n",
      "            maximum difference for being considered \"close\", regardless of the\n",
      "            magnitude of the input values\n",
      "        \n",
      "        Return True if a is close in value to b, and False otherwise.\n",
      "        \n",
      "        For the values to be considered close, the difference between them\n",
      "        must be smaller than at least one of the tolerances.\n",
      "        \n",
      "        -inf, inf and NaN behave similarly to the IEEE 754 Standard.  That\n",
      "        is, NaN is not close to anything, even itself.  inf and -inf are\n",
      "        only close to themselves.\n",
      "    \n",
      "    isfinite(x, /)\n",
      "        Return True if x is neither an infinity nor a NaN, and False otherwise.\n",
      "    \n",
      "    isinf(x, /)\n",
      "        Return True if x is a positive or negative infinity, and False otherwise.\n",
      "    \n",
      "    isnan(x, /)\n",
      "        Return True if x is a NaN (not a number), and False otherwise.\n",
      "    \n",
      "    isqrt(n, /)\n",
      "        Return the integer part of the square root of the input.\n",
      "    \n",
      "    ldexp(x, i, /)\n",
      "        Return x * (2**i).\n",
      "        \n",
      "        This is essentially the inverse of frexp().\n",
      "    \n",
      "    lgamma(x, /)\n",
      "        Natural logarithm of absolute value of Gamma function at x.\n",
      "    \n",
      "    log(...)\n",
      "        log(x, [base=math.e])\n",
      "        Return the logarithm of x to the given base.\n",
      "        \n",
      "        If the base not specified, returns the natural logarithm (base e) of x.\n",
      "    \n",
      "    log10(x, /)\n",
      "        Return the base 10 logarithm of x.\n",
      "    \n",
      "    log1p(x, /)\n",
      "        Return the natural logarithm of 1+x (base e).\n",
      "        \n",
      "        The result is computed in a way which is accurate for x near zero.\n",
      "    \n",
      "    log2(x, /)\n",
      "        Return the base 2 logarithm of x.\n",
      "    \n",
      "    modf(x, /)\n",
      "        Return the fractional and integer parts of x.\n",
      "        \n",
      "        Both results carry the sign of x and are floats.\n",
      "    \n",
      "    perm(n, k=None, /)\n",
      "        Number of ways to choose k items from n items without repetition and with order.\n",
      "        \n",
      "        Evaluates to n! / (n - k)! when k <= n and evaluates\n",
      "        to zero when k > n.\n",
      "        \n",
      "        If k is not specified or is None, then k defaults to n\n",
      "        and the function returns n!.\n",
      "        \n",
      "        Raises TypeError if either of the arguments are not integers.\n",
      "        Raises ValueError if either of the arguments are negative.\n",
      "    \n",
      "    pow(x, y, /)\n",
      "        Return x**y (x to the power of y).\n",
      "    \n",
      "    prod(iterable, /, *, start=1)\n",
      "        Calculate the product of all the elements in the input iterable.\n",
      "        \n",
      "        The default start value for the product is 1.\n",
      "        \n",
      "        When the iterable is empty, return the start value.  This function is\n",
      "        intended specifically for use with numeric values and may reject\n",
      "        non-numeric types.\n",
      "    \n",
      "    radians(x, /)\n",
      "        Convert angle x from degrees to radians.\n",
      "    \n",
      "    remainder(x, y, /)\n",
      "        Difference between x and the closest integer multiple of y.\n",
      "        \n",
      "        Return x - n*y where n*y is the closest integer multiple of y.\n",
      "        In the case where x is exactly halfway between two multiples of\n",
      "        y, the nearest even value of n is used. The result is always exact.\n",
      "    \n",
      "    sin(x, /)\n",
      "        Return the sine of x (measured in radians).\n",
      "    \n",
      "    sinh(x, /)\n",
      "        Return the hyperbolic sine of x.\n",
      "    \n",
      "    sqrt(x, /)\n",
      "        Return the square root of x.\n",
      "    \n",
      "    tan(x, /)\n",
      "        Return the tangent of x (measured in radians).\n",
      "    \n",
      "    tanh(x, /)\n",
      "        Return the hyperbolic tangent of x.\n",
      "    \n",
      "    trunc(x, /)\n",
      "        Truncates the Real x to the nearest Integral toward 0.\n",
      "        \n",
      "        Uses the __trunc__ magic method.\n",
      "\n",
      "DATA\n",
      "    e = 2.718281828459045\n",
      "    inf = inf\n",
      "    nan = nan\n",
      "    pi = 3.141592653589793\n",
      "    tau = 6.283185307179586\n",
      "\n",
      "FILE\n",
      "    (built-in)\n",
      "\n",
      "\n"
     ]
    }
   ],
   "source": [
    "help(math)"
   ]
  },
  {
   "cell_type": "markdown",
   "metadata": {},
   "source": [
    "# Introduction to For Loop & Range Function in Python"
   ]
  },
  {
   "cell_type": "code",
   "execution_count": 191,
   "metadata": {},
   "outputs": [
    {
     "name": "stdout",
     "output_type": "stream",
     "text": [
      "CSE\n",
      "EEE\n",
      "ME\n",
      "ChE\n",
      "Civil\n"
     ]
    }
   ],
   "source": [
    "a=['CSE','EEE','ME','ChE','Civil']\n",
    "print(a[0])\n",
    "print(a[1])\n",
    "print(a[2])\n",
    "print(a[3])\n",
    "print(a[4])"
   ]
  },
  {
   "cell_type": "code",
   "execution_count": 192,
   "metadata": {},
   "outputs": [
    {
     "name": "stdout",
     "output_type": "stream",
     "text": [
      "CSE\n",
      "EEE\n",
      "ME\n",
      "ChE\n",
      "Civil\n"
     ]
    }
   ],
   "source": [
    "for i in a:\n",
    "    print(i)"
   ]
  },
  {
   "cell_type": "code",
   "execution_count": 193,
   "metadata": {},
   "outputs": [
    {
     "name": "stdout",
     "output_type": "stream",
     "text": [
      "150\n"
     ]
    }
   ],
   "source": [
    "b=[10,20,30,40,50]\n",
    "total=0\n",
    "\n",
    "for i in b:\n",
    "    total+=i\n",
    "print(total)"
   ]
  },
  {
   "cell_type": "code",
   "execution_count": 194,
   "metadata": {},
   "outputs": [
    {
     "ename": "TypeError",
     "evalue": "'list' object is not callable",
     "output_type": "error",
     "traceback": [
      "\u001b[1;31m---------------------------------------------------------------------------\u001b[0m",
      "\u001b[1;31mTypeError\u001b[0m                                 Traceback (most recent call last)",
      "\u001b[1;32m<ipython-input-194-95c10d3f98d0>\u001b[0m in \u001b[0;36m<module>\u001b[1;34m\u001b[0m\n\u001b[1;32m----> 1\u001b[1;33m \u001b[0mc\u001b[0m\u001b[1;33m=\u001b[0m\u001b[0mlist\u001b[0m\u001b[1;33m(\u001b[0m\u001b[0mrange\u001b[0m\u001b[1;33m(\u001b[0m\u001b[1;36m1\u001b[0m\u001b[1;33m,\u001b[0m\u001b[1;36m11\u001b[0m\u001b[1;33m)\u001b[0m\u001b[1;33m)\u001b[0m\u001b[1;33m\u001b[0m\u001b[1;33m\u001b[0m\u001b[0m\n\u001b[0m\u001b[0;32m      2\u001b[0m \u001b[0mprint\u001b[0m\u001b[1;33m(\u001b[0m\u001b[0mc\u001b[0m\u001b[1;33m)\u001b[0m\u001b[1;33m\u001b[0m\u001b[1;33m\u001b[0m\u001b[0m\n",
      "\u001b[1;31mTypeError\u001b[0m: 'list' object is not callable"
     ]
    }
   ],
   "source": [
    "c=list(range(1,11))\n",
    "print(c)"
   ]
  },
  {
   "cell_type": "code",
   "execution_count": 195,
   "metadata": {},
   "outputs": [
    {
     "name": "stdout",
     "output_type": "stream",
     "text": [
      "{1, 2, 3, 4, 5, 6, 7, 8, 9, 10}\n"
     ]
    }
   ],
   "source": [
    "c=set(range(1,11))\n",
    "print(c)"
   ]
  },
  {
   "cell_type": "code",
   "execution_count": 196,
   "metadata": {},
   "outputs": [
    {
     "name": "stdout",
     "output_type": "stream",
     "text": [
      "(1, 2, 3, 4, 5, 6, 7, 8, 9, 10)\n"
     ]
    }
   ],
   "source": [
    "c=tuple(range(1,11))\n",
    "print(c)"
   ]
  },
  {
   "cell_type": "code",
   "execution_count": 197,
   "metadata": {},
   "outputs": [
    {
     "name": "stdout",
     "output_type": "stream",
     "text": [
      "55\n"
     ]
    }
   ],
   "source": [
    "total=0\n",
    "\n",
    "for i in range(1,11):\n",
    "    total+=i\n",
    "print(total)"
   ]
  },
  {
   "cell_type": "code",
   "execution_count": 198,
   "metadata": {},
   "outputs": [
    {
     "name": "stdout",
     "output_type": "stream",
     "text": [
      "30\n"
     ]
    }
   ],
   "source": [
    "total=0\n",
    "\n",
    "for i in range(1,11):\n",
    "    if(i%2)==0:\n",
    "        total+=i\n",
    "print(total)"
   ]
  },
  {
   "cell_type": "markdown",
   "metadata": {},
   "source": [
    "# Find Prime Numbers in Python"
   ]
  },
  {
   "cell_type": "code",
   "execution_count": 199,
   "metadata": {},
   "outputs": [
    {
     "name": "stdout",
     "output_type": "stream",
     "text": [
      "Enter any number:4\n",
      "Not a prime number.\n"
     ]
    }
   ],
   "source": [
    "num=int(input(\"Enter any number:\"))\n",
    "\n",
    "for i in range(2,num):\n",
    "    if num%i==0:\n",
    "        print('Not a prime number.')\n",
    "        break;\n",
    "else:\n",
    "    print('Oh! its a prime number.')"
   ]
  },
  {
   "cell_type": "markdown",
   "metadata": {},
   "source": [
    "# Break Statement in Python"
   ]
  },
  {
   "cell_type": "code",
   "execution_count": 200,
   "metadata": {},
   "outputs": [
    {
     "name": "stdout",
     "output_type": "stream",
     "text": [
      "Enter any number:5\n",
      "iPhone 1\n",
      "iPhone 2\n",
      "iPhone 3\n",
      "iPhone 4\n",
      "iPhone 5\n",
      "Oh,Thank you,\n"
     ]
    }
   ],
   "source": [
    "n=int(input(\"Enter any number:\"))\n",
    "i=1\n",
    "while(i<=n):\n",
    "    print('iPhone',i)\n",
    "    i+=1\n",
    "print('Oh,Thank you,')"
   ]
  },
  {
   "cell_type": "code",
   "execution_count": 201,
   "metadata": {},
   "outputs": [
    {
     "name": "stdout",
     "output_type": "stream",
     "text": [
      "Enter any number:10\n",
      "iPhone 1\n",
      "iPhone 2\n",
      "iPhone 3\n",
      "iPhone 4\n",
      "iPhone 5\n",
      "Sorry! out of stack.\n",
      "Oh,Thank you,\n"
     ]
    }
   ],
   "source": [
    "n=int(input(\"Enter any number:\"))\n",
    "avilable=5\n",
    "i=1\n",
    "while(i<=n):\n",
    "    if i>avilable:\n",
    "        print('Sorry! out of stack.')\n",
    "        break;\n",
    "    print('iPhone',i)\n",
    "    i+=1\n",
    "print('Oh,Thank you,')"
   ]
  },
  {
   "cell_type": "markdown",
   "metadata": {},
   "source": [
    "# Fibonacci Sequence in Python"
   ]
  },
  {
   "cell_type": "code",
   "execution_count": 202,
   "metadata": {},
   "outputs": [
    {
     "name": "stdout",
     "output_type": "stream",
     "text": [
      "Enter any number:10\n",
      "0\n",
      "1\n",
      "1\n",
      "2\n",
      "3\n",
      "5\n",
      "8\n",
      "13\n",
      "21\n",
      "34\n"
     ]
    }
   ],
   "source": [
    "def fib(x):\n",
    "    a=0\n",
    "    b=1\n",
    "    print(a)\n",
    "    print(b)\n",
    "    \n",
    "    for i in range(2,x):\n",
    "        c=a+b\n",
    "        a=b\n",
    "        b=c\n",
    "        \n",
    "        print(c)\n",
    "        \n",
    "num=int(input('Enter any number:'))\n",
    "fib(num)"
   ]
  },
  {
   "cell_type": "markdown",
   "metadata": {},
   "source": [
    "# Factorial Number using Python"
   ]
  },
  {
   "cell_type": "code",
   "execution_count": 203,
   "metadata": {},
   "outputs": [
    {
     "name": "stdout",
     "output_type": "stream",
     "text": [
      "Enter any number:5\n",
      "120\n"
     ]
    }
   ],
   "source": [
    "num=int(input('Enter any number:'))\n",
    "result=1\n",
    "for i in range(1,num+1):\n",
    "    result=result*i\n",
    "print(result)"
   ]
  },
  {
   "cell_type": "code",
   "execution_count": 204,
   "metadata": {},
   "outputs": [
    {
     "name": "stdout",
     "output_type": "stream",
     "text": [
      "Enter any number:5\n",
      "120\n"
     ]
    }
   ],
   "source": [
    "import math\n",
    "num=int(input('Enter any number:'))\n",
    "print(math.factorial(num))"
   ]
  },
  {
   "cell_type": "markdown",
   "metadata": {},
   "source": [
    "# args in Python | Python Non-Keyword Arguments (args)"
   ]
  },
  {
   "cell_type": "code",
   "execution_count": 205,
   "metadata": {},
   "outputs": [
    {
     "name": "stdout",
     "output_type": "stream",
     "text": [
      "540\n"
     ]
    }
   ],
   "source": [
    "def my_mul(*num):\n",
    "    r=1\n",
    "    for i in num:\n",
    "        r*=i\n",
    "    print(r)\n",
    "my_mul(2,5,6,9)"
   ]
  },
  {
   "cell_type": "code",
   "execution_count": 206,
   "metadata": {},
   "outputs": [
    {
     "name": "stdout",
     "output_type": "stream",
     "text": [
      "270\n"
     ]
    }
   ],
   "source": [
    "def my_mul(num1,*num):\n",
    "    r=1\n",
    "    for i in num:\n",
    "        r*=i\n",
    "    print(r)\n",
    "my_mul(2,5,6,9)"
   ]
  },
  {
   "cell_type": "code",
   "execution_count": 207,
   "metadata": {},
   "outputs": [
    {
     "name": "stdout",
     "output_type": "stream",
     "text": [
      "('Hi', 'Welcome', 'to', 'study mart')\n",
      "('Hi', 'Welcome', 'to', 'study mart')\n",
      "('Hi', 'Welcome', 'to', 'study mart')\n",
      "('Hi', 'Welcome', 'to', 'study mart')\n",
      "First argument :  Hello\n",
      "Next arguments :  ('Welcome', 'to', 'study mart')\n",
      "Next arguments :  ('Welcome', 'to', 'study mart')\n",
      "Next arguments :  ('Welcome', 'to', 'study mart')\n"
     ]
    }
   ],
   "source": [
    "def my_func(*argv):\n",
    "    for i in argv:\n",
    "        print(argv)\n",
    "my_func('Hi','Welcome','to','study mart')\n",
    "\n",
    "def my_func(arg1,*x):\n",
    "    print(\"First argument : \",arg1);\n",
    "    \n",
    "    for i in x:\n",
    "        print('Next arguments : ',x)\n",
    "\n",
    "my_func('Hello','Welcome','to','study mart')"
   ]
  },
  {
   "cell_type": "markdown",
   "metadata": {},
   "source": [
    "# kwargs in Python | Keyword Argument | *Args vs KwArgs"
   ]
  },
  {
   "cell_type": "code",
   "execution_count": 208,
   "metadata": {},
   "outputs": [
    {
     "name": "stdout",
     "output_type": "stream",
     "text": [
      "22\n",
      "('Hamid Hosen', 'East Delta university', 'Bangladesh')\n"
     ]
    }
   ],
   "source": [
    "def myself(age,*others):\n",
    "    print(age)\n",
    "    print(others)\n",
    "myself(22,'Hamid Hosen','East Delta university','Bangladesh')"
   ]
  },
  {
   "cell_type": "code",
   "execution_count": 209,
   "metadata": {},
   "outputs": [
    {
     "ename": "TypeError",
     "evalue": "myself() got an unexpected keyword argument 'name'",
     "output_type": "error",
     "traceback": [
      "\u001b[1;31m---------------------------------------------------------------------------\u001b[0m",
      "\u001b[1;31mTypeError\u001b[0m                                 Traceback (most recent call last)",
      "\u001b[1;32m<ipython-input-209-39f08f6a0431>\u001b[0m in \u001b[0;36m<module>\u001b[1;34m\u001b[0m\n\u001b[0;32m      2\u001b[0m     \u001b[0mprint\u001b[0m\u001b[1;33m(\u001b[0m\u001b[0mage\u001b[0m\u001b[1;33m)\u001b[0m\u001b[1;33m\u001b[0m\u001b[1;33m\u001b[0m\u001b[0m\n\u001b[0;32m      3\u001b[0m     \u001b[0mprint\u001b[0m\u001b[1;33m(\u001b[0m\u001b[0mothers\u001b[0m\u001b[1;33m)\u001b[0m\u001b[1;33m\u001b[0m\u001b[1;33m\u001b[0m\u001b[0m\n\u001b[1;32m----> 4\u001b[1;33m \u001b[0mmyself\u001b[0m\u001b[1;33m(\u001b[0m\u001b[1;36m22\u001b[0m\u001b[1;33m,\u001b[0m\u001b[0mname\u001b[0m\u001b[1;33m=\u001b[0m\u001b[1;34m'Hamid Hosen'\u001b[0m\u001b[1;33m,\u001b[0m\u001b[0mversity\u001b[0m\u001b[1;33m=\u001b[0m\u001b[1;34m'East Delta university'\u001b[0m\u001b[1;33m,\u001b[0m\u001b[0mcountry\u001b[0m\u001b[1;33m=\u001b[0m\u001b[1;34m'Bangladesh'\u001b[0m\u001b[1;33m)\u001b[0m\u001b[1;33m\u001b[0m\u001b[1;33m\u001b[0m\u001b[0m\n\u001b[0m",
      "\u001b[1;31mTypeError\u001b[0m: myself() got an unexpected keyword argument 'name'"
     ]
    }
   ],
   "source": [
    "def myself(age,*others):\n",
    "    print(age)\n",
    "    print(others)\n",
    "myself(22,name='Hamid Hosen',versity='East Delta university',country='Bangladesh')"
   ]
  },
  {
   "cell_type": "code",
   "execution_count": 210,
   "metadata": {},
   "outputs": [
    {
     "name": "stdout",
     "output_type": "stream",
     "text": [
      "22\n",
      "{'name': 'Hamid Hosen', 'versity': 'East Delta university', 'country': 'Bangladesh'}\n"
     ]
    }
   ],
   "source": [
    "def myself(age,**others):\n",
    "    print(age)\n",
    "    print(others)\n",
    "myself(22,name='Hamid Hosen',versity='East Delta university',country='Bangladesh')"
   ]
  },
  {
   "cell_type": "code",
   "execution_count": 212,
   "metadata": {},
   "outputs": [
    {
     "name": "stdout",
     "output_type": "stream",
     "text": [
      "{'age': 22, 'name': 'Hamid Hosen', 'versity': 'East Delta university', 'country': 'Bangladesh'}\n"
     ]
    }
   ],
   "source": [
    "def myself(**others):\n",
    "    #print(age)\n",
    "    print(others)\n",
    "myself(age=22,name='Hamid Hosen',versity='East Delta university',country='Bangladesh')"
   ]
  },
  {
   "cell_type": "markdown",
   "metadata": {},
   "source": [
    "# What is Numpy? Python List vs Numpy Array"
   ]
  },
  {
   "cell_type": "markdown",
   "metadata": {},
   "source": [
    "NumPy is one of the most powerful Python libraries. This article will outline the core features of the NumPy library. It will also provide an overview of the common mathematical functions in an easy-to-follow manner. More details are given below: 1. NumPy is an open-source numerical Python library. 2. NumPy contains a multi-dimensional array and matrix data structures. 3. It can be utilized to perform a number of mathematical operations on arrays such as trigonometric, statistical and algebraic routines. 4. NumPy is an extension of Numeric and Numarray. 5. The library contains a large number of mathematical, algebraic and transformation functions. 6. It also contains random number generators. 7. NumPy is a wrapper around a library implemented in C. 8. Pandas objects rely heavily on NumPy objects. Pandas extend Numpy."
   ]
  },
  {
   "cell_type": "code",
   "execution_count": 213,
   "metadata": {},
   "outputs": [
    {
     "ename": "TypeError",
     "evalue": "can't multiply sequence by non-int of type 'list'",
     "output_type": "error",
     "traceback": [
      "\u001b[1;31m---------------------------------------------------------------------------\u001b[0m",
      "\u001b[1;31mTypeError\u001b[0m                                 Traceback (most recent call last)",
      "\u001b[1;32m<ipython-input-213-79f8d5ca7eb2>\u001b[0m in \u001b[0;36m<module>\u001b[1;34m\u001b[0m\n\u001b[0;32m      2\u001b[0m \u001b[0mlist2\u001b[0m\u001b[1;33m=\u001b[0m\u001b[1;33m[\u001b[0m\u001b[1;36m4\u001b[0m\u001b[1;33m,\u001b[0m\u001b[1;36m7\u001b[0m\u001b[1;33m,\u001b[0m\u001b[1;36m9\u001b[0m\u001b[1;33m,\u001b[0m\u001b[1;36m2\u001b[0m\u001b[1;33m]\u001b[0m\u001b[1;33m\u001b[0m\u001b[1;33m\u001b[0m\u001b[0m\n\u001b[0;32m      3\u001b[0m \u001b[1;33m\u001b[0m\u001b[0m\n\u001b[1;32m----> 4\u001b[1;33m \u001b[0mprint\u001b[0m\u001b[1;33m(\u001b[0m\u001b[0mlist1\u001b[0m\u001b[1;33m*\u001b[0m\u001b[0mlist2\u001b[0m\u001b[1;33m)\u001b[0m\u001b[1;33m\u001b[0m\u001b[1;33m\u001b[0m\u001b[0m\n\u001b[0m",
      "\u001b[1;31mTypeError\u001b[0m: can't multiply sequence by non-int of type 'list'"
     ]
    }
   ],
   "source": [
    "list1=[1,3,5,7]\n",
    "list2=[4,7,9,2]\n",
    "\n",
    "print(list1*list2)"
   ]
  },
  {
   "cell_type": "code",
   "execution_count": 214,
   "metadata": {},
   "outputs": [
    {
     "name": "stdout",
     "output_type": "stream",
     "text": [
      "27\n"
     ]
    }
   ],
   "source": [
    "list1=[1,3,5,7]\n",
    "list2=[4,7,9,2]\n",
    "\n",
    "print(list1[1]*list2[2])"
   ]
  },
  {
   "cell_type": "code",
   "execution_count": 215,
   "metadata": {},
   "outputs": [
    {
     "name": "stdout",
     "output_type": "stream",
     "text": [
      "[ 4 21 45 14]\n"
     ]
    }
   ],
   "source": [
    "import numpy as np\n",
    "\n",
    "list1=np.array([1,3,5,7])\n",
    "list2=np.array([4,7,9,2])\n",
    "\n",
    "print(list1*list2)"
   ]
  },
  {
   "cell_type": "markdown",
   "metadata": {},
   "source": [
    "# Multidimensional Arrays in Python || 2D & 3D Arrays"
   ]
  },
  {
   "cell_type": "code",
   "execution_count": 216,
   "metadata": {},
   "outputs": [
    {
     "name": "stdout",
     "output_type": "stream",
     "text": [
      "[[1 2 3 4 5 6]\n",
      " [4 5 6 7 8 9]]\n"
     ]
    }
   ],
   "source": [
    "import numpy as r\n",
    "x=r.array([\n",
    "    [1,2,3,4,5,6],\n",
    "    [4,5,6,7,8,9]\n",
    "])\n",
    "print(x)"
   ]
  },
  {
   "cell_type": "code",
   "execution_count": 217,
   "metadata": {},
   "outputs": [
    {
     "name": "stdout",
     "output_type": "stream",
     "text": [
      "[[1 2 3 4 5 6]\n",
      " [4 5 6 7 8 9]]\n"
     ]
    }
   ],
   "source": [
    "from numpy import*\n",
    "\n",
    "x=array([\n",
    "    [1,2,3,4,5,6],\n",
    "    [4,5,6,7,8,9]\n",
    "])\n",
    "print(x)"
   ]
  },
  {
   "cell_type": "code",
   "execution_count": 218,
   "metadata": {},
   "outputs": [
    {
     "name": "stdout",
     "output_type": "stream",
     "text": [
      "int32\n"
     ]
    }
   ],
   "source": [
    "print(x.dtype)"
   ]
  },
  {
   "cell_type": "code",
   "execution_count": 219,
   "metadata": {},
   "outputs": [
    {
     "name": "stdout",
     "output_type": "stream",
     "text": [
      "2\n"
     ]
    }
   ],
   "source": [
    "print(x.ndim)"
   ]
  },
  {
   "cell_type": "code",
   "execution_count": 220,
   "metadata": {},
   "outputs": [
    {
     "name": "stdout",
     "output_type": "stream",
     "text": [
      "(2, 6)\n"
     ]
    }
   ],
   "source": [
    "print(x.shape)"
   ]
  },
  {
   "cell_type": "code",
   "execution_count": 221,
   "metadata": {},
   "outputs": [
    {
     "name": "stdout",
     "output_type": "stream",
     "text": [
      "12\n"
     ]
    }
   ],
   "source": [
    "print(x.size)"
   ]
  },
  {
   "cell_type": "code",
   "execution_count": 222,
   "metadata": {},
   "outputs": [
    {
     "name": "stdout",
     "output_type": "stream",
     "text": [
      "[[1 2 3 4 5 6]\n",
      " [4 5 6 7 8 9]]\n",
      "[1 2 3 4 5 6 4 5 6 7 8 9]\n"
     ]
    }
   ],
   "source": [
    "from numpy import*\n",
    "\n",
    "x=array([\n",
    "    [1,2,3,4,5,6],\n",
    "    [4,5,6,7,8,9]\n",
    "])\n",
    "print(x)\n",
    "\n",
    "y=x.flatten()\n",
    "print(y)"
   ]
  },
  {
   "cell_type": "code",
   "execution_count": 223,
   "metadata": {},
   "outputs": [
    {
     "name": "stdout",
     "output_type": "stream",
     "text": [
      "[[1 2 3 4]\n",
      " [5 6 4 5]\n",
      " [6 7 8 9]]\n"
     ]
    }
   ],
   "source": [
    "z=y.reshape(3,4)\n",
    "print(z)"
   ]
  },
  {
   "cell_type": "code",
   "execution_count": 224,
   "metadata": {},
   "outputs": [
    {
     "name": "stdout",
     "output_type": "stream",
     "text": [
      "[[[1 2]\n",
      "  [3 4]\n",
      "  [5 6]]\n",
      "\n",
      " [[4 5]\n",
      "  [6 7]\n",
      "  [8 9]]]\n"
     ]
    }
   ],
   "source": [
    "a=z.reshape(2,3,2)\n",
    "print(a)"
   ]
  },
  {
   "cell_type": "code",
   "execution_count": 225,
   "metadata": {},
   "outputs": [
    {
     "name": "stdout",
     "output_type": "stream",
     "text": [
      "3\n"
     ]
    }
   ],
   "source": [
    "print(a.ndim)"
   ]
  },
  {
   "cell_type": "markdown",
   "metadata": {},
   "source": [
    "# Matrix in Python || Matrix Multiplication in Python "
   ]
  },
  {
   "cell_type": "code",
   "execution_count": 226,
   "metadata": {},
   "outputs": [
    {
     "name": "stdout",
     "output_type": "stream",
     "text": [
      "[[1, 2, 3], [4, 5, 6], [7, 8, 9]]\n"
     ]
    }
   ],
   "source": [
    "import numpy as np\n",
    "\n",
    "m1=[[1,2,3],\n",
    "   [4,5,6],\n",
    "   [7,8,9]\n",
    "   ]\n",
    "\n",
    "m2=([3,4,2],\n",
    "    [7,8,9],\n",
    "    [3,5,9]\n",
    "   )\n",
    "print(m1)"
   ]
  },
  {
   "cell_type": "code",
   "execution_count": 227,
   "metadata": {},
   "outputs": [
    {
     "name": "stdout",
     "output_type": "stream",
     "text": [
      "[[ 4  6  5]\n",
      " [11 13 15]\n",
      " [10 13 18]]\n"
     ]
    }
   ],
   "source": [
    "import numpy as np\n",
    "\n",
    "m1=([1,2,3],\n",
    "   [4,5,6],\n",
    "   [7,8,9]\n",
    "   )\n",
    "\n",
    "m2=([3,4,2],\n",
    "    [7,8,9],\n",
    "    [3,5,9]\n",
    "   )\n",
    "print(np.add(m1,m2))"
   ]
  },
  {
   "cell_type": "code",
   "execution_count": 228,
   "metadata": {},
   "outputs": [
    {
     "name": "stdout",
     "output_type": "stream",
     "text": [
      "[[-2 -2  1]\n",
      " [-3 -3 -3]\n",
      " [ 4  3  0]]\n"
     ]
    }
   ],
   "source": [
    "print(np.subtract(m1,m2))"
   ]
  },
  {
   "cell_type": "code",
   "execution_count": 229,
   "metadata": {},
   "outputs": [
    {
     "name": "stdout",
     "output_type": "stream",
     "text": [
      "[[ 26  35  47]\n",
      " [ 65  86 107]\n",
      " [104 137 167]]\n"
     ]
    }
   ],
   "source": [
    "print(np.dot(m1,m2))#roq*col"
   ]
  },
  {
   "cell_type": "code",
   "execution_count": 230,
   "metadata": {},
   "outputs": [
    {
     "name": "stdout",
     "output_type": "stream",
     "text": [
      "[[ 3  8  6]\n",
      " [28 40 54]\n",
      " [21 40 81]]\n"
     ]
    }
   ],
   "source": [
    "print(np.multiply(m1,m2))"
   ]
  },
  {
   "cell_type": "markdown",
   "metadata": {},
   "source": [
    "# Zip Function in Python || Unzip || Zipping Two Lists"
   ]
  },
  {
   "cell_type": "code",
   "execution_count": 231,
   "metadata": {},
   "outputs": [
    {
     "name": "stdout",
     "output_type": "stream",
     "text": [
      "['hamid', 'hosen', 'azad', 'fahim', 23, 45, 67, 89]\n"
     ]
    }
   ],
   "source": [
    "person_name=['hamid','hosen','azad','fahim']\n",
    "person_age=[23,45,67,89]\n",
    "\n",
    "print(person_name+person_age)"
   ]
  },
  {
   "cell_type": "code",
   "execution_count": 233,
   "metadata": {},
   "outputs": [
    {
     "ename": "TypeError",
     "evalue": "'list' object is not callable",
     "output_type": "error",
     "traceback": [
      "\u001b[1;31m---------------------------------------------------------------------------\u001b[0m",
      "\u001b[1;31mTypeError\u001b[0m                                 Traceback (most recent call last)",
      "\u001b[1;32m<ipython-input-233-25f3dcc099ad>\u001b[0m in \u001b[0;36m<module>\u001b[1;34m\u001b[0m\n\u001b[1;32m----> 1\u001b[1;33m \u001b[0mprint\u001b[0m\u001b[1;33m(\u001b[0m\u001b[0mlist\u001b[0m\u001b[1;33m(\u001b[0m\u001b[0mzip\u001b[0m\u001b[1;33m(\u001b[0m\u001b[0mperson_name\u001b[0m\u001b[1;33m,\u001b[0m\u001b[0mperson_age\u001b[0m\u001b[1;33m)\u001b[0m\u001b[1;33m)\u001b[0m\u001b[1;33m)\u001b[0m\u001b[1;33m\u001b[0m\u001b[1;33m\u001b[0m\u001b[0m\n\u001b[0m",
      "\u001b[1;31mTypeError\u001b[0m: 'list' object is not callable"
     ]
    }
   ],
   "source": [
    "print(list(zip(person_name,person_age)))"
   ]
  },
  {
   "cell_type": "markdown",
   "metadata": {},
   "source": [
    "[('hamid', 23), ('hosen', 45), ('azad', 67), ('fahim', 89)]"
   ]
  },
  {
   "cell_type": "code",
   "execution_count": 234,
   "metadata": {},
   "outputs": [
    {
     "ename": "TypeError",
     "evalue": "'list' object is not callable",
     "output_type": "error",
     "traceback": [
      "\u001b[1;31m---------------------------------------------------------------------------\u001b[0m",
      "\u001b[1;31mTypeError\u001b[0m                                 Traceback (most recent call last)",
      "\u001b[1;32m<ipython-input-234-a0dbcb4f29c8>\u001b[0m in \u001b[0;36m<module>\u001b[1;34m\u001b[0m\n\u001b[1;32m----> 1\u001b[1;33m \u001b[0mprint\u001b[0m\u001b[1;33m(\u001b[0m\u001b[0mlist\u001b[0m\u001b[1;33m(\u001b[0m\u001b[0mzip\u001b[0m\u001b[1;33m(\u001b[0m\u001b[1;34m'1234'\u001b[0m\u001b[1;33m,\u001b[0m\u001b[0mperson_name\u001b[0m\u001b[1;33m,\u001b[0m\u001b[0mperson_age\u001b[0m\u001b[1;33m)\u001b[0m\u001b[1;33m)\u001b[0m\u001b[1;33m)\u001b[0m\u001b[1;33m\u001b[0m\u001b[1;33m\u001b[0m\u001b[0m\n\u001b[0m",
      "\u001b[1;31mTypeError\u001b[0m: 'list' object is not callable"
     ]
    }
   ],
   "source": [
    "print(list(zip('1234',person_name,person_age)))"
   ]
  },
  {
   "cell_type": "markdown",
   "metadata": {},
   "source": [
    "[('1', 'hamid', 23), ('2', 'hosen', 45), ('3', 'azad', 67), ('4', 'fahim', 89)]"
   ]
  },
  {
   "cell_type": "code",
   "execution_count": 235,
   "metadata": {},
   "outputs": [
    {
     "ename": "TypeError",
     "evalue": "'list' object is not callable",
     "output_type": "error",
     "traceback": [
      "\u001b[1;31m---------------------------------------------------------------------------\u001b[0m",
      "\u001b[1;31mTypeError\u001b[0m                                 Traceback (most recent call last)",
      "\u001b[1;32m<ipython-input-235-ef01061a4b0c>\u001b[0m in \u001b[0;36m<module>\u001b[1;34m\u001b[0m\n\u001b[1;32m----> 1\u001b[1;33m \u001b[0mprint\u001b[0m\u001b[1;33m(\u001b[0m\u001b[0mlist\u001b[0m\u001b[1;33m(\u001b[0m\u001b[0mzip\u001b[0m\u001b[1;33m(\u001b[0m\u001b[0mperson_name\u001b[0m\u001b[1;33m,\u001b[0m\u001b[0mperson_age\u001b[0m\u001b[1;33m,\u001b[0m\u001b[1;34m'1234'\u001b[0m\u001b[1;33m)\u001b[0m\u001b[1;33m)\u001b[0m\u001b[1;33m)\u001b[0m\u001b[1;33m\u001b[0m\u001b[1;33m\u001b[0m\u001b[0m\n\u001b[0m",
      "\u001b[1;31mTypeError\u001b[0m: 'list' object is not callable"
     ]
    }
   ],
   "source": [
    "print(list(zip(person_name,person_age,'1234')))"
   ]
  },
  {
   "cell_type": "markdown",
   "metadata": {},
   "source": [
    "[('hamid', 23, '1'), ('hosen', 45, '2'), ('azad', 67, '3'), ('fahim', 89, '4')]"
   ]
  },
  {
   "cell_type": "code",
   "execution_count": 236,
   "metadata": {},
   "outputs": [
    {
     "ename": "TypeError",
     "evalue": "'list' object is not callable",
     "output_type": "error",
     "traceback": [
      "\u001b[1;31m---------------------------------------------------------------------------\u001b[0m",
      "\u001b[1;31mTypeError\u001b[0m                                 Traceback (most recent call last)",
      "\u001b[1;32m<ipython-input-236-352da38aa4d9>\u001b[0m in \u001b[0;36m<module>\u001b[1;34m\u001b[0m\n\u001b[0;32m      1\u001b[0m \u001b[0mx\u001b[0m\u001b[1;33m=\u001b[0m\u001b[1;33m[\u001b[0m\u001b[1;33m(\u001b[0m\u001b[1;34m'1'\u001b[0m\u001b[1;33m,\u001b[0m \u001b[1;34m'hamid'\u001b[0m\u001b[1;33m,\u001b[0m \u001b[1;36m23\u001b[0m\u001b[1;33m)\u001b[0m\u001b[1;33m,\u001b[0m \u001b[1;33m(\u001b[0m\u001b[1;34m'2'\u001b[0m\u001b[1;33m,\u001b[0m \u001b[1;34m'hosen'\u001b[0m\u001b[1;33m,\u001b[0m \u001b[1;36m45\u001b[0m\u001b[1;33m)\u001b[0m\u001b[1;33m,\u001b[0m \u001b[1;33m(\u001b[0m\u001b[1;34m'3'\u001b[0m\u001b[1;33m,\u001b[0m \u001b[1;34m'azad'\u001b[0m\u001b[1;33m,\u001b[0m \u001b[1;36m67\u001b[0m\u001b[1;33m)\u001b[0m\u001b[1;33m,\u001b[0m \u001b[1;33m(\u001b[0m\u001b[1;34m'4'\u001b[0m\u001b[1;33m,\u001b[0m \u001b[1;34m'fahim'\u001b[0m\u001b[1;33m,\u001b[0m \u001b[1;36m89\u001b[0m\u001b[1;33m)\u001b[0m\u001b[1;33m]\u001b[0m\u001b[1;33m\u001b[0m\u001b[1;33m\u001b[0m\u001b[0m\n\u001b[1;32m----> 2\u001b[1;33m \u001b[0mprint\u001b[0m\u001b[1;33m(\u001b[0m\u001b[0mlist\u001b[0m\u001b[1;33m(\u001b[0m\u001b[0mzip\u001b[0m\u001b[1;33m(\u001b[0m\u001b[1;33m*\u001b[0m\u001b[0mx\u001b[0m\u001b[1;33m)\u001b[0m\u001b[1;33m)\u001b[0m\u001b[1;33m)\u001b[0m\u001b[1;33m\u001b[0m\u001b[1;33m\u001b[0m\u001b[0m\n\u001b[0m",
      "\u001b[1;31mTypeError\u001b[0m: 'list' object is not callable"
     ]
    }
   ],
   "source": [
    "x=[('1', 'hamid', 23), ('2', 'hosen', 45), ('3', 'azad', 67), ('4', 'fahim', 89)]\n",
    "print(list(zip(*x)))"
   ]
  },
  {
   "cell_type": "markdown",
   "metadata": {},
   "source": [
    "[('1', '2', '3', '4'), ('hamid', 'hosen', 'azad', 'fahim'), (23, 45, 67, 89)]"
   ]
  },
  {
   "cell_type": "code",
   "execution_count": 237,
   "metadata": {},
   "outputs": [
    {
     "ename": "TypeError",
     "evalue": "'list' object is not callable",
     "output_type": "error",
     "traceback": [
      "\u001b[1;31m---------------------------------------------------------------------------\u001b[0m",
      "\u001b[1;31mTypeError\u001b[0m                                 Traceback (most recent call last)",
      "\u001b[1;32m<ipython-input-237-657e4905e338>\u001b[0m in \u001b[0;36m<module>\u001b[1;34m\u001b[0m\n\u001b[1;32m----> 1\u001b[1;33m \u001b[0my\u001b[0m\u001b[1;33m=\u001b[0m\u001b[0mlist\u001b[0m\u001b[1;33m(\u001b[0m\u001b[0mzip\u001b[0m\u001b[1;33m(\u001b[0m\u001b[1;33m*\u001b[0m\u001b[0mx\u001b[0m\u001b[1;33m)\u001b[0m\u001b[1;33m)\u001b[0m\u001b[1;33m\u001b[0m\u001b[1;33m\u001b[0m\u001b[0m\n\u001b[0m\u001b[0;32m      2\u001b[0m \u001b[1;33m\u001b[0m\u001b[0m\n\u001b[0;32m      3\u001b[0m \u001b[0mprint\u001b[0m\u001b[1;33m(\u001b[0m\u001b[0my\u001b[0m\u001b[1;33m[\u001b[0m\u001b[1;36m0\u001b[0m\u001b[1;33m]\u001b[0m\u001b[1;33m)\u001b[0m\u001b[1;33m\u001b[0m\u001b[1;33m\u001b[0m\u001b[0m\n\u001b[0;32m      4\u001b[0m \u001b[0mprint\u001b[0m\u001b[1;33m(\u001b[0m\u001b[0my\u001b[0m\u001b[1;33m[\u001b[0m\u001b[1;36m1\u001b[0m\u001b[1;33m]\u001b[0m\u001b[1;33m)\u001b[0m\u001b[1;33m\u001b[0m\u001b[1;33m\u001b[0m\u001b[0m\n\u001b[0;32m      5\u001b[0m \u001b[0mprint\u001b[0m\u001b[1;33m(\u001b[0m\u001b[0my\u001b[0m\u001b[1;33m[\u001b[0m\u001b[1;36m2\u001b[0m\u001b[1;33m]\u001b[0m\u001b[1;33m)\u001b[0m\u001b[1;33m\u001b[0m\u001b[1;33m\u001b[0m\u001b[0m\n",
      "\u001b[1;31mTypeError\u001b[0m: 'list' object is not callable"
     ]
    }
   ],
   "source": [
    "y=list(zip(*x))\n",
    "\n",
    "print(y[0])\n",
    "print(y[1])\n",
    "print(y[2])"
   ]
  },
  {
   "cell_type": "markdown",
   "metadata": {},
   "source": [
    "('1', '2', '3', '4')\n",
    "('hamid', 'hosen', 'azad', 'fahim')\n",
    "(23, 45, 67, 89)"
   ]
  },
  {
   "cell_type": "markdown",
   "metadata": {},
   "source": [
    "# Lambda Function in Python || Python Lambda (Anonymous Functions)"
   ]
  },
  {
   "cell_type": "code",
   "execution_count": 238,
   "metadata": {},
   "outputs": [
    {
     "name": "stdout",
     "output_type": "stream",
     "text": [
      "90\n"
     ]
    }
   ],
   "source": [
    "r=(lambda x,y,z: x*y*z)(2,5,9)\n",
    "print(r)"
   ]
  },
  {
   "cell_type": "markdown",
   "metadata": {},
   "source": [
    "# Map Function in Python || Map() in Python"
   ]
  },
  {
   "cell_type": "code",
   "execution_count": 239,
   "metadata": {},
   "outputs": [
    {
     "name": "stdout",
     "output_type": "stream",
     "text": [
      "[15, 25, 35, 45, 10, 5, 25]\n"
     ]
    }
   ],
   "source": [
    "def mul(n):\n",
    "    return n*5;\n",
    "\n",
    "result=[]\n",
    "num=[3,5,7,9,2,1,5]\n",
    "\n",
    "for i in num:\n",
    "    result.append(mul(i))\n",
    "print(result)"
   ]
  },
  {
   "cell_type": "code",
   "execution_count": 240,
   "metadata": {},
   "outputs": [
    {
     "ename": "TypeError",
     "evalue": "'list' object is not callable",
     "output_type": "error",
     "traceback": [
      "\u001b[1;31m---------------------------------------------------------------------------\u001b[0m",
      "\u001b[1;31mTypeError\u001b[0m                                 Traceback (most recent call last)",
      "\u001b[1;32m<ipython-input-240-e13ff5186177>\u001b[0m in \u001b[0;36m<module>\u001b[1;34m\u001b[0m\n\u001b[0;32m      3\u001b[0m \u001b[1;33m\u001b[0m\u001b[0m\n\u001b[0;32m      4\u001b[0m \u001b[0mnum\u001b[0m\u001b[1;33m=\u001b[0m\u001b[1;33m[\u001b[0m\u001b[1;36m3\u001b[0m\u001b[1;33m,\u001b[0m\u001b[1;36m5\u001b[0m\u001b[1;33m,\u001b[0m\u001b[1;36m7\u001b[0m\u001b[1;33m,\u001b[0m\u001b[1;36m9\u001b[0m\u001b[1;33m,\u001b[0m\u001b[1;36m2\u001b[0m\u001b[1;33m,\u001b[0m\u001b[1;36m1\u001b[0m\u001b[1;33m,\u001b[0m\u001b[1;36m5\u001b[0m\u001b[1;33m]\u001b[0m\u001b[1;33m\u001b[0m\u001b[1;33m\u001b[0m\u001b[0m\n\u001b[1;32m----> 5\u001b[1;33m \u001b[0mresult\u001b[0m\u001b[1;33m=\u001b[0m\u001b[0mlist\u001b[0m\u001b[1;33m(\u001b[0m\u001b[0mmap\u001b[0m\u001b[1;33m(\u001b[0m\u001b[0mmul\u001b[0m\u001b[1;33m,\u001b[0m\u001b[0mnum\u001b[0m\u001b[1;33m)\u001b[0m\u001b[1;33m)\u001b[0m\u001b[1;33m\u001b[0m\u001b[1;33m\u001b[0m\u001b[0m\n\u001b[0m\u001b[0;32m      6\u001b[0m \u001b[0mprint\u001b[0m\u001b[1;33m(\u001b[0m\u001b[0mresult\u001b[0m\u001b[1;33m)\u001b[0m\u001b[1;33m\u001b[0m\u001b[1;33m\u001b[0m\u001b[0m\n",
      "\u001b[1;31mTypeError\u001b[0m: 'list' object is not callable"
     ]
    }
   ],
   "source": [
    "def mul(n):\n",
    "    return n*5;\n",
    "\n",
    "num=[3,5,7,9,2,1,5]\n",
    "result=list(map(mul,num))\n",
    "print(result)"
   ]
  },
  {
   "cell_type": "markdown",
   "metadata": {},
   "source": [
    "[15, 25, 35, 45, 10, 5, 25]"
   ]
  },
  {
   "cell_type": "markdown",
   "metadata": {},
   "source": [
    "# Filter Function in Python || Python filter ( )"
   ]
  },
  {
   "cell_type": "code",
   "execution_count": 241,
   "metadata": {},
   "outputs": [
    {
     "ename": "TypeError",
     "evalue": "'list' object is not callable",
     "output_type": "error",
     "traceback": [
      "\u001b[1;31m---------------------------------------------------------------------------\u001b[0m",
      "\u001b[1;31mTypeError\u001b[0m                                 Traceback (most recent call last)",
      "\u001b[1;32m<ipython-input-241-c1ab06a6bd62>\u001b[0m in \u001b[0;36m<module>\u001b[1;34m\u001b[0m\n\u001b[0;32m      1\u001b[0m \u001b[0mnum1\u001b[0m\u001b[1;33m=\u001b[0m\u001b[1;33m[\u001b[0m\u001b[1;36m1\u001b[0m\u001b[1;33m,\u001b[0m\u001b[1;36m2\u001b[0m\u001b[1;33m,\u001b[0m\u001b[1;36m3\u001b[0m\u001b[1;33m,\u001b[0m\u001b[1;36m4\u001b[0m\u001b[1;33m,\u001b[0m\u001b[1;36m3\u001b[0m\u001b[1;33m,\u001b[0m\u001b[1;36m0\u001b[0m\u001b[1;33m,\u001b[0m\u001b[1;36m6\u001b[0m\u001b[1;33m,\u001b[0m\u001b[1;36m7\u001b[0m\u001b[1;33m,\u001b[0m\u001b[1;36m8\u001b[0m\u001b[1;33m,\u001b[0m\u001b[1;36m9\u001b[0m\u001b[1;33m,\u001b[0m\u001b[1;36m11\u001b[0m\u001b[1;33m,\u001b[0m\u001b[1;36m12\u001b[0m\u001b[1;33m,\u001b[0m\u001b[1;36m13\u001b[0m\u001b[1;33m,\u001b[0m\u001b[1;36m14\u001b[0m\u001b[1;33m]\u001b[0m\u001b[1;33m\u001b[0m\u001b[1;33m\u001b[0m\u001b[0m\n\u001b[0;32m      2\u001b[0m \u001b[1;33m\u001b[0m\u001b[0m\n\u001b[1;32m----> 3\u001b[1;33m \u001b[0mresult\u001b[0m\u001b[1;33m=\u001b[0m\u001b[0mlist\u001b[0m\u001b[1;33m(\u001b[0m\u001b[0mfilter\u001b[0m\u001b[1;33m(\u001b[0m\u001b[1;33m(\u001b[0m\u001b[1;32mlambda\u001b[0m \u001b[0mn\u001b[0m\u001b[1;33m:\u001b[0m\u001b[0mn\u001b[0m\u001b[1;33m%\u001b[0m\u001b[1;36m2\u001b[0m\u001b[1;33m)\u001b[0m\u001b[1;33m,\u001b[0m\u001b[0mnum\u001b[0m\u001b[1;33m)\u001b[0m\u001b[1;33m)\u001b[0m\u001b[1;33m\u001b[0m\u001b[1;33m\u001b[0m\u001b[0m\n\u001b[0m\u001b[0;32m      4\u001b[0m \u001b[0mprint\u001b[0m\u001b[1;33m(\u001b[0m\u001b[1;34m\"Odd Number: \"\u001b[0m\u001b[1;33m,\u001b[0m\u001b[0mresult\u001b[0m\u001b[1;33m)\u001b[0m\u001b[1;33m\u001b[0m\u001b[1;33m\u001b[0m\u001b[0m\n",
      "\u001b[1;31mTypeError\u001b[0m: 'list' object is not callable"
     ]
    }
   ],
   "source": [
    "num1=[1,2,3,4,3,0,6,7,8,9,11,12,13,14]\n",
    "\n",
    "result=list(filter((lambda n:n%2),num))\n",
    "print(\"Odd Number: \",result)"
   ]
  },
  {
   "cell_type": "markdown",
   "metadata": {},
   "source": [
    "Odd Number:  [1, 3, 3, 7, 9, 11, 13]"
   ]
  },
  {
   "cell_type": "code",
   "execution_count": 242,
   "metadata": {},
   "outputs": [
    {
     "ename": "TypeError",
     "evalue": "'list' object is not callable",
     "output_type": "error",
     "traceback": [
      "\u001b[1;31m---------------------------------------------------------------------------\u001b[0m",
      "\u001b[1;31mTypeError\u001b[0m                                 Traceback (most recent call last)",
      "\u001b[1;32m<ipython-input-242-3321649312b9>\u001b[0m in \u001b[0;36m<module>\u001b[1;34m\u001b[0m\n\u001b[0;32m      1\u001b[0m \u001b[0mnum1\u001b[0m\u001b[1;33m=\u001b[0m\u001b[1;33m[\u001b[0m\u001b[1;36m1\u001b[0m\u001b[1;33m,\u001b[0m\u001b[1;36m2\u001b[0m\u001b[1;33m,\u001b[0m\u001b[1;36m3\u001b[0m\u001b[1;33m,\u001b[0m\u001b[1;36m4\u001b[0m\u001b[1;33m,\u001b[0m\u001b[1;36m3\u001b[0m\u001b[1;33m,\u001b[0m\u001b[1;36m0\u001b[0m\u001b[1;33m,\u001b[0m\u001b[1;36m6\u001b[0m\u001b[1;33m,\u001b[0m\u001b[1;36m7\u001b[0m\u001b[1;33m,\u001b[0m\u001b[1;36m8\u001b[0m\u001b[1;33m,\u001b[0m\u001b[1;36m9\u001b[0m\u001b[1;33m,\u001b[0m\u001b[1;36m11\u001b[0m\u001b[1;33m,\u001b[0m\u001b[1;36m12\u001b[0m\u001b[1;33m,\u001b[0m\u001b[1;36m13\u001b[0m\u001b[1;33m,\u001b[0m\u001b[1;36m14\u001b[0m\u001b[1;33m]\u001b[0m\u001b[1;33m\u001b[0m\u001b[1;33m\u001b[0m\u001b[0m\n\u001b[0;32m      2\u001b[0m \u001b[1;33m\u001b[0m\u001b[0m\n\u001b[1;32m----> 3\u001b[1;33m \u001b[0mresult\u001b[0m\u001b[1;33m=\u001b[0m\u001b[0mlist\u001b[0m\u001b[1;33m(\u001b[0m\u001b[0mfilter\u001b[0m\u001b[1;33m(\u001b[0m\u001b[1;33m(\u001b[0m\u001b[1;32mlambda\u001b[0m \u001b[0mn\u001b[0m\u001b[1;33m:\u001b[0m\u001b[0mn\u001b[0m\u001b[1;33m%\u001b[0m\u001b[1;36m2\u001b[0m\u001b[1;33m==\u001b[0m\u001b[1;36m0\u001b[0m\u001b[1;33m)\u001b[0m\u001b[1;33m,\u001b[0m\u001b[0mnum\u001b[0m\u001b[1;33m)\u001b[0m\u001b[1;33m)\u001b[0m\u001b[1;33m\u001b[0m\u001b[1;33m\u001b[0m\u001b[0m\n\u001b[0m\u001b[0;32m      4\u001b[0m \u001b[0mprint\u001b[0m\u001b[1;33m(\u001b[0m\u001b[1;34m\"Odd Number: \"\u001b[0m\u001b[1;33m,\u001b[0m\u001b[0mresult\u001b[0m\u001b[1;33m)\u001b[0m\u001b[1;33m\u001b[0m\u001b[1;33m\u001b[0m\u001b[0m\n",
      "\u001b[1;31mTypeError\u001b[0m: 'list' object is not callable"
     ]
    }
   ],
   "source": [
    "num1=[1,2,3,4,3,0,6,7,8,9,11,12,13,14]\n",
    "\n",
    "result=list(filter((lambda n:n%2==0),num))\n",
    "print(\"Odd Number: \",result)"
   ]
  },
  {
   "cell_type": "markdown",
   "metadata": {},
   "source": [
    "Odd Number:  [2, 4, 0, 6, 8, 12, 14]"
   ]
  },
  {
   "cell_type": "code",
   "execution_count": 243,
   "metadata": {},
   "outputs": [
    {
     "ename": "TypeError",
     "evalue": "'list' object is not callable",
     "output_type": "error",
     "traceback": [
      "\u001b[1;31m---------------------------------------------------------------------------\u001b[0m",
      "\u001b[1;31mTypeError\u001b[0m                                 Traceback (most recent call last)",
      "\u001b[1;32m<ipython-input-243-0757acbb02ee>\u001b[0m in \u001b[0;36m<module>\u001b[1;34m\u001b[0m\n\u001b[0;32m      1\u001b[0m \u001b[0mnum1\u001b[0m\u001b[1;33m=\u001b[0m\u001b[1;33m[\u001b[0m\u001b[1;36m1\u001b[0m\u001b[1;33m,\u001b[0m\u001b[1;36m2\u001b[0m\u001b[1;33m,\u001b[0m\u001b[1;36m3\u001b[0m\u001b[1;33m,\u001b[0m\u001b[1;36m4\u001b[0m\u001b[1;33m,\u001b[0m\u001b[1;36m3\u001b[0m\u001b[1;33m,\u001b[0m\u001b[1;36m0\u001b[0m\u001b[1;33m,\u001b[0m\u001b[1;36m6\u001b[0m\u001b[1;33m,\u001b[0m\u001b[1;36m7\u001b[0m\u001b[1;33m,\u001b[0m\u001b[1;36m8\u001b[0m\u001b[1;33m,\u001b[0m\u001b[1;36m9\u001b[0m\u001b[1;33m,\u001b[0m\u001b[1;36m11\u001b[0m\u001b[1;33m,\u001b[0m\u001b[1;36m12\u001b[0m\u001b[1;33m,\u001b[0m\u001b[1;36m13\u001b[0m\u001b[1;33m,\u001b[0m\u001b[1;36m14\u001b[0m\u001b[1;33m]\u001b[0m\u001b[1;33m\u001b[0m\u001b[1;33m\u001b[0m\u001b[0m\n\u001b[0;32m      2\u001b[0m \u001b[1;33m\u001b[0m\u001b[0m\n\u001b[1;32m----> 3\u001b[1;33m \u001b[0mresult\u001b[0m\u001b[1;33m=\u001b[0m\u001b[0mlist\u001b[0m\u001b[1;33m(\u001b[0m\u001b[0mfilter\u001b[0m\u001b[1;33m(\u001b[0m\u001b[1;33m(\u001b[0m\u001b[1;32mlambda\u001b[0m \u001b[0mn\u001b[0m\u001b[1;33m:\u001b[0m\u001b[0mn\u001b[0m\u001b[1;33m>\u001b[0m\u001b[1;36m5\u001b[0m\u001b[1;33m)\u001b[0m\u001b[1;33m,\u001b[0m\u001b[0mnum\u001b[0m\u001b[1;33m)\u001b[0m\u001b[1;33m)\u001b[0m\u001b[1;33m\u001b[0m\u001b[1;33m\u001b[0m\u001b[0m\n\u001b[0m\u001b[0;32m      4\u001b[0m \u001b[0mprint\u001b[0m\u001b[1;33m(\u001b[0m\u001b[1;34m\"Odd Number: \"\u001b[0m\u001b[1;33m,\u001b[0m\u001b[0mresult\u001b[0m\u001b[1;33m)\u001b[0m\u001b[1;33m\u001b[0m\u001b[1;33m\u001b[0m\u001b[0m\n",
      "\u001b[1;31mTypeError\u001b[0m: 'list' object is not callable"
     ]
    }
   ],
   "source": [
    "num1=[1,2,3,4,3,0,6,7,8,9,11,12,13,14]\n",
    "\n",
    "result=list(filter((lambda n:n>5),num))\n",
    "print(\"Odd Number: \",result)"
   ]
  },
  {
   "cell_type": "markdown",
   "metadata": {},
   "source": [
    "Odd Number:  [6, 7, 8, 9, 11, 12, 13, 14]"
   ]
  },
  {
   "cell_type": "markdown",
   "metadata": {},
   "source": [
    "# Reduce Function in Python || Python reduce ( )"
   ]
  },
  {
   "cell_type": "code",
   "execution_count": 244,
   "metadata": {},
   "outputs": [
    {
     "name": "stdout",
     "output_type": "stream",
     "text": [
      "15\n"
     ]
    }
   ],
   "source": [
    "import functools\n",
    "\n",
    "def two_num_sum(num1,num2):\n",
    "    return num1+num2\n",
    "\n",
    "list=[1,2,3,4,5]\n",
    "print(functools.reduce(two_num_sum,list))"
   ]
  },
  {
   "cell_type": "markdown",
   "metadata": {},
   "source": [
    "# Local Variable vs Global Variable in Python "
   ]
  },
  {
   "cell_type": "code",
   "execution_count": 245,
   "metadata": {},
   "outputs": [
    {
     "name": "stdout",
     "output_type": "stream",
     "text": [
      "Inside: 150\n"
     ]
    },
    {
     "ename": "NameError",
     "evalue": "name 'rt' is not defined",
     "output_type": "error",
     "traceback": [
      "\u001b[1;31m---------------------------------------------------------------------------\u001b[0m",
      "\u001b[1;31mNameError\u001b[0m                                 Traceback (most recent call last)",
      "\u001b[1;32m<ipython-input-245-d251ecee9243>\u001b[0m in \u001b[0;36m<module>\u001b[1;34m\u001b[0m\n\u001b[0;32m      3\u001b[0m     \u001b[0mprint\u001b[0m\u001b[1;33m(\u001b[0m\u001b[1;34m\"Inside:\"\u001b[0m\u001b[1;33m,\u001b[0m\u001b[0mrt\u001b[0m\u001b[1;33m)\u001b[0m\u001b[1;33m\u001b[0m\u001b[1;33m\u001b[0m\u001b[0m\n\u001b[0;32m      4\u001b[0m \u001b[0mfnc\u001b[0m\u001b[1;33m(\u001b[0m\u001b[1;33m)\u001b[0m\u001b[1;33m\u001b[0m\u001b[1;33m\u001b[0m\u001b[0m\n\u001b[1;32m----> 5\u001b[1;33m \u001b[0mprint\u001b[0m\u001b[1;33m(\u001b[0m\u001b[1;34m'Outside '\u001b[0m\u001b[1;33m,\u001b[0m\u001b[0mrt\u001b[0m\u001b[1;33m)\u001b[0m\u001b[1;33m\u001b[0m\u001b[1;33m\u001b[0m\u001b[0m\n\u001b[0m",
      "\u001b[1;31mNameError\u001b[0m: name 'rt' is not defined"
     ]
    }
   ],
   "source": [
    "def fnc():\n",
    "    rt=150\n",
    "    print(\"Inside:\",rt)\n",
    "fnc()\n",
    "print('Outside ',rt)\n"
   ]
  },
  {
   "cell_type": "code",
   "execution_count": 246,
   "metadata": {},
   "outputs": [
    {
     "name": "stdout",
     "output_type": "stream",
     "text": [
      "Inside: 150\n",
      "Outside  100\n"
     ]
    }
   ],
   "source": [
    "rt=100\n",
    "def fnc():\n",
    "    rt=150\n",
    "    print(\"Inside:\",rt)\n",
    "fnc()\n",
    "print('Outside ',rt)"
   ]
  },
  {
   "cell_type": "code",
   "execution_count": 247,
   "metadata": {},
   "outputs": [
    {
     "name": "stdout",
     "output_type": "stream",
     "text": [
      "Inside: 100\n",
      "Outside  100\n"
     ]
    }
   ],
   "source": [
    "rt=100\n",
    "def fnc():\n",
    "    #rt=150\n",
    "    print(\"Inside:\",rt)\n",
    "fnc()\n",
    "print('Outside ',rt)"
   ]
  },
  {
   "cell_type": "code",
   "execution_count": 248,
   "metadata": {},
   "outputs": [
    {
     "name": "stdout",
     "output_type": "stream",
     "text": [
      "Inside: 150\n",
      "Outside  150\n"
     ]
    }
   ],
   "source": [
    "rt=100\n",
    "def fnc():\n",
    "    global rt\n",
    "    rt=rt+50\n",
    "    print(\"Inside:\",rt)\n",
    "fnc()\n",
    "print('Outside ',rt)"
   ]
  },
  {
   "cell_type": "markdown",
   "metadata": {},
   "source": [
    "# Default Arguments in Python || Python Default Arguments"
   ]
  },
  {
   "cell_type": "code",
   "execution_count": 249,
   "metadata": {},
   "outputs": [
    {
     "name": "stdout",
     "output_type": "stream",
     "text": [
      "32\n"
     ]
    }
   ],
   "source": [
    "def My_pow(a,b=5):\n",
    "    return a**b#pow(a,b)\n",
    "\n",
    "x=My_pow(2)\n",
    "print(x)"
   ]
  },
  {
   "cell_type": "code",
   "execution_count": 250,
   "metadata": {},
   "outputs": [
    {
     "name": "stdout",
     "output_type": "stream",
     "text": [
      "8\n"
     ]
    }
   ],
   "source": [
    "def My_pow(a,b=5):\n",
    "    return a**b#pow(a,b)\n",
    "\n",
    "x=My_pow(2,3)\n",
    "print(x)"
   ]
  },
  {
   "cell_type": "code",
   "execution_count": 251,
   "metadata": {},
   "outputs": [
    {
     "name": "stdout",
     "output_type": "stream",
     "text": [
      "I am  (Hamid)\n"
     ]
    }
   ],
   "source": [
    "def fnc(x='Hamid'):\n",
    "    print('I am ',x)\n",
    "fnc('(Hamid)')"
   ]
  },
  {
   "cell_type": "markdown",
   "metadata": {},
   "source": [
    "# Recursion in Python | Recursion Explained "
   ]
  },
  {
   "cell_type": "code",
   "execution_count": 252,
   "metadata": {},
   "outputs": [
    {
     "name": "stdout",
     "output_type": "stream",
     "text": [
      "List =  3000\n",
      "Study Mart  1\n",
      "Study Mart  2\n",
      "Study Mart  3\n",
      "Study Mart  4\n",
      "Study Mart  5\n",
      "Study Mart  6\n",
      "Study Mart  7\n",
      "Study Mart  8\n",
      "Study Mart  9\n",
      "Study Mart  10\n",
      "Study Mart  11\n",
      "Study Mart  12\n",
      "Study Mart  13\n",
      "Study Mart  14\n",
      "Study Mart  15\n",
      "Study Mart  16\n",
      "Study Mart  17\n",
      "Study Mart  18\n",
      "Study Mart  19\n",
      "Study Mart  20\n",
      "Study Mart  21\n",
      "Study Mart  22\n",
      "Study Mart  23\n",
      "Study Mart  24\n",
      "Study Mart  25\n",
      "Study Mart  26\n",
      "Study Mart  27\n",
      "Study Mart  28\n",
      "Study Mart  29\n",
      "Study Mart  30\n",
      "Study Mart  31\n",
      "Study Mart  32\n",
      "Study Mart  33\n",
      "Study Mart  34\n",
      "Study Mart  35\n",
      "Study Mart  36\n",
      "Study Mart  37\n",
      "Study Mart  38\n",
      "Study Mart  39\n",
      "Study Mart  40\n",
      "Study Mart  41\n",
      "Study Mart  42\n",
      "Study Mart  43\n",
      "Study Mart  44\n",
      "Study Mart  45\n",
      "Study Mart  46\n",
      "Study Mart  47\n",
      "Study Mart  48\n",
      "Study Mart  49\n",
      "Study Mart  50\n",
      "Study Mart  51\n",
      "Study Mart  52\n",
      "Study Mart  53\n",
      "Study Mart  54\n",
      "Study Mart  55\n",
      "Study Mart  56\n",
      "Study Mart  57\n",
      "Study Mart  58\n",
      "Study Mart  59\n",
      "Study Mart  60\n",
      "Study Mart  61\n",
      "Study Mart  62\n",
      "Study Mart  63\n",
      "Study Mart  64\n",
      "Study Mart  65\n",
      "Study Mart  66\n",
      "Study Mart  67\n",
      "Study Mart  68\n",
      "Study Mart  69\n",
      "Study Mart  70\n",
      "Study Mart  71\n",
      "Study Mart  72\n",
      "Study Mart  73\n",
      "Study Mart  74\n",
      "Study Mart  75\n",
      "Study Mart  76\n",
      "Study Mart  77\n",
      "Study Mart  78\n",
      "Study Mart  79\n",
      "Study Mart  80\n",
      "Study Mart  81\n",
      "Study Mart  82\n",
      "Study Mart  83\n",
      "Study Mart  84\n",
      "Study Mart  85\n",
      "Study Mart  86\n",
      "Study Mart  87\n",
      "Study Mart  88\n",
      "Study Mart  89\n",
      "Study Mart  90\n",
      "Study Mart  91\n",
      "Study Mart  92\n",
      "Study Mart  93\n",
      "Study Mart  94\n",
      "Study Mart  95\n",
      "Study Mart  96\n",
      "Study Mart  97\n",
      "Study Mart  98\n",
      "Study Mart  99\n",
      "Study Mart  100\n",
      "Study Mart  101\n",
      "Study Mart  102\n",
      "Study Mart  103\n",
      "Study Mart  104\n",
      "Study Mart  105\n",
      "Study Mart  106\n",
      "Study Mart  107\n",
      "Study Mart  108\n",
      "Study Mart  109\n",
      "Study Mart  110\n",
      "Study Mart  111\n",
      "Study Mart  112\n",
      "Study Mart  113\n",
      "Study Mart  114\n",
      "Study Mart  115\n",
      "Study Mart  116\n",
      "Study Mart  117\n",
      "Study Mart  118\n",
      "Study Mart  119\n",
      "Study Mart  120\n",
      "Study Mart  121\n",
      "Study Mart  122\n",
      "Study Mart  123\n",
      "Study Mart  124\n",
      "Study Mart  125\n",
      "Study Mart  126\n",
      "Study Mart  127\n",
      "Study Mart  128\n",
      "Study Mart  129\n",
      "Study Mart  130\n",
      "Study Mart  131\n",
      "Study Mart  132\n",
      "Study Mart  133\n",
      "Study Mart  134\n",
      "Study Mart  135\n",
      "Study Mart  136\n",
      "Study Mart  137\n",
      "Study Mart  138\n",
      "Study Mart  139\n",
      "Study Mart  140\n",
      "Study Mart  141\n",
      "Study Mart  142\n",
      "Study Mart  143\n",
      "Study Mart  144\n",
      "Study Mart  145\n",
      "Study Mart  146\n",
      "Study Mart  147\n",
      "Study Mart  148\n",
      "Study Mart  149\n",
      "Study Mart  150\n",
      "Study Mart  151\n",
      "Study Mart  152\n",
      "Study Mart  153\n",
      "Study Mart  154\n",
      "Study Mart  155\n",
      "Study Mart  156\n",
      "Study Mart  157\n",
      "Study Mart  158\n",
      "Study Mart  159\n",
      "Study Mart  160\n",
      "Study Mart  161\n",
      "Study Mart  162\n",
      "Study Mart  163\n",
      "Study Mart  164\n",
      "Study Mart  165\n",
      "Study Mart  166\n",
      "Study Mart  167\n",
      "Study Mart  168\n",
      "Study Mart  169\n",
      "Study Mart  170\n",
      "Study Mart  171\n",
      "Study Mart  172\n",
      "Study Mart  173\n",
      "Study Mart  174\n",
      "Study Mart  175\n",
      "Study Mart  176\n",
      "Study Mart  177\n",
      "Study Mart  178\n",
      "Study Mart  179\n",
      "Study Mart  180\n",
      "Study Mart  181\n",
      "Study Mart  182\n",
      "Study Mart  183\n",
      "Study Mart  184\n",
      "Study Mart  185\n",
      "Study Mart  186\n",
      "Study Mart  187\n",
      "Study Mart  188\n",
      "Study Mart  189\n",
      "Study Mart  190\n",
      "Study Mart  191\n",
      "Study Mart  192\n",
      "Study Mart  193\n",
      "Study Mart  194\n",
      "Study Mart  195\n",
      "Study Mart  196\n",
      "Study Mart  197\n",
      "Study Mart  198\n",
      "Study Mart  199\n",
      "Study Mart  200\n",
      "Study Mart  201\n",
      "Study Mart  202\n",
      "Study Mart  203\n",
      "Study Mart  204\n",
      "Study Mart  205\n",
      "Study Mart  206\n",
      "Study Mart  207\n",
      "Study Mart  208\n",
      "Study Mart  209\n",
      "Study Mart  210\n",
      "Study Mart  211\n",
      "Study Mart  212\n",
      "Study Mart  213\n",
      "Study Mart  214\n",
      "Study Mart  215\n",
      "Study Mart  216\n",
      "Study Mart  217\n",
      "Study Mart  218\n",
      "Study Mart  219\n",
      "Study Mart  220\n",
      "Study Mart  221\n",
      "Study Mart  222\n",
      "Study Mart  223\n",
      "Study Mart  224\n",
      "Study Mart  225\n",
      "Study Mart  226\n",
      "Study Mart  227\n",
      "Study Mart  228\n",
      "Study Mart  229\n",
      "Study Mart  230\n",
      "Study Mart  231\n",
      "Study Mart  232\n",
      "Study Mart  233\n",
      "Study Mart  234\n",
      "Study Mart  235\n",
      "Study Mart  236\n",
      "Study Mart  237\n",
      "Study Mart  238\n",
      "Study Mart  239\n",
      "Study Mart  240\n",
      "Study Mart  241\n",
      "Study Mart  242\n",
      "Study Mart  243\n",
      "Study Mart  244\n",
      "Study Mart  245\n",
      "Study Mart  246\n",
      "Study Mart  247\n",
      "Study Mart  248\n",
      "Study Mart  249\n",
      "Study Mart  250\n",
      "Study Mart  251\n",
      "Study Mart  252\n",
      "Study Mart  253\n",
      "Study Mart  254\n",
      "Study Mart  255\n",
      "Study Mart  256\n",
      "Study Mart  257\n",
      "Study Mart  258\n",
      "Study Mart  259\n",
      "Study Mart  260\n",
      "Study Mart  261\n",
      "Study Mart  262\n",
      "Study Mart  263\n",
      "Study Mart  264\n",
      "Study Mart  265\n",
      "Study Mart  266\n",
      "Study Mart  267\n",
      "Study Mart  268\n",
      "Study Mart  269\n",
      "Study Mart  270\n",
      "Study Mart  271\n",
      "Study Mart  272\n",
      "Study Mart  273\n",
      "Study Mart  274\n",
      "Study Mart  275\n",
      "Study Mart  276\n",
      "Study Mart  277\n",
      "Study Mart  278\n",
      "Study Mart  279\n",
      "Study Mart  280\n",
      "Study Mart  281\n",
      "Study Mart  282\n",
      "Study Mart  283\n",
      "Study Mart  284\n",
      "Study Mart  285\n",
      "Study Mart  286\n",
      "Study Mart  287\n",
      "Study Mart  288\n",
      "Study Mart  289\n",
      "Study Mart  290\n",
      "Study Mart  291\n",
      "Study Mart  292\n",
      "Study Mart  293\n",
      "Study Mart  294\n",
      "Study Mart  295\n",
      "Study Mart  296\n",
      "Study Mart  297\n",
      "Study Mart  298\n",
      "Study Mart  299\n",
      "Study Mart  300\n",
      "Study Mart  301\n",
      "Study Mart  302\n",
      "Study Mart  303\n",
      "Study Mart  304\n",
      "Study Mart  305\n",
      "Study Mart  306\n",
      "Study Mart  307\n",
      "Study Mart  308\n",
      "Study Mart  309\n",
      "Study Mart  310\n",
      "Study Mart  311\n",
      "Study Mart  312\n",
      "Study Mart  313\n",
      "Study Mart  314\n",
      "Study Mart  315\n",
      "Study Mart  316\n",
      "Study Mart  317\n",
      "Study Mart  318\n",
      "Study Mart  319\n",
      "Study Mart  320\n",
      "Study Mart  321\n",
      "Study Mart  322\n",
      "Study Mart  323\n",
      "Study Mart  324\n",
      "Study Mart  325\n",
      "Study Mart  326\n",
      "Study Mart  327\n",
      "Study Mart  328\n",
      "Study Mart  329\n",
      "Study Mart  330\n",
      "Study Mart  331\n",
      "Study Mart  332\n",
      "Study Mart  333\n",
      "Study Mart  334\n",
      "Study Mart  335\n",
      "Study Mart  336\n",
      "Study Mart  337\n",
      "Study Mart  338\n",
      "Study Mart  339\n",
      "Study Mart  340\n",
      "Study Mart  341\n",
      "Study Mart  342\n",
      "Study Mart  343\n",
      "Study Mart  344\n",
      "Study Mart  345\n",
      "Study Mart  346\n",
      "Study Mart  347\n",
      "Study Mart  348\n",
      "Study Mart  349\n",
      "Study Mart  350\n",
      "Study Mart  351\n",
      "Study Mart  352\n",
      "Study Mart  353\n",
      "Study Mart  354\n",
      "Study Mart  355\n",
      "Study Mart  356\n",
      "Study Mart  357\n",
      "Study Mart  358\n",
      "Study Mart  359\n",
      "Study Mart  360\n",
      "Study Mart  361\n",
      "Study Mart  362\n",
      "Study Mart  363\n",
      "Study Mart  364\n",
      "Study Mart  365\n",
      "Study Mart  366\n",
      "Study Mart  367\n",
      "Study Mart  368\n",
      "Study Mart  369\n",
      "Study Mart  370\n",
      "Study Mart  371\n",
      "Study Mart  372\n",
      "Study Mart  373\n",
      "Study Mart  374\n",
      "Study Mart  375\n",
      "Study Mart  376\n",
      "Study Mart  377\n",
      "Study Mart  378\n",
      "Study Mart  379\n",
      "Study Mart  380\n",
      "Study Mart  381\n",
      "Study Mart  382\n",
      "Study Mart  383\n",
      "Study Mart  384\n",
      "Study Mart  385\n",
      "Study Mart  386\n",
      "Study Mart  387\n",
      "Study Mart  388\n",
      "Study Mart  389\n",
      "Study Mart  390\n",
      "Study Mart  391\n",
      "Study Mart  392\n",
      "Study Mart  393\n",
      "Study Mart  394\n",
      "Study Mart  395\n",
      "Study Mart  396\n",
      "Study Mart  397\n",
      "Study Mart  398\n",
      "Study Mart  399\n",
      "Study Mart  400\n",
      "Study Mart  401\n",
      "Study Mart  402\n",
      "Study Mart  403\n",
      "Study Mart  404\n",
      "Study Mart  405\n",
      "Study Mart  406\n",
      "Study Mart  407\n",
      "Study Mart  408\n",
      "Study Mart  409\n",
      "Study Mart  410\n",
      "Study Mart  411\n",
      "Study Mart  412\n",
      "Study Mart  413\n",
      "Study Mart  414\n",
      "Study Mart  415\n",
      "Study Mart  416\n",
      "Study Mart  417\n",
      "Study Mart  418\n",
      "Study Mart  419\n",
      "Study Mart  420\n",
      "Study Mart  421\n",
      "Study Mart  422\n",
      "Study Mart  423\n",
      "Study Mart  424\n",
      "Study Mart  425\n",
      "Study Mart  426\n",
      "Study Mart  427\n",
      "Study Mart  428\n",
      "Study Mart  429\n",
      "Study Mart  430\n",
      "Study Mart  431\n",
      "Study Mart  432\n",
      "Study Mart  433\n",
      "Study Mart  434\n",
      "Study Mart  435\n",
      "Study Mart  436\n",
      "Study Mart  437\n",
      "Study Mart  438\n",
      "Study Mart  439\n",
      "Study Mart  440\n",
      "Study Mart  441\n",
      "Study Mart  442\n",
      "Study Mart  443\n",
      "Study Mart  444\n",
      "Study Mart  445\n",
      "Study Mart  446\n",
      "Study Mart  447\n",
      "Study Mart  448\n",
      "Study Mart  449\n",
      "Study Mart  450\n",
      "Study Mart  451\n",
      "Study Mart  452\n",
      "Study Mart  453\n",
      "Study Mart  454\n",
      "Study Mart  455\n",
      "Study Mart  456\n",
      "Study Mart  457\n",
      "Study Mart  458\n",
      "Study Mart  459\n",
      "Study Mart  460\n",
      "Study Mart  461\n",
      "Study Mart  462\n",
      "Study Mart  463\n",
      "Study Mart  464\n",
      "Study Mart  465\n",
      "Study Mart  466\n",
      "Study Mart  467\n",
      "Study Mart  468\n",
      "Study Mart  469\n",
      "Study Mart  470\n",
      "Study Mart  471\n",
      "Study Mart  472\n",
      "Study Mart  473\n",
      "Study Mart  474\n",
      "Study Mart  475\n",
      "Study Mart  476\n",
      "Study Mart  477\n",
      "Study Mart  478\n",
      "Study Mart  479\n",
      "Study Mart  480\n",
      "Study Mart  481\n",
      "Study Mart  482\n",
      "Study Mart  483\n",
      "Study Mart  484\n",
      "Study Mart  485\n",
      "Study Mart  486\n",
      "Study Mart  487\n",
      "Study Mart  488\n",
      "Study Mart  489\n",
      "Study Mart  490\n",
      "Study Mart  491\n",
      "Study Mart  492\n",
      "Study Mart  493\n",
      "Study Mart  494\n",
      "Study Mart  495\n",
      "Study Mart  496\n",
      "Study Mart  497\n",
      "Study Mart  498\n",
      "Study Mart  499\n",
      "Study Mart  500\n",
      "Study Mart  501\n",
      "Study Mart  502\n",
      "Study Mart  503\n",
      "Study Mart  504\n",
      "Study Mart  505\n",
      "Study Mart  506\n",
      "Study Mart  507\n",
      "Study Mart  508\n",
      "Study Mart  509\n",
      "Study Mart  510\n",
      "Study Mart  511\n",
      "Study Mart  512\n",
      "Study Mart  513\n",
      "Study Mart  514\n",
      "Study Mart  515\n",
      "Study Mart  516\n",
      "Study Mart  517\n",
      "Study Mart  518\n",
      "Study Mart  519\n",
      "Study Mart  520\n",
      "Study Mart  521\n",
      "Study Mart  522\n",
      "Study Mart  523\n",
      "Study Mart  524\n",
      "Study Mart  525\n",
      "Study Mart  526\n",
      "Study Mart  527\n",
      "Study Mart  528\n",
      "Study Mart  529\n",
      "Study Mart  530\n",
      "Study Mart  531\n",
      "Study Mart  532\n",
      "Study Mart  533\n",
      "Study Mart  534\n",
      "Study Mart  535\n",
      "Study Mart  536\n",
      "Study Mart  537\n",
      "Study Mart  538\n",
      "Study Mart  539\n",
      "Study Mart  540\n",
      "Study Mart  541\n",
      "Study Mart  542\n",
      "Study Mart  543\n",
      "Study Mart  544\n",
      "Study Mart  545\n",
      "Study Mart  546\n",
      "Study Mart  547\n",
      "Study Mart  548\n",
      "Study Mart  549\n",
      "Study Mart  550\n",
      "Study Mart  551\n",
      "Study Mart  552\n",
      "Study Mart  553\n",
      "Study Mart  554\n",
      "Study Mart  555\n",
      "Study Mart  556\n",
      "Study Mart  557\n",
      "Study Mart  558\n",
      "Study Mart  559\n",
      "Study Mart  560\n",
      "Study Mart  561\n",
      "Study Mart  562\n",
      "Study Mart  563\n",
      "Study Mart  564\n",
      "Study Mart  565\n",
      "Study Mart  566\n",
      "Study Mart  567\n",
      "Study Mart  568\n",
      "Study Mart  569\n",
      "Study Mart  570\n",
      "Study Mart  571\n",
      "Study Mart  572\n",
      "Study Mart  573\n",
      "Study Mart  574\n",
      "Study Mart  575\n",
      "Study Mart  576\n",
      "Study Mart  577\n",
      "Study Mart  578\n",
      "Study Mart  579\n",
      "Study Mart  580\n",
      "Study Mart  581\n",
      "Study Mart  582\n",
      "Study Mart  583\n",
      "Study Mart  584\n",
      "Study Mart  585\n",
      "Study Mart  586\n",
      "Study Mart  587\n",
      "Study Mart  588\n",
      "Study Mart  589\n",
      "Study Mart  590\n",
      "Study Mart  591\n",
      "Study Mart  592\n",
      "Study Mart  593\n",
      "Study Mart  594\n",
      "Study Mart  595\n",
      "Study Mart  596\n",
      "Study Mart  597\n",
      "Study Mart  598\n",
      "Study Mart  599\n",
      "Study Mart  600\n",
      "Study Mart  601\n",
      "Study Mart  602\n",
      "Study Mart  603\n",
      "Study Mart  604\n",
      "Study Mart  605\n",
      "Study Mart  606\n",
      "Study Mart  607\n",
      "Study Mart  608\n",
      "Study Mart  609\n",
      "Study Mart  610\n",
      "Study Mart  611\n",
      "Study Mart  612\n",
      "Study Mart  613\n",
      "Study Mart  614\n",
      "Study Mart  615\n",
      "Study Mart  616\n",
      "Study Mart  617\n",
      "Study Mart  618\n",
      "Study Mart  619\n",
      "Study Mart  620\n",
      "Study Mart  621\n",
      "Study Mart  622\n",
      "Study Mart  623\n",
      "Study Mart  624\n",
      "Study Mart  625\n",
      "Study Mart  626\n",
      "Study Mart  627\n",
      "Study Mart  628\n",
      "Study Mart  629\n",
      "Study Mart  630\n",
      "Study Mart  631\n",
      "Study Mart  632\n",
      "Study Mart  633\n",
      "Study Mart  634\n",
      "Study Mart  635\n",
      "Study Mart  636\n",
      "Study Mart  637\n",
      "Study Mart  638\n",
      "Study Mart  639\n",
      "Study Mart  640\n",
      "Study Mart  641\n",
      "Study Mart  642\n",
      "Study Mart  643\n",
      "Study Mart  644\n",
      "Study Mart  645\n",
      "Study Mart  646\n",
      "Study Mart  647\n",
      "Study Mart  648\n",
      "Study Mart  649\n",
      "Study Mart  650\n",
      "Study Mart  651\n",
      "Study Mart  652\n",
      "Study Mart  653\n",
      "Study Mart  654\n",
      "Study Mart  655\n",
      "Study Mart  656\n",
      "Study Mart  657\n",
      "Study Mart  658\n",
      "Study Mart  659\n",
      "Study Mart  660\n",
      "Study Mart  661\n",
      "Study Mart  662\n",
      "Study Mart  663\n",
      "Study Mart  664\n",
      "Study Mart  665\n",
      "Study Mart  666\n",
      "Study Mart  667\n",
      "Study Mart  668\n",
      "Study Mart  669\n",
      "Study Mart  670\n",
      "Study Mart  671\n",
      "Study Mart  672\n",
      "Study Mart  673\n",
      "Study Mart  674\n",
      "Study Mart  675\n",
      "Study Mart  676\n",
      "Study Mart  677\n",
      "Study Mart  678\n",
      "Study Mart  679\n",
      "Study Mart  680\n",
      "Study Mart  681\n",
      "Study Mart  682\n",
      "Study Mart  683\n",
      "Study Mart  684\n",
      "Study Mart  685\n",
      "Study Mart  686\n",
      "Study Mart  687\n",
      "Study Mart  688\n",
      "Study Mart  689\n",
      "Study Mart  690\n",
      "Study Mart  691\n",
      "Study Mart  692\n",
      "Study Mart  693\n",
      "Study Mart  694\n",
      "Study Mart  695\n",
      "Study Mart  696\n",
      "Study Mart  697\n",
      "Study Mart  698\n",
      "Study Mart  699\n",
      "Study Mart  700\n",
      "Study Mart  701\n",
      "Study Mart  702\n",
      "Study Mart  703\n",
      "Study Mart  704\n",
      "Study Mart  705\n",
      "Study Mart  706\n",
      "Study Mart  707\n",
      "Study Mart  708\n",
      "Study Mart  709\n",
      "Study Mart  710\n",
      "Study Mart  711\n",
      "Study Mart  712\n",
      "Study Mart  713\n",
      "Study Mart  714\n",
      "Study Mart  715\n",
      "Study Mart  716\n",
      "Study Mart  717\n",
      "Study Mart  718\n",
      "Study Mart  719\n",
      "Study Mart  720\n",
      "Study Mart  721\n",
      "Study Mart  722\n",
      "Study Mart  723\n",
      "Study Mart  724\n",
      "Study Mart  725\n",
      "Study Mart  726\n",
      "Study Mart  727\n",
      "Study Mart  728\n",
      "Study Mart  729\n",
      "Study Mart  730\n",
      "Study Mart  731\n",
      "Study Mart  732\n",
      "Study Mart  733\n",
      "Study Mart  734\n",
      "Study Mart  735\n",
      "Study Mart  736\n",
      "Study Mart  737\n",
      "Study Mart  738\n",
      "Study Mart  739\n",
      "Study Mart  740\n",
      "Study Mart  741\n",
      "Study Mart  742\n",
      "Study Mart  743\n",
      "Study Mart  744\n",
      "Study Mart  745\n",
      "Study Mart  746\n",
      "Study Mart  747\n",
      "Study Mart  748\n",
      "Study Mart  749\n",
      "Study Mart  750\n",
      "Study Mart  751\n",
      "Study Mart  752\n",
      "Study Mart  753\n",
      "Study Mart  754\n",
      "Study Mart  755\n",
      "Study Mart  756\n",
      "Study Mart  757\n",
      "Study Mart  758\n",
      "Study Mart  759\n",
      "Study Mart  760\n",
      "Study Mart  761\n",
      "Study Mart  762\n",
      "Study Mart  763\n",
      "Study Mart  764\n",
      "Study Mart  765\n",
      "Study Mart  766\n",
      "Study Mart  767\n",
      "Study Mart  768\n",
      "Study Mart  769\n",
      "Study Mart  770\n",
      "Study Mart  771\n",
      "Study Mart  772\n",
      "Study Mart  773\n",
      "Study Mart  774\n",
      "Study Mart  775\n",
      "Study Mart  776\n",
      "Study Mart  777\n",
      "Study Mart  778\n",
      "Study Mart  779\n",
      "Study Mart  780\n",
      "Study Mart  781\n",
      "Study Mart  782\n",
      "Study Mart  783\n",
      "Study Mart  784\n",
      "Study Mart  785\n",
      "Study Mart  786\n",
      "Study Mart  787\n",
      "Study Mart  788\n",
      "Study Mart  789\n",
      "Study Mart  790\n",
      "Study Mart  791\n",
      "Study Mart  792\n",
      "Study Mart  793\n",
      "Study Mart  794\n",
      "Study Mart  795\n",
      "Study Mart  796\n",
      "Study Mart  797\n",
      "Study Mart  798\n",
      "Study Mart  799\n",
      "Study Mart  800\n",
      "Study Mart  801\n",
      "Study Mart  802\n",
      "Study Mart  803\n",
      "Study Mart  804\n",
      "Study Mart  805\n",
      "Study Mart  806\n",
      "Study Mart  807\n",
      "Study Mart  808\n",
      "Study Mart  809\n",
      "Study Mart  810\n",
      "Study Mart  811\n",
      "Study Mart  812\n",
      "Study Mart  813\n",
      "Study Mart  814\n",
      "Study Mart  815\n",
      "Study Mart  816\n",
      "Study Mart  817\n",
      "Study Mart  818\n",
      "Study Mart  819\n",
      "Study Mart  820\n",
      "Study Mart  821\n",
      "Study Mart  822\n",
      "Study Mart  823\n",
      "Study Mart  824\n",
      "Study Mart  825\n",
      "Study Mart  826\n",
      "Study Mart  827\n",
      "Study Mart  828\n",
      "Study Mart  829\n",
      "Study Mart  830\n",
      "Study Mart  831\n",
      "Study Mart  832\n",
      "Study Mart  833\n",
      "Study Mart  834\n",
      "Study Mart  835\n",
      "Study Mart  836\n",
      "Study Mart  837\n",
      "Study Mart  838\n",
      "Study Mart  839\n",
      "Study Mart  840\n",
      "Study Mart  841\n",
      "Study Mart  842\n",
      "Study Mart  843\n",
      "Study Mart  844\n",
      "Study Mart  845\n",
      "Study Mart  846\n",
      "Study Mart  847\n",
      "Study Mart  848\n",
      "Study Mart  849\n",
      "Study Mart  850\n",
      "Study Mart  851\n",
      "Study Mart  852\n",
      "Study Mart  853\n",
      "Study Mart  854\n",
      "Study Mart  855\n",
      "Study Mart  856\n",
      "Study Mart  857\n",
      "Study Mart  858\n",
      "Study Mart  859\n",
      "Study Mart  860\n",
      "Study Mart  861\n",
      "Study Mart  862\n",
      "Study Mart  863\n",
      "Study Mart  864\n",
      "Study Mart  865\n",
      "Study Mart  866\n",
      "Study Mart  867\n",
      "Study Mart  868\n",
      "Study Mart  869\n",
      "Study Mart  870\n",
      "Study Mart  871\n",
      "Study Mart  872\n",
      "Study Mart  873\n",
      "Study Mart  874\n",
      "Study Mart  875\n",
      "Study Mart  876\n",
      "Study Mart  877\n",
      "Study Mart  878\n",
      "Study Mart  879\n",
      "Study Mart  880\n",
      "Study Mart  881\n",
      "Study Mart  882\n",
      "Study Mart  883\n",
      "Study Mart  884\n",
      "Study Mart  885\n",
      "Study Mart  886\n",
      "Study Mart  887\n",
      "Study Mart  888\n",
      "Study Mart  889\n",
      "Study Mart  890\n",
      "Study Mart  891\n",
      "Study Mart  892\n",
      "Study Mart  893\n",
      "Study Mart  894\n",
      "Study Mart  895\n",
      "Study Mart  896\n",
      "Study Mart  897\n",
      "Study Mart  898\n",
      "Study Mart  899\n",
      "Study Mart  900\n",
      "Study Mart  901\n",
      "Study Mart  902\n",
      "Study Mart  903\n",
      "Study Mart  904\n",
      "Study Mart  905\n",
      "Study Mart  906\n",
      "Study Mart  907\n",
      "Study Mart  908\n",
      "Study Mart  909\n",
      "Study Mart  910\n",
      "Study Mart  911\n",
      "Study Mart  912\n",
      "Study Mart  913\n",
      "Study Mart  914\n",
      "Study Mart  915\n",
      "Study Mart  916\n",
      "Study Mart  917\n",
      "Study Mart  918\n",
      "Study Mart  919\n",
      "Study Mart  920\n",
      "Study Mart  921\n",
      "Study Mart  922\n",
      "Study Mart  923\n",
      "Study Mart  924\n",
      "Study Mart  925\n",
      "Study Mart  926\n",
      "Study Mart  927\n",
      "Study Mart  928\n",
      "Study Mart  929\n",
      "Study Mart  930\n",
      "Study Mart  931\n",
      "Study Mart  932\n",
      "Study Mart  933\n",
      "Study Mart  934\n",
      "Study Mart  935\n",
      "Study Mart  936\n",
      "Study Mart  937\n",
      "Study Mart  938\n",
      "Study Mart  939\n",
      "Study Mart  940\n",
      "Study Mart  941\n",
      "Study Mart  942\n",
      "Study Mart  943\n",
      "Study Mart  944\n",
      "Study Mart  945\n",
      "Study Mart  946\n",
      "Study Mart  947\n",
      "Study Mart  948\n",
      "Study Mart  949\n",
      "Study Mart  950\n",
      "Study Mart  951\n",
      "Study Mart  952\n",
      "Study Mart  953\n",
      "Study Mart  954\n",
      "Study Mart  955\n",
      "Study Mart  956\n",
      "Study Mart  957\n",
      "Study Mart  958\n",
      "Study Mart  959\n",
      "Study Mart  960\n",
      "Study Mart  961\n",
      "Study Mart  962\n",
      "Study Mart  963\n",
      "Study Mart  964\n",
      "Study Mart  965\n",
      "Study Mart  966\n",
      "Study Mart  967\n",
      "Study Mart  968\n",
      "Study Mart  969\n",
      "Study Mart  970\n",
      "Study Mart  971\n",
      "Study Mart  972\n",
      "Study Mart  973\n",
      "Study Mart  974\n",
      "Study Mart  975\n",
      "Study Mart  976\n",
      "Study Mart  977\n",
      "Study Mart  978\n",
      "Study Mart  979\n",
      "Study Mart  980\n",
      "Study Mart  981\n",
      "Study Mart  982\n",
      "Study Mart  983\n",
      "Study Mart  984\n",
      "Study Mart  985\n",
      "Study Mart  986\n",
      "Study Mart  987\n",
      "Study Mart  988\n",
      "Study Mart  989\n",
      "Study Mart  990\n",
      "Study Mart  991\n",
      "Study Mart  992\n",
      "Study Mart  993\n",
      "Study Mart  994\n",
      "Study Mart  995\n",
      "Study Mart  996\n",
      "Study Mart  997\n",
      "Study Mart  998\n",
      "Study Mart  999\n",
      "Study Mart  1000\n",
      "Study Mart  1001\n",
      "Study Mart  1002\n",
      "Study Mart  1003\n",
      "Study Mart  1004\n",
      "Study Mart  1005\n",
      "Study Mart  1006\n",
      "Study Mart  1007\n",
      "Study Mart  1008\n",
      "Study Mart  1009\n",
      "Study Mart  1010\n",
      "Study Mart  1011\n",
      "Study Mart  1012\n",
      "Study Mart  1013\n",
      "Study Mart  1014\n",
      "Study Mart  1015\n",
      "Study Mart  1016\n",
      "Study Mart  1017\n",
      "Study Mart  1018\n",
      "Study Mart  1019\n",
      "Study Mart  1020\n",
      "Study Mart  1021\n",
      "Study Mart  1022\n",
      "Study Mart  1023\n",
      "Study Mart  1024\n",
      "Study Mart  1025\n",
      "Study Mart  1026\n",
      "Study Mart  1027\n",
      "Study Mart  1028\n",
      "Study Mart  1029\n",
      "Study Mart  1030\n",
      "Study Mart  1031\n",
      "Study Mart  1032\n",
      "Study Mart  1033\n",
      "Study Mart  1034\n",
      "Study Mart  1035\n",
      "Study Mart  1036\n",
      "Study Mart  1037\n",
      "Study Mart  1038\n",
      "Study Mart  1039\n",
      "Study Mart  1040\n",
      "Study Mart  1041\n",
      "Study Mart  1042\n",
      "Study Mart  1043\n",
      "Study Mart  1044\n",
      "Study Mart  1045\n",
      "Study Mart  1046\n",
      "Study Mart  1047\n",
      "Study Mart  1048\n",
      "Study Mart  1049\n",
      "Study Mart  1050\n",
      "Study Mart  1051\n",
      "Study Mart  1052\n",
      "Study Mart  1053\n",
      "Study Mart  1054\n",
      "Study Mart  1055\n",
      "Study Mart  1056\n",
      "Study Mart  1057\n",
      "Study Mart  1058\n",
      "Study Mart  1059\n",
      "Study Mart  1060\n",
      "Study Mart  1061\n",
      "Study Mart  1062\n",
      "Study Mart  1063\n",
      "Study Mart  1064\n",
      "Study Mart  1065\n",
      "Study Mart  1066\n",
      "Study Mart  1067\n",
      "Study Mart  1068\n",
      "Study Mart  1069\n",
      "Study Mart  1070\n",
      "Study Mart  1071\n",
      "Study Mart  1072\n",
      "Study Mart  1073\n",
      "Study Mart  1074\n",
      "Study Mart  1075\n",
      "Study Mart  1076\n",
      "Study Mart  1077\n",
      "Study Mart  1078\n",
      "Study Mart  1079\n",
      "Study Mart  1080\n",
      "Study Mart  1081\n",
      "Study Mart  1082\n",
      "Study Mart  1083\n",
      "Study Mart  1084\n",
      "Study Mart  1085\n",
      "Study Mart  1086\n",
      "Study Mart  1087\n",
      "Study Mart  1088\n",
      "Study Mart  1089\n",
      "Study Mart  1090\n",
      "Study Mart  1091\n",
      "Study Mart  1092\n",
      "Study Mart  1093\n",
      "Study Mart  1094\n",
      "Study Mart  1095\n",
      "Study Mart  1096\n",
      "Study Mart  1097\n",
      "Study Mart  1098\n",
      "Study Mart  1099\n",
      "Study Mart  1100\n",
      "Study Mart  1101\n",
      "Study Mart  1102\n",
      "Study Mart  1103\n",
      "Study Mart  1104\n",
      "Study Mart  1105\n",
      "Study Mart  1106\n",
      "Study Mart  1107\n",
      "Study Mart  1108\n",
      "Study Mart  1109\n",
      "Study Mart  1110\n",
      "Study Mart  1111\n",
      "Study Mart  1112\n",
      "Study Mart  1113\n",
      "Study Mart  1114\n",
      "Study Mart  1115\n",
      "Study Mart  1116\n",
      "Study Mart  1117\n",
      "Study Mart  1118\n",
      "Study Mart  1119\n",
      "Study Mart  1120\n",
      "Study Mart  1121\n",
      "Study Mart  1122\n",
      "Study Mart  1123\n",
      "Study Mart  1124\n",
      "Study Mart  1125\n",
      "Study Mart  1126\n",
      "Study Mart  1127\n",
      "Study Mart  1128\n",
      "Study Mart  1129\n",
      "Study Mart  1130\n",
      "Study Mart  1131\n",
      "Study Mart  1132\n",
      "Study Mart  1133\n",
      "Study Mart  1134\n",
      "Study Mart  1135\n",
      "Study Mart  1136\n",
      "Study Mart  1137\n",
      "Study Mart  1138\n",
      "Study Mart  1139\n",
      "Study Mart  1140\n",
      "Study Mart  1141\n",
      "Study Mart  1142\n",
      "Study Mart  1143\n",
      "Study Mart  1144\n",
      "Study Mart  1145\n",
      "Study Mart  1146\n",
      "Study Mart  1147\n",
      "Study Mart  1148\n",
      "Study Mart  1149\n",
      "Study Mart  1150\n",
      "Study Mart  1151\n",
      "Study Mart  1152\n",
      "Study Mart  1153\n",
      "Study Mart  1154\n",
      "Study Mart  1155\n",
      "Study Mart  1156\n",
      "Study Mart  1157\n",
      "Study Mart  1158\n",
      "Study Mart  1159\n",
      "Study Mart  1160\n",
      "Study Mart  1161\n",
      "Study Mart  1162\n",
      "Study Mart  1163\n",
      "Study Mart  1164\n",
      "Study Mart  1165\n",
      "Study Mart  1166\n",
      "Study Mart  1167\n",
      "Study Mart  1168\n",
      "Study Mart  1169\n",
      "Study Mart  1170\n",
      "Study Mart  1171\n",
      "Study Mart  1172\n",
      "Study Mart  1173\n",
      "Study Mart  1174\n",
      "Study Mart  1175\n",
      "Study Mart  1176\n",
      "Study Mart  1177\n",
      "Study Mart  1178\n",
      "Study Mart  1179\n",
      "Study Mart  1180\n",
      "Study Mart  1181\n",
      "Study Mart  1182\n",
      "Study Mart  1183\n",
      "Study Mart  1184\n",
      "Study Mart  1185\n",
      "Study Mart  1186\n",
      "Study Mart  1187\n",
      "Study Mart  1188\n",
      "Study Mart  1189\n",
      "Study Mart  1190\n",
      "Study Mart  1191\n",
      "Study Mart  1192\n",
      "Study Mart  1193\n",
      "Study Mart  1194\n",
      "Study Mart  1195\n",
      "Study Mart  1196\n",
      "Study Mart  1197\n",
      "Study Mart  1198\n",
      "Study Mart  1199\n",
      "Study Mart  1200\n",
      "Study Mart  1201\n",
      "Study Mart  1202\n",
      "Study Mart  1203\n",
      "Study Mart  1204\n",
      "Study Mart  1205\n",
      "Study Mart  1206\n",
      "Study Mart  1207\n",
      "Study Mart  1208\n",
      "Study Mart  1209\n",
      "Study Mart  1210\n",
      "Study Mart  1211\n",
      "Study Mart  1212\n",
      "Study Mart  1213\n",
      "Study Mart  1214\n",
      "Study Mart  1215\n",
      "Study Mart  1216\n",
      "Study Mart  1217\n",
      "Study Mart  1218\n",
      "Study Mart  1219\n",
      "Study Mart  1220\n",
      "Study Mart  1221\n",
      "Study Mart  1222\n",
      "Study Mart  1223\n",
      "Study Mart  1224\n",
      "Study Mart  1225\n",
      "Study Mart  1226\n",
      "Study Mart  1227\n",
      "Study Mart  1228\n",
      "Study Mart  1229\n",
      "Study Mart  1230\n",
      "Study Mart  1231\n",
      "Study Mart  1232\n",
      "Study Mart  1233\n",
      "Study Mart  1234\n",
      "Study Mart  1235\n",
      "Study Mart  1236\n",
      "Study Mart  1237\n",
      "Study Mart  1238\n",
      "Study Mart  1239\n",
      "Study Mart  1240\n",
      "Study Mart  1241\n",
      "Study Mart  1242\n",
      "Study Mart  1243\n",
      "Study Mart  1244\n",
      "Study Mart  1245\n",
      "Study Mart  1246\n",
      "Study Mart  1247\n",
      "Study Mart  1248\n",
      "Study Mart  1249\n",
      "Study Mart  1250\n",
      "Study Mart  1251\n",
      "Study Mart  1252\n",
      "Study Mart  1253\n",
      "Study Mart  1254\n",
      "Study Mart  1255\n",
      "Study Mart  1256\n",
      "Study Mart  1257\n",
      "Study Mart  1258\n",
      "Study Mart  1259\n",
      "Study Mart  1260\n",
      "Study Mart  1261\n",
      "Study Mart  1262\n",
      "Study Mart  1263\n",
      "Study Mart  1264\n",
      "Study Mart  1265\n",
      "Study Mart  1266\n",
      "Study Mart  1267\n",
      "Study Mart  1268\n",
      "Study Mart  1269\n",
      "Study Mart  1270\n",
      "Study Mart  1271\n",
      "Study Mart  1272\n",
      "Study Mart  1273\n",
      "Study Mart  1274\n",
      "Study Mart  1275\n",
      "Study Mart  1276\n",
      "Study Mart  1277\n",
      "Study Mart  1278\n",
      "Study Mart  1279\n",
      "Study Mart  1280\n",
      "Study Mart  1281\n",
      "Study Mart  1282\n",
      "Study Mart  1283\n",
      "Study Mart  1284\n",
      "Study Mart  1285\n",
      "Study Mart  1286\n",
      "Study Mart  1287\n",
      "Study Mart  1288\n",
      "Study Mart  1289\n",
      "Study Mart  1290\n",
      "Study Mart  1291\n",
      "Study Mart  1292\n",
      "Study Mart  1293\n",
      "Study Mart  1294\n",
      "Study Mart  1295\n",
      "Study Mart  1296\n",
      "Study Mart  1297\n",
      "Study Mart  1298\n",
      "Study Mart  1299\n",
      "Study Mart  1300\n",
      "Study Mart  1301\n",
      "Study Mart  1302\n",
      "Study Mart  1303\n",
      "Study Mart  1304\n",
      "Study Mart  1305\n",
      "Study Mart  1306\n",
      "Study Mart  1307\n",
      "Study Mart  1308\n",
      "Study Mart  1309\n",
      "Study Mart  1310\n",
      "Study Mart  1311\n",
      "Study Mart  1312\n",
      "Study Mart  1313\n",
      "Study Mart  1314\n",
      "Study Mart  1315\n",
      "Study Mart  1316\n",
      "Study Mart  1317\n",
      "Study Mart  1318\n",
      "Study Mart  1319\n",
      "Study Mart  1320\n",
      "Study Mart  1321\n",
      "Study Mart  1322\n",
      "Study Mart  1323\n",
      "Study Mart  1324\n",
      "Study Mart  1325\n",
      "Study Mart  1326\n",
      "Study Mart  1327\n",
      "Study Mart  1328\n",
      "Study Mart  1329\n",
      "Study Mart  1330\n",
      "Study Mart  1331\n",
      "Study Mart  1332\n",
      "Study Mart  1333\n",
      "Study Mart  1334\n",
      "Study Mart  1335\n",
      "Study Mart  1336\n",
      "Study Mart  1337\n",
      "Study Mart  1338\n",
      "Study Mart  1339\n",
      "Study Mart  1340\n",
      "Study Mart  1341\n",
      "Study Mart  1342\n",
      "Study Mart  1343\n",
      "Study Mart  1344\n",
      "Study Mart  1345\n",
      "Study Mart  1346\n",
      "Study Mart  1347\n",
      "Study Mart  1348\n",
      "Study Mart  1349\n",
      "Study Mart  1350\n",
      "Study Mart  1351\n",
      "Study Mart  1352\n",
      "Study Mart  1353\n",
      "Study Mart  1354\n",
      "Study Mart  1355\n",
      "Study Mart  1356\n",
      "Study Mart  1357\n",
      "Study Mart  1358\n",
      "Study Mart  1359\n",
      "Study Mart  1360\n",
      "Study Mart  1361\n",
      "Study Mart  1362\n",
      "Study Mart  1363\n",
      "Study Mart  1364\n",
      "Study Mart  1365\n",
      "Study Mart  1366\n",
      "Study Mart  1367\n",
      "Study Mart  1368\n",
      "Study Mart  1369\n",
      "Study Mart  1370\n",
      "Study Mart  1371\n",
      "Study Mart  1372\n",
      "Study Mart  1373\n",
      "Study Mart  1374\n",
      "Study Mart  1375\n",
      "Study Mart  1376\n",
      "Study Mart  1377\n",
      "Study Mart  1378\n",
      "Study Mart  1379\n",
      "Study Mart  1380\n",
      "Study Mart  1381\n",
      "Study Mart  1382\n",
      "Study Mart  1383\n",
      "Study Mart  1384\n",
      "Study Mart  1385\n",
      "Study Mart  1386\n",
      "Study Mart  1387\n",
      "Study Mart  1388\n",
      "Study Mart  1389\n",
      "Study Mart  1390\n",
      "Study Mart  1391\n",
      "Study Mart  1392\n",
      "Study Mart  1393\n",
      "Study Mart  1394\n",
      "Study Mart  1395\n",
      "Study Mart  1396\n",
      "Study Mart  1397\n",
      "Study Mart  1398\n",
      "Study Mart  1399\n",
      "Study Mart  1400\n",
      "Study Mart  1401\n",
      "Study Mart  1402\n",
      "Study Mart  1403\n",
      "Study Mart  1404\n",
      "Study Mart  1405\n",
      "Study Mart  1406\n",
      "Study Mart  1407\n",
      "Study Mart  1408\n",
      "Study Mart  1409\n",
      "Study Mart  1410\n",
      "Study Mart  1411\n",
      "Study Mart  1412\n",
      "Study Mart  1413\n",
      "Study Mart  1414\n",
      "Study Mart  1415\n",
      "Study Mart  1416\n",
      "Study Mart  1417\n",
      "Study Mart  1418\n",
      "Study Mart  1419\n",
      "Study Mart  1420\n",
      "Study Mart  1421\n",
      "Study Mart  1422\n",
      "Study Mart  1423\n",
      "Study Mart  1424\n",
      "Study Mart  1425\n",
      "Study Mart  1426\n",
      "Study Mart  1427\n",
      "Study Mart  1428\n",
      "Study Mart  1429\n",
      "Study Mart  1430\n",
      "Study Mart  1431\n",
      "Study Mart  1432\n",
      "Study Mart  1433\n",
      "Study Mart  1434\n",
      "Study Mart  1435\n",
      "Study Mart  1436\n",
      "Study Mart  1437\n",
      "Study Mart  1438\n",
      "Study Mart  1439\n",
      "Study Mart  1440\n",
      "Study Mart  1441\n",
      "Study Mart  1442\n",
      "Study Mart  1443\n",
      "Study Mart  1444\n",
      "Study Mart  1445\n",
      "Study Mart  1446\n",
      "Study Mart  1447\n",
      "Study Mart  1448\n",
      "Study Mart  1449\n",
      "Study Mart  1450\n",
      "Study Mart  1451\n",
      "Study Mart  1452\n",
      "Study Mart  1453\n",
      "Study Mart  1454\n",
      "Study Mart  1455\n",
      "Study Mart  1456\n",
      "Study Mart  1457\n"
     ]
    },
    {
     "ename": "RecursionError",
     "evalue": "maximum recursion depth exceeded while calling a Python object",
     "output_type": "error",
     "traceback": [
      "\u001b[1;31m---------------------------------------------------------------------------\u001b[0m",
      "\u001b[1;31mRecursionError\u001b[0m                            Traceback (most recent call last)",
      "\u001b[1;32m<ipython-input-252-06e0f28f3d53>\u001b[0m in \u001b[0;36m<module>\u001b[1;34m\u001b[0m\n\u001b[0;32m      9\u001b[0m     \u001b[0mprint\u001b[0m\u001b[1;33m(\u001b[0m\u001b[1;34m'Study Mart '\u001b[0m\u001b[1;33m,\u001b[0m\u001b[0mcount\u001b[0m\u001b[1;33m)\u001b[0m\u001b[1;33m\u001b[0m\u001b[1;33m\u001b[0m\u001b[0m\n\u001b[0;32m     10\u001b[0m     \u001b[0mmy_fnc\u001b[0m\u001b[1;33m(\u001b[0m\u001b[1;33m)\u001b[0m\u001b[1;33m\u001b[0m\u001b[1;33m\u001b[0m\u001b[0m\n\u001b[1;32m---> 11\u001b[1;33m \u001b[0mmy_fnc\u001b[0m\u001b[1;33m(\u001b[0m\u001b[1;33m)\u001b[0m\u001b[1;33m\u001b[0m\u001b[1;33m\u001b[0m\u001b[0m\n\u001b[0m",
      "\u001b[1;32m<ipython-input-252-06e0f28f3d53>\u001b[0m in \u001b[0;36mmy_fnc\u001b[1;34m()\u001b[0m\n\u001b[0;32m      8\u001b[0m     \u001b[0mcount\u001b[0m\u001b[1;33m=\u001b[0m\u001b[0mcount\u001b[0m\u001b[1;33m+\u001b[0m\u001b[1;36m1\u001b[0m\u001b[1;33m\u001b[0m\u001b[1;33m\u001b[0m\u001b[0m\n\u001b[0;32m      9\u001b[0m     \u001b[0mprint\u001b[0m\u001b[1;33m(\u001b[0m\u001b[1;34m'Study Mart '\u001b[0m\u001b[1;33m,\u001b[0m\u001b[0mcount\u001b[0m\u001b[1;33m)\u001b[0m\u001b[1;33m\u001b[0m\u001b[1;33m\u001b[0m\u001b[0m\n\u001b[1;32m---> 10\u001b[1;33m     \u001b[0mmy_fnc\u001b[0m\u001b[1;33m(\u001b[0m\u001b[1;33m)\u001b[0m\u001b[1;33m\u001b[0m\u001b[1;33m\u001b[0m\u001b[0m\n\u001b[0m\u001b[0;32m     11\u001b[0m \u001b[0mmy_fnc\u001b[0m\u001b[1;33m(\u001b[0m\u001b[1;33m)\u001b[0m\u001b[1;33m\u001b[0m\u001b[1;33m\u001b[0m\u001b[0m\n",
      "... last 1 frames repeated, from the frame below ...\n",
      "\u001b[1;32m<ipython-input-252-06e0f28f3d53>\u001b[0m in \u001b[0;36mmy_fnc\u001b[1;34m()\u001b[0m\n\u001b[0;32m      8\u001b[0m     \u001b[0mcount\u001b[0m\u001b[1;33m=\u001b[0m\u001b[0mcount\u001b[0m\u001b[1;33m+\u001b[0m\u001b[1;36m1\u001b[0m\u001b[1;33m\u001b[0m\u001b[1;33m\u001b[0m\u001b[0m\n\u001b[0;32m      9\u001b[0m     \u001b[0mprint\u001b[0m\u001b[1;33m(\u001b[0m\u001b[1;34m'Study Mart '\u001b[0m\u001b[1;33m,\u001b[0m\u001b[0mcount\u001b[0m\u001b[1;33m)\u001b[0m\u001b[1;33m\u001b[0m\u001b[1;33m\u001b[0m\u001b[0m\n\u001b[1;32m---> 10\u001b[1;33m     \u001b[0mmy_fnc\u001b[0m\u001b[1;33m(\u001b[0m\u001b[1;33m)\u001b[0m\u001b[1;33m\u001b[0m\u001b[1;33m\u001b[0m\u001b[0m\n\u001b[0m\u001b[0;32m     11\u001b[0m \u001b[0mmy_fnc\u001b[0m\u001b[1;33m(\u001b[0m\u001b[1;33m)\u001b[0m\u001b[1;33m\u001b[0m\u001b[1;33m\u001b[0m\u001b[0m\n",
      "\u001b[1;31mRecursionError\u001b[0m: maximum recursion depth exceeded while calling a Python object"
     ]
    }
   ],
   "source": [
    "import sys\n",
    "print('List = ',sys.getrecursionlimit())\n",
    "sys.setrecursionlimit(1500)\n",
    "\n",
    "count=0\n",
    "def my_fnc():\n",
    "    global count\n",
    "    count=count+1\n",
    "    print('Study Mart ',count)\n",
    "    my_fnc()\n",
    "my_fnc()"
   ]
  },
  {
   "cell_type": "markdown",
   "metadata": {},
   "source": [
    "# Factorial Using Recursion | Recursion Explained"
   ]
  },
  {
   "cell_type": "code",
   "execution_count": 253,
   "metadata": {},
   "outputs": [
    {
     "name": "stdout",
     "output_type": "stream",
     "text": [
      "Enter any number:5\n",
      "Result is =  120\n"
     ]
    }
   ],
   "source": [
    "def fnc(n):\n",
    "    if n==0:\n",
    "        return 1\n",
    "    return n * fnc(n-1)\n",
    "\n",
    "num=int(input(\"Enter any number:\"))\n",
    "\n",
    "result=fnc(num)\n",
    "print(\"Result is = \",result)"
   ]
  },
  {
   "cell_type": "markdown",
   "metadata": {},
   "source": [
    "# Python Object-Oriented Programming | Programming Paradigms "
   ]
  },
  {
   "cell_type": "markdown",
   "metadata": {},
   "source": [
    "Programming Paradigms in Python. 1. Declarative Programming:- 1. Functional Programming 2. Logic Programming 2. Mathematical Programming 2. Imperative Programming: 1. Procedural Programming 2. Object-Oriented - Programming (OOP)"
   ]
  },
  {
   "cell_type": "markdown",
   "metadata": {},
   "source": [
    "# Python Small Project | Text to Audio Converter | Text to Speech | Python Mini Project with Codes"
   ]
  },
  {
   "cell_type": "markdown",
   "metadata": {},
   "source": [
    "gTTS (Google Text-to-Speech)is a Python library and CLI tool to interface with Google Translate text-to-speech API. We will import the gTTS library from the gtts module which can be used for speech translation. The text variable is a string used to store the user's input. os=The os module is a part of the standard library, or stdlib, within Python 3. This means that it comes with your Python installation, but you still must import it. All of the following code assumes you have os imported. Because it is not a built-in function, you must always import"
   ]
  },
  {
   "cell_type": "code",
   "execution_count": 255,
   "metadata": {},
   "outputs": [
    {
     "data": {
      "text/plain": [
       "0"
      ]
     },
     "execution_count": 255,
     "metadata": {},
     "output_type": "execute_result"
    }
   ],
   "source": [
    "import os\n",
    "\n",
    "from gtts import gTTS\n",
    "\n",
    "fh=open('audio.txt','r')\n",
    "myText=fh.read().replace('\\n',\" \")\n",
    "language='en'\n",
    "output=gTTS(text=myText,lang=language,slow=False)\n",
    "output.save('output.mp3')\n",
    "fh.close()\n",
    "os.system('start output.mp3')"
   ]
  },
  {
   "cell_type": "markdown",
   "metadata": {},
   "source": [
    "# Python small project | Stopwatch with source code | Python mini project | Stopwatch using Python"
   ]
  },
  {
   "cell_type": "markdown",
   "metadata": {},
   "source": [
    "tkinter=Out of all the GUI methods, tkinter is the most commonly used method. It is a standard Python interface to the Tk GUI toolkit shipped with Python. Python with tkinter is the fastest and easiest way to create the GUI applications. Creating a GUI using tkinter is an easy task. time=Python has a module named time to handle time-related tasks."
   ]
  },
  {
   "cell_type": "code",
   "execution_count": 256,
   "metadata": {},
   "outputs": [],
   "source": [
    "from tkinter import *\n",
    "import time\n",
    "\n",
    "def Main():\n",
    "    global root\n",
    "\n",
    "    root = Tk()\n",
    "    root.title(\"Stopwatch made by @StudyMart\")\n",
    "    width = 500\n",
    "    height = 200\n",
    "    screen_width = root.winfo_screenwidth()\n",
    "    screen_height = root.winfo_screenheight()\n",
    "    x = (screen_width / 2) - (width / 2)\n",
    "    y = (screen_height / 2) - (height / 2)\n",
    "    root.geometry(\"%dx%d+%d+%d\" % (width, height, x, y))\n",
    "    Top = Frame(root, width=400)\n",
    "    Top.pack(side=TOP)\n",
    "\n",
    "    stopWatch = StopWatch(root)\n",
    "    stopWatch.pack(side=TOP)\n",
    "    Bottom = Frame(root, width=400)\n",
    "    Bottom.pack(side=BOTTOM)\n",
    "    Start = Button(Bottom, text='START', command=stopWatch.Start, width=10, height=3)\n",
    "    Start.pack(side=LEFT)\n",
    "    Stop = Button(Bottom, text='STOP', command=stopWatch.Stop, width=10, height=3)\n",
    "    Stop.pack(side=LEFT)\n",
    "    Reset = Button(Bottom, text='RESET', command=stopWatch.Reset, width=10, height=3)\n",
    "    Reset.pack(side=LEFT)\n",
    "    Exit = Button(Bottom, text='CLOSE', command=stopWatch.Exit, width=10, height=3)\n",
    "    Exit.pack(side=LEFT)\n",
    "    Title = Label(Top, text=\"StopWatch @studymart\", font=(\"arial\", 24), fg=\"white\", bg=\"black\")\n",
    "    Title.pack(fill=X)\n",
    "    root.config(bg=\"black\")\n",
    "    root.mainloop()\n",
    "\n",
    "\n",
    "class StopWatch(Frame):\n",
    "\n",
    "    def __init__(self, parent=None, **kw):\n",
    "        Frame.__init__(self, parent, kw)\n",
    "        self.startTime = 0.0\n",
    "        self.nextTime = 0.0\n",
    "        self.onRunning = 0\n",
    "        self.timestr = StringVar()\n",
    "        self.MakeWidget()\n",
    "\n",
    "    def MakeWidget(self):\n",
    "        timeText = Label(self, textvariable=self.timestr, font=(\"times new roman\", 45), fg=\"white\", bg=\"black\")\n",
    "        self.SetTime(self.nextTime)\n",
    "        timeText.pack(fill=X, expand=NO, pady=5, padx=10)\n",
    "\n",
    "    def Updater(self):\n",
    "        self.nextTime = time.time() - self.startTime\n",
    "        self.SetTime(self.nextTime)\n",
    "        self.timer = self.after(50, self.Updater)\n",
    "\n",
    "    def SetTime(self, nextElap):\n",
    "        minutes = int(nextElap / 60)\n",
    "        seconds = int(nextElap - minutes * 60.0)\n",
    "        miliSeconds = int((nextElap - minutes * 60.0 - seconds) * 100)\n",
    "        self.timestr.set('%02d:%02d:%02d' % (minutes, seconds, miliSeconds))\n",
    "\n",
    "    def Start(self):\n",
    "        if not self.onRunning:\n",
    "            self.startTime = time.time() - self.nextTime\n",
    "            self.Updater()\n",
    "            self.onRunning = 1\n",
    "\n",
    "    def Stop(self):\n",
    "        if self.onRunning:\n",
    "            self.after_cancel(self.timer)\n",
    "            self.nextTime = time.time() - self.startTime\n",
    "            self.SetTime(self.nextTime)\n",
    "            self.onRunning = 0\n",
    "\n",
    "    def Exit(self):\n",
    "            root.destroy()\n",
    "            exit()\n",
    "\n",
    "    def Reset(self):\n",
    "        self.startTime = time.time()\n",
    "        self.nextTime = 0.0\n",
    "        self.SetTime(self.nextTime)\n",
    "\n",
    "\n",
    "if __name__ == '__main__':\n",
    "    Main()"
   ]
  },
  {
   "cell_type": "markdown",
   "metadata": {},
   "source": [
    "# Python small project | Text Editor using Python | Text Editor using Python with source code"
   ]
  },
  {
   "cell_type": "code",
   "execution_count": 257,
   "metadata": {},
   "outputs": [],
   "source": [
    "from tkinter import *\n",
    "from tkinter import filedialog\n",
    "\n",
    "def new_file():\n",
    "    text.delete(0.0,END)\n",
    "\n",
    "def open_file():\n",
    "    file1=filedialog.askopenfile(mode='r')\n",
    "    data=file1.read()\n",
    "    text.delete(0.0,END)\n",
    "    text.insert(0.0,data) #Inserts data\n",
    "\n",
    "def save_file():\n",
    "    filename=\"Untitled.txt\"\n",
    "    data=text.get(0.0,END)\n",
    "    file1=open(filename,\"w\")\n",
    "    file1.write(data)\n",
    "\n",
    "def save_as():\n",
    "    file1=filedialog.asksaveasfile(mode='w')\n",
    "    data=text.get(0.0,END)\n",
    "    file1.write(data)\n",
    "\n",
    "gui=Tk() #tkinter object.\n",
    "gui.title(\"Text Creator\")\n",
    "gui.geometry(\"800x1000\")\n",
    "text=Text(gui)\n",
    "text.pack() #Display the text\n",
    "mymenu=Menu()\n",
    "list1=Menu()\n",
    "list1.add_command(label='Create File',command=new_file) #Create menus.\n",
    "list1.add_command(label='Save File',command=save_file)\n",
    "list1.add_command(label='Save File As',command=save_as)\n",
    "list1.add_command(label='Open File',command=open_file)\n",
    "list1.add_command(label='Exit',command=gui.quit)\n",
    "mymenu.add_cascade(label='File hamid',menu=list1) #Create a file option.\n",
    "gui.config(menu=mymenu)\n",
    "gui.mainloop()"
   ]
  },
  {
   "cell_type": "markdown",
   "metadata": {},
   "source": [
    "# Python Small Project | Tic Tac Toe Using Python | Python Tic Tac Toe Game With Source Codes"
   ]
  },
  {
   "cell_type": "code",
   "execution_count": 258,
   "metadata": {},
   "outputs": [],
   "source": [
    "from tkinter import Tk,ttk,Button\n",
    "from tkinter import messagebox\n",
    "from random import randint\n",
    "\n",
    "ActivePlayer = 1\n",
    "p1 = []\n",
    "p2 = []\n",
    "mov = 0\n",
    "\n",
    "def SetLayout(id,player_symbol):\n",
    "    if id==1:\n",
    "        b1.config(text= player_symbol)\n",
    "        b1.state(['disabled'])\n",
    "    elif id==2:\n",
    "        b2.config(text= player_symbol)\n",
    "        b2.state(['disabled'])\n",
    "    elif id==3:\n",
    "        b3.config(text= player_symbol)\n",
    "        b3.state(['disabled'])\n",
    "    elif id==4:\n",
    "        b4.config(text= player_symbol)\n",
    "        b4.state(['disabled'])\n",
    "    elif id==5:\n",
    "        b5.config(text= player_symbol)\n",
    "        b5.state(['disabled'])\n",
    "    elif id==6:\n",
    "        b6.config(text= player_symbol)\n",
    "        b6.state(['disabled'])\n",
    "    elif id==7:\n",
    "        b7.config(text= player_symbol)\n",
    "        b7.state(['disabled'])\n",
    "    elif id==8:\n",
    "        b8.config(text= player_symbol)\n",
    "        b8.state(['disabled'])\n",
    "    elif id==9:\n",
    "        b9.config(text= player_symbol)\n",
    "        b9.state(['disabled'])\n",
    "\n",
    "def CheckWinner():\n",
    "    global mov\n",
    "    winner = -1\n",
    "\n",
    "    if(1 in p1) and (2 in p1) and (3 in p1):\n",
    "        winner = 1\n",
    "    if(1 in p2) and (2 in p2) and (3 in p2):\n",
    "        winner = 2\n",
    "\n",
    "    if(4 in p1) and (5 in p1) and (6 in p1):\n",
    "        winner = 1\n",
    "    if(4 in p2) and (5 in p2) and (6 in p2):\n",
    "        winner = 2\n",
    "\n",
    "    if(7 in p1) and (8 in p1) and (9 in p1):\n",
    "        winner = 1\n",
    "    if(7 in p2) and (8 in p2) and (9 in p2):\n",
    "        winner = 2\n",
    "\n",
    "    if(1 in p1) and (4 in p1) and (7 in p1):\n",
    "        winner = 1\n",
    "    if(1 in p2) and (4 in p2) and (7 in p2):\n",
    "        winner = 2\n",
    "\n",
    "    if(2 in p1) and (5 in p1) and (8 in p1):\n",
    "        winner = 1\n",
    "    if(2 in p2) and (5 in p2) and (8 in p2):\n",
    "        winner = 2\n",
    "\n",
    "    if(3 in p1) and (6 in p1) and ( 9 in p1):\n",
    "        winner = 1\n",
    "    if(3 in p2) and (6 in p2) and (9 in p2):\n",
    "        winner = 2\n",
    "\n",
    "    if(1 in p1) and (5 in p1) and ( 9 in p1):\n",
    "        winner = 1\n",
    "    if(1 in p2) and (5 in p2) and (9 in p2):\n",
    "        winner = 2\n",
    "\n",
    "    if(3 in p1) and (5 in p1) and ( 7 in p1):\n",
    "        winner = 1\n",
    "    if(3 in p2) and (5 in p2) and (7 in p2):\n",
    "        winner = 2\n",
    "\n",
    "    if winner ==1:\n",
    "        messagebox.showinfo(title=\"Congratulations!\",\n",
    "            message=\"First Player is the winner\")\n",
    "    elif winner ==2:\n",
    "        messagebox.showinfo(title=\"Congratulations!\",\n",
    "            message=\"Second Player is the winner\")\n",
    "    elif mov ==9:\n",
    "        messagebox.showinfo(title=\"Draw\",\n",
    "            message=\"Opps! It's a Draw Match!\")\n",
    "\n",
    "def ButtonClick(id):\n",
    "    global ActivePlayer\n",
    "    global p1,p2\n",
    "    global mov\n",
    "\n",
    "    if(ActivePlayer ==1):\n",
    "        SetLayout(id,\"X\")\n",
    "        p1.append(id)\n",
    "        mov +=1\n",
    "        root.title(\"Tic Tac Toe : Player Two\")\n",
    "        ActivePlayer =2\n",
    "\n",
    "    elif(ActivePlayer==2):\n",
    "        SetLayout(id,\"O\")\n",
    "        p2.append(id)\n",
    "        mov +=1\n",
    "        root.title(\"Tic Tac Toe : Player One\")\n",
    "        ActivePlayer =1\n",
    "    CheckWinner()\n",
    "def AutoPlay():\n",
    "    global p1; global p2\n",
    "    Empty = []\n",
    "    for cell in range(9):\n",
    "        if(not((cell +1 in p1) or (cell +1 in p2))):\n",
    "            Empty.append(cell+1)\n",
    "    try:\n",
    "        RandIndex = randint(0,len(Empty) -1)\n",
    "        ButtonClick(Empty[RandIndex])\n",
    "    except:\n",
    "        pass\n",
    "def EnableAll():\n",
    "    b1.config(text= \" \")\n",
    "    b1.state(['!disabled'])\n",
    "    b2.config(text= \" \")\n",
    "    b2.state(['!disabled'])\n",
    "    b3.config(text= \" \")\n",
    "    b3.state(['!disabled'])\n",
    "    b4.config(text= \" \")\n",
    "    b4.state(['!disabled'])\n",
    "    b5.config(text= \" \")\n",
    "    b5.state(['!disabled'])\n",
    "    b6.config(text= \" \")\n",
    "    b6.state(['!disabled'])\n",
    "    b7.config(text= \" \")\n",
    "    b7.state(['!disabled'])\n",
    "    b8.config(text= \" \")\n",
    "    b8.state(['!disabled'])\n",
    "    b9.config(text= \" \")\n",
    "    b9.state(['!disabled'])\n",
    "\n",
    "\n",
    "def Restart():\n",
    "    global p1,p2,mov,ActivePlayer\n",
    "    p1.clear(); p2.clear()\n",
    "    mov,ActivePlayer = 0,1\n",
    "    root.title(\"Tic Tac Toe : Player One\")\n",
    "    EnableAll()\n",
    "\n",
    "\n",
    "root = Tk()\n",
    "root.title(\"Tic Tac toe : Player One\")\n",
    "st = ttk.Style()\n",
    "st.configure(\"my.TButton\", font=('Chiller',24,'bold'))\n",
    "\n",
    "b1 = ttk.Button(root, text=\" \", style=\"my.TButton\")\n",
    "b1.grid(row=1, column=0, sticky=\"snew\", ipadx=75,ipady=50)\n",
    "b1.config(command = lambda : ButtonClick(1))\n",
    "\n",
    "\n",
    "b2 = ttk.Button(root, text=\" \",style =\"my.TButton\")\n",
    "b2.grid(row=1, column=1, sticky=\"snew\", ipadx=50, ipady=50)\n",
    "b2.config(command = lambda : ButtonClick(2))\n",
    "\n",
    "b3= ttk.Button(root, text=\" \",style=\"my.TButton\")\n",
    "b3.grid(row=1, column=2, sticky=\"snew\", ipadx=50,\n",
    "        ipady=50)\n",
    "b3.config(command = lambda : ButtonClick(3))\n",
    "\n",
    "b4 = ttk.Button(root, text=\" \",style=\"my.TButton\")\n",
    "b4.grid(row=2, column=0, sticky=\"snew\", ipadx=50,\n",
    "        ipady=50)\n",
    "b4.config(command = lambda : ButtonClick(4))\n",
    "\n",
    "b5 = ttk.Button(root, text=\" \",style=\"my.TButton\")\n",
    "b5.grid(row=2, column=1, sticky=\"snew\", ipadx=50,\n",
    "        ipady=50)\n",
    "b5.config(command = lambda : ButtonClick(5))\n",
    "\n",
    "b6 = ttk.Button(root, text=\" \",style=\"my.TButton\")\n",
    "b6.grid(row=2, column=2, sticky=\"snew\", ipadx=50,\n",
    "        ipady=50)\n",
    "b6.config(command = lambda : ButtonClick(6))\n",
    "\n",
    "b7 = ttk.Button(root, text=\" \",style=\"my.TButton\")\n",
    "b7.grid(row=3, column=0, sticky=\"snew\", ipadx=50,\n",
    "        ipady=50)\n",
    "b7.config(command = lambda : ButtonClick(7))\n",
    "\n",
    "b8 = ttk.Button(root, text=\" \",style=\"my.TButton\")\n",
    "b8.grid(row=3, column=1, sticky=\"snew\", ipadx=50,\n",
    "        ipady=50)\n",
    "b8.config(command = lambda : ButtonClick(8))\n",
    "\n",
    "b9 = ttk.Button(root, text=\" \",style=\"my.TButton\")\n",
    "b9.grid(row=3, column=2, sticky=\"snew\", ipadx=50,\n",
    "        ipady=50)\n",
    "b9.config(command = lambda : ButtonClick(9))\n",
    "\n",
    "Button(text=\"Tic Tac Toe \", font=('times new roman', 18, 'bold'), bg='black', fg='white',\n",
    "            border=5, width=8,command = lambda :Restart()).grid(row=0, column=1, sticky=\"we\")\n",
    "root.resizable(0,0)\n",
    "root.mainloop()"
   ]
  }
 ],
 "metadata": {
  "kernelspec": {
   "display_name": "Python 3",
   "language": "python",
   "name": "python3"
  },
  "language_info": {
   "codemirror_mode": {
    "name": "ipython",
    "version": 3
   },
   "file_extension": ".py",
   "mimetype": "text/x-python",
   "name": "python",
   "nbconvert_exporter": "python",
   "pygments_lexer": "ipython3",
   "version": "3.8.5"
  }
 },
 "nbformat": 4,
 "nbformat_minor": 4
}
