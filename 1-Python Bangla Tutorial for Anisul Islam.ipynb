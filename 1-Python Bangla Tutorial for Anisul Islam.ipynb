{
 "cells": [
  {
   "cell_type": "markdown",
   "metadata": {},
   "source": [
    "# First Python Program"
   ]
  },
  {
   "cell_type": "code",
   "execution_count": 1,
   "metadata": {},
   "outputs": [
    {
     "name": "stdout",
     "output_type": "stream",
     "text": [
      "10\n"
     ]
    }
   ],
   "source": [
    "#integer number print \n",
    "print(10)"
   ]
  },
  {
   "cell_type": "code",
   "execution_count": 2,
   "metadata": {},
   "outputs": [
    {
     "name": "stdout",
     "output_type": "stream",
     "text": [
      "10.4\n"
     ]
    }
   ],
   "source": [
    "#floating number print \n",
    "print(10.4)"
   ]
  },
  {
   "cell_type": "code",
   "execution_count": 3,
   "metadata": {},
   "outputs": [
    {
     "name": "stdout",
     "output_type": "stream",
     "text": [
      "Hamid Hosen\n",
      "0193887577\n"
     ]
    }
   ],
   "source": [
    "#name & number print\n",
    "print(\"Hamid Hosen\")\n",
    "print(\"0193887577\")"
   ]
  },
  {
   "cell_type": "markdown",
   "metadata": {},
   "source": [
    "# Backslash characters and comments"
   ]
  },
  {
   "cell_type": "code",
   "execution_count": 5,
   "metadata": {},
   "outputs": [
    {
     "name": "stdout",
     "output_type": "stream",
     "text": [
      "Hamid Hosen\n",
      "0193887577\n"
     ]
    }
   ],
   "source": [
    "#Backslash characters and comments\n",
    "#my biodata program \n",
    "'''\n",
    "This is a \n",
    "multiple line comment\n",
    "'''\n",
    "print(\"Hamid Hosen\")\n",
    "print(\"0193887577\")"
   ]
  },
  {
   "cell_type": "code",
   "execution_count": 6,
   "metadata": {},
   "outputs": [
    {
     "name": "stdout",
     "output_type": "stream",
     "text": [
      "Hamid Hosen \n",
      "Department of CSE \n",
      "East Delta University\n",
      "Hamid Hosen \tDepartment of CSE \tEast Delta University\n",
      "\"Hamid Hosen\"\n"
     ]
    }
   ],
   "source": [
    "#Backslash characters\n",
    "print(\"Hamid Hosen \\nDepartment of CSE \\nEast Delta University\")\n",
    "print(\"Hamid Hosen \\tDepartment of CSE \\tEast Delta University\")\n",
    "print(\"\\\"Hamid Hosen\\\"\")"
   ]
  },
  {
   "cell_type": "markdown",
   "metadata": {},
   "source": [
    "# Variables and Data Types"
   ]
  },
  {
   "cell_type": "code",
   "execution_count": 7,
   "metadata": {},
   "outputs": [
    {
     "name": "stdout",
     "output_type": "stream",
     "text": [
      "Our new studen name is Hamid Hosen\n",
      "Hamid Hosen lives in Chittagonf\n",
      "She is currently 24  years old\n",
      "At the age of 24 ,She has started phython\n",
      "Hamid Hosen\n"
     ]
    }
   ],
   "source": [
    "#Variables and Data Types\n",
    "#variable using then name convertion\n",
    "name=\"Hamid Hosen\"\n",
    "age=24\n",
    "print(\"Our new studen name is \"+name)\n",
    "print(name+\" lives in Chittagonf\")\n",
    "print(\"She is currently\",age,\" years old\")#age is integer then comma use\n",
    "print(\"At the age of\",age,\",She has started phython\")\n",
    "print(\"Hamid \"+\"Hosen\")"
   ]
  },
  {
   "cell_type": "markdown",
   "metadata": {},
   "source": [
    "# Basic Numerical Operations"
   ]
  },
  {
   "cell_type": "code",
   "execution_count": 8,
   "metadata": {},
   "outputs": [
    {
     "name": "stdout",
     "output_type": "stream",
     "text": [
      "15\n",
      "7\n",
      "44\n",
      "2.75\n",
      "3\n"
     ]
    }
   ],
   "source": [
    "print(11+4)\n",
    "print(11-4)\n",
    "print(11*4)\n",
    "print(11/4)\n",
    "print(11%4)"
   ]
  },
  {
   "cell_type": "code",
   "execution_count": 9,
   "metadata": {},
   "outputs": [
    {
     "name": "stdout",
     "output_type": "stream",
     "text": [
      "18\n",
      "10\n",
      "56\n",
      "3.5\n",
      "2\n"
     ]
    }
   ],
   "source": [
    "# Basic Numerical Operations \n",
    "a=14\n",
    "b=4\n",
    "print(a+b)\n",
    "print(a-b)\n",
    "print(a*b)\n",
    "print(a/b)\n",
    "print(a%b)"
   ]
  },
  {
   "cell_type": "code",
   "execution_count": 10,
   "metadata": {},
   "outputs": [
    {
     "name": "stdout",
     "output_type": "stream",
     "text": [
      "5\n"
     ]
    }
   ],
   "source": [
    "#Floor number print\n",
    "a=23\n",
    "b=4\n",
    "print(a//b)"
   ]
  },
  {
   "cell_type": "code",
   "execution_count": 11,
   "metadata": {},
   "outputs": [
    {
     "name": "stdout",
     "output_type": "stream",
     "text": [
      "64\n"
     ]
    }
   ],
   "source": [
    "#Exponentiation \n",
    "a=4\n",
    "b=3\n",
    "print(a**b)"
   ]
  },
  {
   "cell_type": "markdown",
   "metadata": {},
   "source": [
    "# Getting User Input"
   ]
  },
  {
   "cell_type": "code",
   "execution_count": 12,
   "metadata": {},
   "outputs": [
    {
     "name": "stdout",
     "output_type": "stream",
     "text": [
      "Student Information\n",
      "--------------------\n",
      "Name: Hamid Hosen\n",
      "Age :20\n",
      "CGPA:3.82\n"
     ]
    }
   ],
   "source": [
    "print(\"Student Information\")\n",
    "print(\"--------------------\")\n",
    "print(\"Name: Hamid Hosen\")\n",
    "print(\"Age :20\")\n",
    "print(\"CGPA:3.82\")"
   ]
  },
  {
   "cell_type": "code",
   "execution_count": 13,
   "metadata": {},
   "outputs": [
    {
     "name": "stdout",
     "output_type": "stream",
     "text": [
      "Student Information\n",
      "--------------------\n",
      "Name: Hamid Hosen\n",
      "Age :20\n",
      "CGPA:3.82\n"
     ]
    }
   ],
   "source": [
    "#Variable using Input \n",
    "name=\"Hamid Hosen\"\n",
    "age=\"20\"\n",
    "gpa=\"3.82\"\n",
    "print(\"Student Information\")\n",
    "print(\"--------------------\")\n",
    "print(\"Name: \"+name)\n",
    "print(\"Age :\"+age)\n",
    "print(\"CGPA:\"+gpa)"
   ]
  },
  {
   "cell_type": "code",
   "execution_count": 14,
   "metadata": {},
   "outputs": [
    {
     "name": "stdout",
     "output_type": "stream",
     "text": [
      "Enter your name:Hamid Hosen\n",
      "Enter your age:21\n",
      "Enter your gpa:3.82\n",
      "Student Information\n",
      "--------------------\n",
      "Name: Hamid Hosen\n",
      "Age :21\n",
      "CGPA:3.82\n"
     ]
    }
   ],
   "source": [
    "#user input \n",
    "name=input(\"Enter your name:\")\n",
    "age=input(\"Enter your age:\")\n",
    "gpa=input(\"Enter your gpa:\")\n",
    "print(\"Student Information\")\n",
    "print(\"--------------------\")\n",
    "print(\"Name: \"+name)\n",
    "print(\"Age :\"+age)\n",
    "print(\"CGPA:\"+gpa)"
   ]
  },
  {
   "cell_type": "markdown",
   "metadata": {},
   "source": [
    "# Type Casting"
   ]
  },
  {
   "cell_type": "code",
   "execution_count": 15,
   "metadata": {},
   "outputs": [
    {
     "name": "stdout",
     "output_type": "stream",
     "text": [
      "Enter your first number:2\n",
      "Enter your second number:3\n",
      "5\n",
      "The summation= 5\n"
     ]
    }
   ],
   "source": [
    "num1=input(\"Enter your first number:\")#String value input\n",
    "num2=input(\"Enter your second number:\")#String value input\n",
    "sum=int(num1)+int(num2)#convert integer\n",
    "print(sum)\n",
    "print(\"The summation=\",sum)"
   ]
  },
  {
   "cell_type": "code",
   "execution_count": 16,
   "metadata": {},
   "outputs": [
    {
     "name": "stdout",
     "output_type": "stream",
     "text": [
      "Enter your first number:3\n",
      "Enter your second number:4\n",
      "The result= 7\n",
      "The result= -1\n"
     ]
    }
   ],
   "source": [
    "# Two number sum & sub  \n",
    "num1=input(\"Enter your first number:\")#String value input\n",
    "num2=input(\"Enter your second number:\")#String value input\n",
    "result=int(num1)+int(num2)#convert integer\n",
    "print(\"The result=\",result)\n",
    "result=int(num1)-int(num2)#convert integer\n",
    "print(\"The result=\",result)"
   ]
  },
  {
   "cell_type": "code",
   "execution_count": 17,
   "metadata": {},
   "outputs": [
    {
     "name": "stdout",
     "output_type": "stream",
     "text": [
      "Enter your first number:14\n",
      "Enter your second number:4\n",
      "The result= 18\n",
      "The result= 10\n",
      "The result= 56\n",
      "The result= 3.5\n",
      "The result= 2\n"
     ]
    }
   ],
   "source": [
    "#Type Casting \n",
    "num1=int(input(\"Enter your first number:\"))#convert integer input\n",
    "num2=int(input(\"Enter your second number:\"))#convert integer input\n",
    "result=num1+num2\n",
    "print(\"The result=\",result)\n",
    "result=num1-num2\n",
    "print(\"The result=\",result)\n",
    "result=num1*num2\n",
    "print(\"The result=\",result)\n",
    "result=num1/num2\n",
    "print(\"The result=\",result)\n",
    "result=num1%num2\n",
    "print(\"The result=\",result)"
   ]
  },
  {
   "cell_type": "markdown",
   "metadata": {},
   "source": [
    "# Area of any shape"
   ]
  },
  {
   "cell_type": "code",
   "execution_count": 18,
   "metadata": {},
   "outputs": [
    {
     "name": "stdout",
     "output_type": "stream",
     "text": [
      "Enter your base:3\n",
      "Enter your height:4\n",
      "The area of triangle= 6.0\n"
     ]
    }
   ],
   "source": [
    "#Area of any shape\n",
    "#triangle area\n",
    "base=float(input(\"Enter your base:\"))\n",
    "height=float(input(\"Enter your height:\"))\n",
    "area=0.5*base*height\n",
    "print(\"The area of triangle=\",area)"
   ]
  },
  {
   "cell_type": "code",
   "execution_count": 19,
   "metadata": {},
   "outputs": [
    {
     "name": "stdout",
     "output_type": "stream",
     "text": [
      "Enter your radius:3\n",
      "The area of circle=  28.2744\n"
     ]
    }
   ],
   "source": [
    "#circle area \n",
    "radius=float(input(\"Enter your radius:\"))\n",
    "area=3.1416*radius*radius\n",
    "print(\"The area of circle= \",area)"
   ]
  },
  {
   "cell_type": "markdown",
   "metadata": {},
   "source": [
    "# Math related Library functions"
   ]
  },
  {
   "cell_type": "code",
   "execution_count": 20,
   "metadata": {},
   "outputs": [
    {
     "name": "stdout",
     "output_type": "stream",
     "text": [
      "Enter your num1=2\n",
      "Enter your num2=3\n",
      "Enter your num3=4\n",
      "The maximum number= 4\n",
      "The minimum number= 2\n"
     ]
    }
   ],
   "source": [
    "#Math related Library functions\n",
    "#max & min functin use\n",
    "num1=int(input(\"Enter your num1=\"))\n",
    "num2=int(input(\"Enter your num2=\"))\n",
    "num3=int(input(\"Enter your num3=\"))\n",
    "result=max(num1,num2,num3)\n",
    "result2=min(num1,num2,num3)\n",
    "print(\"The maximum number=\",result)\n",
    "print(\"The minimum number=\",result2)"
   ]
  },
  {
   "cell_type": "code",
   "execution_count": 21,
   "metadata": {},
   "outputs": [
    {
     "name": "stdout",
     "output_type": "stream",
     "text": [
      "5\n",
      "1\n",
      "3\n",
      "8.0\n",
      "5.0\n",
      "3\n",
      "3\n",
      "4\n"
     ]
    }
   ],
   "source": [
    "#math function use \n",
    "from math import*\n",
    "print(max(2,4,5))\n",
    "print(min(3,4,1))\n",
    "print(abs(-3))\n",
    "print(pow(2,3))\n",
    "print(sqrt(25))\n",
    "print(round(3.2))\n",
    "print(floor(3.2))\n",
    "print(ceil(3.2))"
   ]
  },
  {
   "cell_type": "markdown",
   "metadata": {},
   "source": [
    "# Formatted String - Type function"
   ]
  },
  {
   "cell_type": "code",
   "execution_count": 22,
   "metadata": {},
   "outputs": [
    {
     "name": "stdout",
     "output_type": "stream",
     "text": [
      "<class 'int'>\n",
      "<class 'float'>\n",
      "<class 'str'>\n",
      "<class 'bool'>\n"
     ]
    }
   ],
   "source": [
    "#using type function\n",
    "num=10\n",
    "print(type(num))\n",
    "num=10.4\n",
    "print(type(num))\n",
    "num=\"Hamid\"\n",
    "print(type(num))\n",
    "num=True\n",
    "print(type(num))"
   ]
  },
  {
   "cell_type": "code",
   "execution_count": 23,
   "metadata": {},
   "outputs": [
    {
     "name": "stdout",
     "output_type": "stream",
     "text": [
      "The sum is= 30\n"
     ]
    }
   ],
   "source": [
    "#Two number sum \n",
    "num1=10\n",
    "num2=20\n",
    "print(\"The sum is=\",num1+num2)"
   ]
  },
  {
   "cell_type": "code",
   "execution_count": 24,
   "metadata": {},
   "outputs": [
    {
     "name": "stdout",
     "output_type": "stream",
     "text": [
      "Hamid Hosen.Department of CSE.\n"
     ]
    }
   ],
   "source": [
    "# Formatted String \n",
    "print(\"Hamid Hosen.\",end=\"\")\n",
    "print(\"Department of CSE.\")"
   ]
  },
  {
   "cell_type": "markdown",
   "metadata": {},
   "source": [
    "# Relational Operator & Boolean Data Type"
   ]
  },
  {
   "cell_type": "code",
   "execution_count": 25,
   "metadata": {},
   "outputs": [
    {
     "name": "stdout",
     "output_type": "stream",
     "text": [
      "True\n",
      "True\n",
      "False\n",
      "False\n",
      "False\n",
      "True\n",
      "False\n"
     ]
    }
   ],
   "source": [
    "#Relational Operator & Boolean Data Type\n",
    "result=30>20\n",
    "print(result)\n",
    "result=30>=20\n",
    "print(result)\n",
    "result=30<20\n",
    "print(result)\n",
    "result=30<=20\n",
    "print(result)\n",
    "result=30==20\n",
    "print(result)\n",
    "result=30!=20\n",
    "print(result)\n",
    "result=\"Hamid\"==\"hamid\"\n",
    "print(result)"
   ]
  },
  {
   "cell_type": "markdown",
   "metadata": {},
   "source": [
    "# if, else statement"
   ]
  },
  {
   "cell_type": "code",
   "execution_count": 26,
   "metadata": {},
   "outputs": [
    {
     "name": "stdout",
     "output_type": "stream",
     "text": [
      "Pass\n"
     ]
    }
   ],
   "source": [
    "#if, else statement\n",
    "#if statment\n",
    "marks=80\n",
    "if marks>=33:\n",
    "   print(\"Pass\")\n",
    "if marks<33:\n",
    "   print(\"Fail\")"
   ]
  },
  {
   "cell_type": "code",
   "execution_count": 27,
   "metadata": {},
   "outputs": [
    {
     "name": "stdout",
     "output_type": "stream",
     "text": [
      "Fail\n"
     ]
    }
   ],
   "source": [
    "#if-else statment\n",
    "marks=20\n",
    "if marks>=33:\n",
    "   print(\"Pass\")\n",
    "else:\n",
    "   print(\"Fail\")"
   ]
  },
  {
   "cell_type": "code",
   "execution_count": 28,
   "metadata": {},
   "outputs": [
    {
     "name": "stdout",
     "output_type": "stream",
     "text": [
      "Enter your number1=3\n",
      "Enter your number2=4\n",
      "4\n"
     ]
    }
   ],
   "source": [
    "#largest number \n",
    "num1=int(input(\"Enter your number1=\"))\n",
    "num2=int(input(\"Enter your number2=\"))\n",
    "if num1>num2:\n",
    "    print(num1)\n",
    "else:\n",
    "    print(num2)"
   ]
  },
  {
   "cell_type": "code",
   "execution_count": 29,
   "metadata": {},
   "outputs": [
    {
     "name": "stdout",
     "output_type": "stream",
     "text": [
      "Enter your number1=4\n",
      "Number is even.\n"
     ]
    }
   ],
   "source": [
    "#even or odd number \n",
    "num1=int(input(\"Enter your number1=\"))\n",
    "if num1%2==0:\n",
    "    print(\"Number is even.\")\n",
    "else:\n",
    "    print(\"Number is odd.\")"
   ]
  },
  {
   "cell_type": "markdown",
   "metadata": {},
   "source": [
    "# elif statement"
   ]
  },
  {
   "cell_type": "code",
   "execution_count": 30,
   "metadata": {},
   "outputs": [
    {
     "name": "stdout",
     "output_type": "stream",
     "text": [
      "Enter your marks:34\n",
      "Fail\n"
     ]
    }
   ],
   "source": [
    "#elif statement\n",
    "#marks\n",
    "marks=int(input(\"Enter your marks:\"))\n",
    "if marks>=80:\n",
    "  print(\"A+\")\n",
    "elif marks>=70:\n",
    "  print(\"A\")\n",
    "elif marks>=60:\n",
    "  print(\"A-\")\n",
    "elif marks>=50:\n",
    "  print(\"B\")\n",
    "elif marks>=40:\n",
    "  print(\"C\")\n",
    "else:\n",
    "  print(\"Fail\")"
   ]
  },
  {
   "cell_type": "markdown",
   "metadata": {},
   "source": [
    "# Inner If Statement"
   ]
  },
  {
   "cell_type": "code",
   "execution_count": 31,
   "metadata": {},
   "outputs": [
    {
     "name": "stdout",
     "output_type": "stream",
     "text": [
      "Enter your number1=4\n",
      "Enter your number2=3\n",
      "Enter your number3=5\n",
      "Not Hamid\n"
     ]
    }
   ],
   "source": [
    " #Inner If Statement\n",
    "#Inner If Statement\n",
    "num1=int(input(\"Enter your number1=\"))\n",
    "num2=int(input(\"Enter your number2=\"))\n",
    "num3=int(input(\"Enter your number3=\"))\n",
    "if num1>num2:\n",
    "  if num1>num3:\n",
    "    print(\"Hamid\")\n",
    "  else:\n",
    "    print(\"Not Hamid\")"
   ]
  },
  {
   "cell_type": "code",
   "execution_count": 32,
   "metadata": {},
   "outputs": [
    {
     "name": "stdout",
     "output_type": "stream",
     "text": [
      "Enter your number1=3\n",
      "Enter your number2=4\n",
      "Enter your number3=2\n",
      "4\n"
     ]
    }
   ],
   "source": [
    "num1=int(input(\"Enter your number1=\"))\n",
    "num2=int(input(\"Enter your number2=\"))\n",
    "num3=int(input(\"Enter your number3=\"))\n",
    "if num1>num2:\n",
    "  if num1>num3:\n",
    "    print(num1)\n",
    "  else:\n",
    "    print(num3)\n",
    "if num2>num1:\n",
    "  if num2>num3:\n",
    "    print(num2)\n",
    "  else:\n",
    "    print(num3)"
   ]
  },
  {
   "cell_type": "markdown",
   "metadata": {},
   "source": [
    "# Ternary Operator"
   ]
  },
  {
   "cell_type": "code",
   "execution_count": 33,
   "metadata": {},
   "outputs": [
    {
     "name": "stdout",
     "output_type": "stream",
     "text": [
      "Enter your number1=3\n",
      "Enter your number2=4\n",
      "The number is maximum= 4\n"
     ]
    }
   ],
   "source": [
    "#largest number \n",
    "num1=int(input(\"Enter your number1=\"))\n",
    "num2=int(input(\"Enter your number2=\"))\n",
    "\"\"\"\n",
    "if num1>num2:\n",
    "    print(num1)\n",
    "else:\n",
    "    print(num2)\n",
    "\"\"\"\n",
    "max=num1 if num1>num2 else num2\n",
    "print(\"The number is maximum=\",max)"
   ]
  },
  {
   "cell_type": "markdown",
   "metadata": {},
   "source": [
    "# Logical operator"
   ]
  },
  {
   "cell_type": "code",
   "execution_count": 34,
   "metadata": {},
   "outputs": [
    {
     "name": "stdout",
     "output_type": "stream",
     "text": [
      "Enter your number1=2\n",
      "Enter your number2=4\n",
      "Enter your number3=5\n",
      "5\n"
     ]
    }
   ],
   "source": [
    "#three number large number\n",
    "num1=int(input(\"Enter your number1=\"))\n",
    "num2=int(input(\"Enter your number2=\"))\n",
    "num3=int(input(\"Enter your number3=\"))\n",
    "if num1>num2 and num1>num3:\n",
    "    print(num1)\n",
    "elif num2>num1 and num2>num3:\n",
    "    print(num2)\n",
    "else:\n",
    "    print(num3)"
   ]
  },
  {
   "cell_type": "code",
   "execution_count": 35,
   "metadata": {},
   "outputs": [
    {
     "name": "stdout",
     "output_type": "stream",
     "text": [
      "Enter your number:e\n",
      "Vowel\n"
     ]
    }
   ],
   "source": [
    "# vowel or consunent\n",
    "ch=input(\"Enter your number:\")\n",
    "if ch=='a' or ch=='e' or ch=='i' or ch=='o' or ch=='u':\n",
    "    print(\"Vowel\")\n",
    "else:\n",
    "    print(\"Consonant\")"
   ]
  },
  {
   "cell_type": "markdown",
   "metadata": {},
   "source": [
    "# Letter Grade Program"
   ]
  },
  {
   "cell_type": "code",
   "execution_count": 36,
   "metadata": {},
   "outputs": [
    {
     "name": "stdout",
     "output_type": "stream",
     "text": [
      "Enter your marks:4\n",
      "Fail\n"
     ]
    }
   ],
   "source": [
    "marks=int(input(\"Enter your marks:\"))\n",
    "if 80<=marks<=100:\n",
    "  print(\"A+\")\n",
    "elif  70<=marks<=79:\n",
    "  print(\"A\")\n",
    "elif  60<=marks<69:\n",
    "  print(\"A-\")\n",
    "elif  50<=marks<=59:\n",
    "  print(\"B\")\n",
    "elif  40<=marks<=59:\n",
    "  print(\"C\")\n",
    "else:\n",
    "  print(\"Fail\")"
   ]
  },
  {
   "cell_type": "markdown",
   "metadata": {},
   "source": [
    "# while loop"
   ]
  },
  {
   "cell_type": "code",
   "execution_count": 37,
   "metadata": {},
   "outputs": [
    {
     "name": "stdout",
     "output_type": "stream",
     "text": [
      "Enter your number:5\n",
      "Hamid\n",
      "Hamid\n",
      "Hamid\n",
      "Hamid\n",
      "Hamid\n",
      "Program and.\n"
     ]
    }
   ],
   "source": [
    "#while loop\n",
    "num=int(input(\"Enter your number:\"))\n",
    "i=1\n",
    "while i<=num:\n",
    "    print(\"Hamid\")\n",
    "    i=i+1#not i++ use\n",
    "print(\"Program and.\")"
   ]
  },
  {
   "cell_type": "markdown",
   "metadata": {},
   "source": [
    "# Sum of n numbers"
   ]
  },
  {
   "cell_type": "code",
   "execution_count": 38,
   "metadata": {},
   "outputs": [
    {
     "name": "stdout",
     "output_type": "stream",
     "text": [
      "Enter your number:3\n",
      "The summation= 6\n"
     ]
    }
   ],
   "source": [
    "num=int(input(\"Enter your number:\"))\n",
    "sum=0\n",
    "i=1\n",
    "while i<=num:\n",
    "    sum=sum+i\n",
    "    i=i+1\n",
    "print(\"The summation=\",sum)"
   ]
  },
  {
   "cell_type": "code",
   "execution_count": 39,
   "metadata": {},
   "outputs": [
    {
     "name": "stdout",
     "output_type": "stream",
     "text": [
      "Enter your number:4\n",
      "The summation= 6\n"
     ]
    }
   ],
   "source": [
    "#2+4+6+8.....+n \n",
    "num=int(input(\"Enter your number:\"))\n",
    "sum=0\n",
    "i=2\n",
    "while i<=num:\n",
    "    sum=sum+i\n",
    "    i=i+2\n",
    "print(\"The summation=\",sum)"
   ]
  },
  {
   "cell_type": "markdown",
   "metadata": {},
   "source": [
    "# break and continue"
   ]
  },
  {
   "cell_type": "code",
   "execution_count": 40,
   "metadata": {},
   "outputs": [
    {
     "name": "stdout",
     "output_type": "stream",
     "text": [
      "Enter your number:13\n",
      "1\n",
      "2\n",
      "3\n",
      "4\n"
     ]
    }
   ],
   "source": [
    "num=int(input(\"Enter your number:\"))\n",
    "i=1\n",
    "while i<=num:\n",
    "    if i==5:\n",
    "      break\n",
    "    print(i)\n",
    "    i=i+1"
   ]
  },
  {
   "cell_type": "code",
   "execution_count": 41,
   "metadata": {},
   "outputs": [
    {
     "name": "stdout",
     "output_type": "stream",
     "text": [
      "6\n",
      "7\n",
      "8\n",
      "9\n",
      "10\n",
      "11\n",
      "12\n",
      "13\n"
     ]
    }
   ],
   "source": [
    "while i<num:\n",
    "    i = i + 1\n",
    "    if i==5:\n",
    "        continue\n",
    "    print(i)"
   ]
  },
  {
   "cell_type": "markdown",
   "metadata": {},
   "source": [
    "# List (Part-1)"
   ]
  },
  {
   "cell_type": "code",
   "execution_count": 42,
   "metadata": {},
   "outputs": [
    {
     "name": "stdout",
     "output_type": "stream",
     "text": [
      "['C', 'C++', 'java', 'python']\n",
      "python\n",
      "['C++', 'java', 'python']\n",
      "python\n"
     ]
    }
   ],
   "source": [
    "#List (Part-1)\n",
    "#subject name list\n",
    "subject=[\"C\",\"C++\",\"java\",\"python\"]\n",
    "print(subject)\n",
    "print(subject[3])#index value print\n",
    "print(subject[1:])#index 1 after print\n",
    "print(subject[-1])#reverse"
   ]
  },
  {
   "cell_type": "code",
   "execution_count": 43,
   "metadata": {},
   "outputs": [
    {
     "name": "stdout",
     "output_type": "stream",
     "text": [
      "True\n",
      "True\n"
     ]
    }
   ],
   "source": [
    "#in operator\n",
    "subject=[\"C\",\"C++\",\"java\",\"python\"]\n",
    "print(\"java\"in subject)\n",
    "print(\"kotlin\" not in subject)"
   ]
  },
  {
   "cell_type": "code",
   "execution_count": 44,
   "metadata": {},
   "outputs": [
    {
     "name": "stdout",
     "output_type": "stream",
     "text": [
      "['C', 'C++', 'java', 'python', 'kotlin', 27]\n",
      "['C', 'C++', 'java', 'python', 'C', 'C++', 'java', 'python', 'C', 'C++', 'java', 'python']\n"
     ]
    }
   ],
   "source": [
    "#sum multiple string & integer value \n",
    "subject=[\"C\",\"C++\",\"java\",\"python\"]\n",
    "print(subject+[\"kotlin\",27])\n",
    "print(subject *3)"
   ]
  },
  {
   "cell_type": "markdown",
   "metadata": {},
   "source": [
    "# List (Part-2)"
   ]
  },
  {
   "cell_type": "code",
   "execution_count": 45,
   "metadata": {},
   "outputs": [
    {
     "name": "stdout",
     "output_type": "stream",
     "text": [
      "5\n"
     ]
    }
   ],
   "source": [
    "# List (Part-2)\n",
    "#length\n",
    "subject=[\"C\",\"C++\",\"Java\",\"python\",\"BASIC\"]\n",
    "print(len(subject))"
   ]
  },
  {
   "cell_type": "code",
   "execution_count": 46,
   "metadata": {},
   "outputs": [
    {
     "name": "stdout",
     "output_type": "stream",
     "text": [
      "['C', 'C++', 'Java', 'python', 'BASIC', 'Kotlin']\n"
     ]
    }
   ],
   "source": [
    "#append mathod \n",
    "subject=[\"C\",\"C++\",\"Java\",\"python\",\"BASIC\"]\n",
    "subject.append(\"Kotlin\")\n",
    "print(subject)"
   ]
  },
  {
   "cell_type": "code",
   "execution_count": 47,
   "metadata": {},
   "outputs": [
    {
     "name": "stdout",
     "output_type": "stream",
     "text": [
      "['C', 'C++', 'Kotlin', 'Java', 'python', 'BASIC']\n"
     ]
    }
   ],
   "source": [
    "#insert \n",
    "subject=[\"C\",\"C++\",\"Java\",\"python\",\"BASIC\"]\n",
    "subject.insert(2,\"Kotlin\")\n",
    "print(subject)"
   ]
  },
  {
   "cell_type": "code",
   "execution_count": 48,
   "metadata": {},
   "outputs": [
    {
     "name": "stdout",
     "output_type": "stream",
     "text": [
      "['C', 'C++', 'python', 'BASIC']\n"
     ]
    }
   ],
   "source": [
    "#romove \n",
    "subject=[\"C\",\"C++\",\"Java\",\"python\",\"BASIC\"]\n",
    "subject.remove(\"Java\")\n",
    "print(subject)"
   ]
  },
  {
   "cell_type": "code",
   "execution_count": 49,
   "metadata": {},
   "outputs": [
    {
     "name": "stdout",
     "output_type": "stream",
     "text": [
      "['BASIC', 'C', 'C++', 'Java', 'python']\n",
      "[12, 14, 20, 34, 45]\n"
     ]
    }
   ],
   "source": [
    "#sorting \n",
    "subject=[\"C\",\"C++\",\"Java\",\"python\",\"BASIC\"]\n",
    "subject.sort()\n",
    "print(subject)\n",
    "subject=[20,12,14,45,34]\n",
    "subject.sort()\n",
    "print(subject)"
   ]
  },
  {
   "cell_type": "code",
   "execution_count": 50,
   "metadata": {},
   "outputs": [
    {
     "name": "stdout",
     "output_type": "stream",
     "text": [
      "['BASIC', 'python', 'Java', 'C++', 'C']\n",
      "[34, 45, 14, 12, 20]\n"
     ]
    }
   ],
   "source": [
    "#reversing \n",
    "subject=[\"C\",\"C++\",\"Java\",\"python\",\"BASIC\"]\n",
    "subject.reverse()\n",
    "print(subject)\n",
    "subject=[20,12,14,45,34]\n",
    "subject.reverse()\n",
    "print(subject)"
   ]
  },
  {
   "cell_type": "code",
   "execution_count": 51,
   "metadata": {},
   "outputs": [
    {
     "name": "stdout",
     "output_type": "stream",
     "text": [
      "['C', 'C++', 'Java']\n",
      "[20, 12, 14]\n"
     ]
    }
   ],
   "source": [
    "#pop function \n",
    "subject=[\"C\",\"C++\",\"Java\",\"python\",\"BASIC\"]\n",
    "subject.pop()\n",
    "subject.pop()\n",
    "print(subject)\n",
    "subject=[20,12,14,45,34]\n",
    "subject.pop()\n",
    "subject.pop()\n",
    "print(subject)"
   ]
  },
  {
   "cell_type": "code",
   "execution_count": 52,
   "metadata": {},
   "outputs": [
    {
     "name": "stdout",
     "output_type": "stream",
     "text": [
      "[]\n",
      "[]\n"
     ]
    }
   ],
   "source": [
    "#cleare function \n",
    "subject=[\"C\",\"C++\",\"Java\",\"python\",\"BASIC\"]\n",
    "subject.clear()\n",
    "print(subject)\n",
    "subject=[20,12,14,45,34]\n",
    "subject.clear()\n",
    "print(subject)"
   ]
  },
  {
   "cell_type": "code",
   "execution_count": 53,
   "metadata": {},
   "outputs": [
    {
     "name": "stdout",
     "output_type": "stream",
     "text": [
      "['C', 'C++', 'Java', 'python', 'BASIC']\n",
      "[20, 12, 14, 45, 34]\n"
     ]
    }
   ],
   "source": [
    "#copy function \n",
    "subject=[\"C\",\"C++\",\"Java\",\"python\",\"BASIC\"]\n",
    "subject2=subject.copy()\n",
    "print(subject2)\n",
    "subject=[20,12,14,45,34]\n",
    "subject2=subject.copy()\n",
    "print(subject2)"
   ]
  },
  {
   "cell_type": "code",
   "execution_count": 54,
   "metadata": {},
   "outputs": [
    {
     "name": "stdout",
     "output_type": "stream",
     "text": [
      "2\n",
      "3\n"
     ]
    }
   ],
   "source": [
    "#position \n",
    "subject=[\"C\",\"C++\",\"Java\",\"python\",\"BASIC\"]\n",
    "position=subject.index(\"Java\")\n",
    "print(position)\n",
    "subject=[20,12,14,45,34]\n",
    "position=subject.index(45)\n",
    "print(position)"
   ]
  },
  {
   "cell_type": "code",
   "execution_count": 55,
   "metadata": {},
   "outputs": [
    {
     "name": "stdout",
     "output_type": "stream",
     "text": [
      "3\n",
      "3\n"
     ]
    }
   ],
   "source": [
    "#count function \n",
    "subject=[\"C\",\"C++\",\"Java\",\"python\",\"BASIC\",\"python\",\"python\"]\n",
    "count=subject.count(\"python\")\n",
    "print(count)\n",
    "subject=[20,12,12,14,12,45,34]\n",
    "count=subject.count(12)\n",
    "print(count)"
   ]
  },
  {
   "cell_type": "markdown",
   "metadata": {},
   "source": [
    "# Range function"
   ]
  },
  {
   "cell_type": "code",
   "execution_count": 56,
   "metadata": {},
   "outputs": [
    {
     "name": "stdout",
     "output_type": "stream",
     "text": [
      "[0, 1, 2, 3, 4, 5, 6, 7, 8, 9]\n",
      "2\n",
      "[5, 6, 7, 8, 9]\n",
      "[2, 4, 6, 8, 10, 12, 14, 16, 18, 20, 22, 24, 26, 28, 30, 32, 34, 36, 38, 40, 42, 44, 46, 48, 50, 52, 54, 56, 58, 60, 62, 64, 66, 68, 70, 72, 74, 76, 78, 80, 82, 84, 86, 88, 90, 92, 94, 96, 98]\n"
     ]
    }
   ],
   "source": [
    "#Range function\n",
    "num=list(range(10))\n",
    "print(num)\n",
    "print(num[2])#index\n",
    "num=list(range(5,10))\n",
    "print(num)\n",
    "num=list(range(2,100,2))\n",
    "print(num)"
   ]
  },
  {
   "cell_type": "markdown",
   "metadata": {},
   "source": [
    "# for Loop"
   ]
  },
  {
   "cell_type": "code",
   "execution_count": 57,
   "metadata": {},
   "outputs": [
    {
     "name": "stdout",
     "output_type": "stream",
     "text": [
      "[10, 20, 30, 40, 50]\n",
      "10\n",
      "20\n",
      "30\n",
      "40\n",
      "50\n"
     ]
    }
   ],
   "source": [
    "#for Loop\n",
    "#while loop\n",
    "num=[10,20,30,40,50]\n",
    "print(num)\n",
    "n=len(num)\n",
    "index=0\n",
    "while index<n:\n",
    "  print(num[index])\n",
    "  index=index+1"
   ]
  },
  {
   "cell_type": "code",
   "execution_count": 58,
   "metadata": {},
   "outputs": [
    {
     "name": "stdout",
     "output_type": "stream",
     "text": [
      "150\n"
     ]
    }
   ],
   "source": [
    "#for loop \n",
    "num=[10,20,30,40,50]\n",
    "sum=0\n",
    "for x in num:\n",
    "    sum=sum+x\n",
    "print(sum)"
   ]
  },
  {
   "cell_type": "markdown",
   "metadata": {},
   "source": [
    "# Series"
   ]
  },
  {
   "cell_type": "code",
   "execution_count": 59,
   "metadata": {},
   "outputs": [
    {
     "name": "stdout",
     "output_type": "stream",
     "text": [
      "Enter your number:4\n",
      "10\n"
     ]
    }
   ],
   "source": [
    "#1+2+3+4+...........+n\n",
    "num=int(input(\"Enter your number:\"))\n",
    "sum=0\n",
    "for x in range(1,num+1,1):#because  (1,num) then print num-1 that is use num+1\n",
    " sum=sum+x\n",
    "print(sum)"
   ]
  },
  {
   "cell_type": "code",
   "execution_count": 60,
   "metadata": {},
   "outputs": [
    {
     "name": "stdout",
     "output_type": "stream",
     "text": [
      "Enter your number:5\n",
      "6\n"
     ]
    }
   ],
   "source": [
    "#2+4+6+8+.....+n \n",
    "num=int(input(\"Enter your number:\"))\n",
    "sum=0\n",
    "for x in range(2,num+1,2):\n",
    " sum=sum+x\n",
    "print(sum)"
   ]
  },
  {
   "cell_type": "code",
   "execution_count": 61,
   "metadata": {},
   "outputs": [
    {
     "name": "stdout",
     "output_type": "stream",
     "text": [
      "Enter your number:4\n",
      "30\n"
     ]
    }
   ],
   "source": [
    "#1*1+2*2+3*3+4*4+...........+n*n \n",
    "num=int(input(\"Enter your number:\"))\n",
    "sum=0\n",
    "for x in range(1,num+1,1):\n",
    " sum=sum+x*x\n",
    "print(sum)"
   ]
  },
  {
   "cell_type": "code",
   "execution_count": 62,
   "metadata": {},
   "outputs": [
    {
     "name": "stdout",
     "output_type": "stream",
     "text": [
      "Enter your number:4\n",
      "24\n"
     ]
    }
   ],
   "source": [
    "#1x2x3x4x...........xn \n",
    "num=int(input(\"Enter your number:\"))\n",
    "sum=1\n",
    "for x in range(1,num+1,1):\n",
    " sum=sum*x\n",
    "print(sum)"
   ]
  },
  {
   "cell_type": "markdown",
   "metadata": {},
   "source": [
    "# Pattern printing"
   ]
  },
  {
   "cell_type": "code",
   "execution_count": 63,
   "metadata": {},
   "outputs": [
    {
     "name": "stdout",
     "output_type": "stream",
     "text": [
      "Enter your number:5\n",
      "\n",
      " *\n",
      " * *\n",
      " * * *\n",
      " * * * *\n",
      " * * * * *\n"
     ]
    }
   ],
   "source": [
    "# Pattern printing\n",
    "\"\"\"\n",
    "n=3\n",
    "*\n",
    "* *\n",
    "* * *\n",
    "\"\"\"\n",
    "num=int(input(\"Enter your number:\"))\n",
    "for x in range(num+1):\n",
    "    print(x*\" *\")#1x*=*/2x*-**"
   ]
  },
  {
   "cell_type": "code",
   "execution_count": 64,
   "metadata": {},
   "outputs": [
    {
     "name": "stdout",
     "output_type": "stream",
     "text": [
      "Enter your number:5\n",
      "\n",
      " *\n",
      " * * *\n",
      " * * * * *\n",
      " * * * * * * *\n",
      " * * * * * * * * *\n"
     ]
    }
   ],
   "source": [
    "#Pattern printing \n",
    "\"\"\"\n",
    "(n*i-1)\n",
    "n=3\n",
    "*\n",
    "* * *\n",
    "* * * * *\n",
    "\"\"\"\n",
    "num=int(input(\"Enter your number:\"))\n",
    "for i in range(num+1):\n",
    "    print((2*i-1)*\" *\")"
   ]
  },
  {
   "cell_type": "markdown",
   "metadata": {},
   "source": [
    "# Guessing Game"
   ]
  },
  {
   "cell_type": "code",
   "execution_count": 65,
   "metadata": {},
   "outputs": [
    {
     "name": "stdout",
     "output_type": "stream",
     "text": [
      "Enter your number:1\n",
      "You have won.\n",
      "The random number= 1\n",
      "Enter your number:3\n",
      "You have loss.\n",
      "The random number= 1\n",
      "Enter your number:4\n",
      "You have loss.\n",
      "The random number= 5\n",
      "Enter your number:3\n",
      "You have loss.\n",
      "The random number= 5\n",
      "Enter your number:2\n",
      "You have loss.\n",
      "The random number= 3\n"
     ]
    }
   ],
   "source": [
    "from random import randint\n",
    "for x in range(1,6):\n",
    "  guessNumber=int(input(\"Enter your number:\"))\n",
    "  randomNumber=randint(1,5)\n",
    "  if guessNumber==randomNumber:\n",
    "    print(\"You have won.\")\n",
    "  else:\n",
    "    print(\"You have loss.\")\n",
    "  print(\"The random number=\",randomNumber)"
   ]
  },
  {
   "cell_type": "markdown",
   "metadata": {},
   "source": [
    "# List as input from user"
   ]
  },
  {
   "cell_type": "code",
   "execution_count": 66,
   "metadata": {},
   "outputs": [
    {
     "name": "stdout",
     "output_type": "stream",
     "text": [
      "Enter your number:10 20 40 50\n",
      "120\n"
     ]
    }
   ],
   "source": [
    "n=input(\"Enter your number:\")\n",
    "#10 20 30 40 50\n",
    "list=n.split()#10,20,30,40,50\n",
    "sum=0\n",
    "for num in list:\n",
    "    sum=sum+int(num)\n",
    "print(sum)"
   ]
  },
  {
   "cell_type": "code",
   "execution_count": 67,
   "metadata": {},
   "outputs": [
    {
     "name": "stdout",
     "output_type": "stream",
     "text": [
      "Enter your text number:my name is hamid123\n",
      "NumberOfLetter= 13\n",
      "NumberOfDigit= 3\n",
      "NumberOfWord= 4\n"
     ]
    }
   ],
   "source": [
    "#word letter digit count \n",
    "numberOFWords=0\n",
    "numberOFLetter=0\n",
    "numberOFDigit=0\n",
    "text=input(\"Enter your text number:\")#My name is 123\n",
    "for x in text:\n",
    "    x=x.lower()\n",
    "    if x>='a' and x<='z':\n",
    "      numberOFLetter=numberOFLetter+1\n",
    "    elif x>='0' and x<='9':\n",
    "      numberOFDigit=numberOFDigit+1\n",
    "    elif x==' ':\n",
    "      numberOFWords=numberOFWords+1\n",
    "print(\"NumberOfLetter=\",numberOFLetter)\n",
    "print(\"NumberOfDigit=\",numberOFDigit)\n",
    "print(\"NumberOfWord=\",numberOFWords+1)"
   ]
  },
  {
   "cell_type": "markdown",
   "metadata": {},
   "source": [
    "# Matrix"
   ]
  },
  {
   "cell_type": "code",
   "execution_count": 68,
   "metadata": {},
   "outputs": [
    {
     "name": "stdout",
     "output_type": "stream",
     "text": [
      "10\n"
     ]
    }
   ],
   "source": [
    "#Matrix\n",
    "matrix=[[1,2,3],[4,5,6],[7,8,9]]\n",
    "matrix[2][2]=10\n",
    "print(matrix[2][2])"
   ]
  },
  {
   "cell_type": "code",
   "execution_count": 69,
   "metadata": {},
   "outputs": [
    {
     "name": "stdout",
     "output_type": "stream",
     "text": [
      "1\n",
      "2\n",
      "3\n",
      "4\n",
      "5\n",
      "6\n",
      "7\n",
      "8\n",
      "9\n"
     ]
    }
   ],
   "source": [
    "#nested loop \n",
    "matrix=[[1,2,3],[4,5,6],[7,8,9]]\n",
    "for row in matrix:\n",
    "    for col in row:\n",
    "        print(col)"
   ]
  },
  {
   "cell_type": "markdown",
   "metadata": {},
   "source": [
    "# Dictionaries"
   ]
  },
  {
   "cell_type": "code",
   "execution_count": 70,
   "metadata": {},
   "outputs": [
    {
     "name": "stdout",
     "output_type": "stream",
     "text": [
      "Hamid Hosen\n",
      "Fahim Hosen\n",
      "Farhad Bin Farid\n",
      "Not a valid key\n",
      "Fahim Hosen\n"
     ]
    }
   ],
   "source": [
    "studentId={\n",
    "    \"101\":\"Hamid Hosen\",\n",
    "    \"102\":\"Fahim Hosen\",\n",
    "    \"103\":\"Farhad Bin Farid\",\n",
    "}\n",
    "print(studentId[\"101\"])\n",
    "print(studentId[\"102\"])\n",
    "print(studentId.get(\"103\"))\n",
    "print(studentId.get(\"104\",\"Not a valid key\"))\n",
    "print(studentId.get(\"102\",\"Not a valid key\"))"
   ]
  },
  {
   "cell_type": "code",
   "execution_count": 71,
   "metadata": {},
   "outputs": [
    {
     "name": "stdout",
     "output_type": "stream",
     "text": [
      "Hamid Hosen\n",
      "Fahim Hosen\n",
      "Farhad Bin Farid\n",
      "Not a valid key\n",
      "Fahim Hosen\n"
     ]
    }
   ],
   "source": [
    "#integer valur \n",
    "studentId={\n",
    "    101:\"Hamid Hosen\",\n",
    "    102:\"Fahim Hosen\",\n",
    "    103:\"Farhad Bin Farid\",\n",
    "}\n",
    "print(studentId[101])\n",
    "print(studentId[102])\n",
    "print(studentId.get(103))\n",
    "print(studentId.get(104,\"Not a valid key\"))\n",
    "print(studentId.get(102,\"Not a valid key\"))"
   ]
  },
  {
   "cell_type": "markdown",
   "metadata": {},
   "source": [
    "# Tuples"
   ]
  },
  {
   "cell_type": "code",
   "execution_count": 72,
   "metadata": {},
   "outputs": [
    {
     "name": "stdout",
     "output_type": "stream",
     "text": [
      "{'Farhad Bin Farid', 'Fahim Hosen', ('Hamid Hosen', 27, 3.82)}\n"
     ]
    }
   ],
   "source": [
    "#Tuples\n",
    "student={\n",
    "   (\"Hamid Hosen\",27,3.82),\n",
    "    \"Fahim Hosen\",\n",
    "    \"Farhad Bin Farid\",\n",
    "}\n",
    "print(student)"
   ]
  },
  {
   "cell_type": "markdown",
   "metadata": {},
   "source": [
    "# Set"
   ]
  },
  {
   "cell_type": "code",
   "execution_count": 73,
   "metadata": {},
   "outputs": [
    {
     "name": "stdout",
     "output_type": "stream",
     "text": [
      "{1, 2, 3, 4, 5}\n",
      "{2, 3, 4, 7}\n",
      "{2, 3, 4}\n",
      "False\n",
      "True\n"
     ]
    }
   ],
   "source": [
    "num={1,2,3,4,5,5}\n",
    "num2=set([2,3,4,4])\n",
    "num2.add(7)\n",
    "print(num)\n",
    "print(num2)\n",
    "num2.remove(7)\n",
    "print(num2)\n",
    "print(7 in num2)\n",
    "print(7 not in num)"
   ]
  },
  {
   "cell_type": "code",
   "execution_count": 74,
   "metadata": {},
   "outputs": [
    {
     "name": "stdout",
     "output_type": "stream",
     "text": [
      "{1, 2, 3, 4, 5, 6, 7}\n",
      "{2, 3, 4}\n",
      "{1, 5, 6, 7}\n"
     ]
    }
   ],
   "source": [
    "#union\n",
    "num1={1,2,3,4,5,5,6,7}\n",
    "num2=set([2,3,4,4])\n",
    "print(num1 | num2)\n",
    "print(num1 & num2)\n",
    "print(num1 - num2)"
   ]
  },
  {
   "cell_type": "markdown",
   "metadata": {},
   "source": [
    "# Stack And Queue"
   ]
  },
  {
   "cell_type": "code",
   "execution_count": 75,
   "metadata": {},
   "outputs": [
    {
     "name": "stdout",
     "output_type": "stream",
     "text": [
      "['Larn C', 'larn C++', 'Larn java']\n",
      "['Larn C', 'larn C++']\n",
      "Now the top book is= larn C++\n",
      "['Larn C']\n",
      "Now the top book is= Larn C\n",
      "[]\n",
      "No books left.\n"
     ]
    }
   ],
   "source": [
    "books=[]\n",
    "books.append(\"Larn C\")\n",
    "books.append(\"larn C++\")\n",
    "books.append(\"Larn java\")\n",
    "print(books)\n",
    "\n",
    "books.pop()\n",
    "print(books)\n",
    "print(\"Now the top book is=\",books[-1])\n",
    "\n",
    "books.pop()\n",
    "print(books)\n",
    "print(\"Now the top book is=\",books[-1])\n",
    "\n",
    "books.pop()\n",
    "print(books)\n",
    "\n",
    "if not books:\n",
    "    print(\"No books left.\")"
   ]
  },
  {
   "cell_type": "code",
   "execution_count": 76,
   "metadata": {},
   "outputs": [
    {
     "name": "stdout",
     "output_type": "stream",
     "text": [
      "deque(['hamid', 'Hosen', 'Fahim', 'Korim'])\n",
      "deque(['Hosen', 'Fahim', 'Korim'])\n",
      "No person bank.\n"
     ]
    }
   ],
   "source": [
    "#queue \n",
    "from collections import deque\n",
    "bank=deque([\"hamid\",\"Hosen\",\"Fahim\",\"Korim\"])\n",
    "print(bank)\n",
    "bank.popleft()\n",
    "print(bank)\n",
    "bank.popleft()\n",
    "bank.popleft()\n",
    "bank.popleft()\n",
    "if not  bank:\n",
    "    print(\"No person bank.\")"
   ]
  },
  {
   "cell_type": "markdown",
   "metadata": {},
   "source": [
    "# Introduction to Function"
   ]
  },
  {
   "cell_type": "code",
   "execution_count": 77,
   "metadata": {},
   "outputs": [
    {
     "name": "stdout",
     "output_type": "stream",
     "text": [
      "Enter your first number:5\n",
      "Enter your second number:4\n",
      "Enter your third number:3\n",
      "9\n",
      "12\n",
      "1\n",
      "Not parameter.\n"
     ]
    }
   ],
   "source": [
    "#Introduction to Function\n",
    "def add(x,y):\n",
    " sum=x+y\n",
    " print(sum)\n",
    "def addition(x,y,z):\n",
    "    sum=x+y+z\n",
    "    print(sum)\n",
    "def sub(x,y):\n",
    "    sub=x-y\n",
    "    print(sub)\n",
    "def massage():\n",
    "    print(\"Not parameter.\")\n",
    "num1=int(input(\"Enter your first number:\"))\n",
    "num2=int(input(\"Enter your second number:\"))\n",
    "num3=int(input(\"Enter your third number:\"))\n",
    "add(num1,num2)\n",
    "addition(num1,num2,num3)\n",
    "sub(num1,num2)\n",
    "massage()"
   ]
  },
  {
   "cell_type": "markdown",
   "metadata": {},
   "source": [
    "# Returning Value from function"
   ]
  },
  {
   "cell_type": "code",
   "execution_count": 78,
   "metadata": {},
   "outputs": [
    {
     "name": "stdout",
     "output_type": "stream",
     "text": [
      "Enter your first number:2\n",
      "Enter your second number:3\n",
      "Enter your third number:4\n",
      "Result= 9\n"
     ]
    }
   ],
   "source": [
    "def addNumber(x,y,z):\n",
    "    sum=x+y+z\n",
    "    return sum\n",
    "num1=int(input(\"Enter your first number:\"))\n",
    "num2=int(input(\"Enter your second number:\"))\n",
    "num3=int(input(\"Enter your third number:\"))\n",
    "result=addNumber(num1,num2,num3)\n",
    "print(\"Result=\",result)"
   ]
  },
  {
   "cell_type": "code",
   "execution_count": 80,
   "metadata": {},
   "outputs": [
    {
     "name": "stdout",
     "output_type": "stream",
     "text": [
      "Enter your first number:3\n",
      "Enter your second number:4\n",
      "Result= 4\n"
     ]
    }
   ],
   "source": [
    "#large number \n",
    "def largeNumber(x,y):\n",
    "    if x>y:\n",
    "        return x\n",
    "    else :\n",
    "        return y\n",
    "num1=int(input(\"Enter your first number:\"))\n",
    "num2=int(input(\"Enter your second number:\"))\n",
    "result=largeNumber(num1,num2)\n",
    "print(\"Result=\",result)"
   ]
  },
  {
   "cell_type": "markdown",
   "metadata": {},
   "source": [
    "# xxargs and xxxargs"
   ]
  },
  {
   "cell_type": "code",
   "execution_count": 81,
   "metadata": {},
   "outputs": [
    {
     "name": "stdout",
     "output_type": "stream",
     "text": [
      "Enter your name:Hamid \n",
      "Enter your number:12\n",
      "12 Hamid \n"
     ]
    }
   ],
   "source": [
    "#xxargs and xxxargs\n",
    "def student(x,y):\n",
    "    print(x,y)\n",
    "name=input(\"Enter your name:\")\n",
    "num=int(input(\"Enter your number:\"))\n",
    "student(num,name)"
   ]
  },
  {
   "cell_type": "code",
   "execution_count": 82,
   "metadata": {},
   "outputs": [
    {
     "name": "stdout",
     "output_type": "stream",
     "text": [
      "Enter your name:Hamid\n",
      "Enter your number:21\n",
      "Enter your cgpa:3.8\n",
      "(21, 'Hamid')\n",
      "(21, 'Hamid', 3.8)\n"
     ]
    }
   ],
   "source": [
    "def student(*details):\n",
    "    print(details)\n",
    "name=input(\"Enter your name:\")\n",
    "num=int(input(\"Enter your number:\"))\n",
    "cgpa=float(input(\"Enter your cgpa:\"))\n",
    "student(num,name)\n",
    "student(num,name,cgpa)"
   ]
  },
  {
   "cell_type": "code",
   "execution_count": 83,
   "metadata": {},
   "outputs": [
    {
     "name": "stdout",
     "output_type": "stream",
     "text": [
      "Enter your name:hamid\n",
      "Enter your number:12\n",
      "Enter your cgpa:3.8\n",
      "12\n",
      "12\n"
     ]
    }
   ],
   "source": [
    "def student(*details):\n",
    "    print(details[0])\n",
    "name=input(\"Enter your name:\")\n",
    "num=int(input(\"Enter your number:\"))\n",
    "cgpa=float(input(\"Enter your cgpa:\"))\n",
    "student(num,name)\n",
    "student(num,name,cgpa)"
   ]
  },
  {
   "cell_type": "code",
   "execution_count": 84,
   "metadata": {},
   "outputs": [
    {
     "name": "stdout",
     "output_type": "stream",
     "text": [
      "30\n"
     ]
    }
   ],
   "source": [
    "def add(num1,num2):\n",
    "    sum=num1+num2\n",
    "    print(sum)\n",
    "add(10,20)"
   ]
  },
  {
   "cell_type": "code",
   "execution_count": 85,
   "metadata": {},
   "outputs": [
    {
     "name": "stdout",
     "output_type": "stream",
     "text": [
      "(10, 20)\n",
      "(10, 20, 30)\n",
      "(10, 20, 30, 40)\n"
     ]
    }
   ],
   "source": [
    "def add(*details):\n",
    "    print(details)\n",
    "add(10,20)\n",
    "add(10,20,30)\n",
    "add(10,20,30,40)"
   ]
  },
  {
   "cell_type": "code",
   "execution_count": 86,
   "metadata": {},
   "outputs": [
    {
     "name": "stdout",
     "output_type": "stream",
     "text": [
      "30\n",
      "60\n",
      "100\n"
     ]
    }
   ],
   "source": [
    "#sum \n",
    "def add(*number):\n",
    "    sum=0\n",
    "    for num in number:\n",
    "      sum=sum+num\n",
    "    print(sum)\n",
    "add(10,20)\n",
    "add(10,20,30)\n",
    "add(10,20,30,40)"
   ]
  },
  {
   "cell_type": "code",
   "execution_count": 87,
   "metadata": {},
   "outputs": [
    {
     "name": "stdout",
     "output_type": "stream",
     "text": [
      "101 hamid\n"
     ]
    }
   ],
   "source": [
    "# xxargs\n",
    "def student(id,name):\n",
    "    print(id,name)\n",
    "student(101,\"hamid\")"
   ]
  },
  {
   "cell_type": "code",
   "execution_count": 88,
   "metadata": {},
   "outputs": [
    {
     "name": "stdout",
     "output_type": "stream",
     "text": [
      "101 hamid\n"
     ]
    }
   ],
   "source": [
    "def student(id,name):\n",
    "    print(id,name)\n",
    "student(id=101,name=\"hamid\")"
   ]
  },
  {
   "cell_type": "code",
   "execution_count": 89,
   "metadata": {},
   "outputs": [
    {
     "name": "stdout",
     "output_type": "stream",
     "text": [
      "{'id': 101, 'name': 'hamid'}\n"
     ]
    }
   ],
   "source": [
    "def student(**details):\n",
    "    print(details)\n",
    "student(id=101,name=\"hamid\")"
   ]
  },
  {
   "cell_type": "code",
   "execution_count": 90,
   "metadata": {},
   "outputs": [
    {
     "name": "stdout",
     "output_type": "stream",
     "text": [
      "101\n"
     ]
    }
   ],
   "source": [
    "def student(**details):\n",
    "    print(details[\"id\"])\n",
    "student(id=101,name=\"hamid\")"
   ]
  },
  {
   "cell_type": "code",
   "execution_count": 91,
   "metadata": {},
   "outputs": [
    {
     "name": "stdout",
     "output_type": "stream",
     "text": [
      "hamid\n"
     ]
    }
   ],
   "source": [
    "def student(**details):\n",
    "    print(details[\"name\"])\n",
    "student(id=101,name=\"hamid\")"
   ]
  },
  {
   "cell_type": "markdown",
   "metadata": {},
   "source": [
    "# Debugging"
   ]
  },
  {
   "cell_type": "code",
   "execution_count": 92,
   "metadata": {},
   "outputs": [
    {
     "name": "stdout",
     "output_type": "stream",
     "text": [
      "30\n"
     ]
    }
   ],
   "source": [
    "#Debugging\n",
    "def add(*number):\n",
    "    sum=0\n",
    "    for num in number:\n",
    "        sum=sum+num\n",
    "    return sum\n",
    "print(add(10,20))"
   ]
  },
  {
   "cell_type": "markdown",
   "metadata": {},
   "source": [
    "# Lambda Functions"
   ]
  },
  {
   "cell_type": "code",
   "execution_count": 93,
   "metadata": {},
   "outputs": [
    {
     "name": "stdout",
     "output_type": "stream",
     "text": [
      "25\n"
     ]
    }
   ],
   "source": [
    "# Lambda Functions \n",
    "def  calculate ( a , b ): \n",
    "    return  a * a + 2 * a * b + b * b \n",
    "print ( calculate ( 2 , 3 ))"
   ]
  },
  {
   "cell_type": "code",
   "execution_count": 94,
   "metadata": {},
   "outputs": [
    {
     "name": "stdout",
     "output_type": "stream",
     "text": [
      "25\n"
     ]
    }
   ],
   "source": [
    "#lambda parameter: expression: \n",
    "print (( lambda  a , b : a * a + 2 * a * b + b * b ) ( 2 , 3 ))"
   ]
  },
  {
   "cell_type": "code",
   "execution_count": 95,
   "metadata": {},
   "outputs": [
    {
     "name": "stdout",
     "output_type": "stream",
     "text": [
      "25\n"
     ]
    }
   ],
   "source": [
    "a = ( lambda  a , b : a * a + 2 * a * b + b * b ) ( 2 , 3 ) \n",
    "print ( a )"
   ]
  },
  {
   "cell_type": "code",
   "execution_count": 96,
   "metadata": {},
   "outputs": [
    {
     "name": "stdout",
     "output_type": "stream",
     "text": [
      "8\n"
     ]
    }
   ],
   "source": [
    "def  cube ( x ): \n",
    "    return  x * x * x \n",
    "a = ( lambda  x : x * x * x ) ( 2 ) \n",
    "print ( a )"
   ]
  },
  {
   "cell_type": "markdown",
   "metadata": {},
   "source": [
    "# map and filter function"
   ]
  },
  {
   "cell_type": "code",
   "execution_count": null,
   "metadata": {},
   "outputs": [],
   "source": [
    "#map and filter function\n",
    "#map function\n",
    "def square(x):\n",
    "    return x*x\n",
    "num=(1,2,3,4,5)\n",
    "print(list(map(square,num)))"
   ]
  },
  {
   "cell_type": "raw",
   "metadata": {},
   "source": [
    "[1, 4, 9, 16, 25]"
   ]
  },
  {
   "cell_type": "code",
   "execution_count": null,
   "metadata": {},
   "outputs": [],
   "source": [
    "#filter function\n",
    "num=[1,2,3,4,5]\n",
    "\n",
    "result=list(filter(lambda x: x%2==0,num))\n",
    "print(result)"
   ]
  },
  {
   "cell_type": "raw",
   "metadata": {},
   "source": [
    "[2, 4]"
   ]
  },
  {
   "cell_type": "markdown",
   "metadata": {},
   "source": [
    "# List Comprehensions"
   ]
  },
  {
   "cell_type": "code",
   "execution_count": 104,
   "metadata": {},
   "outputs": [
    {
     "name": "stdout",
     "output_type": "stream",
     "text": [
      "[1, 4, 9, 16, 25]\n"
     ]
    }
   ],
   "source": [
    "# List Comprehensions\n",
    "num=[1,2,3,4,5]\n",
    "\n",
    "#[expression for item in list]\n",
    "result=[x*x for x in num]\n",
    "\n",
    "print(result)"
   ]
  },
  {
   "cell_type": "code",
   "execution_count": null,
   "metadata": {},
   "outputs": [],
   "source": [
    "#filter funtion\n",
    "num=[1,2,3,4,5]\n",
    "\n",
    "#[expression for item in list]\n",
    "result=list(filter(lambda x: x%2==0,num))\n",
    "\n",
    "print(result)"
   ]
  },
  {
   "cell_type": "raw",
   "metadata": {},
   "source": [
    "[2, 4]"
   ]
  },
  {
   "cell_type": "code",
   "execution_count": 111,
   "metadata": {},
   "outputs": [
    {
     "name": "stdout",
     "output_type": "stream",
     "text": [
      "[2, 4]\n"
     ]
    }
   ],
   "source": [
    "#List Comprehensions filter\n",
    "num=[1,2,3,4,5]\n",
    "\n",
    "result=[x for x in num if x%2==0]\n",
    "\n",
    "print(result)"
   ]
  },
  {
   "cell_type": "markdown",
   "metadata": {},
   "source": [
    "# Zip Function"
   ]
  },
  {
   "cell_type": "code",
   "execution_count": null,
   "metadata": {},
   "outputs": [],
   "source": [
    "#Zip Function\n",
    "roll=[101,102,103,104,105,106]\n",
    "name=[\"Anisul Islam\",\"Hamid Hosen\",\"Fahim\",\"Riad\",\"Hosen\",\"Azad\"]\n",
    "\n",
    "print(list(zip(roll,name)))"
   ]
  },
  {
   "cell_type": "raw",
   "metadata": {},
   "source": [
    "[(101, 'Anisul Islam'), (102, 'Hamid Hosen'), (103, 'Fahim'), (104, 'Riad'), (105, 'Hosen'), (106, 'Azad')]"
   ]
  },
  {
   "cell_type": "code",
   "execution_count": null,
   "metadata": {},
   "outputs": [],
   "source": [
    "roll=[101,102,103,104,105,106]\n",
    "name=[\"Anisul Islam\",\"Hamid Hosen\",\"Fahim\",\"Riad\",\"Hosen\",\"Azad\"]\n",
    "\n",
    "print(list(zip(roll,name,\"ABABAB\")))"
   ]
  },
  {
   "cell_type": "raw",
   "metadata": {},
   "source": [
    "[(101, 'Anisul Islam', 'A'), (102, 'Hamid Hosen', 'B'), (103, 'Fahim', 'A'), (104, 'Riad', 'B'), (105, 'Hosen', 'A'), (106, 'Azad', 'B')]"
   ]
  },
  {
   "cell_type": "markdown",
   "metadata": {},
   "source": [
    "# Recursion"
   ]
  },
  {
   "cell_type": "code",
   "execution_count": 113,
   "metadata": {},
   "outputs": [
    {
     "name": "stdout",
     "output_type": "stream",
     "text": [
      "Enter your number:4\n",
      "24\n"
     ]
    }
   ],
   "source": [
    "#  Recursion\n",
    "def fact(n):\n",
    "    if n==1:\n",
    "        return 1\n",
    "    else:\n",
    "        return n*fact(n-1)\n",
    "\n",
    "num=int(input(\"Enter your number:\"))\n",
    "print(fact(num))"
   ]
  },
  {
   "cell_type": "markdown",
   "metadata": {},
   "source": [
    "# Reading a file"
   ]
  },
  {
   "cell_type": "code",
   "execution_count": 115,
   "metadata": {},
   "outputs": [
    {
     "name": "stdout",
     "output_type": "stream",
     "text": [
      "True\n"
     ]
    }
   ],
   "source": [
    "#Reading a file\n",
    "file=open(\"hamid.txt\",\"r\")\n",
    "print(file.readable())\n",
    "file.close()"
   ]
  },
  {
   "cell_type": "code",
   "execution_count": 116,
   "metadata": {},
   "outputs": [
    {
     "name": "stdout",
     "output_type": "stream",
     "text": [
      "False\n"
     ]
    }
   ],
   "source": [
    "file=open(\"hamid.txt\",\"w\")\n",
    "print(file.readable())\n",
    "file.close()"
   ]
  },
  {
   "cell_type": "code",
   "execution_count": 117,
   "metadata": {},
   "outputs": [
    {
     "name": "stdout",
     "output_type": "stream",
     "text": [
      "True\n"
     ]
    }
   ],
   "source": [
    "file=open(\"hamid.txt\",\"w\")\n",
    "print(file.writable())\n",
    "file.close()"
   ]
  },
  {
   "cell_type": "code",
   "execution_count": 118,
   "metadata": {},
   "outputs": [
    {
     "name": "stdout",
     "output_type": "stream",
     "text": [
      "True\n"
     ]
    }
   ],
   "source": [
    "file=open(\"hamid.txt\",\"r+\")\n",
    "print(file.writable())\n",
    "file.close()"
   ]
  },
  {
   "cell_type": "code",
   "execution_count": 119,
   "metadata": {},
   "outputs": [
    {
     "name": "stdout",
     "output_type": "stream",
     "text": [
      "\n"
     ]
    }
   ],
   "source": [
    "file=open(\"hamid.txt\",\"r+\")\n",
    "#print(file.writable())\n",
    "text=file.read()\n",
    "print(text)\n",
    "file.close()"
   ]
  },
  {
   "cell_type": "code",
   "execution_count": 121,
   "metadata": {},
   "outputs": [
    {
     "name": "stdout",
     "output_type": "stream",
     "text": [
      "Hamid Hosen -lacturer of ICT\n",
      "Hosen Azd - Lacturer of CSE\n",
      "56\n"
     ]
    }
   ],
   "source": [
    "file=open(\"hamid.txt\",\"r+\")\n",
    "#print(file.writable())\n",
    "text=file.read()\n",
    "print(text)\n",
    "size=len(text)\n",
    "print(size)\n",
    "file.close()"
   ]
  },
  {
   "cell_type": "code",
   "execution_count": 122,
   "metadata": {},
   "outputs": [
    {
     "name": "stdout",
     "output_type": "stream",
     "text": [
      "['Hamid Hosen -lacturer of ICT\\n', 'Hosen Azd - Lacturer of CSE']\n"
     ]
    }
   ],
   "source": [
    "file=open(\"hamid.txt\",\"r+\")\n",
    "text=file.readlines()\n",
    "print(text)\n",
    "file.close()"
   ]
  },
  {
   "cell_type": "code",
   "execution_count": 123,
   "metadata": {},
   "outputs": [
    {
     "name": "stdout",
     "output_type": "stream",
     "text": [
      "Hamid Hosen -lacturer of ICT\n",
      "\n"
     ]
    }
   ],
   "source": [
    "file=open(\"hamid.txt\",\"r+\")\n",
    "text=file.readlines()[0]\n",
    "print(text)\n",
    "file.close()"
   ]
  },
  {
   "cell_type": "code",
   "execution_count": 124,
   "metadata": {},
   "outputs": [
    {
     "name": "stdout",
     "output_type": "stream",
     "text": [
      "Hosen Azd - Lacturer of CSE\n"
     ]
    }
   ],
   "source": [
    "file=open(\"hamid.txt\",\"r+\")\n",
    "text=file.readlines()[1]\n",
    "print(text)\n",
    "file.close()"
   ]
  },
  {
   "cell_type": "code",
   "execution_count": 125,
   "metadata": {},
   "outputs": [
    {
     "name": "stdout",
     "output_type": "stream",
     "text": [
      "Hosen Azd - Lacturer of CSE\n"
     ]
    }
   ],
   "source": [
    "file=open(\"hamid.txt\",\"r+\")\n",
    "text=file.readlines()[1]\n",
    "print(text)\n",
    "file.close()"
   ]
  },
  {
   "cell_type": "code",
   "execution_count": 126,
   "metadata": {},
   "outputs": [
    {
     "name": "stdout",
     "output_type": "stream",
     "text": [
      "Hamid Hosen -lacturer of ICT\n",
      "\n",
      "Hosen Azd - Lacturer of CSE\n"
     ]
    }
   ],
   "source": [
    "file=open(\"hamid.txt\",\"r+\")\n",
    "for line in file:\n",
    "    print(line)\n",
    "file.close()"
   ]
  },
  {
   "cell_type": "markdown",
   "metadata": {},
   "source": [
    "# writing in a file"
   ]
  },
  {
   "cell_type": "code",
   "execution_count": 128,
   "metadata": {},
   "outputs": [],
   "source": [
    "#writing in a file\n",
    "file=open(\"hamid.txt\",\"a\")\n",
    "file.write(\"\\n Sadi -Lacturer of EEE\")\n",
    "file.close()"
   ]
  },
  {
   "cell_type": "code",
   "execution_count": 129,
   "metadata": {},
   "outputs": [],
   "source": [
    "file=open(\"hamid.txt\",\"w\")\n",
    "\n",
    "file.write(\"\\n Sadi -Lacturer of EEE\")\n",
    "file.close()"
   ]
  },
  {
   "cell_type": "code",
   "execution_count": 130,
   "metadata": {},
   "outputs": [],
   "source": [
    "file=open(\"hamid1.txt\",\"w\")\n",
    "\n",
    "file.write(\"\\n Sadi -Lacturer of EEE\")\n",
    "file.close()"
   ]
  },
  {
   "cell_type": "code",
   "execution_count": 131,
   "metadata": {},
   "outputs": [],
   "source": [
    "file=open(\"hello.html\",\"w\")\n",
    "\n",
    "file.write(\"<h1> This is a text</h1>\")\n",
    "file.close()"
   ]
  },
  {
   "cell_type": "markdown",
   "metadata": {},
   "source": [
    "# Exception Handling (part-1)"
   ]
  },
  {
   "cell_type": "code",
   "execution_count": 132,
   "metadata": {},
   "outputs": [
    {
     "name": "stdout",
     "output_type": "stream",
     "text": [
      "Enter a number:20\n"
     ]
    },
    {
     "ename": "TypeError",
     "evalue": "unsupported operand type(s) for /: 'int' and 'str'",
     "output_type": "error",
     "traceback": [
      "\u001b[1;31m---------------------------------------------------------------------------\u001b[0m",
      "\u001b[1;31mTypeError\u001b[0m                                 Traceback (most recent call last)",
      "\u001b[1;32m<ipython-input-132-4eae459b3c82>\u001b[0m in \u001b[0;36m<module>\u001b[1;34m\u001b[0m\n\u001b[0;32m      2\u001b[0m \u001b[1;31m#TypeError\u001b[0m\u001b[1;33m\u001b[0m\u001b[1;33m\u001b[0m\u001b[1;33m\u001b[0m\u001b[0m\n\u001b[0;32m      3\u001b[0m \u001b[0mnum2\u001b[0m\u001b[1;33m=\u001b[0m\u001b[0minput\u001b[0m\u001b[1;33m(\u001b[0m\u001b[1;34m\"Enter a number:\"\u001b[0m\u001b[1;33m)\u001b[0m\u001b[1;33m\u001b[0m\u001b[1;33m\u001b[0m\u001b[0m\n\u001b[1;32m----> 4\u001b[1;33m \u001b[0mresult\u001b[0m\u001b[1;33m=\u001b[0m\u001b[1;36m20\u001b[0m\u001b[1;33m/\u001b[0m\u001b[0mnum2\u001b[0m\u001b[1;33m\u001b[0m\u001b[1;33m\u001b[0m\u001b[0m\n\u001b[0m\u001b[0;32m      5\u001b[0m \u001b[0mprint\u001b[0m\u001b[1;33m(\u001b[0m\u001b[0mresult\u001b[0m\u001b[1;33m)\u001b[0m\u001b[1;33m\u001b[0m\u001b[1;33m\u001b[0m\u001b[0m\n\u001b[0;32m      6\u001b[0m \u001b[0mprint\u001b[0m\u001b[1;33m(\u001b[0m\u001b[1;34m\"Done\"\u001b[0m\u001b[1;33m)\u001b[0m\u001b[1;33m\u001b[0m\u001b[1;33m\u001b[0m\u001b[0m\n",
      "\u001b[1;31mTypeError\u001b[0m: unsupported operand type(s) for /: 'int' and 'str'"
     ]
    }
   ],
   "source": [
    "#Exception Handling (part-1)\n",
    "#TypeError \n",
    "num2=input(\"Enter a number:\")\n",
    "result=20/num2\n",
    "print(result)\n",
    "print(\"Done\")"
   ]
  },
  {
   "cell_type": "code",
   "execution_count": 133,
   "metadata": {},
   "outputs": [
    {
     "name": "stdout",
     "output_type": "stream",
     "text": [
      "Enter a number:3\n",
      "6.666666666666667\n",
      "Done\n"
     ]
    }
   ],
   "source": [
    "num2=int(input(\"Enter a number:\"))\n",
    "result=20/num2\n",
    "print(result)\n",
    "print(\"Done\")"
   ]
  },
  {
   "cell_type": "markdown",
   "metadata": {},
   "source": [
    "# Exception Handling (part-2)"
   ]
  },
  {
   "cell_type": "code",
   "execution_count": 134,
   "metadata": {},
   "outputs": [
    {
     "name": "stdout",
     "output_type": "stream",
     "text": [
      "Enter the first number:2\n",
      "Enter the second number:3\n",
      "0.6666666666666666\n",
      "Thank !!!\n"
     ]
    }
   ],
   "source": [
    "#Exception Handling (part-2)\n",
    "try:\n",
    "    num1=int(input(\"Enter the first number:\"))\n",
    "    num2=int(input(\"Enter the second number:\"))\n",
    "    result=num1/num2\n",
    "    print(result)\n",
    "\n",
    "except ValueError:\n",
    "    print(\"you have to insert only integer.\")\n",
    "except ZeroDivisionError:\n",
    "    print(\"You can do not divide a number by 0\")\n",
    "\n",
    "finally:\n",
    "    print(\"Thank !!!\")"
   ]
  },
  {
   "cell_type": "code",
   "execution_count": 135,
   "metadata": {},
   "outputs": [
    {
     "name": "stdout",
     "output_type": "stream",
     "text": [
      "Enter the first number:3\n",
      "Enter the second number:10.2\n",
      "you have enterd incorrect input.\n",
      "Thank !!!\n"
     ]
    }
   ],
   "source": [
    "try:\n",
    "    num1=int(input(\"Enter the first number:\"))\n",
    "    num2=int(input(\"Enter the second number:\"))\n",
    "    result=num1/num2\n",
    "    print(result)\n",
    "\n",
    "except (ValueError, ZeroDivisionError):\n",
    "    print(\"you have enterd incorrect input.\")\n",
    "\n",
    "finally:\n",
    "    print(\"Thank !!!\")"
   ]
  },
  {
   "cell_type": "code",
   "execution_count": 136,
   "metadata": {},
   "outputs": [
    {
     "name": "stdout",
     "output_type": "stream",
     "text": [
      "You are allowed to vote\n"
     ]
    },
    {
     "ename": "ValueError",
     "evalue": "Invalid Voter",
     "output_type": "error",
     "traceback": [
      "\u001b[1;31m---------------------------------------------------------------------------\u001b[0m",
      "\u001b[1;31mValueError\u001b[0m                                Traceback (most recent call last)",
      "\u001b[1;32m<ipython-input-136-5d5c5111c414>\u001b[0m in \u001b[0;36m<module>\u001b[1;34m\u001b[0m\n\u001b[0;32m      5\u001b[0m \u001b[1;33m\u001b[0m\u001b[0m\n\u001b[0;32m      6\u001b[0m \u001b[0mprint\u001b[0m\u001b[1;33m(\u001b[0m\u001b[0mvoter\u001b[0m\u001b[1;33m(\u001b[0m\u001b[1;36m19\u001b[0m\u001b[1;33m)\u001b[0m\u001b[1;33m)\u001b[0m\u001b[1;33m\u001b[0m\u001b[1;33m\u001b[0m\u001b[0m\n\u001b[1;32m----> 7\u001b[1;33m \u001b[0mprint\u001b[0m\u001b[1;33m(\u001b[0m\u001b[0mvoter\u001b[0m\u001b[1;33m(\u001b[0m\u001b[1;36m17\u001b[0m\u001b[1;33m)\u001b[0m\u001b[1;33m)\u001b[0m\u001b[1;33m\u001b[0m\u001b[1;33m\u001b[0m\u001b[0m\n\u001b[0m",
      "\u001b[1;32m<ipython-input-136-5d5c5111c414>\u001b[0m in \u001b[0;36mvoter\u001b[1;34m(age)\u001b[0m\n\u001b[0;32m      1\u001b[0m \u001b[1;32mdef\u001b[0m \u001b[0mvoter\u001b[0m\u001b[1;33m(\u001b[0m\u001b[0mage\u001b[0m\u001b[1;33m)\u001b[0m\u001b[1;33m:\u001b[0m\u001b[1;33m\u001b[0m\u001b[1;33m\u001b[0m\u001b[0m\n\u001b[0;32m      2\u001b[0m     \u001b[1;32mif\u001b[0m \u001b[0mage\u001b[0m\u001b[1;33m<\u001b[0m\u001b[1;36m18\u001b[0m\u001b[1;33m:\u001b[0m\u001b[1;33m\u001b[0m\u001b[1;33m\u001b[0m\u001b[0m\n\u001b[1;32m----> 3\u001b[1;33m         \u001b[1;32mraise\u001b[0m \u001b[0mValueError\u001b[0m\u001b[1;33m(\u001b[0m\u001b[1;34m\"Invalid Voter\"\u001b[0m\u001b[1;33m)\u001b[0m\u001b[1;33m\u001b[0m\u001b[1;33m\u001b[0m\u001b[0m\n\u001b[0m\u001b[0;32m      4\u001b[0m     \u001b[1;32mreturn\u001b[0m \u001b[1;34m\"You are allowed to vote\"\u001b[0m\u001b[1;33m\u001b[0m\u001b[1;33m\u001b[0m\u001b[0m\n\u001b[0;32m      5\u001b[0m \u001b[1;33m\u001b[0m\u001b[0m\n",
      "\u001b[1;31mValueError\u001b[0m: Invalid Voter"
     ]
    }
   ],
   "source": [
    "def voter(age):\n",
    "    if age<18:\n",
    "        raise ValueError(\"Invalid Voter\")\n",
    "    return \"You are allowed to vote\"\n",
    "\n",
    "print(voter(19))\n",
    "print(voter(17))"
   ]
  },
  {
   "cell_type": "code",
   "execution_count": 137,
   "metadata": {},
   "outputs": [
    {
     "name": "stdout",
     "output_type": "stream",
     "text": [
      "Invalid Voter\n"
     ]
    }
   ],
   "source": [
    "def voter(age):\n",
    "    if age<18:\n",
    "        raise ValueError(\"Invalid Voter\")\n",
    "    return \"You are allowed to vote\"\n",
    "try:\n",
    "    print(voter(17))\n",
    "except ValueError as e:\n",
    "    print(e)"
   ]
  },
  {
   "cell_type": "markdown",
   "metadata": {},
   "source": [
    "# Swapping - End of Basic Python"
   ]
  },
  {
   "cell_type": "code",
   "execution_count": 138,
   "metadata": {},
   "outputs": [
    {
     "name": "stdout",
     "output_type": "stream",
     "text": [
      "Enter the first number:2\n",
      "Enter the second number:3\n",
      "num1= 3\n",
      "num2= 2\n"
     ]
    }
   ],
   "source": [
    "#Swapping  - End of Basic Python\n",
    "num1=int(input(\"Enter the first number:\"))\n",
    "num2=int(input(\"Enter the second number:\"))\n",
    "\n",
    "temp=num1\n",
    "num1=num2\n",
    "num2=temp\n",
    "\n",
    "print(\"num1=\",num1)\n",
    "print(\"num2=\",num2)"
   ]
  },
  {
   "cell_type": "code",
   "execution_count": 139,
   "metadata": {},
   "outputs": [
    {
     "name": "stdout",
     "output_type": "stream",
     "text": [
      "Enter the first number:3\n",
      "Enter the second number:4\n",
      "num1= 4\n",
      "num2= 3\n"
     ]
    }
   ],
   "source": [
    "num1=int(input(\"Enter the first number:\"))\n",
    "num2=int(input(\"Enter the second number:\"))\n",
    "\n",
    "num1,num2=num2,num1\n",
    "\n",
    "print(\"num1=\",num1)\n",
    "print(\"num2=\",num2)"
   ]
  },
  {
   "cell_type": "markdown",
   "metadata": {},
   "source": [
    "# Introduction to OOP - class and object"
   ]
  },
  {
   "cell_type": "code",
   "execution_count": 140,
   "metadata": {},
   "outputs": [
    {
     "name": "stdout",
     "output_type": "stream",
     "text": [
      "True\n"
     ]
    }
   ],
   "source": [
    "class Student:\n",
    "    roll=\"\"\n",
    "    gpa=\"\"\n",
    "\n",
    "rahim=Student()\n",
    "print(isinstance(rahim,Student))"
   ]
  },
  {
   "cell_type": "code",
   "execution_count": 141,
   "metadata": {},
   "outputs": [
    {
     "name": "stdout",
     "output_type": "stream",
     "text": [
      "True\n",
      "Roll:101, gpa:3.91\n",
      "Roll:102, gpa:3.91\n"
     ]
    }
   ],
   "source": [
    "class Student:\n",
    "    roll=\"\"\n",
    "    gpa=\"\"\n",
    "\n",
    "rahim=Student()#object\n",
    "print(isinstance(rahim,Student))\n",
    "rahim.roll=101\n",
    "rahim.gpa=3.91\n",
    "print(f\"Roll:{rahim.roll}, gpa:{rahim.gpa}\")#f=format\n",
    "\n",
    "Hamid=Student()\n",
    "Hamid.roll=102\n",
    "Hamid.gpa=3.91\n",
    "print(f\"Roll:{Hamid.roll}, gpa:{Hamid.gpa}\")#f=format"
   ]
  },
  {
   "cell_type": "markdown",
   "metadata": {},
   "source": [
    "# Introducing Methods"
   ]
  },
  {
   "cell_type": "code",
   "execution_count": 142,
   "metadata": {},
   "outputs": [
    {
     "name": "stdout",
     "output_type": "stream",
     "text": [
      "True\n",
      "Roll:101, gpa:3.91\n",
      "Roll:102, gpa:3.91\n",
      "Roll:103, gpa:4\n",
      "Roll:104, gpa:5\n"
     ]
    }
   ],
   "source": [
    "#Introducing Methods\n",
    "class Student:\n",
    "    roll=\"\"\n",
    "    gpa=\"\"\n",
    "\n",
    "    def display(self):\n",
    "        print(f\"Roll:{self.roll}, gpa:{self.gpa}\")\n",
    "\n",
    "rahim=Student()#object\n",
    "print(isinstance(rahim,Student))\n",
    "rahim.roll=101\n",
    "rahim.gpa=3.91\n",
    "rahim.display()\n",
    "\n",
    "Hamid=Student()\n",
    "Hamid.roll=102\n",
    "Hamid.gpa=3.91\n",
    "Hamid.display()\n",
    "\n",
    "Hosen=Student()\n",
    "Hosen.roll=103\n",
    "Hosen.gpa=4\n",
    "Hosen.display()\n",
    "\n",
    "Azad=Student()\n",
    "Azad.roll=104\n",
    "Azad.gpa=5\n",
    "Azad.display()"
   ]
  },
  {
   "cell_type": "code",
   "execution_count": 143,
   "metadata": {},
   "outputs": [
    {
     "name": "stdout",
     "output_type": "stream",
     "text": [
      "Roll:101, gpa:3\n",
      "Roll:102, gpa:4\n",
      "Roll:103, gpa:3.4\n",
      "Roll:104, gpa:4\n"
     ]
    }
   ],
   "source": [
    "class Student:\n",
    "    roll=\"\"\n",
    "    gpa=\"\"\n",
    "\n",
    "    def set_value(self, roll, gpa):\n",
    "        self.roll=roll\n",
    "        self.gpa=gpa\n",
    "\n",
    "    def display(self):\n",
    "        print(f\"Roll:{self.roll}, gpa:{self.gpa}\")\n",
    "\n",
    "rahim=Student()#object\n",
    "rahim.set_value(101,3)\n",
    "rahim.display()\n",
    "\n",
    "Hamid=Student()\n",
    "Hamid.set_value(102,4)\n",
    "Hamid.display()\n",
    "\n",
    "Hosen=Student()\n",
    "Hosen.set_value(103,3.4)\n",
    "Hosen.display()\n",
    "\n",
    "Azad=Student()\n",
    "Azad.set_value(104,4)\n",
    "Azad.display()"
   ]
  },
  {
   "cell_type": "markdown",
   "metadata": {},
   "source": [
    "# Constructor"
   ]
  },
  {
   "cell_type": "code",
   "execution_count": 144,
   "metadata": {},
   "outputs": [
    {
     "name": "stdout",
     "output_type": "stream",
     "text": [
      "Roll:101, gpa:3\n",
      "Roll:102, gpa:4\n"
     ]
    }
   ],
   "source": [
    "class Student:\n",
    "    roll = \"\"\n",
    "    gpa = \"\"\n",
    "\n",
    "    def __init__(self,roll, gpa):\n",
    "        self.roll=roll\n",
    "        self.gpa=gpa\n",
    "\n",
    "    def display(self):\n",
    "        print(f\"Roll:{self.roll}, gpa:{self.gpa}\")\n",
    "\n",
    "rahim=Student(101,3)#object\n",
    "rahim.display()\n",
    "\n",
    "Hamid=Student(102,4)\n",
    "Hamid.display()"
   ]
  },
  {
   "cell_type": "markdown",
   "metadata": {},
   "source": [
    "# Exercise"
   ]
  },
  {
   "cell_type": "markdown",
   "metadata": {},
   "source": [
    "# Inheritance"
   ]
  },
  {
   "cell_type": "code",
   "execution_count": 1,
   "metadata": {},
   "outputs": [
    {
     "name": "stdout",
     "output_type": "stream",
     "text": [
      "You can call\n",
      "You can call\n",
      "You can call\n",
      "You can massage\n",
      "You can take photo\n"
     ]
    }
   ],
   "source": [
    "class phone:\n",
    "    def call(self):\n",
    "        print(\"You can call\")\n",
    "\n",
    "    def massage(self):\n",
    "        print(\"You can message\")\n",
    "\n",
    "\n",
    "class Samsung:\n",
    "    def call(self):\n",
    "        print(\"You can call\")\n",
    "\n",
    "    def massage(self):\n",
    "        print(\"You can massage\")\n",
    "\n",
    "    def photo(self):\n",
    "        print(\"You can take photo\")\n",
    "\"\"\"\n",
    "phone().call()\n",
    "phone().massage()\n",
    "\"\"\"\n",
    "p=phone()\n",
    "p.call()\n",
    "p.call()\n",
    "\n",
    "s=Samsung()\n",
    "s.call()\n",
    "s.massage()\n",
    "s.photo()"
   ]
  },
  {
   "cell_type": "code",
   "execution_count": 2,
   "metadata": {},
   "outputs": [
    {
     "name": "stdout",
     "output_type": "stream",
     "text": [
      "You can call\n",
      "You can call\n",
      "You can call\n",
      "You can message\n",
      "You can take photo\n"
     ]
    }
   ],
   "source": [
    "# Inheritance\n",
    "class phone:\n",
    "    def call(self):\n",
    "        print(\"You can call\")\n",
    "\n",
    "    def massage(self):\n",
    "        print(\"You can message\")\n",
    "\n",
    "\n",
    "class Samsung(phone):\n",
    "    #call,massage\n",
    "    def photo(self):\n",
    "        print(\"You can take photo\")\n",
    "\"\"\"\n",
    "phone().call()\n",
    "phone().massage()\n",
    "\"\"\"\n",
    "p=phone()\n",
    "p.call()\n",
    "p.call()\n",
    "\n",
    "s=Samsung()\n",
    "s.call()\n",
    "s.massage()\n",
    "s.photo()"
   ]
  },
  {
   "cell_type": "code",
   "execution_count": 3,
   "metadata": {},
   "outputs": [
    {
     "name": "stdout",
     "output_type": "stream",
     "text": [
      "You can call\n",
      "You can call\n",
      "You can call\n",
      "You can message\n",
      "You can take photo\n",
      "True\n",
      "False\n"
     ]
    }
   ],
   "source": [
    "#Parent class,Super class,Base class\n",
    "class phone:\n",
    "    def call(self):\n",
    "        print(\"You can call\")\n",
    "\n",
    "    def massage(self):\n",
    "        print(\"You can message\")\n",
    "\n",
    "#Child class,sub class, Derived class\n",
    "class Samsung(phone):\n",
    "\n",
    "    def photo(self):\n",
    "        print(\"You can take photo\")\n",
    "\"\"\"\n",
    "phone().call()\n",
    "phone().massage()\n",
    "\"\"\"\n",
    "p=phone()\n",
    "p.call()\n",
    "p.call()\n",
    "\n",
    "s=Samsung()\n",
    "s.call()\n",
    "s.massage()\n",
    "s.photo()\n",
    "\n",
    "print(issubclass(Samsung,phone))\n",
    "print(issubclass(phone,Samsung))"
   ]
  },
  {
   "cell_type": "markdown",
   "metadata": {},
   "source": [
    "# Method Overriding"
   ]
  },
  {
   "cell_type": "code",
   "execution_count": 4,
   "metadata": {},
   "outputs": [
    {
     "name": "stdout",
     "output_type": "stream",
     "text": [
      "I am in Sumsung class\n"
     ]
    }
   ],
   "source": [
    "class Phone:\n",
    "    def __init__(self):\n",
    "        print(\"I am in phone class\")\n",
    "\n",
    "class Samsung(Phone):\n",
    "    #init\n",
    "    def __init__(self):\n",
    "        print(\"I am in Sumsung class\")\n",
    "\n",
    "s=Samsung()"
   ]
  },
  {
   "cell_type": "code",
   "execution_count": 5,
   "metadata": {},
   "outputs": [
    {
     "name": "stdout",
     "output_type": "stream",
     "text": [
      "I am in phone class\n",
      "I am in Sumsung class\n"
     ]
    }
   ],
   "source": [
    "class Phone:\n",
    "    def __init__(self):\n",
    "        print(\"I am in phone class\")\n",
    "\n",
    "class Samsung(Phone):\n",
    "    #init\n",
    "    def __init__(self):\n",
    "        super().__init__()\n",
    "        print(\"I am in Sumsung class\")\n",
    "\n",
    "s=Samsung()"
   ]
  },
  {
   "cell_type": "markdown",
   "metadata": {},
   "source": [
    "# A practical example of inheritance"
   ]
  },
  {
   "cell_type": "code",
   "execution_count": 6,
   "metadata": {},
   "outputs": [
    {
     "name": "stdout",
     "output_type": "stream",
     "text": [
      "Enter the first number:3\n",
      "Enter the second number:4\n",
      "Area of triangle: 4.5\n",
      "Area of rectangle: 12\n"
     ]
    }
   ],
   "source": [
    "#A practical example of inheritance\n",
    "class Shape:\n",
    "    def __init__(self,dim1,dim2):\n",
    "        self.dim1=dim1\n",
    "        self.dim2=dim2\n",
    "\n",
    "    def area(self):\n",
    "        print(\"I am area method of shape class\")\n",
    "\n",
    "class Triangle(Shape):\n",
    "    #area\n",
    "    def area(self):\n",
    "        area=0.5*self.dim1*self.dim2\n",
    "        print(\"Area of triangle:\",area)\n",
    "\n",
    "class Rectangle(Shape):\n",
    "    def area(self):\n",
    "        area=self.dim1*self.dim2\n",
    "        print(\"Area of rectangle:\",area)\n",
    "\n",
    "num1=int(input(\"Enter the first number:\"))\n",
    "num2=int(input(\"Enter the second number:\"))\n",
    "\n",
    "result=Triangle(num1,num1)\n",
    "result.area()\n",
    "\n",
    "result=Rectangle(num1,num2)\n",
    "result.area()"
   ]
  },
  {
   "cell_type": "markdown",
   "metadata": {},
   "source": [
    "# Types Of Inheritance"
   ]
  },
  {
   "cell_type": "code",
   "execution_count": 7,
   "metadata": {},
   "outputs": [
    {
     "name": "stdout",
     "output_type": "stream",
     "text": [
      "I am inside A class\n",
      "I am inside B class\n",
      "I am inside C class\n"
     ]
    }
   ],
   "source": [
    "#Types Of Inheritance\n",
    "#multi-level inheritance\n",
    "class A:\n",
    "    def display1(self):\n",
    "        print(\"I am inside A class\")\n",
    "\n",
    "class B(A):\n",
    "    #display1\n",
    "    def display2(self):\n",
    "        print(\"I am inside B class\")\n",
    "\n",
    "class C(B):\n",
    "    #display1,display2\n",
    "    def display3(self):\n",
    "        print(\"I am inside C class\")\n",
    "\n",
    "ob1=C()\n",
    "ob1.display1()\n",
    "ob1.display2()\n",
    "ob1.display3()"
   ]
  },
  {
   "cell_type": "code",
   "execution_count": 8,
   "metadata": {},
   "outputs": [
    {
     "name": "stdout",
     "output_type": "stream",
     "text": [
      "I am inside A class\n",
      "I am inside B class\n",
      "I am inside C class\n"
     ]
    }
   ],
   "source": [
    "#multi-level inheritance\n",
    "class A:\n",
    "    def display1(self):\n",
    "        print(\"I am inside A class\")\n",
    "\n",
    "class B(A):\n",
    "    #display1\n",
    "    def display2(self):\n",
    "        print(\"I am inside B class\")\n",
    "\n",
    "class C(B):\n",
    "    #display1,display2\n",
    "    def display3(self):\n",
    "        super().display1()\n",
    "        super().display2()\n",
    "        print(\"I am inside C class\")\n",
    "\n",
    "ob1=C()\n",
    "ob1.display3()"
   ]
  },
  {
   "cell_type": "code",
   "execution_count": 9,
   "metadata": {},
   "outputs": [
    {
     "name": "stdout",
     "output_type": "stream",
     "text": [
      "I am inside C class\n"
     ]
    }
   ],
   "source": [
    "#multiple inheritance\n",
    "class A:\n",
    "    def display(self):\n",
    "        print(\"I am inside A class\")\n",
    "\n",
    "class B:\n",
    "    #display1\n",
    "    def display(self):\n",
    "        print(\"I am inside B class\")\n",
    "\n",
    "class C(A,B):\n",
    "    #A->display\n",
    "    #B->display\n",
    "    def display(self):\n",
    "        print(\"I am inside C class\")\n",
    "\n",
    "ob1=C()\n",
    "ob1.display()"
   ]
  },
  {
   "cell_type": "code",
   "execution_count": 10,
   "metadata": {},
   "outputs": [
    {
     "name": "stdout",
     "output_type": "stream",
     "text": [
      "I am inside A class\n"
     ]
    }
   ],
   "source": [
    "#multiple inheritance\n",
    "class A:\n",
    "    def display(self):\n",
    "        print(\"I am inside A class\")\n",
    "\n",
    "class B:\n",
    "    #display1\n",
    "    def display(self):\n",
    "        print(\"I am inside B class\")\n",
    "\n",
    "class C(A,B):\n",
    "    #A->display\n",
    "    #B->display\n",
    "    pass\n",
    "ob1=C()\n",
    "ob1.display()"
   ]
  },
  {
   "cell_type": "code",
   "execution_count": 11,
   "metadata": {},
   "outputs": [
    {
     "name": "stdout",
     "output_type": "stream",
     "text": [
      "I am inside B class\n"
     ]
    }
   ],
   "source": [
    "#multiple inheritance\n",
    "class A:\n",
    "    def display(self):\n",
    "        print(\"I am inside A class\")\n",
    "\n",
    "class B:\n",
    "    #display1\n",
    "    def display(self):\n",
    "        print(\"I am inside B class\")\n",
    "\n",
    "class C(B,A):\n",
    "    #A->display\n",
    "    #B->display\n",
    "    pass\n",
    "ob1=C()\n",
    "ob1.display()"
   ]
  },
  {
   "cell_type": "markdown",
   "metadata": {},
   "source": [
    "# Abstraction"
   ]
  },
  {
   "cell_type": "code",
   "execution_count": 12,
   "metadata": {},
   "outputs": [
    {
     "name": "stdout",
     "output_type": "stream",
     "text": [
      "Enter the first number:3\n",
      "Enter the second number:4\n",
      "Area of triangle: 4.5\n",
      "Area of rectangle: 12\n"
     ]
    }
   ],
   "source": [
    "#Abstraction\n",
    "from abc import ABC, abstractclassmethod\n",
    "\n",
    "\n",
    "class Shape(ABC):\n",
    "    def __init__(self, dim1, dim2):\n",
    "        self.dim1 = dim1\n",
    "        self.dim2 = dim2\n",
    "\n",
    "    @abstractclassmethod\n",
    "    def area(self):\n",
    "        pass\n",
    "\n",
    "\n",
    "class Triangle(Shape):\n",
    "    # area\n",
    "    def area(self):\n",
    "        area = 0.5 * self.dim1 * self.dim2\n",
    "        print(\"Area of triangle:\", area)\n",
    "\n",
    "\n",
    "class Rectangle(Shape):\n",
    "    def area(self):\n",
    "        area = self.dim1 * self.dim2\n",
    "        print(\"Area of rectangle:\", area)\n",
    "\n",
    "\n",
    "num1 = int(input(\"Enter the first number:\"))\n",
    "num2 = int(input(\"Enter the second number:\"))\n",
    "\n",
    "result = Triangle(num1, num1)\n",
    "result.area()\n",
    "\n",
    "result = Rectangle(num1, num2)\n",
    "result.area()"
   ]
  },
  {
   "cell_type": "markdown",
   "metadata": {},
   "source": [
    "# Polymorphism"
   ]
  },
  {
   "cell_type": "code",
   "execution_count": 13,
   "metadata": {},
   "outputs": [
    {
     "name": "stdout",
     "output_type": "stream",
     "text": [
      "11\n",
      "3\n",
      "5\n",
      "9\n"
     ]
    }
   ],
   "source": [
    "#Polymorphism\n",
    "#Built in polymorphic function\n",
    "print(len(\"Hamid Hosen\"))#len=polymorphic function\n",
    "print(len([10,20,30]))\n",
    "\n",
    "#user defined polymorphic function\n",
    "def add(x,y,z=0):#add=polymorphic function\n",
    "    return x+y+z\n",
    "\n",
    "print(add(2,3))\n",
    "print(add(2,3,4))"
   ]
  },
  {
   "cell_type": "code",
   "execution_count": 14,
   "metadata": {},
   "outputs": [
    {
     "name": "stdout",
     "output_type": "stream",
     "text": [
      "Enter the first number:3\n",
      "Enter the second number:4\n",
      "Area of triangle: 4.5\n",
      "Area of rectangle: 12\n"
     ]
    }
   ],
   "source": [
    "from abc import ABC, abstractclassmethod\n",
    "\n",
    "\n",
    "class Shape(ABC):\n",
    "    def __init__(self, dim1, dim2):\n",
    "        self.dim1 = dim1\n",
    "        self.dim2 = dim2\n",
    "\n",
    "    @abstractclassmethod\n",
    "    def area(self):\n",
    "        pass\n",
    "\n",
    "\n",
    "class Triangle(Shape):\n",
    "    # area\n",
    "    def area(self):\n",
    "        area = 0.5 * self.dim1 * self.dim2\n",
    "        print(\"Area of triangle:\", area)\n",
    "\n",
    "\n",
    "class Rectangle(Shape):\n",
    "    def area(self):\n",
    "        area = self.dim1 * self.dim2\n",
    "        print(\"Area of rectangle:\", area)\n",
    "\n",
    "\n",
    "num1 = int(input(\"Enter the first number:\"))\n",
    "num2 = int(input(\"Enter the second number:\"))\n",
    "\n",
    "result = Triangle(num1, num1)\n",
    "result.area()\n",
    "\n",
    "result = Rectangle(num1, num2)\n",
    "result.area()"
   ]
  },
  {
   "cell_type": "markdown",
   "metadata": {},
   "source": [
    "# Magic methods"
   ]
  },
  {
   "cell_type": "code",
   "execution_count": 15,
   "metadata": {},
   "outputs": [
    {
     "name": "stdout",
     "output_type": "stream",
     "text": [
      "Name=Yemaha R15,Color=Blue\n"
     ]
    }
   ],
   "source": [
    "#Magic methods\n",
    "class Bike:\n",
    "    def __init__(self,name,color):#megic mathod\n",
    "        self.name=name\n",
    "        self.color=color\n",
    "\n",
    "    def __str__(self):\n",
    "        return (f\"Name={self.name},Color={self.color}\")\n",
    "    def display(self):\n",
    "        print(f\"Name={self.name},Color={self.color}\")\n",
    "\n",
    "bike1=Bike(\"Yemaha R15\",\"Blue\")\n",
    "bike2=Bike(\"Yemaha FZ\",\"Red\")\n",
    "print(str(bike1))"
   ]
  },
  {
   "cell_type": "code",
   "execution_count": 16,
   "metadata": {},
   "outputs": [
    {
     "name": "stdout",
     "output_type": "stream",
     "text": [
      "True\n"
     ]
    }
   ],
   "source": [
    "class Bike:\n",
    "    def __init__(self,name,color):#megic mathod\n",
    "        self.name=name\n",
    "        self.color=color\n",
    "\n",
    "    def __eq__(self, other):\n",
    "        return self.name==other.name and self.color==other.color\n",
    "\n",
    "    def __str__(self):\n",
    "        return (f\"Name={self.name},Color={self.color}\")\n",
    "    def display(self):\n",
    "        print(f\"Name={self.name},Color={self.color}\")\n",
    "\n",
    "bike1=Bike(\"Yemaha R15\",\"Blue\")\n",
    "bike2=Bike(\"Yemaha R15\",\"Blue\")\n",
    "print(bike1==bike2)"
   ]
  },
  {
   "cell_type": "markdown",
   "metadata": {},
   "source": [
    "# Creating your own Module"
   ]
  },
  {
   "cell_type": "code",
   "execution_count": 17,
   "metadata": {},
   "outputs": [
    {
     "name": "stdout",
     "output_type": "stream",
     "text": [
      "2.0\n",
      "8.0\n"
     ]
    }
   ],
   "source": [
    "#Creating your own Module\n",
    "from math import pow,sqrt\n",
    "print(sqrt(4))\n",
    "print(pow(2,3))"
   ]
  },
  {
   "cell_type": "code",
   "execution_count": 18,
   "metadata": {},
   "outputs": [
    {
     "ename": "ModuleNotFoundError",
     "evalue": "No module named 'program'",
     "output_type": "error",
     "traceback": [
      "\u001b[1;31m---------------------------------------------------------------------------\u001b[0m",
      "\u001b[1;31mModuleNotFoundError\u001b[0m                       Traceback (most recent call last)",
      "\u001b[1;32m<ipython-input-18-f505f7d1bfed>\u001b[0m in \u001b[0;36m<module>\u001b[1;34m\u001b[0m\n\u001b[0;32m      7\u001b[0m \u001b[1;33m\u001b[0m\u001b[0m\n\u001b[0;32m      8\u001b[0m \u001b[1;31m#object\u001b[0m\u001b[1;33m\u001b[0m\u001b[1;33m\u001b[0m\u001b[1;33m\u001b[0m\u001b[0m\n\u001b[1;32m----> 9\u001b[1;33m \u001b[1;32mfrom\u001b[0m \u001b[0mprogram\u001b[0m \u001b[1;32mimport\u001b[0m \u001b[0mtriangle_area\u001b[0m\u001b[1;33m,\u001b[0m\u001b[0mrecangle_area\u001b[0m\u001b[1;33m\u001b[0m\u001b[1;33m\u001b[0m\u001b[0m\n\u001b[0m\u001b[0;32m     10\u001b[0m \u001b[0mtriangle_area\u001b[0m\u001b[1;33m(\u001b[0m\u001b[1;36m10\u001b[0m\u001b[1;33m,\u001b[0m\u001b[1;36m20\u001b[0m\u001b[1;33m)\u001b[0m\u001b[1;33m\u001b[0m\u001b[1;33m\u001b[0m\u001b[0m\n\u001b[0;32m     11\u001b[0m \u001b[0mrecangle_area\u001b[0m\u001b[1;33m(\u001b[0m\u001b[1;36m10\u001b[0m\u001b[1;33m,\u001b[0m\u001b[1;36m2\u001b[0m\u001b[1;33m)\u001b[0m\u001b[1;33m\u001b[0m\u001b[1;33m\u001b[0m\u001b[0m\n",
      "\u001b[1;31mModuleNotFoundError\u001b[0m: No module named 'program'"
     ]
    }
   ],
   "source": [
    "#class\n",
    "def triangle_area(b,h):\n",
    "    print(f\"Area of triangle is :{0.5*b*h}\")\n",
    "\n",
    "def recangle_area(b,h):\n",
    "    print(f\"Area of recangle is :{b*h}\")\n",
    "    \n",
    "#object\n",
    "from program import triangle_area,recangle_area\n",
    "triangle_area(10,20)\n",
    "recangle_area(10,2)"
   ]
  },
  {
   "cell_type": "markdown",
   "metadata": {},
   "source": [
    "# Regular expressions"
   ]
  },
  {
   "cell_type": "code",
   "execution_count": 19,
   "metadata": {},
   "outputs": [
    {
     "name": "stdout",
     "output_type": "stream",
     "text": [
      "Not match\n"
     ]
    }
   ],
   "source": [
    " #Regular expressions\n",
    "import re\n",
    "pattern=r\"colour\"\n",
    "if re.match(pattern,\"Red is a colour, I love red colour\"):\n",
    "    print(\"Match\")\n",
    "else:\n",
    "    print(\"Not match\")"
   ]
  },
  {
   "cell_type": "code",
   "execution_count": 20,
   "metadata": {},
   "outputs": [
    {
     "name": "stdout",
     "output_type": "stream",
     "text": [
      "Match\n"
     ]
    }
   ],
   "source": [
    "import re\n",
    "pattern=r\"Colour\"\n",
    "if re.match(pattern,\"Colour is a colour, I love red colour\"):\n",
    "    print(\"Match\")\n",
    "else:\n",
    "    print(\"Not match\")"
   ]
  },
  {
   "cell_type": "code",
   "execution_count": 21,
   "metadata": {},
   "outputs": [
    {
     "name": "stdout",
     "output_type": "stream",
     "text": [
      "Match\n"
     ]
    }
   ],
   "source": [
    "import re\n",
    "pattern=r\"colour\"\n",
    "if re.search(pattern,\"Red is a colour, I love red colour\"):\n",
    "    print(\"Match\")\n",
    "else:\n",
    "    print(\"Not match\")"
   ]
  },
  {
   "cell_type": "code",
   "execution_count": 22,
   "metadata": {},
   "outputs": [
    {
     "name": "stdout",
     "output_type": "stream",
     "text": [
      "['colour', 'colour']\n"
     ]
    }
   ],
   "source": [
    "import re\n",
    "pattern=r\"colour\"\n",
    "print(re.findall(pattern,\"Red is a colour, I love red colour\"))"
   ]
  },
  {
   "cell_type": "code",
   "execution_count": 23,
   "metadata": {},
   "outputs": [
    {
     "name": "stdout",
     "output_type": "stream",
     "text": [
      "['col', 'col']\n"
     ]
    }
   ],
   "source": [
    "import re\n",
    "pattern=r\"col\"\n",
    "print(re.findall(pattern,\"Red is a colour, I love red colour\"))"
   ]
  },
  {
   "cell_type": "code",
   "execution_count": 24,
   "metadata": {},
   "outputs": [
    {
     "name": "stdout",
     "output_type": "stream",
     "text": [
      "Match\n"
     ]
    }
   ],
   "source": [
    "import re\n",
    "pattern=r\"Col\"\n",
    "if re.match(pattern,\"Colour is a colour, I love red colour\"):\n",
    "    print(\"Match\")\n",
    "else:\n",
    "    print(\"Not match\")"
   ]
  },
  {
   "cell_type": "code",
   "execution_count": 25,
   "metadata": {},
   "outputs": [
    {
     "name": "stdout",
     "output_type": "stream",
     "text": [
      "13\n",
      "19\n",
      "(13, 19)\n"
     ]
    }
   ],
   "source": [
    "import re\n",
    "pattern=r\"colour\"\n",
    "text=\"My favourite colour is Red.\"\n",
    "match=re.search(pattern,text)\n",
    "if match:\n",
    "    print(match.start())\n",
    "    print(match.end())\n",
    "    print(match.span())"
   ]
  },
  {
   "cell_type": "markdown",
   "metadata": {},
   "source": [
    "# Search And Replace"
   ]
  },
  {
   "cell_type": "code",
   "execution_count": 26,
   "metadata": {},
   "outputs": [
    {
     "name": "stdout",
     "output_type": "stream",
     "text": [
      "My favourite color is red.I love blue color as well as.\n"
     ]
    }
   ],
   "source": [
    "#Search And Replace\n",
    "import re\n",
    "pattern=r\"colour\"\n",
    "text=\"My favourite colour is red.I love blue colour as well as.\"\n",
    "print(re.sub(pattern,\"color\",text))"
   ]
  },
  {
   "cell_type": "code",
   "execution_count": 27,
   "metadata": {},
   "outputs": [
    {
     "name": "stdout",
     "output_type": "stream",
     "text": [
      "My favourite color is red.I love blue colour as well as.\n"
     ]
    }
   ],
   "source": [
    "import re\n",
    "pattern=r\"colour\"\n",
    "text=\"My favourite colour is red.I love blue colour as well as.\"\n",
    "print(re.sub(pattern,\"color\",text,count=1))"
   ]
  },
  {
   "cell_type": "markdown",
   "metadata": {},
   "source": [
    "# Meta Characters"
   ]
  },
  {
   "cell_type": "code",
   "execution_count": 28,
   "metadata": {},
   "outputs": [
    {
     "name": "stdout",
     "output_type": "stream",
     "text": [
      "Match\n"
     ]
    }
   ],
   "source": [
    "#Meta Characters\n",
    "import re\n",
    "pattern=r\"colo.r\"\n",
    "if re.match(pattern,\"colour\"):\n",
    "    print(\"Match\")"
   ]
  },
  {
   "cell_type": "code",
   "execution_count": 29,
   "metadata": {},
   "outputs": [
    {
     "name": "stdout",
     "output_type": "stream",
     "text": [
      "Match\n"
     ]
    }
   ],
   "source": [
    "import re\n",
    "pattern=r\"colo..r\"\n",
    "if re.match(pattern,\"colouar\"):\n",
    "    print(\"Match\")"
   ]
  },
  {
   "cell_type": "code",
   "execution_count": 30,
   "metadata": {},
   "outputs": [],
   "source": [
    "import re\n",
    "pattern=r\"colo..r\"\n",
    "if re.match(pattern,\"colouaar\"):\n",
    "    print(\"Match\")"
   ]
  },
  {
   "cell_type": "code",
   "execution_count": 31,
   "metadata": {},
   "outputs": [
    {
     "name": "stdout",
     "output_type": "stream",
     "text": [
      "Match\n"
     ]
    }
   ],
   "source": [
    "import re\n",
    "pattern=r\"colo..r$\"\n",
    "if re.match(pattern,\"colouar\"):\n",
    "    print(\"Match\")"
   ]
  },
  {
   "cell_type": "code",
   "execution_count": 32,
   "metadata": {},
   "outputs": [
    {
     "name": "stdout",
     "output_type": "stream",
     "text": [
      "Match\n"
     ]
    }
   ],
   "source": [
    "import re\n",
    "pattern=r\"a*\"#0 or more\n",
    "if re.match(pattern,\"colour\"):\n",
    "    print(\"Match\")"
   ]
  },
  {
   "cell_type": "code",
   "execution_count": 33,
   "metadata": {},
   "outputs": [
    {
     "name": "stdout",
     "output_type": "stream",
     "text": [
      "Match\n"
     ]
    }
   ],
   "source": [
    "import re\n",
    "pattern=r\"a*\"#0 or more\n",
    "if re.match(pattern,\"aaacolour\"):\n",
    "    print(\"Match\")"
   ]
  },
  {
   "cell_type": "code",
   "execution_count": 34,
   "metadata": {},
   "outputs": [
    {
     "name": "stdout",
     "output_type": "stream",
     "text": [
      "Match\n"
     ]
    }
   ],
   "source": [
    "import re\n",
    "pattern=r\"(ab)*\"#0 or more\n",
    "if re.match(pattern,\"colour\"):\n",
    "    print(\"Match\")"
   ]
  },
  {
   "cell_type": "code",
   "execution_count": 35,
   "metadata": {},
   "outputs": [],
   "source": [
    "import re\n",
    "pattern=r\"a+\"#0 or more\n",
    "if re.match(pattern,\"colour\"):\n",
    "    print(\"Match\")"
   ]
  },
  {
   "cell_type": "code",
   "execution_count": 36,
   "metadata": {},
   "outputs": [
    {
     "name": "stdout",
     "output_type": "stream",
     "text": [
      "Match\n"
     ]
    }
   ],
   "source": [
    "import re\n",
    "pattern=r\"a+\"#0 or more\n",
    "if re.match(pattern,\"abajcolour\"):\n",
    "    print(\"Match\")"
   ]
  },
  {
   "cell_type": "code",
   "execution_count": 37,
   "metadata": {},
   "outputs": [
    {
     "name": "stdout",
     "output_type": "stream",
     "text": [
      "Match\n"
     ]
    }
   ],
   "source": [
    "import re\n",
    "pattern=r\"a+b\"#0 or more\n",
    "if re.match(pattern,\"abajcolour\"):\n",
    "    print(\"Match\")"
   ]
  },
  {
   "cell_type": "code",
   "execution_count": 38,
   "metadata": {},
   "outputs": [
    {
     "name": "stdout",
     "output_type": "stream",
     "text": [
      "Match\n"
     ]
    }
   ],
   "source": [
    "import re\n",
    "pattern=r\"a*b\"#0 or more\n",
    "if re.match(pattern,\"abajcolour\"):\n",
    "    print(\"Match\")"
   ]
  },
  {
   "cell_type": "markdown",
   "metadata": {},
   "source": [
    "# Character Class"
   ]
  },
  {
   "cell_type": "code",
   "execution_count": 39,
   "metadata": {},
   "outputs": [
    {
     "name": "stdout",
     "output_type": "stream",
     "text": [
      "Match\n"
     ]
    }
   ],
   "source": [
    "#Character Class\n",
    "import re\n",
    "pattern=r\"[aeiou]\"\n",
    "if re.match(pattern,\"aksaiekdjjjs\"):\n",
    "    print(\"Match\")"
   ]
  },
  {
   "cell_type": "code",
   "execution_count": 40,
   "metadata": {},
   "outputs": [
    {
     "name": "stdout",
     "output_type": "stream",
     "text": [
      "Match\n"
     ]
    }
   ],
   "source": [
    "import re\n",
    "pattern=r\"[A-Z][a-z][0-9]\"\n",
    "if re.match(pattern,\"Ab0aksaiekdjjjs\"):\n",
    "    print(\"Match\")"
   ]
  }
 ],
 "metadata": {
  "kernelspec": {
   "display_name": "Python 3.8.3 64-bit (conda)",
   "language": "python",
   "name": "python383jvsc74a57bd0b2ae464cf5954651c9ad659c4623789a9ad4bd09e2d9373d315d6c2e3bf3a771"
  },
  "language_info": {
   "codemirror_mode": {
    "name": "ipython",
    "version": 3
   },
   "file_extension": ".py",
   "mimetype": "text/x-python",
   "name": "python",
   "nbconvert_exporter": "python",
   "pygments_lexer": "ipython3",
   "version": "3.8.5"
  }
 },
 "nbformat": 4,
 "nbformat_minor": 4
}
