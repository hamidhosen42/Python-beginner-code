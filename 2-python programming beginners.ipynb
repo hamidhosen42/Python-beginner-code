{
 "cells": [
  {
   "cell_type": "markdown",
   "metadata": {},
   "source": [
    "# Introduction"
   ]
  },
  {
   "cell_type": "code",
   "execution_count": 1,
   "metadata": {},
   "outputs": [
    {
     "name": "stdout",
     "output_type": "stream",
     "text": [
      "Hello python\n"
     ]
    }
   ],
   "source": [
    "print(\"Hello python\")"
   ]
  },
  {
   "cell_type": "markdown",
   "metadata": {},
   "source": [
    "# String Input and Output, String Slice, Variables"
   ]
  },
  {
   "cell_type": "code",
   "execution_count": 2,
   "metadata": {},
   "outputs": [
    {
     "name": "stdout",
     "output_type": "stream",
     "text": [
      "Hello Python\n"
     ]
    }
   ],
   "source": [
    "v=\"Hello Python\"\n",
    "print(v)"
   ]
  },
  {
   "cell_type": "code",
   "execution_count": 3,
   "metadata": {},
   "outputs": [
    {
     "name": "stdout",
     "output_type": "stream",
     "text": [
      "H\n",
      "e\n",
      "l\n",
      "l\n",
      "o\n",
      " \n"
     ]
    }
   ],
   "source": [
    "v=\"Hello python\"\n",
    "print(v[0])\n",
    "print(v[1])\n",
    "print(v[2])\n",
    "print(v[3])\n",
    "print(v[4])\n",
    "print(v[5])"
   ]
  },
  {
   "cell_type": "code",
   "execution_count": 4,
   "metadata": {},
   "outputs": [
    {
     "name": "stdout",
     "output_type": "stream",
     "text": [
      "Hello py\n",
      "Hell\n"
     ]
    }
   ],
   "source": [
    "v=\"Hello python\"\n",
    "print(v[0:8])#v[firstIndext:pastIndex]\n",
    "print(v[0:4])"
   ]
  },
  {
   "cell_type": "markdown",
   "metadata": {},
   "source": [
    "# Variables"
   ]
  },
  {
   "cell_type": "code",
   "execution_count": 5,
   "metadata": {},
   "outputs": [
    {
     "name": "stdout",
     "output_type": "stream",
     "text": [
      "5\n"
     ]
    }
   ],
   "source": [
    "#local variable\n",
    "def sum():\n",
    "    x=2\n",
    "    y=3\n",
    "    total=x+y\n",
    "    return total\n",
    "print(sum())"
   ]
  },
  {
   "cell_type": "code",
   "execution_count": 6,
   "metadata": {},
   "outputs": [
    {
     "name": "stdout",
     "output_type": "stream",
     "text": [
      "20\n",
      "12\n",
      "15\n"
     ]
    }
   ],
   "source": [
    "#globla variable\n",
    "z=10#global variable\n",
    "def sum():\n",
    "    x=10#local variable\n",
    "    total=x+z\n",
    "    return total\n",
    "print(sum())\n",
    "\n",
    "def modify():\n",
    "    z=7\n",
    "    y=5\n",
    "    return y+z\n",
    "print(modify())\n",
    "\n",
    "def modi():\n",
    "    y=5\n",
    "    return y+z\n",
    "print(modi())"
   ]
  },
  {
   "cell_type": "markdown",
   "metadata": {},
   "source": [
    "# Lists"
   ]
  },
  {
   "cell_type": "code",
   "execution_count": 7,
   "metadata": {},
   "outputs": [
    {
     "name": "stdout",
     "output_type": "stream",
     "text": [
      "<class 'list'>\n",
      "[1, 2, 3, 5, 8, 3, 7, 8, 9]\n",
      "['A', 'C', 'B', 'D']\n",
      "<class 'list'>\n",
      "Sort function\n",
      "[1, 2, 3, 3, 5, 7, 8, 8, 9]\n",
      "['A', 'B', 'C', 'D']\n",
      "Reverse number.\n",
      "[9, 8, 8, 7, 5, 3, 3, 2, 1]\n",
      "adding system\n",
      "[1, 2, 3, 3, 5, 7, 8, 8, 9, 12]\n",
      "remove\n",
      "[2, 3, 3, 5, 7, 8, 8, 9, 12]\n",
      ".................................\n",
      "<class 'set'>\n"
     ]
    }
   ],
   "source": [
    "item=[1,2,3,5,8,3,7,8,9]\n",
    "print(type(item))\n",
    "print(item)\n",
    "\n",
    "item2=[\"A\",\"C\",\"B\",\"D\"]\n",
    "print(item2)\n",
    "print(type(item2))\n",
    "\n",
    "print(\"Sort function\")\n",
    "resize=list(sorted(item))\n",
    "print(resize)\n",
    "resize2=list(sorted(item2))\n",
    "print(resize2)\n",
    "\n",
    "\n",
    "print(\"Reverse number.\")\n",
    "re=list(reversed(resize))\n",
    "print(re)\n",
    "\n",
    "print(\"adding system\")\n",
    "resize.append(12)\n",
    "print(resize)\n",
    "\n",
    "print(\"remove\")\n",
    "resize.remove(1)\n",
    "print(resize)\n",
    "\n",
    "print(\".................................\")\n",
    "a={1,2,3,4,5}\n",
    "print(type(a))"
   ]
  },
  {
   "cell_type": "markdown",
   "metadata": {},
   "source": [
    "# If statements"
   ]
  },
  {
   "cell_type": "code",
   "execution_count": 8,
   "metadata": {},
   "outputs": [
    {
     "name": "stdout",
     "output_type": "stream",
     "text": [
      "Enter youe age:12\n",
      "You are younger.\n"
     ]
    }
   ],
   "source": [
    "old=int(input(\"Enter youe age:\"))\n",
    "if old>30:\n",
    "    print(\"You are older.\")\n",
    "elif old>20:\n",
    "    print(\"you are middel  age people.\")\n",
    "else:\n",
    "    print(\"You are younger.\")"
   ]
  },
  {
   "cell_type": "markdown",
   "metadata": {},
   "source": [
    "# Finding Even - Odd number by Python"
   ]
  },
  {
   "cell_type": "code",
   "execution_count": 9,
   "metadata": {},
   "outputs": [
    {
     "name": "stdout",
     "output_type": "stream",
     "text": [
      "Enter the positive number:3\n",
      "3 is an odd number.\n",
      "3 is an odd number.\n"
     ]
    }
   ],
   "source": [
    "num=int(input(\"Enter the positive number:\"))\n",
    "if num%2==0:\n",
    "    print(num,\"is an even number.\")\n",
    "    print(str(num)+\" is an even number.\")\n",
    "else:\n",
    "    print(num,\"is an odd number.\")\n",
    "    print(str(num) + \" is an odd number.\")"
   ]
  },
  {
   "cell_type": "markdown",
   "metadata": {},
   "source": [
    "# Symbols"
   ]
  },
  {
   "cell_type": "code",
   "execution_count": 10,
   "metadata": {},
   "outputs": [
    {
     "data": {
      "text/plain": [
       "5"
      ]
     },
     "execution_count": 10,
     "metadata": {},
     "output_type": "execute_result"
    }
   ],
   "source": [
    "2+3"
   ]
  },
  {
   "cell_type": "code",
   "execution_count": 11,
   "metadata": {},
   "outputs": [
    {
     "name": "stdout",
     "output_type": "stream",
     "text": [
      "4\n"
     ]
    }
   ],
   "source": [
    "a=2\n",
    "a+=2\n",
    "print(a)"
   ]
  },
  {
   "cell_type": "code",
   "execution_count": 12,
   "metadata": {},
   "outputs": [
    {
     "data": {
      "text/plain": [
       "-3"
      ]
     },
     "execution_count": 12,
     "metadata": {},
     "output_type": "execute_result"
    }
   ],
   "source": [
    "2-5"
   ]
  },
  {
   "cell_type": "code",
   "execution_count": 13,
   "metadata": {},
   "outputs": [
    {
     "name": "stdout",
     "output_type": "stream",
     "text": [
      "-40\n"
     ]
    }
   ],
   "source": [
    "s=4\n",
    "s-=44\n",
    "print(s)"
   ]
  },
  {
   "cell_type": "code",
   "execution_count": 14,
   "metadata": {},
   "outputs": [
    {
     "name": "stdout",
     "output_type": "stream",
     "text": [
      "8\n",
      "512\n"
     ]
    }
   ],
   "source": [
    "p=2**3\n",
    "print(p)\n",
    "p**=3\n",
    "print(p)"
   ]
  },
  {
   "cell_type": "code",
   "execution_count": 15,
   "metadata": {},
   "outputs": [
    {
     "data": {
      "text/plain": [
       "512"
      ]
     },
     "execution_count": 15,
     "metadata": {},
     "output_type": "execute_result"
    }
   ],
   "source": [
    "8**3"
   ]
  },
  {
   "cell_type": "code",
   "execution_count": 16,
   "metadata": {},
   "outputs": [
    {
     "data": {
      "text/plain": [
       "14.666666666666666"
      ]
     },
     "execution_count": 16,
     "metadata": {},
     "output_type": "execute_result"
    }
   ],
   "source": [
    "44/3"
   ]
  },
  {
   "cell_type": "code",
   "execution_count": 17,
   "metadata": {},
   "outputs": [
    {
     "name": "stdout",
     "output_type": "stream",
     "text": [
      "0.8333333333333334\n"
     ]
    }
   ],
   "source": [
    "d=5/3\n",
    "d/=2\n",
    "print(d)"
   ]
  },
  {
   "cell_type": "code",
   "execution_count": 18,
   "metadata": {},
   "outputs": [
    {
     "data": {
      "text/plain": [
       "1.6666666666666667"
      ]
     },
     "execution_count": 18,
     "metadata": {},
     "output_type": "execute_result"
    }
   ],
   "source": [
    "5/3"
   ]
  },
  {
   "cell_type": "code",
   "execution_count": 19,
   "metadata": {},
   "outputs": [
    {
     "data": {
      "text/plain": [
       "2"
      ]
     },
     "execution_count": 19,
     "metadata": {},
     "output_type": "execute_result"
    }
   ],
   "source": [
    "5%3"
   ]
  },
  {
   "cell_type": "code",
   "execution_count": 20,
   "metadata": {},
   "outputs": [
    {
     "data": {
      "text/plain": [
       "False"
      ]
     },
     "execution_count": 20,
     "metadata": {},
     "output_type": "execute_result"
    }
   ],
   "source": [
    "2>3"
   ]
  },
  {
   "cell_type": "markdown",
   "metadata": {},
   "source": [
    "# Sum a sequence of numbers"
   ]
  },
  {
   "cell_type": "code",
   "execution_count": 21,
   "metadata": {},
   "outputs": [
    {
     "name": "stdout",
     "output_type": "stream",
     "text": [
      "Enter the first number:1\n",
      "Enter the last number:5\n",
      "Sum : 15.0\n",
      "Sum: 15\n"
     ]
    }
   ],
   "source": [
    "\"\"\"\n",
    "1+2+3+4+5=n(n+1)/2=15\n",
    "5(5+1)/2=15\n",
    "\"\"\"\n",
    "a=int(input(\"Enter the first number:\"))\n",
    "b=int(input(\"Enter the last number:\"))\n",
    "total=b*(b+1)/2\n",
    "print(\"Sum :\",total)\n",
    "\n",
    "result=0\n",
    "for i in range(a,b+1):\n",
    "    result=result+i\n",
    "print(\"Sum:\",result)"
   ]
  },
  {
   "cell_type": "code",
   "execution_count": 22,
   "metadata": {},
   "outputs": [
    {
     "data": {
      "text/plain": [
       "15"
      ]
     },
     "execution_count": 22,
     "metadata": {},
     "output_type": "execute_result"
    }
   ],
   "source": [
    "1+2+3+4+5"
   ]
  },
  {
   "cell_type": "markdown",
   "metadata": {},
   "source": [
    "# Symbols"
   ]
  },
  {
   "cell_type": "code",
   "execution_count": 23,
   "metadata": {},
   "outputs": [
    {
     "data": {
      "text/plain": [
       "11"
      ]
     },
     "execution_count": 23,
     "metadata": {},
     "output_type": "execute_result"
    }
   ],
   "source": [
    "22//2"
   ]
  },
  {
   "cell_type": "code",
   "execution_count": 24,
   "metadata": {},
   "outputs": [
    {
     "data": {
      "text/plain": [
       "11"
      ]
     },
     "execution_count": 24,
     "metadata": {},
     "output_type": "execute_result"
    }
   ],
   "source": [
    "23//2"
   ]
  },
  {
   "cell_type": "code",
   "execution_count": 25,
   "metadata": {},
   "outputs": [
    {
     "data": {
      "text/plain": [
       "True"
      ]
     },
     "execution_count": 25,
     "metadata": {},
     "output_type": "execute_result"
    }
   ],
   "source": [
    "3!=2"
   ]
  },
  {
   "cell_type": "code",
   "execution_count": 26,
   "metadata": {},
   "outputs": [
    {
     "data": {
      "text/plain": [
       "False"
      ]
     },
     "execution_count": 26,
     "metadata": {},
     "output_type": "execute_result"
    }
   ],
   "source": [
    "4!=4"
   ]
  },
  {
   "cell_type": "markdown",
   "metadata": {},
   "source": [
    "# Floor Division"
   ]
  },
  {
   "cell_type": "code",
   "execution_count": 28,
   "metadata": {},
   "outputs": [
    {
     "data": {
      "text/plain": [
       "2.0"
      ]
     },
     "execution_count": 28,
     "metadata": {},
     "output_type": "execute_result"
    }
   ],
   "source": [
    "8/4"
   ]
  },
  {
   "cell_type": "code",
   "execution_count": 29,
   "metadata": {},
   "outputs": [
    {
     "data": {
      "text/plain": [
       "4"
      ]
     },
     "execution_count": 29,
     "metadata": {},
     "output_type": "execute_result"
    }
   ],
   "source": [
    "8//2"
   ]
  },
  {
   "cell_type": "code",
   "execution_count": 30,
   "metadata": {},
   "outputs": [
    {
     "data": {
      "text/plain": [
       "2.2"
      ]
     },
     "execution_count": 30,
     "metadata": {},
     "output_type": "execute_result"
    }
   ],
   "source": [
    "11/5"
   ]
  },
  {
   "cell_type": "code",
   "execution_count": 31,
   "metadata": {},
   "outputs": [
    {
     "data": {
      "text/plain": [
       "2"
      ]
     },
     "execution_count": 31,
     "metadata": {},
     "output_type": "execute_result"
    }
   ],
   "source": [
    "11//5#floor---//"
   ]
  },
  {
   "cell_type": "markdown",
   "metadata": {},
   "source": [
    "# functions "
   ]
  },
  {
   "cell_type": "code",
   "execution_count": 32,
   "metadata": {},
   "outputs": [
    {
     "name": "stdout",
     "output_type": "stream",
     "text": [
      "9\n"
     ]
    }
   ],
   "source": [
    "def add(x):\n",
    "    return x**2\n",
    "print(add(3))"
   ]
  },
  {
   "cell_type": "code",
   "execution_count": 33,
   "metadata": {},
   "outputs": [
    {
     "name": "stdout",
     "output_type": "stream",
     "text": [
      "Enter the first number:34\n",
      "Enetr the second number:2\n",
      "Total number: 36\n",
      "Result: 32\n",
      "Multiple: 68\n"
     ]
    }
   ],
   "source": [
    "a=int(input(\"Enter the first number:\"))\n",
    "b=int(input(\"Enetr the second number:\"))\n",
    "\n",
    "def add():\n",
    "    total=a+b\n",
    "    print(\"Total number:\",total)\n",
    "\n",
    "def sub():\n",
    "    total=a-b\n",
    "    print(\"Result:\",total)\n",
    "    \n",
    "def mul():\n",
    "    total=a*b\n",
    "    print(\"Multiple:\",total)\n",
    "\n",
    "def main():\n",
    "    add()\n",
    "    sub()\n",
    "    mul()\n",
    "\n",
    "main()"
   ]
  },
  {
   "cell_type": "markdown",
   "metadata": {},
   "source": [
    "# Scope"
   ]
  },
  {
   "cell_type": "code",
   "execution_count": 34,
   "metadata": {},
   "outputs": [
    {
     "name": "stdout",
     "output_type": "stream",
     "text": [
      "15\n",
      "10\n"
     ]
    }
   ],
   "source": [
    "num=20\n",
    "def hamid():\n",
    "    num=15\n",
    "    return num\n",
    "\n",
    "def hosen():\n",
    "    num=10\n",
    "    return num\n",
    "\n",
    "\n",
    "fun1=hamid()\n",
    "fun2=hosen()\n",
    "print(fun1)\n",
    "print(fun2)"
   ]
  },
  {
   "cell_type": "markdown",
   "metadata": {},
   "source": [
    "# Tuples"
   ]
  },
  {
   "cell_type": "code",
   "execution_count": 35,
   "metadata": {},
   "outputs": [
    {
     "name": "stdout",
     "output_type": "stream",
     "text": [
      "<class 'tuple'>\n",
      "12\n",
      "Hamid\n",
      "Hosen\n"
     ]
    },
    {
     "ename": "TypeError",
     "evalue": "'tuple' object does not support item assignment",
     "output_type": "error",
     "traceback": [
      "\u001b[1;31m---------------------------------------------------------------------------\u001b[0m",
      "\u001b[1;31mTypeError\u001b[0m                                 Traceback (most recent call last)",
      "\u001b[1;32m<ipython-input-35-eff1a005fe9b>\u001b[0m in \u001b[0;36m<module>\u001b[1;34m\u001b[0m\n\u001b[0;32m      4\u001b[0m \u001b[0mprint\u001b[0m\u001b[1;33m(\u001b[0m\u001b[0mv\u001b[0m\u001b[1;33m[\u001b[0m\u001b[1;36m1\u001b[0m\u001b[1;33m]\u001b[0m\u001b[1;33m)\u001b[0m\u001b[1;33m\u001b[0m\u001b[1;33m\u001b[0m\u001b[0m\n\u001b[0;32m      5\u001b[0m \u001b[0mprint\u001b[0m\u001b[1;33m(\u001b[0m\u001b[0mv\u001b[0m\u001b[1;33m[\u001b[0m\u001b[1;36m2\u001b[0m\u001b[1;33m]\u001b[0m\u001b[1;33m)\u001b[0m\u001b[1;33m\u001b[0m\u001b[1;33m\u001b[0m\u001b[0m\n\u001b[1;32m----> 6\u001b[1;33m \u001b[0mv\u001b[0m\u001b[1;33m[\u001b[0m\u001b[1;36m0\u001b[0m\u001b[1;33m]\u001b[0m\u001b[1;33m=\u001b[0m\u001b[1;36m120\u001b[0m\u001b[1;33m\u001b[0m\u001b[1;33m\u001b[0m\u001b[0m\n\u001b[0m\u001b[0;32m      7\u001b[0m \u001b[0mprint\u001b[0m\u001b[1;33m(\u001b[0m\u001b[0mv\u001b[0m\u001b[1;33m)\u001b[0m\u001b[1;33m\u001b[0m\u001b[1;33m\u001b[0m\u001b[0m\n",
      "\u001b[1;31mTypeError\u001b[0m: 'tuple' object does not support item assignment"
     ]
    }
   ],
   "source": [
    "v=(12,\"Hamid\",\"Hosen\",3)\n",
    "print(type(v))\n",
    "print(v[0])\n",
    "print(v[1])\n",
    "print(v[2])\n",
    "v[0]=120\n",
    "print(v)"
   ]
  },
  {
   "cell_type": "markdown",
   "metadata": {},
   "source": [
    "# For Loop"
   ]
  },
  {
   "cell_type": "code",
   "execution_count": 36,
   "metadata": {},
   "outputs": [
    {
     "name": "stdout",
     "output_type": "stream",
     "text": [
      "1\n",
      "2\n",
      "3\n",
      "4\n",
      "5\n",
      "6\n",
      "7\n",
      "8\n",
      "9\n",
      "10\n",
      "11\n",
      "12\n",
      "13\n",
      "14\n",
      "15\n",
      "16\n",
      "17\n",
      "18\n",
      "19\n",
      "20\n",
      "21\n",
      "22\n",
      "23\n",
      "24\n",
      "25\n",
      "26\n",
      "27\n",
      "28\n",
      "29\n",
      "30\n",
      "31\n",
      "32\n",
      "33\n",
      "34\n",
      "35\n",
      "36\n",
      "37\n",
      "38\n",
      "39\n",
      "40\n",
      "41\n",
      "42\n",
      "43\n",
      "44\n",
      "45\n",
      "46\n",
      "47\n",
      "48\n",
      "49\n",
      "50\n"
     ]
    }
   ],
   "source": [
    "for i in range(1,50+1):\n",
    "    print(i)"
   ]
  },
  {
   "cell_type": "code",
   "execution_count": 37,
   "metadata": {},
   "outputs": [
    {
     "name": "stdout",
     "output_type": "stream",
     "text": [
      "This number is odd: 1\n",
      "This number is even: 2\n",
      "This number is odd: 3\n",
      "This number is even: 4\n",
      "This number is odd: 5\n",
      "This number is even: 6\n",
      "This number is odd: 7\n",
      "This number is even: 8\n",
      "This number is odd: 9\n",
      "This number is even: 10\n",
      "This number is odd: 11\n",
      "This number is even: 12\n",
      "This number is odd: 13\n",
      "This number is even: 14\n",
      "This number is odd: 15\n",
      "This number is even: 16\n",
      "This number is odd: 17\n",
      "This number is even: 18\n",
      "This number is odd: 19\n",
      "This number is even: 20\n",
      "This number is odd: 21\n",
      "This number is even: 22\n",
      "This number is odd: 23\n",
      "This number is even: 24\n",
      "This number is odd: 25\n",
      "This number is even: 26\n",
      "This number is odd: 27\n",
      "This number is even: 28\n",
      "This number is odd: 29\n",
      "This number is even: 30\n",
      "This number is odd: 31\n",
      "This number is even: 32\n",
      "This number is odd: 33\n",
      "This number is even: 34\n",
      "This number is odd: 35\n",
      "This number is even: 36\n",
      "This number is odd: 37\n",
      "This number is even: 38\n",
      "This number is odd: 39\n",
      "This number is even: 40\n",
      "This number is odd: 41\n",
      "This number is even: 42\n",
      "This number is odd: 43\n",
      "This number is even: 44\n",
      "This number is odd: 45\n",
      "This number is even: 46\n",
      "This number is odd: 47\n",
      "This number is even: 48\n",
      "This number is odd: 49\n",
      "This number is even: 50\n"
     ]
    }
   ],
   "source": [
    "for i in range(1,50+1):\n",
    "    if i%2==0:\n",
    "        print(\"This number is even:\",i)\n",
    "    else:\n",
    "        print(\"This number is odd:\",i)"
   ]
  },
  {
   "cell_type": "markdown",
   "metadata": {},
   "source": [
    "# While Loop"
   ]
  },
  {
   "cell_type": "code",
   "execution_count": 39,
   "metadata": {},
   "outputs": [
    {
     "name": "stdout",
     "output_type": "stream",
     "text": [
      "Do you love me?? (Enter yes or no):no\n",
      "Please try to understand me,I love you too much.\n",
      "Do you love me?? (Enter yes or no):yes\n",
      "I love you too.\n",
      "Enter yor password:123\n",
      "Your password incorrect.\n",
      "Enter yor password:12345\n",
      "Your password correct.\n"
     ]
    }
   ],
   "source": [
    "love=\"\"\n",
    "while love!=\"yes\":\n",
    "    love=input(\"Do you love me?? (Enter yes or no):\")\n",
    "    if love==\"yes\":\n",
    "        print(\"I love you too.\")\n",
    "    else:\n",
    "        print(\"Please try to understand me,I love you too much.\")\n",
    "\n",
    "password=\"\"\n",
    "while password!=\"12345\":\n",
    "    password=input(\"Enter yor password:\")\n",
    "    if password==\"12345\":\n",
    "        print(\"Your password correct.\")\n",
    "    else:\n",
    "        print(\"Your password incorrect.\")"
   ]
  },
  {
   "cell_type": "markdown",
   "metadata": {},
   "source": [
    "# Nested Loop"
   ]
  },
  {
   "cell_type": "code",
   "execution_count": 40,
   "metadata": {},
   "outputs": [
    {
     "name": "stdout",
     "output_type": "stream",
     "text": [
      "................................\n",
      "1\n",
      "2\n",
      "3\n",
      "4\n",
      "................................\n",
      "1\n",
      "2\n",
      "3\n",
      "4\n",
      "................................\n",
      "1\n",
      "2\n",
      "3\n",
      "4\n",
      "................................\n",
      "1\n",
      "2\n",
      "3\n",
      "4\n",
      "................................\n",
      "1\n",
      "2\n",
      "3\n",
      "4\n"
     ]
    }
   ],
   "source": [
    "for i in range(5):\n",
    "    print(\"................................\")\n",
    "    for v in range(1,5):\n",
    "        print(v)"
   ]
  },
  {
   "cell_type": "code",
   "execution_count": 41,
   "metadata": {},
   "outputs": [
    {
     "name": "stdout",
     "output_type": "stream",
     "text": [
      "....................\n",
      "Hello word\n",
      "....................\n",
      "Hello word\n",
      "....................\n",
      "Hello word\n",
      "....................\n",
      "Hello word\n",
      "....................\n",
      "Hello word\n"
     ]
    }
   ],
   "source": [
    "v=0\n",
    "for i in range(5):\n",
    "    while v<5:\n",
    "        v=v+1\n",
    "        print(\"....................\")\n",
    "        print(\"Hello word\")"
   ]
  },
  {
   "cell_type": "markdown",
   "metadata": {},
   "source": [
    "# Conversion Functions"
   ]
  },
  {
   "cell_type": "code",
   "execution_count": 42,
   "metadata": {},
   "outputs": [
    {
     "name": "stdout",
     "output_type": "stream",
     "text": [
      "Enter your number:22\n",
      "22\n",
      "45\n"
     ]
    }
   ],
   "source": [
    "a=int(input(\"Enter your number:\"))\n",
    "print(a)\n",
    "a=int(\"22\")\n",
    "b=int(\"23\")\n",
    "c=a+b\n",
    "print(c)"
   ]
  },
  {
   "cell_type": "markdown",
   "metadata": {},
   "source": [
    "# Reading from a file"
   ]
  },
  {
   "cell_type": "code",
   "execution_count": 45,
   "metadata": {},
   "outputs": [
    {
     "name": "stdout",
     "output_type": "stream",
     "text": [
      "['Sadi -Lacturer of EEE\\n', 'Sadi -Lacturer of EEE']\n"
     ]
    }
   ],
   "source": [
    "with open('hamid.txt','r') as file:\n",
    "    text=file.readlines()\n",
    "    print(text)"
   ]
  },
  {
   "cell_type": "code",
   "execution_count": 46,
   "metadata": {},
   "outputs": [
    {
     "name": "stdout",
     "output_type": "stream",
     "text": [
      "Sadi -Lacturer of EEE\n",
      "\n",
      "Sadi -Lacturer of EEE\n"
     ]
    }
   ],
   "source": [
    "with open('hamid.txt','r') as file:\n",
    "    text=file.readlines()\n",
    "    for line in text:\n",
    "        print(line)"
   ]
  },
  {
   "cell_type": "code",
   "execution_count": 47,
   "metadata": {},
   "outputs": [
    {
     "name": "stdout",
     "output_type": "stream",
     "text": [
      "Sadi -Lacturer of EEE\n",
      "Sadi -Lacturer of EEE\n"
     ]
    }
   ],
   "source": [
    "with open('hamid.txt','r') as file:\n",
    "    text=file.read().splitlines()\n",
    "    for line in text:\n",
    "        print(line)"
   ]
  },
  {
   "cell_type": "code",
   "execution_count": 48,
   "metadata": {},
   "outputs": [
    {
     "name": "stdout",
     "output_type": "stream",
     "text": [
      "Sadi -Lacturer of EEE\n",
      "Sadi -Lacturer of EEE\n"
     ]
    }
   ],
   "source": [
    "filepath=\"hamid.txt\"\n",
    "\n",
    "with open(filepath,'r') as file:\n",
    "    text=file.read().splitlines()\n",
    "    for line in text:\n",
    "        print(line)"
   ]
  },
  {
   "cell_type": "code",
   "execution_count": 49,
   "metadata": {},
   "outputs": [
    {
     "name": "stdout",
     "output_type": "stream",
     "text": [
      "Sadi -Lacturer of EEE\n",
      "Sadi -Lacturer of EEE\n"
     ]
    }
   ],
   "source": [
    "filepath=\"hamid.txt\"\n",
    "\n",
    "with open(filepath) as file:\n",
    "    text=file.read().splitlines()\n",
    "    for line in text:\n",
    "        print(line)"
   ]
  },
  {
   "cell_type": "code",
   "execution_count": 50,
   "metadata": {},
   "outputs": [
    {
     "name": "stdout",
     "output_type": "stream",
     "text": [
      "There is no that file name.\n"
     ]
    }
   ],
   "source": [
    "import os.path\n",
    "filepath=\"hamid.txt\"\n",
    "if os.path.isfile(filepath):\n",
    "    print(\"There is no that file name.\")\n",
    "else:\n",
    "    with open(filepath, 'r') as file:\n",
    "        text = file.read().splitlines()\n",
    "        for line in text:\n",
    "            print(line)"
   ]
  },
  {
   "cell_type": "code",
   "execution_count": 51,
   "metadata": {},
   "outputs": [
    {
     "name": "stdout",
     "output_type": "stream",
     "text": [
      "Sadi -Lacturer of EEE\n",
      "Sadi -Lacturer of EEE\n"
     ]
    }
   ],
   "source": [
    "import os.path\n",
    "filepath=\"hamid.txt\"\n",
    "if not os.path.isfile(filepath):\n",
    "    print(\"There is no that file name.\")\n",
    "else:\n",
    "    with open(filepath, 'r') as file:\n",
    "        text = file.read().splitlines()\n",
    "        for line in text:\n",
    "            print(line)"
   ]
  },
  {
   "cell_type": "code",
   "execution_count": 52,
   "metadata": {},
   "outputs": [
    {
     "name": "stdout",
     "output_type": "stream",
     "text": [
      "1 Sadi -Lacturer of EEE\n",
      "2 Sadi -Lacturer of EEE\n"
     ]
    }
   ],
   "source": [
    "import os.path\n",
    "filepath=\"hamid.txt\"\n",
    "if not os.path.isfile(filepath):\n",
    "    print(\"There is no that file name.\")\n",
    "else:\n",
    "    with open(filepath, 'r') as file:\n",
    "        text = file.read().splitlines()\n",
    "        num=0\n",
    "        for line in text:\n",
    "            num+=1\n",
    "            print(str(num)+\" \"+line)"
   ]
  },
  {
   "cell_type": "markdown",
   "metadata": {},
   "source": [
    "# Fun with While Loop and Open() Function"
   ]
  },
  {
   "cell_type": "code",
   "execution_count": 63,
   "metadata": {},
   "outputs": [
    {
     "name": "stdout",
     "output_type": "stream",
     "text": [
      "['python', 'python123']\n"
     ]
    }
   ],
   "source": [
    "with open(\"hamid.txt\",\"r\") as file:\n",
    "    text=file.read().splitlines()\n",
    "    print(text)"
   ]
  },
  {
   "cell_type": "code",
   "execution_count": 64,
   "metadata": {},
   "outputs": [
    {
     "name": "stdout",
     "output_type": "stream",
     "text": [
      "['python', 'python123']\n",
      "Enter your username:hamid\n",
      "Enter your password:hosen\n",
      "Usename/password is incorrect\n",
      "Enter your username:python\n",
      "Enter your password:python123\n",
      "logic succes.\n"
     ]
    }
   ],
   "source": [
    "with open(\"hamid.txt\",\"r\") as file:\n",
    "    text=file.read().splitlines()\n",
    "    username=\"\"\n",
    "    password=\"\"\n",
    "    print(text)\n",
    "    while username!=text[0] and password!=text[1]:\n",
    "        username=input(\"Enter your username:\")\n",
    "        password=input(\"Enter your password:\")\n",
    "        if username==text[0] and password==text[1]:\n",
    "            print(\"logic succes.\")\n",
    "        else:\n",
    "            print(\"Usename/password is incorrect\")"
   ]
  },
  {
   "cell_type": "markdown",
   "metadata": {},
   "source": [
    "# Writing a text file"
   ]
  },
  {
   "cell_type": "code",
   "execution_count": 65,
   "metadata": {},
   "outputs": [],
   "source": [
    "file=\"hamid.txt\"\n",
    "with open(file,'w') as newfile:\n",
    "    newfile.write(\"Hello , I am Python . Bla bla bla\")\n",
    "    newfile.close()"
   ]
  },
  {
   "cell_type": "markdown",
   "metadata": {},
   "source": [
    "# Write a file in binary mode"
   ]
  },
  {
   "cell_type": "code",
   "execution_count": 72,
   "metadata": {},
   "outputs": [],
   "source": [
    "with open(\"hamid.txt\",\"wb\") as file:\n",
    "    file.write(str.encode(\"I am Bangladesh.\"))\n",
    "    file.close()"
   ]
  },
  {
   "cell_type": "code",
   "execution_count": 73,
   "metadata": {},
   "outputs": [
    {
     "name": "stdout",
     "output_type": "stream",
     "text": [
      "b'I am Bangladesh.'\n"
     ]
    }
   ],
   "source": [
    "with open(\"hamid.txt\",\"rb\") as file:\n",
    "    #file.write(str.encode(\"I am Bangladesh.\"))\n",
    "    t=file.read()\n",
    "    print(t)\n",
    "    file.close()"
   ]
  },
  {
   "cell_type": "code",
   "execution_count": 74,
   "metadata": {},
   "outputs": [
    {
     "name": "stdout",
     "output_type": "stream",
     "text": [
      "I am Bangladesh.\n"
     ]
    }
   ],
   "source": [
    "with open(\"hamid.txt\",\"rb\") as file:\n",
    "    #file.write(str.encode(\"I am Bangladesh.\"))\n",
    "    t=file.read()\n",
    "    text=bytes.decode(t)\n",
    "    print(text)\n",
    "    file.close()"
   ]
  },
  {
   "cell_type": "markdown",
   "metadata": {},
   "source": [
    "# Sets "
   ]
  },
  {
   "cell_type": "code",
   "execution_count": 75,
   "metadata": {},
   "outputs": [
    {
     "name": "stdout",
     "output_type": "stream",
     "text": [
      "a: {1, 2, 3}\n",
      "b: {2.0, (1, 2, 3), 'python'}\n"
     ]
    }
   ],
   "source": [
    "a={1,2,3}\n",
    "b={\"python\",2.0,(1,2,3)}\n",
    "print(\"a:\",a)\n",
    "print(\"b:\",b)"
   ]
  },
  {
   "cell_type": "code",
   "execution_count": 76,
   "metadata": {},
   "outputs": [
    {
     "name": "stdout",
     "output_type": "stream",
     "text": [
      "a: {1, 2, 3}\n",
      "b: {2.0, (1, 2, 3), 'python'}\n",
      "....................\n",
      "{1, 2, 3, 4, 5, 6}\n"
     ]
    }
   ],
   "source": [
    "a={1,2,3}\n",
    "b={\"python\",2.0,(1,2,3)}\n",
    "print(\"a:\",a)\n",
    "print(\"b:\",b)\n",
    "print(\"....................\")\n",
    "\n",
    "a=set({1,2,3,3,4,4,5,6})\n",
    "print(a)"
   ]
  },
  {
   "cell_type": "code",
   "execution_count": 77,
   "metadata": {},
   "outputs": [
    {
     "name": "stdout",
     "output_type": "stream",
     "text": [
      "a: {1, 2, 3}\n",
      "b: {2.0, (1, 2, 3), 'python'}\n",
      "....................\n",
      "{1, 2, 3, 4, 5, 6}\n",
      "add element...........\n",
      "{1, 2, 3, 4, 5, 6, 12}\n"
     ]
    }
   ],
   "source": [
    "a={1,2,3}\n",
    "b={\"python\",2.0,(1,2,3)}\n",
    "print(\"a:\",a)\n",
    "print(\"b:\",b)\n",
    "print(\"....................\")\n",
    "\n",
    "a=set({1,2,3,3,4,4,5,6})\n",
    "print(a)\n",
    "print(\"add element...........\")\n",
    "a.add(12)\n",
    "print(a)"
   ]
  },
  {
   "cell_type": "code",
   "execution_count": 78,
   "metadata": {},
   "outputs": [
    {
     "name": "stdout",
     "output_type": "stream",
     "text": [
      "a: {1, 2, 3}\n",
      "b: {2.0, (1, 2, 3), 'python'}\n",
      "....................\n",
      "{1, 2, 3, 4, 5, 6}\n",
      "add element...........\n",
      "{1, 2, 3, 4, 5, 6, 12}\n",
      "more item in out by using update()\n",
      "{1, 2, 3, 4, 5, 6, 12, 13, 14, 15}\n"
     ]
    }
   ],
   "source": [
    "a={1,2,3}\n",
    "b={\"python\",2.0,(1,2,3)}\n",
    "print(\"a:\",a)\n",
    "print(\"b:\",b)\n",
    "print(\"....................\")\n",
    "\n",
    "a=set({1,2,3,3,4,4,5,6})\n",
    "print(a)\n",
    "print(\"add element...........\")\n",
    "a.add(12)\n",
    "print(a)\n",
    "\n",
    "print(\"more item in out by using update()\")\n",
    "a.update({13,14,15})\n",
    "print(a)"
   ]
  },
  {
   "cell_type": "code",
   "execution_count": 79,
   "metadata": {},
   "outputs": [
    {
     "name": "stdout",
     "output_type": "stream",
     "text": [
      "a: {1, 2, 3}\n",
      "b: {2.0, (1, 2, 3), 'python'}\n",
      "....................\n",
      "{1, 2, 3, 4, 5, 6}\n",
      "add element...........\n",
      "{1, 2, 3, 4, 5, 6, 12}\n",
      "more item in out by using update()\n",
      "{1, 2, 3, 4, 5, 6, 12, 13, 14, 15}\n",
      "Remove item :.............\n",
      "{2, 3, 4, 5, 6, 12, 13, 14, 15}\n"
     ]
    }
   ],
   "source": [
    "a={1,2,3}\n",
    "b={\"python\",2.0,(1,2,3)}\n",
    "print(\"a:\",a)\n",
    "print(\"b:\",b)\n",
    "print(\"....................\")\n",
    "\n",
    "a=set({1,2,3,3,4,4,5,6})\n",
    "print(a)\n",
    "print(\"add element...........\")\n",
    "a.add(12)\n",
    "print(a)\n",
    "\n",
    "print(\"more item in out by using update()\")\n",
    "a.update({13,14,15})\n",
    "print(a)\n",
    "\n",
    "print(\"Remove item :.............\")\n",
    "a.remove(1)\n",
    "print(a)"
   ]
  },
  {
   "cell_type": "code",
   "execution_count": 80,
   "metadata": {},
   "outputs": [
    {
     "name": "stdout",
     "output_type": "stream",
     "text": [
      "a: {1, 2, 3}\n",
      "b: {2.0, (1, 2, 3), 'python'}\n",
      "....................\n",
      "{1, 2, 3, 4, 5, 6}\n",
      "add element...........\n",
      "{1, 2, 3, 4, 5, 6, 12}\n",
      "more item in out by using update()\n",
      "{1, 2, 3, 4, 5, 6, 12, 13, 14, 15}\n",
      "Remove item :.............\n",
      "{2, 3, 4, 5, 6, 12, 13, 14, 15}\n",
      "Remove item frpm out set using discard():\n",
      "{2, 3, 4, 5, 6, 12, 13, 14, 15}\n"
     ]
    }
   ],
   "source": [
    "a={1,2,3}\n",
    "b={\"python\",2.0,(1,2,3)}\n",
    "print(\"a:\",a)\n",
    "print(\"b:\",b)\n",
    "print(\"....................\")\n",
    "\n",
    "a=set({1,2,3,3,4,4,5,6})\n",
    "print(a)\n",
    "\n",
    "print(\"add element...........\")\n",
    "a.add(12)\n",
    "print(a)\n",
    "\n",
    "print(\"more item in out by using update()\")\n",
    "a.update({13,14,15})\n",
    "print(a)\n",
    "\n",
    "print(\"Remove item :.............\")\n",
    "a.remove(1)\n",
    "print(a)\n",
    "\n",
    "print(\"Remove item frpm out set using discard():\")\n",
    "a.discard(18)\n",
    "print(a)"
   ]
  },
  {
   "cell_type": "code",
   "execution_count": 81,
   "metadata": {},
   "outputs": [
    {
     "name": "stdout",
     "output_type": "stream",
     "text": [
      "a: {1, 2, 3}\n",
      "b: {2.0, (1, 2, 3), 'python'}\n",
      "....................\n",
      "{1, 2, 3, 4, 5, 6}\n",
      "add element...........\n",
      "{1, 2, 3, 4, 5, 6, 12}\n",
      "more item in out by using update()\n",
      "{1, 2, 3, 4, 5, 6, 12, 13, 14, 15}\n",
      "Remove item :.............\n",
      "{2, 3, 4, 5, 6, 12, 13, 14, 15}\n",
      "Remove item frpm out set using discard():\n",
      "{3, 4, 5, 6, 12, 13, 14, 15}\n",
      "clear() method.......\n",
      "set()\n"
     ]
    }
   ],
   "source": [
    "a={1,2,3}\n",
    "b={\"python\",2.0,(1,2,3)}\n",
    "print(\"a:\",a)\n",
    "print(\"b:\",b)\n",
    "print(\"....................\")\n",
    "\n",
    "a=set({1,2,3,3,4,4,5,6})\n",
    "print(a)\n",
    "\n",
    "print(\"add element...........\")\n",
    "a.add(12)\n",
    "print(a)\n",
    "\n",
    "print(\"more item in out by using update()\")\n",
    "a.update({13,14,15})\n",
    "print(a)\n",
    "\n",
    "print(\"Remove item :.............\")\n",
    "a.remove(1)\n",
    "print(a)\n",
    "\n",
    "print(\"Remove item frpm out set using discard():\")\n",
    "a.discard(2)\n",
    "print(a)\n",
    "\n",
    "print(\"clear() method.......\")\n",
    "a.clear()\n",
    "print(a)"
   ]
  },
  {
   "cell_type": "markdown",
   "metadata": {},
   "source": [
    "# Sets part"
   ]
  },
  {
   "cell_type": "code",
   "execution_count": 82,
   "metadata": {},
   "outputs": [
    {
     "name": "stdout",
     "output_type": "stream",
     "text": [
      "union set............\n",
      "{1, 2, 3, 4, 5}\n",
      "{1, 2, 3, 4, 5}\n",
      "Intersection set.....\n",
      "{3}\n",
      "{3}\n",
      "{1, 2}\n",
      "{1, 2}\n",
      "{4, 5}\n",
      "Subset................\n",
      "False\n",
      "True\n",
      "Set membership test....\n",
      "True\n",
      "True\n",
      "False\n"
     ]
    }
   ],
   "source": [
    "a={1,2,3}\n",
    "b={2,3,4,5}\n",
    "print(\"union set............\")\n",
    "print(a|b)\n",
    "#union()method\n",
    "print(a.union(b))\n",
    "\n",
    "print(\"Intersection set.....\")\n",
    "A={1,2,3}\n",
    "B={3,4,5}\n",
    "print(A&B)\n",
    "#Intersection() method\n",
    "print(A.intersection(B))\n",
    "\n",
    "A={1,2,3}\n",
    "B={3,4,5}\n",
    "print(A-B)\n",
    "print(A.difference(B))\n",
    "print(B.difference(A))\n",
    "\n",
    "print(\"Subset................\")\n",
    "A={1,2,3,4}\n",
    "B={1,2,3}\n",
    "print(A.issubset(B))\n",
    "print(B.issubset(A))\n",
    "\n",
    "print('Set membership test....')\n",
    "me=set(\"Python\")\n",
    "print(\"P\" in me)\n",
    "print(\"a\" not in me)\n",
    "print(\"a\" in me)"
   ]
  },
  {
   "cell_type": "markdown",
   "metadata": {},
   "source": [
    "# Frozenset "
   ]
  },
  {
   "cell_type": "code",
   "execution_count": 83,
   "metadata": {},
   "outputs": [
    {
     "name": "stdout",
     "output_type": "stream",
     "text": [
      "<class 'frozenset'>\n",
      "-272375401224217160\n",
      "...................................\n",
      "frozenset({1, 2, 3, 4, 5, 6, 7})\n",
      "frozenset({1, 2, 3, 4, 5, 6, 7})\n"
     ]
    }
   ],
   "source": [
    "v=frozenset({1,2,3})\n",
    "print(type(v))\n",
    "print(hash(v))\n",
    "\n",
    "print(\"...................................\")\n",
    "A=frozenset({2,3,4,5})\n",
    "B=frozenset({1,5,6,7})\n",
    "print(A|B)\n",
    "print(A.union(B))"
   ]
  },
  {
   "cell_type": "markdown",
   "metadata": {},
   "source": [
    "# Prime number checker"
   ]
  },
  {
   "cell_type": "code",
   "execution_count": 84,
   "metadata": {},
   "outputs": [
    {
     "name": "stdout",
     "output_type": "stream",
     "text": [
      "Enter the number:3\n",
      "True\n"
     ]
    }
   ],
   "source": [
    "num=int(input(\"Enter the number:\"))\n",
    "def primenumber(num):\n",
    "    if num<2:\n",
    "        return False\n",
    "    else:\n",
    "        if num==2:\n",
    "            return True\n",
    "        else:\n",
    "            for i in range(2,num):\n",
    "                if num%i==0:\n",
    "                    return False\n",
    "                return True\n",
    "\n",
    "print(primenumber(num))"
   ]
  },
  {
   "cell_type": "code",
   "execution_count": 85,
   "metadata": {},
   "outputs": [
    {
     "name": "stdout",
     "output_type": "stream",
     "text": [
      "Enter the number:7\n",
      "7  is a prime number.\n"
     ]
    }
   ],
   "source": [
    "num=int(input(\"Enter the number:\"))\n",
    "def primenumber(num):\n",
    "    if num<2:\n",
    "        return False\n",
    "    else:\n",
    "        if num==2:\n",
    "            return True\n",
    "        else:\n",
    "            for i in range(2,num):\n",
    "                if num%i==0:\n",
    "                    return False\n",
    "                return True\n",
    "\n",
    "if primenumber(num) is True:\n",
    "    print(str(num),\" is a prime number.\")\n",
    "else:\n",
    "    print(str(num),\"is not prime number.\")"
   ]
  },
  {
   "cell_type": "markdown",
   "metadata": {},
   "source": [
    "# Dictionary "
   ]
  },
  {
   "cell_type": "code",
   "execution_count": 86,
   "metadata": {},
   "outputs": [
    {
     "name": "stdout",
     "output_type": "stream",
     "text": [
      "<class 'dict'>\n",
      "{'name': 'Python', 'languge': 'Java'}\n",
      "{'name': 'Python', 'languge': 'Java', 1: {1, 2, 3, 6, 46}}\n",
      "{1, 2, 3, 6, 46}\n",
      "Python\n"
     ]
    }
   ],
   "source": [
    "a={}\n",
    "print(type(a))\n",
    "\n",
    "b={\"name\":\"Python\",\"languge\":\"Java\"}\n",
    "print(b)\n",
    "\n",
    "b={\"name\":\"Python\",\"languge\":\"Java\",1:{1,2,3,46,6}}\n",
    "print(b)\n",
    "#access\n",
    "print(b[1])\n",
    "print(b[\"name\"])"
   ]
  },
  {
   "cell_type": "code",
   "execution_count": 87,
   "metadata": {},
   "outputs": [
    {
     "name": "stdout",
     "output_type": "stream",
     "text": [
      "<class 'dict'>\n",
      "..........................\n",
      "{'name': 'Python', 'languge': 'Java'}\n",
      "..........................\n",
      "{'name': 'Python', 'languge': 'Java', 1: {1, 2, 3, 6, 46}}\n",
      "{1, 2, 3, 6, 46}\n",
      "Python\n",
      "{'name': 'Python', 'languge': 'Java', 1: {1, 2, 3, 6, 46}, 'country': 'bangladesh'}\n",
      "{'name': 'Python', 'languge': 'Java', 1: '7', 'country': 'bangladesh'}\n",
      "7\n",
      "{'name': 'Python', 'languge': 'Java', 'country': 'bangladesh'}\n",
      "('country', 'bangladesh')\n",
      "{'languge': 'Java'}\n",
      "........................\n",
      "{'name': 'Python', 'languge': 'Java'}\n",
      "{}\n",
      "False\n",
      "True\n",
      "..........................\n",
      "2\n",
      "[1, 2]\n",
      "{1: 1, 2: 4, 3: 9, 4: 16, 5: 25}\n"
     ]
    }
   ],
   "source": [
    "a={}\n",
    "print(type(a))\n",
    "print(\"..........................\")\n",
    "b={\"name\":\"Python\",\"languge\":\"Java\"}\n",
    "print(b)\n",
    "print(\"..........................\")\n",
    "b={\"name\":\"Python\",\"languge\":\"Java\",1:{1,2,3,46,6}}\n",
    "print(b)\n",
    "#access\n",
    "print(b[1])\n",
    "print(b[\"name\"])\n",
    "\n",
    "b[\"country\"]=\"bangladesh\"\n",
    "print(b)\n",
    "\n",
    "b[1]=\"7\"\n",
    "print(b)\n",
    "\n",
    "print(b.pop(1))\n",
    "print(b)\n",
    "\n",
    "print(b.popitem())\n",
    "\n",
    "del b[\"name\"]\n",
    "print(b)\n",
    "\n",
    "print(\"........................\")\n",
    "b={\"name\":\"Python\",\"languge\":\"Java\"}\n",
    "print(b)\n",
    "\n",
    "b.clear()\n",
    "print(b)\n",
    "\n",
    "print(any(b))\n",
    "print(all(b))\n",
    "print(\"..........................\")\n",
    "v={\"country\":\"bangladesh\",\"Name\":\"Hamid\"}\n",
    "print(len(v))\n",
    "\n",
    "a={1:2,2:3}\n",
    "print(sorted(a))\n",
    "\n",
    "d={a:a**2 for a in range(1,6)}\n",
    "print(d)"
   ]
  },
  {
   "cell_type": "markdown",
   "metadata": {},
   "source": [
    "# Break and Continue statements"
   ]
  },
  {
   "cell_type": "code",
   "execution_count": 88,
   "metadata": {},
   "outputs": [
    {
     "name": "stdout",
     "output_type": "stream",
     "text": [
      "1\n",
      "2\n",
      "3\n",
      "4\n",
      "..............\n",
      "1\n",
      "2\n",
      "3\n",
      "4\n",
      "6\n",
      "7\n",
      "8\n",
      "9\n",
      "10\n"
     ]
    }
   ],
   "source": [
    "for num in range(1,11):\n",
    "    if num==5:\n",
    "        break\n",
    "    print(num)\n",
    "\n",
    "print(\"..............\")\n",
    "\n",
    "for num in range(1,11):\n",
    "    if num==5:\n",
    "        continue\n",
    "    print(num)"
   ]
  },
  {
   "cell_type": "markdown",
   "metadata": {},
   "source": [
    "# Pass Statement"
   ]
  },
  {
   "cell_type": "code",
   "execution_count": 89,
   "metadata": {},
   "outputs": [
    {
     "name": "stdout",
     "output_type": "stream",
     "text": [
      "12\n",
      "None\n"
     ]
    },
    {
     "data": {
      "text/plain": [
       "'Hello'"
      ]
     },
     "execution_count": 89,
     "metadata": {},
     "output_type": "execute_result"
    }
   ],
   "source": [
    "def wopass():\n",
    "    x=12\n",
    "    return x\n",
    "print(wopass())\n",
    "\n",
    "def opass():\n",
    "    pass\n",
    "print(opass())\n",
    "\n",
    "class opass:\n",
    "    pass\n",
    "\n",
    "\"\"\"Hello\"\"\""
   ]
  },
  {
   "cell_type": "markdown",
   "metadata": {},
   "source": [
    "# Python args and kwargs"
   ]
  },
  {
   "cell_type": "code",
   "execution_count": 90,
   "metadata": {},
   "outputs": [
    {
     "name": "stdout",
     "output_type": "stream",
     "text": [
      "Normal way args: 5\n",
      "double tuple making: ((1, 2, 3, 4), (1, 2, 3, 4))\n",
      "(1, 2, 3, 4, 1, 2, 3, 4)\n",
      "Keyword argument: {'Name': 'Hamid', 'Home': 'Satkania'}\n",
      "Keyword argument: {'Country': 'Bangladesh', 'Capital': 'Dhaka'}\n"
     ]
    }
   ],
   "source": [
    "def python(a,b):\n",
    "    v=a+b\n",
    "    print(\"Normal way args:\",v)\n",
    "\n",
    "python(2,3)\n",
    "\n",
    "def python2(*args):\n",
    "    s=args*2\n",
    "    v=a*2\n",
    "    print(\"double tuple making:\",s)\n",
    "    print(v)\n",
    "\n",
    "a=(1,2,3,4)\n",
    "python2(a)\n",
    "\n",
    "def python3(**kwargs):\n",
    "    print(\"Keyword argument:\",kwargs)\n",
    "\n",
    "d={\"Country\":\"Bangladesh\",\"Capital\":\"Dhaka\"}\n",
    "python3(Name=\"Hamid\",Home=\"Satkania\")\n",
    "python3(**d)"
   ]
  },
  {
   "cell_type": "markdown",
   "metadata": {},
   "source": [
    "# PyCharm with an Example"
   ]
  },
  {
   "cell_type": "code",
   "execution_count": 94,
   "metadata": {},
   "outputs": [
    {
     "name": "stdout",
     "output_type": "stream",
     "text": [
      "Index method: 6\n",
      "Check list: [1, 2, 3]\n",
      "6\n"
     ]
    },
    {
     "ename": "TypeError",
     "evalue": "sum() takes 0 positional arguments but 1 was given",
     "output_type": "error",
     "traceback": [
      "\u001b[1;31m---------------------------------------------------------------------------\u001b[0m",
      "\u001b[1;31mTypeError\u001b[0m                                 Traceback (most recent call last)",
      "\u001b[1;32m<ipython-input-94-f1b48d343b17>\u001b[0m in \u001b[0;36m<module>\u001b[1;34m\u001b[0m\n\u001b[0;32m     12\u001b[0m \u001b[0mprint\u001b[0m\u001b[1;33m(\u001b[0m\u001b[0mj\u001b[0m\u001b[1;33m)\u001b[0m\u001b[1;33m\u001b[0m\u001b[1;33m\u001b[0m\u001b[0m\n\u001b[0;32m     13\u001b[0m \u001b[1;33m\u001b[0m\u001b[0m\n\u001b[1;32m---> 14\u001b[1;33m \u001b[0mprint\u001b[0m\u001b[1;33m(\u001b[0m\u001b[0msum\u001b[0m\u001b[1;33m(\u001b[0m\u001b[0mmap\u001b[0m\u001b[1;33m(\u001b[0m\u001b[0mint\u001b[0m\u001b[1;33m,\u001b[0m\u001b[0ms\u001b[0m\u001b[1;33m)\u001b[0m\u001b[1;33m)\u001b[0m\u001b[1;33m)\u001b[0m\u001b[1;33m\u001b[0m\u001b[1;33m\u001b[0m\u001b[0m\n\u001b[0m",
      "\u001b[1;31mTypeError\u001b[0m: sum() takes 0 positional arguments but 1 was given"
     ]
    }
   ],
   "source": [
    "#TODO:sum=1+2+3=6\n",
    "n=123\n",
    "s=str(n)\n",
    "total=int(s[0])+int(s[1])+int(s[2])\n",
    "print(\"Index method:\",total)\n",
    "\n",
    "l=list(map(int,s))\n",
    "print(\"Check list:\",l)\n",
    "j=0\n",
    "for i in l:\n",
    "    j=j+i\n",
    "print(j)\n",
    "\n",
    "print(sum(map(int,s)))"
   ]
  },
  {
   "cell_type": "markdown",
   "metadata": {},
   "source": [
    "# Object-Oriented Programming Part -01"
   ]
  },
  {
   "cell_type": "code",
   "execution_count": 95,
   "metadata": {},
   "outputs": [],
   "source": [
    "\"\"\"\n",
    "OPP=Object Oriented Programming\n",
    "1.class\n",
    "\"\"\"\n",
    "class NameClass():\n",
    "    name = \"\"\n",
    "\n",
    "    def test(self):\n",
    "        return True\n",
    "\n",
    "name_obj = NameClass()\n",
    "\n",
    "class NewClass(NameClass):\n",
    "    def shape(self):\n",
    "        pass\n",
    "\n",
    "new_obj=NewClass()"
   ]
  },
  {
   "cell_type": "markdown",
   "metadata": {},
   "source": [
    "# Classes & Objects OOP Part -02"
   ]
  },
  {
   "cell_type": "code",
   "execution_count": 96,
   "metadata": {},
   "outputs": [
    {
     "name": "stdout",
     "output_type": "stream",
     "text": [
      "Showing name of the class: Hamid Hosen\n",
      "......................................\n",
      "Name: Hamid Hosen Age: 21 Phone number: 010334346\n"
     ]
    }
   ],
   "source": [
    "class Human():\n",
    "    \"\"\"\n",
    "    we are collection contact information\n",
    "    \"\"\"\n",
    "    name=\"Hamid Hosen\"\n",
    "    age=\"21\"\n",
    "    phone=\"010334346\"\n",
    "\n",
    "    #method\n",
    "    def __str__(self):\n",
    "        return self.name\n",
    "\n",
    "human_obj=Human()\n",
    "print(\"Showing name of the class:\",human_obj)\n",
    "print(\"......................................\")\n",
    "print(\"Name:\",human_obj.name,\"Age:\",human_obj.age,\"Phone number:\",human_obj.phone)"
   ]
  },
  {
   "cell_type": "code",
   "execution_count": 97,
   "metadata": {},
   "outputs": [
    {
     "name": "stdout",
     "output_type": "stream",
     "text": [
      "Showing name of the class: Hamid Hosen\n",
      "......................................\n",
      "Name: Hamid Hosen Age: 15 Phone number: 8287368\n"
     ]
    }
   ],
   "source": [
    "class Human():\n",
    "    \"\"\"\n",
    "    we are collection contact information\n",
    "    \"\"\"\n",
    "    #method\n",
    "    def __init__(self,name,age,phone):\n",
    "        self.name=name\n",
    "        self.age=age\n",
    "        self.phone=phone\n",
    "\n",
    "\n",
    "    def __str__(self):\n",
    "        return self.name\n",
    "\n",
    "human_obj=Human(\"Hamid Hosen\",\"15\",\"8287368\")\n",
    "print(\"Showing name of the class:\",human_obj)\n",
    "print(\"......................................\")\n",
    "print(\"Name:\",human_obj.name,\"Age:\",human_obj.age,\"Phone number:\",human_obj.phone)"
   ]
  },
  {
   "cell_type": "code",
   "execution_count": 98,
   "metadata": {},
   "outputs": [
    {
     "name": "stdout",
     "output_type": "stream",
     "text": [
      "Showing name of the class: <__main__.Human object at 0x0000021ACB2EEB80>\n",
      "......................................\n",
      "Name: ('Hamid', 'python', 'English')\n"
     ]
    }
   ],
   "source": [
    "class Human():\n",
    "    \"\"\"\n",
    "    we are collection contact information\n",
    "    \"\"\"\n",
    "    #method\n",
    "    def __init__(self,*name):\n",
    "        self.name=name\n",
    "\n",
    "name=\"Hamid\",\"python\",\"English\"\n",
    "human_obj=Human(*name)\n",
    "print(\"Showing name of the class:\",human_obj)\n",
    "print(\"......................................\")\n",
    "print(\"Name:\",human_obj.name)"
   ]
  },
  {
   "cell_type": "code",
   "execution_count": 99,
   "metadata": {},
   "outputs": [
    {
     "name": "stdout",
     "output_type": "stream",
     "text": [
      "Length= 3\n",
      "Hamid\n",
      "python\n",
      "English\n",
      "['__class__', '__delattr__', '__dict__', '__dir__', '__doc__', '__eq__', '__format__', '__ge__', '__getattribute__', '__gt__', '__hash__', '__init__', '__init_subclass__', '__le__', '__lt__', '__module__', '__ne__', '__new__', '__reduce__', '__reduce_ex__', '__repr__', '__setattr__', '__sizeof__', '__str__', '__subclasshook__', '__weakref__', 'name']\n",
      "\n",
      "    we are collection contact information\n",
      "    \n"
     ]
    }
   ],
   "source": [
    "class Human():\n",
    "    \"\"\"\n",
    "    we are collection contact information\n",
    "    \"\"\"\n",
    "    #method\n",
    "    def __init__(self,*name):\n",
    "        self.name=name\n",
    "\n",
    "name=\"Hamid\",\"python\",\"English\"\n",
    "human_obj=Human(*name)\n",
    "\n",
    "print(\"Length=\",len(human_obj.name))\n",
    "\n",
    "for i in human_obj.name:\n",
    "    print(i)\n",
    "\n",
    "print(dir(human_obj))\n",
    "\n",
    "print(human_obj.__doc__)"
   ]
  },
  {
   "cell_type": "markdown",
   "metadata": {},
   "source": [
    "# Inheritance OOP"
   ]
  },
  {
   "cell_type": "code",
   "execution_count": 100,
   "metadata": {},
   "outputs": [
    {
     "name": "stdout",
     "output_type": "stream",
     "text": [
      "..............................................................................\n",
      "Man: Hamid Hosen 25 400000 Programmer\n",
      "Women: Farjana Akter 25 400000 Programmer\n",
      "Man: Name: Hamid Hosen,Age:25,Profession:Programmer\n",
      "Women: Name: Farjana Akter,Age:25,Profession:Programmer\n",
      ">>>>>>>>>>>>>.>>>>>>>>>>>>>>>>>>>>>>>>>>>>>>>>>>>>>>>>>>>>>>>>>>>>>>>>>>\n",
      "Manager: 2\n",
      "Man: 520000.0\n",
      "Women: 560000.0\n"
     ]
    }
   ],
   "source": [
    "class Person(object):\n",
    "    \"\"\"\n",
    "    Bla bla\n",
    "    \"\"\"\n",
    "    salary_in=1.2\n",
    "    def __init__(self,name,age,salary,profession):\n",
    "        self.name=name\n",
    "        self.age=age\n",
    "        self.salary=salary\n",
    "        self.profession=profession\n",
    "\n",
    "    def get_name(self):\n",
    "        return self.name\n",
    "\n",
    "    def get_age(self):\n",
    "        return self.age\n",
    "\n",
    "    def get_salary(self):\n",
    "        return self.salary\n",
    "\n",
    "    def get_profession(self):\n",
    "        return self.profession\n",
    "\n",
    "    def salary_increment(self):\n",
    "        return self.salary*self.salary_in\n",
    "\n",
    "class Men(Person):\n",
    "    salary_in = 1.3\n",
    "\n",
    "    def __init__(self,name,age,salary,profession,gender):\n",
    "        #super(Men,self).__init__(self,name,age,salary,profession)\n",
    "        super().__init__(name, age, salary, profession)\n",
    "        self.gender=gender\n",
    "\n",
    "    def man_full_info(self):\n",
    "        return \"Name: {},Age:{},Profession:{}\".format(self.name,self.age,self.profession)\n",
    "\n",
    "class Women(Person):\n",
    "    salary_in = 1.4\n",
    "\n",
    "    def __init__(self,name,age,salary,profession,gender):\n",
    "        #super(Women,self).__init__(self,name,age,salary,profession)\n",
    "        super().__init__(name, age, salary, profession)\n",
    "        self.gender=gender\n",
    "\n",
    "    def women_full_info(self):\n",
    "        return \"Name: {},Age:{},Profession:{}\".format(self.name, self.age, self.profession)\n",
    "\n",
    "class Manager(Person):\n",
    "\n",
    "    def __init__(self,name,age,salary,profession,person=None):\n",
    "        #super(Women,self).__init__(self,name,age,salary,profession)\n",
    "        super().__init__(name, age, salary, profession)\n",
    "        if person is None:\n",
    "            self.person=[]\n",
    "        else:\n",
    "            self.person=person\n",
    "\n",
    "    def total_person(self):\n",
    "        return len(self.person)\n",
    "\n",
    "man_1=Men(\"Hamid Hosen\",25,400000,\"Programmer\",\"Male\")\n",
    "women_1=Women(\"Farjana Akter\",25,400000,\"Programmer\",\"Female\")\n",
    "manager_1=Manager(\"Hamid Hosen\",25,400000,\"Programmer\",[man_1,women_1])\n",
    "\n",
    "print(\"..............................................................................\")\n",
    "print(\"Man:\",man_1.get_name(),man_1.get_age(),man_1.get_salary(),man_1.get_profession())\n",
    "print(\"Women:\",women_1.get_name(),women_1.get_age(),women_1.get_salary(),women_1.get_profession())\n",
    "print(\"Man:\",man_1.man_full_info())\n",
    "print(\"Women:\",women_1.women_full_info())\n",
    "print(\">>>>>>>>>>>>>.>>>>>>>>>>>>>>>>>>>>>>>>>>>>>>>>>>>>>>>>>>>>>>>>>>>>>>>>>>\")\n",
    "\n",
    "print(\"Manager:\",manager_1.total_person())\n",
    "\n",
    "print(\"Man:\",man_1.salary_increment())\n",
    "print(\"Women:\",women_1.salary_increment())"
   ]
  },
  {
   "cell_type": "markdown",
   "metadata": {},
   "source": [
    "# Inheritance (2) "
   ]
  },
  {
   "cell_type": "code",
   "execution_count": 101,
   "metadata": {},
   "outputs": [
    {
     "name": "stdout",
     "output_type": "stream",
     "text": [
      "..............................................................................\n",
      "Man: Hamid Hosen 25 400000 Programmer\n",
      "Women: Farjana Akter 25 400000 Programmer\n",
      "Man: Name: Hamid Hosen,Age:25,Profession:Programmer\n",
      "Women: Name: Farjana Akter,Age:25,Profession:Programmer\n",
      ">>>>>>>>>>>>>.>>>>>>>>>>>>>>>>>>>>>>>>>>>>>>>>>>>>>>>>>>>>>>>>>>>>>>>>>>\n",
      "Manager: 1\n",
      "Farjana Akter\n",
      "Manager: True\n",
      "\\\\\\\\\\\\\\\\\\\\\\\\\\\\\\\\\\\\\\\\\\\\\\\\\\\\\\\\\\\\\\\\\\\\\\\\\\\n",
      "Man: 520000.0\n",
      "Women: 560000.0\n",
      "<<<<<<<<<<<<<<<<<<<<<<<<<<<<<<<<<<<<<<<<<<<<<<<<<<<<<<<<<<<<<<<<<<<<<<<<<<<<<<\n",
      "['__class__', '__delattr__', '__dict__', '__dir__', '__doc__', '__eq__', '__format__', '__ge__', '__getattribute__', '__gt__', '__hash__', '__init__', '__init_subclass__', '__le__', '__lt__', '__module__', '__ne__', '__new__', '__reduce__', '__reduce_ex__', '__repr__', '__setattr__', '__sizeof__', '__str__', '__subclasshook__', '__weakref__', 'add_person', 'age', 'full_name', 'get_age', 'get_name', 'get_profession', 'get_salary', 'name', 'person', 'profession', 'remove_person', 'salary', 'salary_in', 'salary_increment', 'total_person']\n"
     ]
    }
   ],
   "source": [
    "class Person(object):\n",
    "    \"\"\"\n",
    "    Bla bla\n",
    "    \"\"\"\n",
    "    salary_in=1.2\n",
    "    def __init__(self,name,age,salary,profession):\n",
    "        self.name=name\n",
    "        self.age=age\n",
    "        self.salary=salary\n",
    "        self.profession=profession\n",
    "\n",
    "    def get_name(self):\n",
    "        return self.name\n",
    "\n",
    "    def get_age(self):\n",
    "        return self.age\n",
    "\n",
    "    def get_salary(self):\n",
    "        return self.salary\n",
    "\n",
    "    def get_profession(self):\n",
    "        return self.profession\n",
    "\n",
    "    def salary_increment(self):\n",
    "        return self.salary*self.salary_in\n",
    "\n",
    "class Men(Person):\n",
    "    salary_in = 1.3\n",
    "\n",
    "    def __init__(self,name,age,salary,profession,gender):\n",
    "        #super(Men,self).__init__(self,name,age,salary,profession)\n",
    "        super().__init__(name, age, salary, profession)\n",
    "        self.gender=gender\n",
    "\n",
    "    def man_full_info(self):\n",
    "        return \"Name: {},Age:{},Profession:{}\".format(self.name,self.age,self.profession)\n",
    "\n",
    "class Women(Person):\n",
    "    salary_in = 1.4\n",
    "\n",
    "    def __init__(self,name,age,salary,profession,gender):\n",
    "        #super(Women,self).__init__(self,name,age,salary,profession)\n",
    "        super().__init__(name, age, salary, profession)\n",
    "        self.gender=gender\n",
    "\n",
    "    def women_full_info(self):\n",
    "        return \"Name: {},Age:{},Profession:{}\".format(self.name, self.age, self.profession)\n",
    "\n",
    "class Manager(Person):\n",
    "\n",
    "    def __init__(self,name,age,salary,profession,person=None):\n",
    "        #super(Women,self).__init__(self,name,age,salary,profession)\n",
    "        super().__init__(name, age, salary, profession)\n",
    "        if person is None:\n",
    "            self.person=[]\n",
    "        else:\n",
    "            self.person=person\n",
    "\n",
    "    def add_person(self,per):\n",
    "        if per not in self.person:\n",
    "            self.person.append(per)\n",
    "\n",
    "    def remove_person(self, per):\n",
    "        if per  in self.person:\n",
    "            self.person.remove(per)\n",
    "\n",
    "    def full_name(self):\n",
    "        for per in self.person:\n",
    "            #name=per.get_name()\n",
    "            #return name\n",
    "            print(per.get_name())\n",
    "        return True\n",
    "\n",
    "    def total_person(self):\n",
    "        return len(self.person)\n",
    "\n",
    "man_1=Men(\"Hamid Hosen\",25,400000,\"Programmer\",\"Male\")\n",
    "women_1=Women(\"Farjana Akter\",25,400000,\"Programmer\",\"Female\")\n",
    "manager_1=Manager(\"Hamid Hosen\",25,400000,\"Programmer\",[man_1,women_1])\n",
    "manager_1.add_person(man_1)\n",
    "manager_1.remove_person(man_1)\n",
    "print(\"..............................................................................\")\n",
    "print(\"Man:\",man_1.get_name(),man_1.get_age(),man_1.get_salary(),man_1.get_profession())\n",
    "print(\"Women:\",women_1.get_name(),women_1.get_age(),women_1.get_salary(),women_1.get_profession())\n",
    "print(\"Man:\",man_1.man_full_info())\n",
    "print(\"Women:\",women_1.women_full_info())\n",
    "print(\">>>>>>>>>>>>>.>>>>>>>>>>>>>>>>>>>>>>>>>>>>>>>>>>>>>>>>>>>>>>>>>>>>>>>>>>\")\n",
    "\n",
    "print(\"Manager:\",manager_1.total_person())\n",
    "print(\"Manager:\",manager_1.full_name())\n",
    "\n",
    "print(\"\\\\\\\\\\\\\\\\\\\\\\\\\\\\\\\\\\\\\\\\\\\\\\\\\\\\\\\\\\\\\\\\\\\\\\\\\\\\\\\\\\\\\\\\\\\\\\\\\\\\\\\\\\\\\\\\\\\\\\\\\\\\\\\\\\\\\\\\\\\\\\\\\\\\\")\n",
    "print(\"Man:\",man_1.salary_increment())\n",
    "print(\"Women:\",women_1.salary_increment())\n",
    "\n",
    "print(\"<<<<<<<<<<<<<<<<<<<<<<<<<<<<<<<<<<<<<<<<<<<<<<<<<<<<<<<<<<<<<<<<<<<<<<<<<<<<<<\")\n",
    "print(dir(manager_1))"
   ]
  },
  {
   "cell_type": "markdown",
   "metadata": {},
   "source": [
    "# Instance, Static Method and Class Method"
   ]
  },
  {
   "cell_type": "code",
   "execution_count": 102,
   "metadata": {},
   "outputs": [
    {
     "name": "stdout",
     "output_type": "stream",
     "text": [
      "Dell Windows 10\n",
      "30\n",
      "<__main__.Computer object at 0x0000021ACB2EE5E0>\n",
      "MP Ubuntu 17\n"
     ]
    }
   ],
   "source": [
    "\"\"\"\n",
    "Instance, Static Method and Class Method\n",
    "\"\"\"\n",
    "class Computer:\n",
    "    os_version=10\n",
    "    def __init__(self, brand_name, os_name, os_version):\n",
    "        self.brand_name = brand_name\n",
    "        self.os_name = os_name\n",
    "        self.os_version = os_version\n",
    "\n",
    "    def display_info(self):\n",
    "        return self.brand_name +\" \"+self.os_name +\" \"+ str(self.os_version)\n",
    "\n",
    "    @staticmethod\n",
    "    def static_method(x,y):\n",
    "        return x+y\n",
    "\n",
    "    @classmethod\n",
    "    def class_method(cls,brand_name, os_name, os_version):\n",
    "        full_info=cls(brand_name,os_name,cls.os_version + os_version)\n",
    "        return full_info\n",
    "\n",
    "comp_obj=Computer(\"Dell\",\"Windows\",\"10\")\n",
    "print(comp_obj.display_info())\n",
    "\n",
    "print(comp_obj.static_method(10,20))\n",
    "\n",
    "one_obj=comp_obj.class_method(\"MP\",\"Ubuntu\",7)\n",
    "print(one_obj)\n",
    "print(one_obj.display_info())"
   ]
  }
 ],
 "metadata": {
  "kernelspec": {
   "display_name": "Python 3",
   "language": "python",
   "name": "python3"
  },
  "language_info": {
   "codemirror_mode": {
    "name": "ipython",
    "version": 3
   },
   "file_extension": ".py",
   "mimetype": "text/x-python",
   "name": "python",
   "nbconvert_exporter": "python",
   "pygments_lexer": "ipython3",
   "version": "3.8.5"
  }
 },
 "nbformat": 4,
 "nbformat_minor": 4
}
